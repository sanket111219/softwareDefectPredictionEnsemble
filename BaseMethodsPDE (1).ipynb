{
 "cells": [
  {
   "cell_type": "code",
   "execution_count": 1,
   "id": "66b75892",
   "metadata": {},
   "outputs": [],
   "source": [
    "from sklearn.feature_selection import mutual_info_classif\n",
    "import numpy as np\n",
    "import pandas as pd\n",
    "import matplotlib.pyplot as plt\n",
    "%matplotlib inline"
   ]
  },
  {
   "cell_type": "code",
   "execution_count": 2,
   "id": "f2a1ecdc",
   "metadata": {},
   "outputs": [],
   "source": [
    "data = pd.read_csv('PDE.csv')"
   ]
  },
  {
   "cell_type": "code",
   "execution_count": 3,
   "id": "a3a81359",
   "metadata": {},
   "outputs": [
    {
     "data": {
      "text/plain": [
       "(1497, 62)"
      ]
     },
     "execution_count": 3,
     "metadata": {},
     "output_type": "execute_result"
    }
   ],
   "source": [
    "data.shape"
   ]
  },
  {
   "cell_type": "code",
   "execution_count": 4,
   "id": "4b03204f",
   "metadata": {},
   "outputs": [
    {
     "data": {
      "text/html": [
       "<div>\n",
       "<style scoped>\n",
       "    .dataframe tbody tr th:only-of-type {\n",
       "        vertical-align: middle;\n",
       "    }\n",
       "\n",
       "    .dataframe tbody tr th {\n",
       "        vertical-align: top;\n",
       "    }\n",
       "\n",
       "    .dataframe thead th {\n",
       "        text-align: right;\n",
       "    }\n",
       "</style>\n",
       "<table border=\"1\" class=\"dataframe\">\n",
       "  <thead>\n",
       "    <tr style=\"text-align: right;\">\n",
       "      <th></th>\n",
       "      <th>ck_oo_numberOfPrivateMethods</th>\n",
       "      <th>LDHH_lcom</th>\n",
       "      <th>LDHH_fanIn</th>\n",
       "      <th>numberOfNonTrivialBugsFoundUntil:</th>\n",
       "      <th>WCHU_numberOfPublicAttributes</th>\n",
       "      <th>WCHU_numberOfAttributes</th>\n",
       "      <th>CvsWEntropy</th>\n",
       "      <th>LDHH_numberOfPublicMethods</th>\n",
       "      <th>WCHU_fanIn</th>\n",
       "      <th>LDHH_numberOfPrivateAttributes</th>\n",
       "      <th>...</th>\n",
       "      <th>LDHH_fanOut</th>\n",
       "      <th>LDHH_numberOfMethodsInherited</th>\n",
       "      <th>LDHH_rfc</th>\n",
       "      <th>ck_oo_numberOfMethodsInherited</th>\n",
       "      <th>ck_oo_numberOfPublicMethods</th>\n",
       "      <th>LDHH_cbo</th>\n",
       "      <th>WCHU_numberOfLinesOfCode</th>\n",
       "      <th>CvsExpEntropy</th>\n",
       "      <th>LDHH_numberOfMethods</th>\n",
       "      <th>class</th>\n",
       "    </tr>\n",
       "  </thead>\n",
       "  <tbody>\n",
       "    <tr>\n",
       "      <th>0</th>\n",
       "      <td>0</td>\n",
       "      <td>0.003976</td>\n",
       "      <td>0.005189</td>\n",
       "      <td>2</td>\n",
       "      <td>0.0</td>\n",
       "      <td>3.03</td>\n",
       "      <td>0.105389</td>\n",
       "      <td>0.004203</td>\n",
       "      <td>2.04</td>\n",
       "      <td>0.004297</td>\n",
       "      <td>...</td>\n",
       "      <td>0.010649</td>\n",
       "      <td>0.002227</td>\n",
       "      <td>0.027707</td>\n",
       "      <td>14</td>\n",
       "      <td>6</td>\n",
       "      <td>0.008929</td>\n",
       "      <td>4.28</td>\n",
       "      <td>0.209245</td>\n",
       "      <td>0.004770</td>\n",
       "      <td>clean</td>\n",
       "    </tr>\n",
       "    <tr>\n",
       "      <th>1</th>\n",
       "      <td>0</td>\n",
       "      <td>0.000000</td>\n",
       "      <td>0.000000</td>\n",
       "      <td>0</td>\n",
       "      <td>0.0</td>\n",
       "      <td>0.00</td>\n",
       "      <td>0.000000</td>\n",
       "      <td>0.000000</td>\n",
       "      <td>0.00</td>\n",
       "      <td>0.000000</td>\n",
       "      <td>...</td>\n",
       "      <td>0.000000</td>\n",
       "      <td>0.000000</td>\n",
       "      <td>0.000000</td>\n",
       "      <td>51</td>\n",
       "      <td>3</td>\n",
       "      <td>0.000000</td>\n",
       "      <td>0.00</td>\n",
       "      <td>0.000000</td>\n",
       "      <td>0.000000</td>\n",
       "      <td>clean</td>\n",
       "    </tr>\n",
       "    <tr>\n",
       "      <th>2</th>\n",
       "      <td>8</td>\n",
       "      <td>0.002264</td>\n",
       "      <td>0.000000</td>\n",
       "      <td>7</td>\n",
       "      <td>0.0</td>\n",
       "      <td>0.00</td>\n",
       "      <td>0.032927</td>\n",
       "      <td>0.000000</td>\n",
       "      <td>0.00</td>\n",
       "      <td>0.000000</td>\n",
       "      <td>...</td>\n",
       "      <td>0.002006</td>\n",
       "      <td>0.000713</td>\n",
       "      <td>0.004680</td>\n",
       "      <td>14</td>\n",
       "      <td>2</td>\n",
       "      <td>0.001619</td>\n",
       "      <td>5.44</td>\n",
       "      <td>0.054240</td>\n",
       "      <td>0.002453</td>\n",
       "      <td>clean</td>\n",
       "    </tr>\n",
       "    <tr>\n",
       "      <th>3</th>\n",
       "      <td>2</td>\n",
       "      <td>0.000000</td>\n",
       "      <td>0.001689</td>\n",
       "      <td>3</td>\n",
       "      <td>0.0</td>\n",
       "      <td>0.00</td>\n",
       "      <td>0.061022</td>\n",
       "      <td>0.000000</td>\n",
       "      <td>2.06</td>\n",
       "      <td>0.000000</td>\n",
       "      <td>...</td>\n",
       "      <td>0.001873</td>\n",
       "      <td>0.000000</td>\n",
       "      <td>0.005933</td>\n",
       "      <td>0</td>\n",
       "      <td>6</td>\n",
       "      <td>0.003134</td>\n",
       "      <td>6.39</td>\n",
       "      <td>0.046823</td>\n",
       "      <td>0.000000</td>\n",
       "      <td>buggy</td>\n",
       "    </tr>\n",
       "    <tr>\n",
       "      <th>4</th>\n",
       "      <td>1</td>\n",
       "      <td>0.005692</td>\n",
       "      <td>0.007865</td>\n",
       "      <td>3</td>\n",
       "      <td>0.0</td>\n",
       "      <td>6.14</td>\n",
       "      <td>0.109004</td>\n",
       "      <td>0.001720</td>\n",
       "      <td>5.09</td>\n",
       "      <td>0.004365</td>\n",
       "      <td>...</td>\n",
       "      <td>0.002715</td>\n",
       "      <td>0.000000</td>\n",
       "      <td>0.007782</td>\n",
       "      <td>0</td>\n",
       "      <td>18</td>\n",
       "      <td>0.007727</td>\n",
       "      <td>8.66</td>\n",
       "      <td>0.051960</td>\n",
       "      <td>0.006210</td>\n",
       "      <td>clean</td>\n",
       "    </tr>\n",
       "  </tbody>\n",
       "</table>\n",
       "<p>5 rows × 62 columns</p>\n",
       "</div>"
      ],
      "text/plain": [
       "   ck_oo_numberOfPrivateMethods  LDHH_lcom  LDHH_fanIn  \\\n",
       "0                             0   0.003976    0.005189   \n",
       "1                             0   0.000000    0.000000   \n",
       "2                             8   0.002264    0.000000   \n",
       "3                             2   0.000000    0.001689   \n",
       "4                             1   0.005692    0.007865   \n",
       "\n",
       "   numberOfNonTrivialBugsFoundUntil:  WCHU_numberOfPublicAttributes  \\\n",
       "0                                  2                            0.0   \n",
       "1                                  0                            0.0   \n",
       "2                                  7                            0.0   \n",
       "3                                  3                            0.0   \n",
       "4                                  3                            0.0   \n",
       "\n",
       "   WCHU_numberOfAttributes  CvsWEntropy  LDHH_numberOfPublicMethods  \\\n",
       "0                     3.03     0.105389                    0.004203   \n",
       "1                     0.00     0.000000                    0.000000   \n",
       "2                     0.00     0.032927                    0.000000   \n",
       "3                     0.00     0.061022                    0.000000   \n",
       "4                     6.14     0.109004                    0.001720   \n",
       "\n",
       "   WCHU_fanIn  LDHH_numberOfPrivateAttributes  ...  LDHH_fanOut  \\\n",
       "0        2.04                        0.004297  ...     0.010649   \n",
       "1        0.00                        0.000000  ...     0.000000   \n",
       "2        0.00                        0.000000  ...     0.002006   \n",
       "3        2.06                        0.000000  ...     0.001873   \n",
       "4        5.09                        0.004365  ...     0.002715   \n",
       "\n",
       "   LDHH_numberOfMethodsInherited  LDHH_rfc  ck_oo_numberOfMethodsInherited  \\\n",
       "0                       0.002227  0.027707                              14   \n",
       "1                       0.000000  0.000000                              51   \n",
       "2                       0.000713  0.004680                              14   \n",
       "3                       0.000000  0.005933                               0   \n",
       "4                       0.000000  0.007782                               0   \n",
       "\n",
       "   ck_oo_numberOfPublicMethods  LDHH_cbo  WCHU_numberOfLinesOfCode  \\\n",
       "0                            6  0.008929                      4.28   \n",
       "1                            3  0.000000                      0.00   \n",
       "2                            2  0.001619                      5.44   \n",
       "3                            6  0.003134                      6.39   \n",
       "4                           18  0.007727                      8.66   \n",
       "\n",
       "   CvsExpEntropy  LDHH_numberOfMethods  class  \n",
       "0       0.209245              0.004770  clean  \n",
       "1       0.000000              0.000000  clean  \n",
       "2       0.054240              0.002453  clean  \n",
       "3       0.046823              0.000000  buggy  \n",
       "4       0.051960              0.006210  clean  \n",
       "\n",
       "[5 rows x 62 columns]"
      ]
     },
     "execution_count": 4,
     "metadata": {},
     "output_type": "execute_result"
    }
   ],
   "source": [
    "data.head()"
   ]
  },
  {
   "cell_type": "code",
   "execution_count": 5,
   "id": "a55b1592",
   "metadata": {},
   "outputs": [
    {
     "name": "stdout",
     "output_type": "stream",
     "text": [
      "   ck_oo_numberOfPrivateMethods  LDHH_lcom  LDHH_fanIn  \\\n",
      "0                             0   0.003976    0.005189   \n",
      "1                             0   0.000000    0.000000   \n",
      "2                             8   0.002264    0.000000   \n",
      "3                             2   0.000000    0.001689   \n",
      "4                             1   0.005692    0.007865   \n",
      "\n",
      "   numberOfNonTrivialBugsFoundUntil:  WCHU_numberOfPublicAttributes  \\\n",
      "0                                  2                            0.0   \n",
      "1                                  0                            0.0   \n",
      "2                                  7                            0.0   \n",
      "3                                  3                            0.0   \n",
      "4                                  3                            0.0   \n",
      "\n",
      "   WCHU_numberOfAttributes  CvsWEntropy  LDHH_numberOfPublicMethods  \\\n",
      "0                     3.03     0.105389                    0.004203   \n",
      "1                     0.00     0.000000                    0.000000   \n",
      "2                     0.00     0.032927                    0.000000   \n",
      "3                     0.00     0.061022                    0.000000   \n",
      "4                     6.14     0.109004                    0.001720   \n",
      "\n",
      "   WCHU_fanIn  LDHH_numberOfPrivateAttributes  ...  LDHH_fanOut  \\\n",
      "0        2.04                        0.004297  ...     0.010649   \n",
      "1        0.00                        0.000000  ...     0.000000   \n",
      "2        0.00                        0.000000  ...     0.002006   \n",
      "3        2.06                        0.000000  ...     0.001873   \n",
      "4        5.09                        0.004365  ...     0.002715   \n",
      "\n",
      "   LDHH_numberOfMethodsInherited  LDHH_rfc  ck_oo_numberOfMethodsInherited  \\\n",
      "0                       0.002227  0.027707                              14   \n",
      "1                       0.000000  0.000000                              51   \n",
      "2                       0.000713  0.004680                              14   \n",
      "3                       0.000000  0.005933                               0   \n",
      "4                       0.000000  0.007782                               0   \n",
      "\n",
      "   ck_oo_numberOfPublicMethods  LDHH_cbo  WCHU_numberOfLinesOfCode  \\\n",
      "0                            6  0.008929                      4.28   \n",
      "1                            3  0.000000                      0.00   \n",
      "2                            2  0.001619                      5.44   \n",
      "3                            6  0.003134                      6.39   \n",
      "4                           18  0.007727                      8.66   \n",
      "\n",
      "   CvsExpEntropy  LDHH_numberOfMethods  class  \n",
      "0       0.209245              0.004770      1  \n",
      "1       0.000000              0.000000      1  \n",
      "2       0.054240              0.002453      1  \n",
      "3       0.046823              0.000000      0  \n",
      "4       0.051960              0.006210      1  \n",
      "\n",
      "[5 rows x 62 columns]\n"
     ]
    }
   ],
   "source": [
    "def handle_non_numeric_data(df):\n",
    "    columns = df.columns.values\n",
    "    \n",
    "    for column in columns:\n",
    "        text_digit_values = {}\n",
    "        \n",
    "        def convert_to_int(val):\n",
    "            return text_digit_values[val]\n",
    "        \n",
    "        if(df[column].dtype != np.int64 and df[column].dtype != np.float64):\n",
    "            column_elements = df[column].values.tolist()\n",
    "            unique_elements = set(column_elements)\n",
    "            \n",
    "            x = 0\n",
    "            for unique in unique_elements:\n",
    "                if unique not in text_digit_values:\n",
    "                    text_digit_values[unique] = x\n",
    "                    x += 1\n",
    "            \n",
    "            df[column] = list(map(convert_to_int, df[column]))\n",
    "    \n",
    "    return df\n",
    "\n",
    "data = handle_non_numeric_data(data)\n",
    "print(data.head())\n"
   ]
  },
  {
   "cell_type": "code",
   "execution_count": 6,
   "id": "f006913c",
   "metadata": {},
   "outputs": [],
   "source": [
    "array = data.values\n",
    "Z = array[:,0:61]\n",
    "Y = array[:,61]"
   ]
  },
  {
   "cell_type": "code",
   "execution_count": 7,
   "id": "f55a52af",
   "metadata": {},
   "outputs": [],
   "source": [
    "from sklearn import tree\n",
    "model = tree.DecisionTreeClassifier()"
   ]
  },
  {
   "cell_type": "code",
   "execution_count": 8,
   "id": "bf07ea89",
   "metadata": {},
   "outputs": [],
   "source": [
    "from sklearn.model_selection import KFold\n",
    "from sklearn.metrics import roc_curve, roc_auc_score\n",
    "kf = KFold(n_splits=4)\n",
    "auc_train = []\n",
    "auc_test = []\n",
    "for train_index, test_index in kf.split(Z): \n",
    "    X_train, X_test = Z[train_index], Z[test_index]\n",
    "    y_train, y_test = Y[train_index], Y[test_index]\n",
    "    model = tree.DecisionTreeClassifier()\n",
    "    model.fit(X_train, y_train)\n",
    "    y_train_pred = model.predict(X_train)\n",
    "    y_test_pred = model.predict(X_test)\n",
    "    auc_train.append(roc_auc_score(y_train, model.predict_proba(X_train)[:,1]))\n",
    "    auc_test.append(roc_auc_score(y_test, model.predict_proba(X_test)[:,1]))"
   ]
  },
  {
   "cell_type": "code",
   "execution_count": 9,
   "id": "d9b593fc",
   "metadata": {},
   "outputs": [
    {
     "data": {
      "image/png": "[encoded data removed]",
      "text/plain": [
       "<Figure size 640x480 with 1 Axes>"
      ]
     },
     "metadata": {},
     "output_type": "display_data"
    }
   ],
   "source": [
    "folds = range(1, kf.get_n_splits() + 1)\n",
    "plt.plot(folds, auc_train, 'o-', color='green', label='train')\n",
    "plt.plot(folds, auc_test, 'o-', color='red', label='test')\n",
    "plt.legend()\n",
    "plt.grid()\n",
    "plt.xlabel('Number of fold')\n",
    "plt.ylabel('Area Under the Curve')\n",
    "plt.show()"
   ]
  },
  {
   "cell_type": "code",
   "execution_count": 10,
   "id": "9cce7ac3",
   "metadata": {},
   "outputs": [
    {
     "name": "stdout",
     "output_type": "stream",
     "text": [
      "{'splitter': ['best', 'random'], 'max_features': ['auto', 'sqrt', 'log2'], 'max_depth': [10, 120, 230, 340, 450, 560, 670, 780, 890, 1000], 'min_samples_split': [2, 5, 10, 14], 'min_samples_leaf': [1, 2, 4, 6, 8], 'criterion': ['gini', 'entropy']}\n"
     ]
    }
   ],
   "source": [
    "from sklearn.model_selection import RandomizedSearchCV\n",
    "criterion = [\"gini\", \"entropy\"]\n",
    "splitter = [\"best\", \"random\"]\n",
    "max_depth = [int(x) for x in np.linspace(10, 1000,10)]\n",
    "min_samples_split = [2, 5, 10,14]\n",
    "min_samples_leaf = [1, 2, 4,6,8]\n",
    "max_features = ['auto', 'sqrt','log2']\n",
    "random_grid = {'splitter': splitter,\n",
    "               'max_features': max_features,\n",
    "               'max_depth': max_depth,\n",
    "               'min_samples_split': min_samples_split,\n",
    "               'min_samples_leaf': min_samples_leaf,\n",
    "              'criterion':criterion}\n",
    "print(random_grid)"
   ]
  },
  {
   "cell_type": "code",
   "execution_count": 11,
   "id": "3271ac66",
   "metadata": {},
   "outputs": [
    {
     "name": "stdout",
     "output_type": "stream",
     "text": [
      "Fitting 3 folds for each of 100 candidates, totalling 300 fits\n",
      "[CV] END criterion=entropy, max_depth=560, max_features=auto, min_samples_leaf=6, min_samples_split=5, splitter=best; total time=   0.0s\n",
      "[CV] END criterion=entropy, max_depth=560, max_features=auto, min_samples_leaf=6, min_samples_split=5, splitter=best; total time=   0.0s\n",
      "[CV] END criterion=entropy, max_depth=560, max_features=auto, min_samples_leaf=6, min_samples_split=5, splitter=best; total time=   0.0s\n",
      "[CV] END criterion=gini, max_depth=560, max_features=auto, min_samples_leaf=8, min_samples_split=10, splitter=best; total time=   0.0s\n",
      "[CV] END criterion=gini, max_depth=560, max_features=auto, min_samples_leaf=8, min_samples_split=10, splitter=best; total time=   0.0s\n",
      "[CV] END criterion=gini, max_depth=560, max_features=auto, min_samples_leaf=8, min_samples_split=10, splitter=best; total time=   0.0s\n",
      "[CV] END criterion=gini, max_depth=120, max_features=log2, min_samples_leaf=6, min_samples_split=14, splitter=random; total time=   0.0s\n",
      "[CV] END criterion=gini, max_depth=120, max_features=log2, min_samples_leaf=6, min_samples_split=14, splitter=random; total time=   0.0s\n",
      "[CV] END criterion=gini, max_depth=120, max_features=log2, min_samples_leaf=6, min_samples_split=14, splitter=random; total time=   0.0s\n",
      "[CV] END criterion=entropy, max_depth=120, max_features=auto, min_samples_leaf=1, min_samples_split=5, splitter=best; total time=   0.0s\n",
      "[CV] END criterion=entropy, max_depth=120, max_features=auto, min_samples_leaf=1, min_samples_split=5, splitter=best; total time=   0.0s\n",
      "[CV] END criterion=entropy, max_depth=120, max_features=auto, min_samples_leaf=1, min_samples_split=5, splitter=best; total time=   0.0s\n",
      "[CV] END criterion=entropy, max_depth=10, max_features=log2, min_samples_leaf=1, min_samples_split=5, splitter=random; total time=   0.0s\n",
      "[CV] END criterion=entropy, max_depth=10, max_features=log2, min_samples_leaf=1, min_samples_split=5, splitter=random; total time=   0.0s\n",
      "[CV] END criterion=entropy, max_depth=10, max_features=log2, min_samples_leaf=1, min_samples_split=5, splitter=random; total time=   0.0s\n",
      "[CV] END criterion=gini, max_depth=670, max_features=log2, min_samples_leaf=2, min_samples_split=5, splitter=random; total time=   0.0s\n",
      "[CV] END criterion=gini, max_depth=670, max_features=log2, min_samples_leaf=2, min_samples_split=5, splitter=random; total time=   0.0s\n",
      "[CV] END criterion=gini, max_depth=670, max_features=log2, min_samples_leaf=2, min_samples_split=5, splitter=random; total time=   0.0s\n",
      "[CV] END criterion=gini, max_depth=1000, max_features=sqrt, min_samples_leaf=1, min_samples_split=14, splitter=random; total time=   0.0s\n",
      "[CV] END criterion=gini, max_depth=1000, max_features=sqrt, min_samples_leaf=1, min_samples_split=14, splitter=random; total time=   0.0s\n",
      "[CV] END criterion=gini, max_depth=1000, max_features=sqrt, min_samples_leaf=1, min_samples_split=14, splitter=random; total time=   0.0s\n",
      "[CV] END criterion=gini, max_depth=560, max_features=log2, min_samples_leaf=4, min_samples_split=10, splitter=random; total time=   0.0s\n",
      "[CV] END criterion=gini, max_depth=560, max_features=log2, min_samples_leaf=4, min_samples_split=10, splitter=random; total time=   0.0s\n",
      "[CV] END criterion=gini, max_depth=560, max_features=log2, min_samples_leaf=4, min_samples_split=10, splitter=random; total time=   0.0s\n",
      "[CV] END criterion=entropy, max_depth=230, max_features=auto, min_samples_leaf=2, min_samples_split=5, splitter=random; total time=   0.0s\n",
      "[CV] END criterion=entropy, max_depth=230, max_features=auto, min_samples_leaf=2, min_samples_split=5, splitter=random; total time=   0.0s\n",
      "[CV] END criterion=entropy, max_depth=230, max_features=auto, min_samples_leaf=2, min_samples_split=5, splitter=random; total time=   0.0s\n",
      "[CV] END criterion=entropy, max_depth=10, max_features=log2, min_samples_leaf=4, min_samples_split=2, splitter=random; total time=   0.0s\n",
      "[CV] END criterion=entropy, max_depth=10, max_features=log2, min_samples_leaf=4, min_samples_split=2, splitter=random; total time=   0.0s\n",
      "[CV] END criterion=entropy, max_depth=10, max_features=log2, min_samples_leaf=4, min_samples_split=2, splitter=random; total time=   0.0s\n",
      "[CV] END criterion=entropy, max_depth=340, max_features=log2, min_samples_leaf=4, min_samples_split=2, splitter=random; total time=   0.0s\n",
      "[CV] END criterion=entropy, max_depth=340, max_features=log2, min_samples_leaf=4, min_samples_split=2, splitter=random; total time=   0.0s\n",
      "[CV] END criterion=entropy, max_depth=340, max_features=log2, min_samples_leaf=4, min_samples_split=2, splitter=random; total time=   0.0s\n",
      "[CV] END criterion=entropy, max_depth=120, max_features=sqrt, min_samples_leaf=4, min_samples_split=14, splitter=best; total time=   0.0s\n",
      "[CV] END criterion=entropy, max_depth=120, max_features=sqrt, min_samples_leaf=4, min_samples_split=14, splitter=best; total time=   0.0s\n",
      "[CV] END criterion=entropy, max_depth=120, max_features=sqrt, min_samples_leaf=4, min_samples_split=14, splitter=best; total time=   0.0s\n",
      "[CV] END criterion=gini, max_depth=340, max_features=sqrt, min_samples_leaf=6, min_samples_split=2, splitter=random; total time=   0.0s\n",
      "[CV] END criterion=gini, max_depth=340, max_features=sqrt, min_samples_leaf=6, min_samples_split=2, splitter=random; total time=   0.0s\n",
      "[CV] END criterion=gini, max_depth=340, max_features=sqrt, min_samples_leaf=6, min_samples_split=2, splitter=random; total time=   0.0s\n",
      "[CV] END criterion=entropy, max_depth=10, max_features=auto, min_samples_leaf=1, min_samples_split=10, splitter=random; total time=   0.0s\n",
      "[CV] END criterion=entropy, max_depth=10, max_features=auto, min_samples_leaf=1, min_samples_split=10, splitter=random; total time=   0.0s\n",
      "[CV] END criterion=entropy, max_depth=10, max_features=auto, min_samples_leaf=1, min_samples_split=10, splitter=random; total time=   0.0s\n",
      "[CV] END criterion=entropy, max_depth=670, max_features=log2, min_samples_leaf=6, min_samples_split=14, splitter=random; total time=   0.0s\n",
      "[CV] END criterion=entropy, max_depth=670, max_features=log2, min_samples_leaf=6, min_samples_split=14, splitter=random; total time=   0.0s\n",
      "[CV] END criterion=entropy, max_depth=670, max_features=log2, min_samples_leaf=6, min_samples_split=14, splitter=random; total time=   0.0s\n",
      "[CV] END criterion=gini, max_depth=1000, max_features=sqrt, min_samples_leaf=6, min_samples_split=10, splitter=random; total time=   0.0s\n",
      "[CV] END criterion=gini, max_depth=1000, max_features=sqrt, min_samples_leaf=6, min_samples_split=10, splitter=random; total time=   0.0s\n",
      "[CV] END criterion=gini, max_depth=1000, max_features=sqrt, min_samples_leaf=6, min_samples_split=10, splitter=random; total time=   0.0s\n",
      "[CV] END criterion=entropy, max_depth=890, max_features=sqrt, min_samples_leaf=4, min_samples_split=10, splitter=random; total time=   0.0s\n",
      "[CV] END criterion=entropy, max_depth=890, max_features=sqrt, min_samples_leaf=4, min_samples_split=10, splitter=random; total time=   0.0s\n",
      "[CV] END criterion=entropy, max_depth=890, max_features=sqrt, min_samples_leaf=4, min_samples_split=10, splitter=random; total time=   0.0s\n",
      "[CV] END criterion=gini, max_depth=670, max_features=auto, min_samples_leaf=4, min_samples_split=2, splitter=random; total time=   0.0s\n",
      "[CV] END criterion=gini, max_depth=670, max_features=auto, min_samples_leaf=4, min_samples_split=2, splitter=random; total time=   0.0s\n",
      "[CV] END criterion=gini, max_depth=670, max_features=auto, min_samples_leaf=4, min_samples_split=2, splitter=random; total time=   0.0s\n",
      "[CV] END criterion=gini, max_depth=120, max_features=sqrt, min_samples_leaf=2, min_samples_split=5, splitter=random; total time=   0.0s\n",
      "[CV] END criterion=gini, max_depth=120, max_features=sqrt, min_samples_leaf=2, min_samples_split=5, splitter=random; total time=   0.0s\n",
      "[CV] END criterion=gini, max_depth=120, max_features=sqrt, min_samples_leaf=2, min_samples_split=5, splitter=random; total time=   0.0s\n",
      "[CV] END criterion=entropy, max_depth=780, max_features=log2, min_samples_leaf=6, min_samples_split=2, splitter=best; total time=   0.0s\n",
      "[CV] END criterion=entropy, max_depth=780, max_features=log2, min_samples_leaf=6, min_samples_split=2, splitter=best; total time=   0.0s\n",
      "[CV] END criterion=entropy, max_depth=780, max_features=log2, min_samples_leaf=6, min_samples_split=2, splitter=best; total time=   0.0s\n",
      "[CV] END criterion=gini, max_depth=890, max_features=log2, min_samples_leaf=1, min_samples_split=10, splitter=best; total time=   0.0s\n",
      "[CV] END criterion=gini, max_depth=890, max_features=log2, min_samples_leaf=1, min_samples_split=10, splitter=best; total time=   0.0s\n",
      "[CV] END criterion=gini, max_depth=890, max_features=log2, min_samples_leaf=1, min_samples_split=10, splitter=best; total time=   0.0s\n",
      "[CV] END criterion=gini, max_depth=670, max_features=auto, min_samples_leaf=4, min_samples_split=5, splitter=random; total time=   0.0s\n",
      "[CV] END criterion=gini, max_depth=670, max_features=auto, min_samples_leaf=4, min_samples_split=5, splitter=random; total time=   0.0s\n",
      "[CV] END criterion=gini, max_depth=670, max_features=auto, min_samples_leaf=4, min_samples_split=5, splitter=random; total time=   0.0s\n",
      "[CV] END criterion=gini, max_depth=120, max_features=auto, min_samples_leaf=4, min_samples_split=10, splitter=random; total time=   0.0s\n",
      "[CV] END criterion=gini, max_depth=120, max_features=auto, min_samples_leaf=4, min_samples_split=10, splitter=random; total time=   0.0s\n",
      "[CV] END criterion=gini, max_depth=120, max_features=auto, min_samples_leaf=4, min_samples_split=10, splitter=random; total time=   0.0s\n",
      "[CV] END criterion=entropy, max_depth=670, max_features=auto, min_samples_leaf=2, min_samples_split=14, splitter=random; total time=   0.0s\n",
      "[CV] END criterion=entropy, max_depth=670, max_features=auto, min_samples_leaf=2, min_samples_split=14, splitter=random; total time=   0.0s\n",
      "[CV] END criterion=entropy, max_depth=670, max_features=auto, min_samples_leaf=2, min_samples_split=14, splitter=random; total time=   0.0s\n",
      "[CV] END criterion=gini, max_depth=890, max_features=log2, min_samples_leaf=2, min_samples_split=14, splitter=random; total time=   0.0s\n"
     ]
    },
    {
     "name": "stdout",
     "output_type": "stream",
     "text": [
      "[CV] END criterion=gini, max_depth=890, max_features=log2, min_samples_leaf=2, min_samples_split=14, splitter=random; total time=   0.0s\n",
      "[CV] END criterion=gini, max_depth=890, max_features=log2, min_samples_leaf=2, min_samples_split=14, splitter=random; total time=   0.0s\n",
      "[CV] END criterion=entropy, max_depth=1000, max_features=log2, min_samples_leaf=8, min_samples_split=2, splitter=best; total time=   0.0s\n",
      "[CV] END criterion=entropy, max_depth=1000, max_features=log2, min_samples_leaf=8, min_samples_split=2, splitter=best; total time=   0.0s\n",
      "[CV] END criterion=entropy, max_depth=1000, max_features=log2, min_samples_leaf=8, min_samples_split=2, splitter=best; total time=   0.0s\n",
      "[CV] END criterion=gini, max_depth=560, max_features=sqrt, min_samples_leaf=2, min_samples_split=2, splitter=best; total time=   0.0s\n",
      "[CV] END criterion=gini, max_depth=560, max_features=sqrt, min_samples_leaf=2, min_samples_split=2, splitter=best; total time=   0.0s\n",
      "[CV] END criterion=gini, max_depth=560, max_features=sqrt, min_samples_leaf=2, min_samples_split=2, splitter=best; total time=   0.0s\n",
      "[CV] END criterion=entropy, max_depth=230, max_features=sqrt, min_samples_leaf=2, min_samples_split=10, splitter=random; total time=   0.0s\n",
      "[CV] END criterion=entropy, max_depth=230, max_features=sqrt, min_samples_leaf=2, min_samples_split=10, splitter=random; total time=   0.0s\n",
      "[CV] END criterion=entropy, max_depth=230, max_features=sqrt, min_samples_leaf=2, min_samples_split=10, splitter=random; total time=   0.0s\n",
      "[CV] END criterion=gini, max_depth=780, max_features=log2, min_samples_leaf=4, min_samples_split=5, splitter=random; total time=   0.0s\n",
      "[CV] END criterion=gini, max_depth=780, max_features=log2, min_samples_leaf=4, min_samples_split=5, splitter=random; total time=   0.0s\n",
      "[CV] END criterion=gini, max_depth=780, max_features=log2, min_samples_leaf=4, min_samples_split=5, splitter=random; total time=   0.0s\n",
      "[CV] END criterion=gini, max_depth=560, max_features=auto, min_samples_leaf=8, min_samples_split=2, splitter=best; total time=   0.0s\n",
      "[CV] END criterion=gini, max_depth=560, max_features=auto, min_samples_leaf=8, min_samples_split=2, splitter=best; total time=   0.0s\n",
      "[CV] END criterion=gini, max_depth=560, max_features=auto, min_samples_leaf=8, min_samples_split=2, splitter=best; total time=   0.0s\n",
      "[CV] END criterion=gini, max_depth=450, max_features=log2, min_samples_leaf=4, min_samples_split=14, splitter=random; total time=   0.0s\n",
      "[CV] END criterion=gini, max_depth=450, max_features=log2, min_samples_leaf=4, min_samples_split=14, splitter=random; total time=   0.0s\n",
      "[CV] END criterion=gini, max_depth=450, max_features=log2, min_samples_leaf=4, min_samples_split=14, splitter=random; total time=   0.0s\n",
      "[CV] END criterion=gini, max_depth=230, max_features=sqrt, min_samples_leaf=8, min_samples_split=10, splitter=best; total time=   0.0s\n",
      "[CV] END criterion=gini, max_depth=230, max_features=sqrt, min_samples_leaf=8, min_samples_split=10, splitter=best; total time=   0.0s\n",
      "[CV] END criterion=gini, max_depth=230, max_features=sqrt, min_samples_leaf=8, min_samples_split=10, splitter=best; total time=   0.0s\n",
      "[CV] END criterion=gini, max_depth=890, max_features=auto, min_samples_leaf=4, min_samples_split=10, splitter=best; total time=   0.0s\n",
      "[CV] END criterion=gini, max_depth=890, max_features=auto, min_samples_leaf=4, min_samples_split=10, splitter=best; total time=   0.0s\n",
      "[CV] END criterion=gini, max_depth=890, max_features=auto, min_samples_leaf=4, min_samples_split=10, splitter=best; total time=   0.0s\n",
      "[CV] END criterion=entropy, max_depth=120, max_features=sqrt, min_samples_leaf=4, min_samples_split=5, splitter=best; total time=   0.0s\n",
      "[CV] END criterion=entropy, max_depth=120, max_features=sqrt, min_samples_leaf=4, min_samples_split=5, splitter=best; total time=   0.0s\n",
      "[CV] END criterion=entropy, max_depth=120, max_features=sqrt, min_samples_leaf=4, min_samples_split=5, splitter=best; total time=   0.0s\n",
      "[CV] END criterion=entropy, max_depth=120, max_features=auto, min_samples_leaf=8, min_samples_split=10, splitter=best; total time=   0.0s\n",
      "[CV] END criterion=entropy, max_depth=120, max_features=auto, min_samples_leaf=8, min_samples_split=10, splitter=best; total time=   0.0s\n",
      "[CV] END criterion=entropy, max_depth=120, max_features=auto, min_samples_leaf=8, min_samples_split=10, splitter=best; total time=   0.0s\n",
      "[CV] END criterion=gini, max_depth=10, max_features=auto, min_samples_leaf=6, min_samples_split=14, splitter=random; total time=   0.0s\n",
      "[CV] END criterion=gini, max_depth=10, max_features=auto, min_samples_leaf=6, min_samples_split=14, splitter=random; total time=   0.0s\n",
      "[CV] END criterion=gini, max_depth=10, max_features=auto, min_samples_leaf=6, min_samples_split=14, splitter=random; total time=   0.0s\n",
      "[CV] END criterion=entropy, max_depth=340, max_features=sqrt, min_samples_leaf=4, min_samples_split=2, splitter=best; total time=   0.0s\n",
      "[CV] END criterion=entropy, max_depth=340, max_features=sqrt, min_samples_leaf=4, min_samples_split=2, splitter=best; total time=   0.0s\n",
      "[CV] END criterion=entropy, max_depth=340, max_features=sqrt, min_samples_leaf=4, min_samples_split=2, splitter=best; total time=   0.0s\n",
      "[CV] END criterion=gini, max_depth=890, max_features=log2, min_samples_leaf=6, min_samples_split=2, splitter=random; total time=   0.0s\n",
      "[CV] END criterion=gini, max_depth=890, max_features=log2, min_samples_leaf=6, min_samples_split=2, splitter=random; total time=   0.0s\n",
      "[CV] END criterion=gini, max_depth=890, max_features=log2, min_samples_leaf=6, min_samples_split=2, splitter=random; total time=   0.0s\n",
      "[CV] END criterion=gini, max_depth=10, max_features=sqrt, min_samples_leaf=6, min_samples_split=14, splitter=random; total time=   0.0s\n",
      "[CV] END criterion=gini, max_depth=10, max_features=sqrt, min_samples_leaf=6, min_samples_split=14, splitter=random; total time=   0.0s\n",
      "[CV] END criterion=gini, max_depth=10, max_features=sqrt, min_samples_leaf=6, min_samples_split=14, splitter=random; total time=   0.0s\n",
      "[CV] END criterion=entropy, max_depth=450, max_features=log2, min_samples_leaf=6, min_samples_split=2, splitter=random; total time=   0.0s\n",
      "[CV] END criterion=entropy, max_depth=450, max_features=log2, min_samples_leaf=6, min_samples_split=2, splitter=random; total time=   0.0s\n",
      "[CV] END criterion=entropy, max_depth=450, max_features=log2, min_samples_leaf=6, min_samples_split=2, splitter=random; total time=   0.0s\n",
      "[CV] END criterion=gini, max_depth=340, max_features=sqrt, min_samples_leaf=2, min_samples_split=2, splitter=best; total time=   0.0s\n",
      "[CV] END criterion=gini, max_depth=340, max_features=sqrt, min_samples_leaf=2, min_samples_split=2, splitter=best; total time=   0.0s\n",
      "[CV] END criterion=gini, max_depth=340, max_features=sqrt, min_samples_leaf=2, min_samples_split=2, splitter=best; total time=   0.0s\n",
      "[CV] END criterion=gini, max_depth=560, max_features=sqrt, min_samples_leaf=6, min_samples_split=10, splitter=random; total time=   0.0s\n",
      "[CV] END criterion=gini, max_depth=560, max_features=sqrt, min_samples_leaf=6, min_samples_split=10, splitter=random; total time=   0.0s\n",
      "[CV] END criterion=gini, max_depth=560, max_features=sqrt, min_samples_leaf=6, min_samples_split=10, splitter=random; total time=   0.0s\n",
      "[CV] END criterion=gini, max_depth=340, max_features=sqrt, min_samples_leaf=1, min_samples_split=5, splitter=random; total time=   0.0s\n",
      "[CV] END criterion=gini, max_depth=340, max_features=sqrt, min_samples_leaf=1, min_samples_split=5, splitter=random; total time=   0.0s\n",
      "[CV] END criterion=gini, max_depth=340, max_features=sqrt, min_samples_leaf=1, min_samples_split=5, splitter=random; total time=   0.0s\n",
      "[CV] END criterion=entropy, max_depth=780, max_features=auto, min_samples_leaf=8, min_samples_split=10, splitter=random; total time=   0.0s\n",
      "[CV] END criterion=entropy, max_depth=780, max_features=auto, min_samples_leaf=8, min_samples_split=10, splitter=random; total time=   0.0s\n",
      "[CV] END criterion=entropy, max_depth=780, max_features=auto, min_samples_leaf=8, min_samples_split=10, splitter=random; total time=   0.0s\n",
      "[CV] END criterion=entropy, max_depth=890, max_features=sqrt, min_samples_leaf=6, min_samples_split=5, splitter=random; total time=   0.0s\n",
      "[CV] END criterion=entropy, max_depth=890, max_features=sqrt, min_samples_leaf=6, min_samples_split=5, splitter=random; total time=   0.0s\n",
      "[CV] END criterion=entropy, max_depth=890, max_features=sqrt, min_samples_leaf=6, min_samples_split=5, splitter=random; total time=   0.0s\n",
      "[CV] END criterion=entropy, max_depth=340, max_features=sqrt, min_samples_leaf=1, min_samples_split=2, splitter=random; total time=   0.0s\n",
      "[CV] END criterion=entropy, max_depth=340, max_features=sqrt, min_samples_leaf=1, min_samples_split=2, splitter=random; total time=   0.0s\n"
     ]
    },
    {
     "name": "stdout",
     "output_type": "stream",
     "text": [
      "[CV] END criterion=entropy, max_depth=340, max_features=sqrt, min_samples_leaf=1, min_samples_split=2, splitter=random; total time=   0.0s\n",
      "[CV] END criterion=entropy, max_depth=1000, max_features=auto, min_samples_leaf=6, min_samples_split=5, splitter=best; total time=   0.0s\n",
      "[CV] END criterion=entropy, max_depth=1000, max_features=auto, min_samples_leaf=6, min_samples_split=5, splitter=best; total time=   0.0s\n",
      "[CV] END criterion=entropy, max_depth=1000, max_features=auto, min_samples_leaf=6, min_samples_split=5, splitter=best; total time=   0.0s\n",
      "[CV] END criterion=entropy, max_depth=670, max_features=auto, min_samples_leaf=4, min_samples_split=14, splitter=best; total time=   0.0s\n",
      "[CV] END criterion=entropy, max_depth=670, max_features=auto, min_samples_leaf=4, min_samples_split=14, splitter=best; total time=   0.0s\n",
      "[CV] END criterion=entropy, max_depth=670, max_features=auto, min_samples_leaf=4, min_samples_split=14, splitter=best; total time=   0.0s\n",
      "[CV] END criterion=gini, max_depth=890, max_features=log2, min_samples_leaf=8, min_samples_split=2, splitter=random; total time=   0.0s\n",
      "[CV] END criterion=gini, max_depth=890, max_features=log2, min_samples_leaf=8, min_samples_split=2, splitter=random; total time=   0.0s\n",
      "[CV] END criterion=gini, max_depth=890, max_features=log2, min_samples_leaf=8, min_samples_split=2, splitter=random; total time=   0.0s\n",
      "[CV] END criterion=gini, max_depth=780, max_features=sqrt, min_samples_leaf=8, min_samples_split=2, splitter=random; total time=   0.0s\n",
      "[CV] END criterion=gini, max_depth=780, max_features=sqrt, min_samples_leaf=8, min_samples_split=2, splitter=random; total time=   0.0s\n",
      "[CV] END criterion=gini, max_depth=780, max_features=sqrt, min_samples_leaf=8, min_samples_split=2, splitter=random; total time=   0.0s\n",
      "[CV] END criterion=gini, max_depth=450, max_features=sqrt, min_samples_leaf=2, min_samples_split=10, splitter=random; total time=   0.0s\n",
      "[CV] END criterion=gini, max_depth=450, max_features=sqrt, min_samples_leaf=2, min_samples_split=10, splitter=random; total time=   0.0s\n",
      "[CV] END criterion=gini, max_depth=450, max_features=sqrt, min_samples_leaf=2, min_samples_split=10, splitter=random; total time=   0.0s\n",
      "[CV] END criterion=gini, max_depth=10, max_features=sqrt, min_samples_leaf=4, min_samples_split=14, splitter=random; total time=   0.0s\n",
      "[CV] END criterion=gini, max_depth=10, max_features=sqrt, min_samples_leaf=4, min_samples_split=14, splitter=random; total time=   0.0s\n",
      "[CV] END criterion=gini, max_depth=10, max_features=sqrt, min_samples_leaf=4, min_samples_split=14, splitter=random; total time=   0.0s\n",
      "[CV] END criterion=gini, max_depth=450, max_features=sqrt, min_samples_leaf=2, min_samples_split=14, splitter=best; total time=   0.0s\n",
      "[CV] END criterion=gini, max_depth=450, max_features=sqrt, min_samples_leaf=2, min_samples_split=14, splitter=best; total time=   0.0s\n",
      "[CV] END criterion=gini, max_depth=450, max_features=sqrt, min_samples_leaf=2, min_samples_split=14, splitter=best; total time=   0.0s\n",
      "[CV] END criterion=gini, max_depth=780, max_features=sqrt, min_samples_leaf=6, min_samples_split=2, splitter=best; total time=   0.0s\n",
      "[CV] END criterion=gini, max_depth=780, max_features=sqrt, min_samples_leaf=6, min_samples_split=2, splitter=best; total time=   0.0s\n",
      "[CV] END criterion=gini, max_depth=780, max_features=sqrt, min_samples_leaf=6, min_samples_split=2, splitter=best; total time=   0.0s\n",
      "[CV] END criterion=gini, max_depth=560, max_features=log2, min_samples_leaf=4, min_samples_split=5, splitter=random; total time=   0.0s\n",
      "[CV] END criterion=gini, max_depth=560, max_features=log2, min_samples_leaf=4, min_samples_split=5, splitter=random; total time=   0.0s\n",
      "[CV] END criterion=gini, max_depth=560, max_features=log2, min_samples_leaf=4, min_samples_split=5, splitter=random; total time=   0.0s\n",
      "[CV] END criterion=entropy, max_depth=120, max_features=sqrt, min_samples_leaf=4, min_samples_split=2, splitter=random; total time=   0.0s\n",
      "[CV] END criterion=entropy, max_depth=120, max_features=sqrt, min_samples_leaf=4, min_samples_split=2, splitter=random; total time=   0.0s\n",
      "[CV] END criterion=entropy, max_depth=120, max_features=sqrt, min_samples_leaf=4, min_samples_split=2, splitter=random; total time=   0.0s\n",
      "[CV] END criterion=gini, max_depth=230, max_features=log2, min_samples_leaf=6, min_samples_split=10, splitter=best; total time=   0.0s\n",
      "[CV] END criterion=gini, max_depth=230, max_features=log2, min_samples_leaf=6, min_samples_split=10, splitter=best; total time=   0.0s\n",
      "[CV] END criterion=gini, max_depth=230, max_features=log2, min_samples_leaf=6, min_samples_split=10, splitter=best; total time=   0.0s\n",
      "[CV] END criterion=entropy, max_depth=230, max_features=sqrt, min_samples_leaf=6, min_samples_split=2, splitter=random; total time=   0.0s\n",
      "[CV] END criterion=entropy, max_depth=230, max_features=sqrt, min_samples_leaf=6, min_samples_split=2, splitter=random; total time=   0.0s\n",
      "[CV] END criterion=entropy, max_depth=230, max_features=sqrt, min_samples_leaf=6, min_samples_split=2, splitter=random; total time=   0.0s\n",
      "[CV] END criterion=gini, max_depth=340, max_features=auto, min_samples_leaf=4, min_samples_split=14, splitter=best; total time=   0.0s\n",
      "[CV] END criterion=gini, max_depth=340, max_features=auto, min_samples_leaf=4, min_samples_split=14, splitter=best; total time=   0.0s\n",
      "[CV] END criterion=gini, max_depth=340, max_features=auto, min_samples_leaf=4, min_samples_split=14, splitter=best; total time=   0.0s\n",
      "[CV] END criterion=entropy, max_depth=230, max_features=log2, min_samples_leaf=2, min_samples_split=14, splitter=random; total time=   0.0s\n",
      "[CV] END criterion=entropy, max_depth=230, max_features=log2, min_samples_leaf=2, min_samples_split=14, splitter=random; total time=   0.0s\n",
      "[CV] END criterion=entropy, max_depth=230, max_features=log2, min_samples_leaf=2, min_samples_split=14, splitter=random; total time=   0.0s\n",
      "[CV] END criterion=gini, max_depth=560, max_features=sqrt, min_samples_leaf=4, min_samples_split=10, splitter=random; total time=   0.0s\n",
      "[CV] END criterion=gini, max_depth=560, max_features=sqrt, min_samples_leaf=4, min_samples_split=10, splitter=random; total time=   0.0s\n",
      "[CV] END criterion=gini, max_depth=560, max_features=sqrt, min_samples_leaf=4, min_samples_split=10, splitter=random; total time=   0.0s\n",
      "[CV] END criterion=gini, max_depth=890, max_features=sqrt, min_samples_leaf=4, min_samples_split=2, splitter=best; total time=   0.0s\n",
      "[CV] END criterion=gini, max_depth=890, max_features=sqrt, min_samples_leaf=4, min_samples_split=2, splitter=best; total time=   0.0s\n",
      "[CV] END criterion=gini, max_depth=890, max_features=sqrt, min_samples_leaf=4, min_samples_split=2, splitter=best; total time=   0.0s\n",
      "[CV] END criterion=entropy, max_depth=780, max_features=auto, min_samples_leaf=4, min_samples_split=10, splitter=best; total time=   0.0s\n",
      "[CV] END criterion=entropy, max_depth=780, max_features=auto, min_samples_leaf=4, min_samples_split=10, splitter=best; total time=   0.0s\n",
      "[CV] END criterion=entropy, max_depth=780, max_features=auto, min_samples_leaf=4, min_samples_split=10, splitter=best; total time=   0.0s\n",
      "[CV] END criterion=entropy, max_depth=10, max_features=sqrt, min_samples_leaf=6, min_samples_split=14, splitter=best; total time=   0.0s\n",
      "[CV] END criterion=entropy, max_depth=10, max_features=sqrt, min_samples_leaf=6, min_samples_split=14, splitter=best; total time=   0.0s\n",
      "[CV] END criterion=entropy, max_depth=10, max_features=sqrt, min_samples_leaf=6, min_samples_split=14, splitter=best; total time=   0.0s\n",
      "[CV] END criterion=entropy, max_depth=120, max_features=log2, min_samples_leaf=8, min_samples_split=5, splitter=best; total time=   0.0s\n",
      "[CV] END criterion=entropy, max_depth=120, max_features=log2, min_samples_leaf=8, min_samples_split=5, splitter=best; total time=   0.0s\n",
      "[CV] END criterion=entropy, max_depth=120, max_features=log2, min_samples_leaf=8, min_samples_split=5, splitter=best; total time=   0.0s\n",
      "[CV] END criterion=entropy, max_depth=780, max_features=log2, min_samples_leaf=4, min_samples_split=10, splitter=best; total time=   0.0s\n",
      "[CV] END criterion=entropy, max_depth=780, max_features=log2, min_samples_leaf=4, min_samples_split=10, splitter=best; total time=   0.0s\n",
      "[CV] END criterion=entropy, max_depth=780, max_features=log2, min_samples_leaf=4, min_samples_split=10, splitter=best; total time=   0.0s\n",
      "[CV] END criterion=gini, max_depth=780, max_features=auto, min_samples_leaf=4, min_samples_split=10, splitter=best; total time=   0.0s\n",
      "[CV] END criterion=gini, max_depth=780, max_features=auto, min_samples_leaf=4, min_samples_split=10, splitter=best; total time=   0.0s\n",
      "[CV] END criterion=gini, max_depth=780, max_features=auto, min_samples_leaf=4, min_samples_split=10, splitter=best; total time=   0.0s\n",
      "[CV] END criterion=entropy, max_depth=230, max_features=sqrt, min_samples_leaf=2, min_samples_split=5, splitter=random; total time=   0.0s\n",
      "[CV] END criterion=entropy, max_depth=230, max_features=sqrt, min_samples_leaf=2, min_samples_split=5, splitter=random; total time=   0.0s\n",
      "[CV] END criterion=entropy, max_depth=230, max_features=sqrt, min_samples_leaf=2, min_samples_split=5, splitter=random; total time=   0.0s\n",
      "[CV] END criterion=gini, max_depth=120, max_features=auto, min_samples_leaf=2, min_samples_split=14, splitter=best; total time=   0.0s\n",
      "[CV] END criterion=gini, max_depth=120, max_features=auto, min_samples_leaf=2, min_samples_split=14, splitter=best; total time=   0.0s\n",
      "[CV] END criterion=gini, max_depth=120, max_features=auto, min_samples_leaf=2, min_samples_split=14, splitter=best; total time=   0.0s\n",
      "[CV] END criterion=gini, max_depth=890, max_features=auto, min_samples_leaf=4, min_samples_split=10, splitter=random; total time=   0.0s\n",
      "[CV] END criterion=gini, max_depth=890, max_features=auto, min_samples_leaf=4, min_samples_split=10, splitter=random; total time=   0.0s\n",
      "[CV] END criterion=gini, max_depth=890, max_features=auto, min_samples_leaf=4, min_samples_split=10, splitter=random; total time=   0.0s\n",
      "[CV] END criterion=gini, max_depth=670, max_features=log2, min_samples_leaf=2, min_samples_split=14, splitter=random; total time=   0.0s\n",
      "[CV] END criterion=gini, max_depth=670, max_features=log2, min_samples_leaf=2, min_samples_split=14, splitter=random; total time=   0.0s\n",
      "[CV] END criterion=gini, max_depth=670, max_features=log2, min_samples_leaf=2, min_samples_split=14, splitter=random; total time=   0.0s\n",
      "[CV] END criterion=gini, max_depth=230, max_features=auto, min_samples_leaf=4, min_samples_split=5, splitter=best; total time=   0.0s\n",
      "[CV] END criterion=gini, max_depth=230, max_features=auto, min_samples_leaf=4, min_samples_split=5, splitter=best; total time=   0.0s\n"
     ]
    },
    {
     "name": "stdout",
     "output_type": "stream",
     "text": [
      "[CV] END criterion=gini, max_depth=230, max_features=auto, min_samples_leaf=4, min_samples_split=5, splitter=best; total time=   0.0s\n",
      "[CV] END criterion=gini, max_depth=1000, max_features=auto, min_samples_leaf=1, min_samples_split=14, splitter=random; total time=   0.0s\n",
      "[CV] END criterion=gini, max_depth=1000, max_features=auto, min_samples_leaf=1, min_samples_split=14, splitter=random; total time=   0.0s\n",
      "[CV] END criterion=gini, max_depth=1000, max_features=auto, min_samples_leaf=1, min_samples_split=14, splitter=random; total time=   0.0s\n",
      "[CV] END criterion=entropy, max_depth=450, max_features=sqrt, min_samples_leaf=6, min_samples_split=5, splitter=best; total time=   0.0s\n",
      "[CV] END criterion=entropy, max_depth=450, max_features=sqrt, min_samples_leaf=6, min_samples_split=5, splitter=best; total time=   0.0s\n",
      "[CV] END criterion=entropy, max_depth=450, max_features=sqrt, min_samples_leaf=6, min_samples_split=5, splitter=best; total time=   0.0s\n",
      "[CV] END criterion=gini, max_depth=670, max_features=log2, min_samples_leaf=6, min_samples_split=14, splitter=best; total time=   0.0s\n",
      "[CV] END criterion=gini, max_depth=670, max_features=log2, min_samples_leaf=6, min_samples_split=14, splitter=best; total time=   0.0s\n",
      "[CV] END criterion=gini, max_depth=670, max_features=log2, min_samples_leaf=6, min_samples_split=14, splitter=best; total time=   0.0s\n",
      "[CV] END criterion=entropy, max_depth=230, max_features=sqrt, min_samples_leaf=4, min_samples_split=5, splitter=best; total time=   0.0s\n",
      "[CV] END criterion=entropy, max_depth=230, max_features=sqrt, min_samples_leaf=4, min_samples_split=5, splitter=best; total time=   0.0s\n",
      "[CV] END criterion=entropy, max_depth=230, max_features=sqrt, min_samples_leaf=4, min_samples_split=5, splitter=best; total time=   0.0s\n",
      "[CV] END criterion=entropy, max_depth=1000, max_features=sqrt, min_samples_leaf=6, min_samples_split=14, splitter=random; total time=   0.0s\n",
      "[CV] END criterion=entropy, max_depth=1000, max_features=sqrt, min_samples_leaf=6, min_samples_split=14, splitter=random; total time=   0.0s\n",
      "[CV] END criterion=entropy, max_depth=1000, max_features=sqrt, min_samples_leaf=6, min_samples_split=14, splitter=random; total time=   0.0s\n",
      "[CV] END criterion=entropy, max_depth=1000, max_features=auto, min_samples_leaf=2, min_samples_split=2, splitter=best; total time=   0.0s\n",
      "[CV] END criterion=entropy, max_depth=1000, max_features=auto, min_samples_leaf=2, min_samples_split=2, splitter=best; total time=   0.0s\n",
      "[CV] END criterion=entropy, max_depth=1000, max_features=auto, min_samples_leaf=2, min_samples_split=2, splitter=best; total time=   0.0s\n",
      "[CV] END criterion=gini, max_depth=450, max_features=auto, min_samples_leaf=8, min_samples_split=5, splitter=random; total time=   0.0s\n",
      "[CV] END criterion=gini, max_depth=450, max_features=auto, min_samples_leaf=8, min_samples_split=5, splitter=random; total time=   0.0s\n",
      "[CV] END criterion=gini, max_depth=450, max_features=auto, min_samples_leaf=8, min_samples_split=5, splitter=random; total time=   0.0s\n",
      "[CV] END criterion=entropy, max_depth=10, max_features=sqrt, min_samples_leaf=2, min_samples_split=10, splitter=best; total time=   0.0s\n",
      "[CV] END criterion=entropy, max_depth=10, max_features=sqrt, min_samples_leaf=2, min_samples_split=10, splitter=best; total time=   0.0s\n",
      "[CV] END criterion=entropy, max_depth=10, max_features=sqrt, min_samples_leaf=2, min_samples_split=10, splitter=best; total time=   0.0s\n",
      "[CV] END criterion=entropy, max_depth=450, max_features=log2, min_samples_leaf=6, min_samples_split=5, splitter=best; total time=   0.0s\n",
      "[CV] END criterion=entropy, max_depth=450, max_features=log2, min_samples_leaf=6, min_samples_split=5, splitter=best; total time=   0.0s\n",
      "[CV] END criterion=entropy, max_depth=450, max_features=log2, min_samples_leaf=6, min_samples_split=5, splitter=best; total time=   0.0s\n",
      "[CV] END criterion=entropy, max_depth=1000, max_features=sqrt, min_samples_leaf=8, min_samples_split=14, splitter=random; total time=   0.0s\n",
      "[CV] END criterion=entropy, max_depth=1000, max_features=sqrt, min_samples_leaf=8, min_samples_split=14, splitter=random; total time=   0.0s\n",
      "[CV] END criterion=entropy, max_depth=1000, max_features=sqrt, min_samples_leaf=8, min_samples_split=14, splitter=random; total time=   0.0s\n",
      "[CV] END criterion=gini, max_depth=450, max_features=log2, min_samples_leaf=4, min_samples_split=14, splitter=best; total time=   0.0s\n",
      "[CV] END criterion=gini, max_depth=450, max_features=log2, min_samples_leaf=4, min_samples_split=14, splitter=best; total time=   0.0s\n",
      "[CV] END criterion=gini, max_depth=450, max_features=log2, min_samples_leaf=4, min_samples_split=14, splitter=best; total time=   0.0s\n",
      "[CV] END criterion=entropy, max_depth=450, max_features=log2, min_samples_leaf=4, min_samples_split=10, splitter=best; total time=   0.0s\n",
      "[CV] END criterion=entropy, max_depth=450, max_features=log2, min_samples_leaf=4, min_samples_split=10, splitter=best; total time=   0.0s\n",
      "[CV] END criterion=entropy, max_depth=450, max_features=log2, min_samples_leaf=4, min_samples_split=10, splitter=best; total time=   0.0s\n",
      "[CV] END criterion=gini, max_depth=230, max_features=auto, min_samples_leaf=6, min_samples_split=10, splitter=random; total time=   0.0s\n",
      "[CV] END criterion=gini, max_depth=230, max_features=auto, min_samples_leaf=6, min_samples_split=10, splitter=random; total time=   0.0s\n",
      "[CV] END criterion=gini, max_depth=230, max_features=auto, min_samples_leaf=6, min_samples_split=10, splitter=random; total time=   0.0s\n",
      "[CV] END criterion=entropy, max_depth=450, max_features=sqrt, min_samples_leaf=6, min_samples_split=10, splitter=best; total time=   0.0s\n",
      "[CV] END criterion=entropy, max_depth=450, max_features=sqrt, min_samples_leaf=6, min_samples_split=10, splitter=best; total time=   0.0s\n",
      "[CV] END criterion=entropy, max_depth=450, max_features=sqrt, min_samples_leaf=6, min_samples_split=10, splitter=best; total time=   0.0s\n",
      "[CV] END criterion=entropy, max_depth=1000, max_features=auto, min_samples_leaf=6, min_samples_split=14, splitter=random; total time=   0.0s\n",
      "[CV] END criterion=entropy, max_depth=1000, max_features=auto, min_samples_leaf=6, min_samples_split=14, splitter=random; total time=   0.0s\n",
      "[CV] END criterion=entropy, max_depth=1000, max_features=auto, min_samples_leaf=6, min_samples_split=14, splitter=random; total time=   0.0s\n",
      "[CV] END criterion=gini, max_depth=230, max_features=log2, min_samples_leaf=8, min_samples_split=10, splitter=best; total time=   0.0s\n",
      "[CV] END criterion=gini, max_depth=230, max_features=log2, min_samples_leaf=8, min_samples_split=10, splitter=best; total time=   0.0s\n",
      "[CV] END criterion=gini, max_depth=230, max_features=log2, min_samples_leaf=8, min_samples_split=10, splitter=best; total time=   0.0s\n",
      "[CV] END criterion=gini, max_depth=780, max_features=log2, min_samples_leaf=2, min_samples_split=10, splitter=best; total time=   0.0s\n",
      "[CV] END criterion=gini, max_depth=780, max_features=log2, min_samples_leaf=2, min_samples_split=10, splitter=best; total time=   0.0s\n",
      "[CV] END criterion=gini, max_depth=780, max_features=log2, min_samples_leaf=2, min_samples_split=10, splitter=best; total time=   0.0s\n",
      "[CV] END criterion=entropy, max_depth=670, max_features=sqrt, min_samples_leaf=4, min_samples_split=2, splitter=best; total time=   0.0s\n",
      "[CV] END criterion=entropy, max_depth=670, max_features=sqrt, min_samples_leaf=4, min_samples_split=2, splitter=best; total time=   0.0s\n",
      "[CV] END criterion=entropy, max_depth=670, max_features=sqrt, min_samples_leaf=4, min_samples_split=2, splitter=best; total time=   0.0s\n",
      "[CV] END criterion=entropy, max_depth=10, max_features=auto, min_samples_leaf=2, min_samples_split=5, splitter=random; total time=   0.0s\n",
      "[CV] END criterion=entropy, max_depth=10, max_features=auto, min_samples_leaf=2, min_samples_split=5, splitter=random; total time=   0.0s\n",
      "[CV] END criterion=entropy, max_depth=10, max_features=auto, min_samples_leaf=2, min_samples_split=5, splitter=random; total time=   0.0s\n",
      "[CV] END criterion=entropy, max_depth=120, max_features=sqrt, min_samples_leaf=6, min_samples_split=14, splitter=best; total time=   0.0s\n",
      "[CV] END criterion=entropy, max_depth=120, max_features=sqrt, min_samples_leaf=6, min_samples_split=14, splitter=best; total time=   0.0s\n",
      "[CV] END criterion=entropy, max_depth=120, max_features=sqrt, min_samples_leaf=6, min_samples_split=14, splitter=best; total time=   0.0s\n",
      "[CV] END criterion=entropy, max_depth=560, max_features=sqrt, min_samples_leaf=2, min_samples_split=14, splitter=random; total time=   0.0s\n",
      "[CV] END criterion=entropy, max_depth=560, max_features=sqrt, min_samples_leaf=2, min_samples_split=14, splitter=random; total time=   0.0s\n",
      "[CV] END criterion=entropy, max_depth=560, max_features=sqrt, min_samples_leaf=2, min_samples_split=14, splitter=random; total time=   0.0s\n",
      "[CV] END criterion=gini, max_depth=10, max_features=log2, min_samples_leaf=8, min_samples_split=10, splitter=random; total time=   0.0s\n",
      "[CV] END criterion=gini, max_depth=10, max_features=log2, min_samples_leaf=8, min_samples_split=10, splitter=random; total time=   0.0s\n",
      "[CV] END criterion=gini, max_depth=10, max_features=log2, min_samples_leaf=8, min_samples_split=10, splitter=random; total time=   0.0s\n",
      "[CV] END criterion=entropy, max_depth=10, max_features=sqrt, min_samples_leaf=6, min_samples_split=2, splitter=random; total time=   0.0s\n",
      "[CV] END criterion=entropy, max_depth=10, max_features=sqrt, min_samples_leaf=6, min_samples_split=2, splitter=random; total time=   0.0s\n",
      "[CV] END criterion=entropy, max_depth=10, max_features=sqrt, min_samples_leaf=6, min_samples_split=2, splitter=random; total time=   0.0s\n",
      "[CV] END criterion=gini, max_depth=120, max_features=sqrt, min_samples_leaf=4, min_samples_split=2, splitter=best; total time=   0.0s\n",
      "[CV] END criterion=gini, max_depth=120, max_features=sqrt, min_samples_leaf=4, min_samples_split=2, splitter=best; total time=   0.0s\n",
      "[CV] END criterion=gini, max_depth=120, max_features=sqrt, min_samples_leaf=4, min_samples_split=2, splitter=best; total time=   0.0s\n",
      "[CV] END criterion=gini, max_depth=890, max_features=sqrt, min_samples_leaf=8, min_samples_split=10, splitter=best; total time=   0.0s\n"
     ]
    },
    {
     "name": "stdout",
     "output_type": "stream",
     "text": [
      "[CV] END criterion=gini, max_depth=890, max_features=sqrt, min_samples_leaf=8, min_samples_split=10, splitter=best; total time=   0.0s\n",
      "[CV] END criterion=gini, max_depth=890, max_features=sqrt, min_samples_leaf=8, min_samples_split=10, splitter=best; total time=   0.0s\n",
      "[CV] END criterion=entropy, max_depth=230, max_features=auto, min_samples_leaf=1, min_samples_split=14, splitter=best; total time=   0.0s\n",
      "[CV] END criterion=entropy, max_depth=230, max_features=auto, min_samples_leaf=1, min_samples_split=14, splitter=best; total time=   0.0s\n",
      "[CV] END criterion=entropy, max_depth=230, max_features=auto, min_samples_leaf=1, min_samples_split=14, splitter=best; total time=   0.0s\n",
      "[CV] END criterion=entropy, max_depth=230, max_features=log2, min_samples_leaf=8, min_samples_split=5, splitter=best; total time=   0.0s\n",
      "[CV] END criterion=entropy, max_depth=230, max_features=log2, min_samples_leaf=8, min_samples_split=5, splitter=best; total time=   0.0s\n",
      "[CV] END criterion=entropy, max_depth=230, max_features=log2, min_samples_leaf=8, min_samples_split=5, splitter=best; total time=   0.0s\n",
      "[CV] END criterion=gini, max_depth=120, max_features=log2, min_samples_leaf=8, min_samples_split=14, splitter=best; total time=   0.0s\n",
      "[CV] END criterion=gini, max_depth=120, max_features=log2, min_samples_leaf=8, min_samples_split=14, splitter=best; total time=   0.0s\n",
      "[CV] END criterion=gini, max_depth=120, max_features=log2, min_samples_leaf=8, min_samples_split=14, splitter=best; total time=   0.0s\n"
     ]
    },
    {
     "data": {
      "text/plain": [
       "RandomizedSearchCV(cv=3, estimator=DecisionTreeClassifier(), n_iter=100,\n",
       "                   param_distributions={'criterion': ['gini', 'entropy'],\n",
       "                                        'max_depth': [10, 120, 230, 340, 450,\n",
       "                                                      560, 670, 780, 890,\n",
       "                                                      1000],\n",
       "                                        'max_features': ['auto', 'sqrt',\n",
       "                                                         'log2'],\n",
       "                                        'min_samples_leaf': [1, 2, 4, 6, 8],\n",
       "                                        'min_samples_split': [2, 5, 10, 14],\n",
       "                                        'splitter': ['best', 'random']},\n",
       "                   random_state=100, verbose=2)"
      ]
     },
     "execution_count": 11,
     "metadata": {},
     "output_type": "execute_result"
    }
   ],
   "source": [
    "dt_randomcv=RandomizedSearchCV(estimator=model,param_distributions=random_grid,n_iter=100,cv=3,verbose=2,\n",
    "                               random_state=100)\n",
    "dt_randomcv.fit(X_train,y_train)"
   ]
  },
  {
   "cell_type": "code",
   "execution_count": 12,
   "id": "aa10da47",
   "metadata": {},
   "outputs": [
    {
     "data": {
      "text/plain": [
       "{'splitter': 'random',\n",
       " 'min_samples_split': 10,\n",
       " 'min_samples_leaf': 6,\n",
       " 'max_features': 'sqrt',\n",
       " 'max_depth': 560,\n",
       " 'criterion': 'gini'}"
      ]
     },
     "execution_count": 12,
     "metadata": {},
     "output_type": "execute_result"
    }
   ],
   "source": [
    "dt_randomcv.best_params_"
   ]
  },
  {
   "cell_type": "code",
   "execution_count": 13,
   "id": "ae30da59",
   "metadata": {},
   "outputs": [
    {
     "name": "stdout",
     "output_type": "stream",
     "text": [
      "Decision Tree Algorithm in training\n",
      "              precision    recall  f1-score   support\n",
      "\n",
      "         0.0       1.00      1.00      1.00       139\n",
      "         1.0       1.00      1.00      1.00       908\n",
      "\n",
      "    accuracy                           1.00      1047\n",
      "   macro avg       1.00      1.00      1.00      1047\n",
      "weighted avg       1.00      1.00      1.00      1047\n",
      "\n",
      "[[139   0]\n",
      " [  0 908]]\n",
      "ACC:  1.0\n",
      "Decision Tree Algorithm\n",
      "              precision    recall  f1-score   support\n",
      "\n",
      "         0.0       0.39      0.43      0.41        70\n",
      "         1.0       0.89      0.88      0.89       380\n",
      "\n",
      "    accuracy                           0.81       450\n",
      "   macro avg       0.64      0.65      0.65       450\n",
      "weighted avg       0.82      0.81      0.81       450\n",
      "\n",
      "[[ 30  40]\n",
      " [ 46 334]]\n",
      "ACC:  0.8088888888888889\n"
     ]
    }
   ],
   "source": [
    "from sklearn.model_selection import train_test_split\n",
    "from sklearn.metrics import confusion_matrix, classification_report, accuracy_score\n",
    "from sklearn.metrics import roc_curve, roc_auc_score\n",
    "\n",
    "X_train, X_test, y_train, y_test = train_test_split(Z, Y, test_size = 0.3, random_state = 0)\n",
    "\n",
    "model.fit(X_train, y_train)\n",
    "\n",
    "y_predict_training = model.predict(X_train)\n",
    "y_pred = model.predict(X_test)\n",
    "#summery of training accuracy by the classifier\n",
    "print(\"Decision Tree Algorithm in training\")\n",
    "print(classification_report(y_train, y_predict_training))\n",
    "print(confusion_matrix(y_train, y_predict_training))\n",
    "print(\"ACC: \",accuracy_score(y_train, y_predict_training))\n",
    "\n",
    "#Summary of the predictions made by the classifier\n",
    "print(\"Decision Tree Algorithm\")\n",
    "print(classification_report(y_test, y_pred))\n",
    "print(confusion_matrix(y_test, y_pred))\n",
    "#Accuracy score\n",
    "print(\"ACC: \",accuracy_score(y_pred,y_test))"
   ]
  },
  {
   "cell_type": "code",
   "execution_count": 14,
   "id": "1521a875",
   "metadata": {},
   "outputs": [
    {
     "name": "stdout",
     "output_type": "stream",
     "text": [
      "[[ 14  56]\n",
      " [  4 376]]\n",
      "Accuracy Score 0.8666666666666667\n",
      "Classification report:               precision    recall  f1-score   support\n",
      "\n",
      "         0.0       0.78      0.20      0.32        70\n",
      "         1.0       0.87      0.99      0.93       380\n",
      "\n",
      "    accuracy                           0.87       450\n",
      "   macro avg       0.82      0.59      0.62       450\n",
      "weighted avg       0.86      0.87      0.83       450\n",
      "\n"
     ]
    }
   ],
   "source": [
    "best_random_grid = dt_randomcv.best_estimator_\n",
    "y_pred=best_random_grid.predict(X_test)\n",
    "print(confusion_matrix(y_test,y_pred))\n",
    "print(\"Accuracy Score {}\".format(accuracy_score(y_test,y_pred)))\n",
    "print(\"Classification report: {}\".format(classification_report(y_test,y_pred)))"
   ]
  },
  {
   "cell_type": "code",
   "execution_count": 15,
   "id": "b27399a0",
   "metadata": {},
   "outputs": [
    {
     "name": "stdout",
     "output_type": "stream",
     "text": [
      "{'criterion': ['gini'], 'max_depth': [560], 'splitter': ['random'], 'max_features': ['sqrt'], 'min_samples_leaf': [6, 8, 10], 'min_samples_split': [8, 9, 10, 11, 12]}\n"
     ]
    }
   ],
   "source": [
    "from sklearn.model_selection import GridSearchCV\n",
    "\n",
    "param_grid = {\n",
    "    'criterion': [dt_randomcv.best_params_['criterion']],\n",
    "    'max_depth': [dt_randomcv.best_params_['max_depth']],\n",
    "    'splitter': [dt_randomcv.best_params_['splitter']],\n",
    "    'max_features': [dt_randomcv.best_params_['max_features']],\n",
    "    'min_samples_leaf': [dt_randomcv.best_params_['min_samples_leaf'], \n",
    "                         dt_randomcv.best_params_['min_samples_leaf']+2, \n",
    "                         dt_randomcv.best_params_['min_samples_leaf'] + 4],\n",
    "    'min_samples_split': [dt_randomcv.best_params_['min_samples_split'] - 2,\n",
    "                          dt_randomcv.best_params_['min_samples_split'] - 1,\n",
    "                          dt_randomcv.best_params_['min_samples_split'], \n",
    "                          dt_randomcv.best_params_['min_samples_split'] +1,\n",
    "                          dt_randomcv.best_params_['min_samples_split'] + 2]\n",
    "}\n",
    "\n",
    "print(param_grid)"
   ]
  },
  {
   "cell_type": "code",
   "execution_count": 16,
   "id": "74e2e1a9",
   "metadata": {},
   "outputs": [
    {
     "name": "stdout",
     "output_type": "stream",
     "text": [
      "Fitting 10 folds for each of 15 candidates, totalling 150 fits\n",
      "[CV] END criterion=gini, max_depth=560, max_features=sqrt, min_samples_leaf=6, min_samples_split=8, splitter=random; total time=   0.0s\n",
      "[CV] END criterion=gini, max_depth=560, max_features=sqrt, min_samples_leaf=6, min_samples_split=8, splitter=random; total time=   0.0s\n",
      "[CV] END criterion=gini, max_depth=560, max_features=sqrt, min_samples_leaf=6, min_samples_split=8, splitter=random; total time=   0.0s\n",
      "[CV] END criterion=gini, max_depth=560, max_features=sqrt, min_samples_leaf=6, min_samples_split=8, splitter=random; total time=   0.0s\n",
      "[CV] END criterion=gini, max_depth=560, max_features=sqrt, min_samples_leaf=6, min_samples_split=8, splitter=random; total time=   0.0s\n",
      "[CV] END criterion=gini, max_depth=560, max_features=sqrt, min_samples_leaf=6, min_samples_split=8, splitter=random; total time=   0.0s\n",
      "[CV] END criterion=gini, max_depth=560, max_features=sqrt, min_samples_leaf=6, min_samples_split=8, splitter=random; total time=   0.0s\n",
      "[CV] END criterion=gini, max_depth=560, max_features=sqrt, min_samples_leaf=6, min_samples_split=8, splitter=random; total time=   0.0s\n",
      "[CV] END criterion=gini, max_depth=560, max_features=sqrt, min_samples_leaf=6, min_samples_split=8, splitter=random; total time=   0.0s\n",
      "[CV] END criterion=gini, max_depth=560, max_features=sqrt, min_samples_leaf=6, min_samples_split=8, splitter=random; total time=   0.0s\n",
      "[CV] END criterion=gini, max_depth=560, max_features=sqrt, min_samples_leaf=6, min_samples_split=9, splitter=random; total time=   0.0s\n",
      "[CV] END criterion=gini, max_depth=560, max_features=sqrt, min_samples_leaf=6, min_samples_split=9, splitter=random; total time=   0.0s\n",
      "[CV] END criterion=gini, max_depth=560, max_features=sqrt, min_samples_leaf=6, min_samples_split=9, splitter=random; total time=   0.0s\n",
      "[CV] END criterion=gini, max_depth=560, max_features=sqrt, min_samples_leaf=6, min_samples_split=9, splitter=random; total time=   0.0s\n",
      "[CV] END criterion=gini, max_depth=560, max_features=sqrt, min_samples_leaf=6, min_samples_split=9, splitter=random; total time=   0.0s\n",
      "[CV] END criterion=gini, max_depth=560, max_features=sqrt, min_samples_leaf=6, min_samples_split=9, splitter=random; total time=   0.0s\n",
      "[CV] END criterion=gini, max_depth=560, max_features=sqrt, min_samples_leaf=6, min_samples_split=9, splitter=random; total time=   0.0s\n",
      "[CV] END criterion=gini, max_depth=560, max_features=sqrt, min_samples_leaf=6, min_samples_split=9, splitter=random; total time=   0.0s\n",
      "[CV] END criterion=gini, max_depth=560, max_features=sqrt, min_samples_leaf=6, min_samples_split=9, splitter=random; total time=   0.0s\n",
      "[CV] END criterion=gini, max_depth=560, max_features=sqrt, min_samples_leaf=6, min_samples_split=9, splitter=random; total time=   0.0s\n",
      "[CV] END criterion=gini, max_depth=560, max_features=sqrt, min_samples_leaf=6, min_samples_split=10, splitter=random; total time=   0.0s\n",
      "[CV] END criterion=gini, max_depth=560, max_features=sqrt, min_samples_leaf=6, min_samples_split=10, splitter=random; total time=   0.0s\n",
      "[CV] END criterion=gini, max_depth=560, max_features=sqrt, min_samples_leaf=6, min_samples_split=10, splitter=random; total time=   0.0s\n",
      "[CV] END criterion=gini, max_depth=560, max_features=sqrt, min_samples_leaf=6, min_samples_split=10, splitter=random; total time=   0.0s\n",
      "[CV] END criterion=gini, max_depth=560, max_features=sqrt, min_samples_leaf=6, min_samples_split=10, splitter=random; total time=   0.0s\n",
      "[CV] END criterion=gini, max_depth=560, max_features=sqrt, min_samples_leaf=6, min_samples_split=10, splitter=random; total time=   0.0s\n",
      "[CV] END criterion=gini, max_depth=560, max_features=sqrt, min_samples_leaf=6, min_samples_split=10, splitter=random; total time=   0.0s\n",
      "[CV] END criterion=gini, max_depth=560, max_features=sqrt, min_samples_leaf=6, min_samples_split=10, splitter=random; total time=   0.0s\n",
      "[CV] END criterion=gini, max_depth=560, max_features=sqrt, min_samples_leaf=6, min_samples_split=10, splitter=random; total time=   0.0s\n",
      "[CV] END criterion=gini, max_depth=560, max_features=sqrt, min_samples_leaf=6, min_samples_split=10, splitter=random; total time=   0.0s\n",
      "[CV] END criterion=gini, max_depth=560, max_features=sqrt, min_samples_leaf=6, min_samples_split=11, splitter=random; total time=   0.0s\n",
      "[CV] END criterion=gini, max_depth=560, max_features=sqrt, min_samples_leaf=6, min_samples_split=11, splitter=random; total time=   0.0s\n",
      "[CV] END criterion=gini, max_depth=560, max_features=sqrt, min_samples_leaf=6, min_samples_split=11, splitter=random; total time=   0.0s\n",
      "[CV] END criterion=gini, max_depth=560, max_features=sqrt, min_samples_leaf=6, min_samples_split=11, splitter=random; total time=   0.0s\n",
      "[CV] END criterion=gini, max_depth=560, max_features=sqrt, min_samples_leaf=6, min_samples_split=11, splitter=random; total time=   0.0s\n",
      "[CV] END criterion=gini, max_depth=560, max_features=sqrt, min_samples_leaf=6, min_samples_split=11, splitter=random; total time=   0.0s\n",
      "[CV] END criterion=gini, max_depth=560, max_features=sqrt, min_samples_leaf=6, min_samples_split=11, splitter=random; total time=   0.0s\n",
      "[CV] END criterion=gini, max_depth=560, max_features=sqrt, min_samples_leaf=6, min_samples_split=11, splitter=random; total time=   0.0s\n",
      "[CV] END criterion=gini, max_depth=560, max_features=sqrt, min_samples_leaf=6, min_samples_split=11, splitter=random; total time=   0.0s\n",
      "[CV] END criterion=gini, max_depth=560, max_features=sqrt, min_samples_leaf=6, min_samples_split=11, splitter=random; total time=   0.0s\n",
      "[CV] END criterion=gini, max_depth=560, max_features=sqrt, min_samples_leaf=6, min_samples_split=12, splitter=random; total time=   0.0s\n",
      "[CV] END criterion=gini, max_depth=560, max_features=sqrt, min_samples_leaf=6, min_samples_split=12, splitter=random; total time=   0.0s\n",
      "[CV] END criterion=gini, max_depth=560, max_features=sqrt, min_samples_leaf=6, min_samples_split=12, splitter=random; total time=   0.0s\n",
      "[CV] END criterion=gini, max_depth=560, max_features=sqrt, min_samples_leaf=6, min_samples_split=12, splitter=random; total time=   0.0s\n",
      "[CV] END criterion=gini, max_depth=560, max_features=sqrt, min_samples_leaf=6, min_samples_split=12, splitter=random; total time=   0.0s\n",
      "[CV] END criterion=gini, max_depth=560, max_features=sqrt, min_samples_leaf=6, min_samples_split=12, splitter=random; total time=   0.0s\n",
      "[CV] END criterion=gini, max_depth=560, max_features=sqrt, min_samples_leaf=6, min_samples_split=12, splitter=random; total time=   0.0s\n",
      "[CV] END criterion=gini, max_depth=560, max_features=sqrt, min_samples_leaf=6, min_samples_split=12, splitter=random; total time=   0.0s\n",
      "[CV] END criterion=gini, max_depth=560, max_features=sqrt, min_samples_leaf=6, min_samples_split=12, splitter=random; total time=   0.0s\n",
      "[CV] END criterion=gini, max_depth=560, max_features=sqrt, min_samples_leaf=6, min_samples_split=12, splitter=random; total time=   0.0s\n",
      "[CV] END criterion=gini, max_depth=560, max_features=sqrt, min_samples_leaf=8, min_samples_split=8, splitter=random; total time=   0.0s\n",
      "[CV] END criterion=gini, max_depth=560, max_features=sqrt, min_samples_leaf=8, min_samples_split=8, splitter=random; total time=   0.0s\n",
      "[CV] END criterion=gini, max_depth=560, max_features=sqrt, min_samples_leaf=8, min_samples_split=8, splitter=random; total time=   0.0s\n",
      "[CV] END criterion=gini, max_depth=560, max_features=sqrt, min_samples_leaf=8, min_samples_split=8, splitter=random; total time=   0.0s\n",
      "[CV] END criterion=gini, max_depth=560, max_features=sqrt, min_samples_leaf=8, min_samples_split=8, splitter=random; total time=   0.0s\n",
      "[CV] END criterion=gini, max_depth=560, max_features=sqrt, min_samples_leaf=8, min_samples_split=8, splitter=random; total time=   0.0s\n",
      "[CV] END criterion=gini, max_depth=560, max_features=sqrt, min_samples_leaf=8, min_samples_split=8, splitter=random; total time=   0.0s\n",
      "[CV] END criterion=gini, max_depth=560, max_features=sqrt, min_samples_leaf=8, min_samples_split=8, splitter=random; total time=   0.0s\n",
      "[CV] END criterion=gini, max_depth=560, max_features=sqrt, min_samples_leaf=8, min_samples_split=8, splitter=random; total time=   0.0s\n",
      "[CV] END criterion=gini, max_depth=560, max_features=sqrt, min_samples_leaf=8, min_samples_split=8, splitter=random; total time=   0.0s\n",
      "[CV] END criterion=gini, max_depth=560, max_features=sqrt, min_samples_leaf=8, min_samples_split=9, splitter=random; total time=   0.0s\n"
     ]
    },
    {
     "name": "stdout",
     "output_type": "stream",
     "text": [
      "[CV] END criterion=gini, max_depth=560, max_features=sqrt, min_samples_leaf=8, min_samples_split=9, splitter=random; total time=   0.0s\n",
      "[CV] END criterion=gini, max_depth=560, max_features=sqrt, min_samples_leaf=8, min_samples_split=9, splitter=random; total time=   0.0s\n",
      "[CV] END criterion=gini, max_depth=560, max_features=sqrt, min_samples_leaf=8, min_samples_split=9, splitter=random; total time=   0.0s\n",
      "[CV] END criterion=gini, max_depth=560, max_features=sqrt, min_samples_leaf=8, min_samples_split=9, splitter=random; total time=   0.0s\n",
      "[CV] END criterion=gini, max_depth=560, max_features=sqrt, min_samples_leaf=8, min_samples_split=9, splitter=random; total time=   0.0s\n",
      "[CV] END criterion=gini, max_depth=560, max_features=sqrt, min_samples_leaf=8, min_samples_split=9, splitter=random; total time=   0.0s\n",
      "[CV] END criterion=gini, max_depth=560, max_features=sqrt, min_samples_leaf=8, min_samples_split=9, splitter=random; total time=   0.0s\n",
      "[CV] END criterion=gini, max_depth=560, max_features=sqrt, min_samples_leaf=8, min_samples_split=9, splitter=random; total time=   0.0s\n",
      "[CV] END criterion=gini, max_depth=560, max_features=sqrt, min_samples_leaf=8, min_samples_split=9, splitter=random; total time=   0.0s\n",
      "[CV] END criterion=gini, max_depth=560, max_features=sqrt, min_samples_leaf=8, min_samples_split=10, splitter=random; total time=   0.0s\n",
      "[CV] END criterion=gini, max_depth=560, max_features=sqrt, min_samples_leaf=8, min_samples_split=10, splitter=random; total time=   0.0s\n",
      "[CV] END criterion=gini, max_depth=560, max_features=sqrt, min_samples_leaf=8, min_samples_split=10, splitter=random; total time=   0.0s\n",
      "[CV] END criterion=gini, max_depth=560, max_features=sqrt, min_samples_leaf=8, min_samples_split=10, splitter=random; total time=   0.0s\n",
      "[CV] END criterion=gini, max_depth=560, max_features=sqrt, min_samples_leaf=8, min_samples_split=10, splitter=random; total time=   0.0s\n",
      "[CV] END criterion=gini, max_depth=560, max_features=sqrt, min_samples_leaf=8, min_samples_split=10, splitter=random; total time=   0.0s\n",
      "[CV] END criterion=gini, max_depth=560, max_features=sqrt, min_samples_leaf=8, min_samples_split=10, splitter=random; total time=   0.0s\n",
      "[CV] END criterion=gini, max_depth=560, max_features=sqrt, min_samples_leaf=8, min_samples_split=10, splitter=random; total time=   0.0s\n",
      "[CV] END criterion=gini, max_depth=560, max_features=sqrt, min_samples_leaf=8, min_samples_split=10, splitter=random; total time=   0.0s\n",
      "[CV] END criterion=gini, max_depth=560, max_features=sqrt, min_samples_leaf=8, min_samples_split=10, splitter=random; total time=   0.0s\n",
      "[CV] END criterion=gini, max_depth=560, max_features=sqrt, min_samples_leaf=8, min_samples_split=11, splitter=random; total time=   0.0s\n",
      "[CV] END criterion=gini, max_depth=560, max_features=sqrt, min_samples_leaf=8, min_samples_split=11, splitter=random; total time=   0.0s\n",
      "[CV] END criterion=gini, max_depth=560, max_features=sqrt, min_samples_leaf=8, min_samples_split=11, splitter=random; total time=   0.0s\n",
      "[CV] END criterion=gini, max_depth=560, max_features=sqrt, min_samples_leaf=8, min_samples_split=11, splitter=random; total time=   0.0s\n",
      "[CV] END criterion=gini, max_depth=560, max_features=sqrt, min_samples_leaf=8, min_samples_split=11, splitter=random; total time=   0.0s\n",
      "[CV] END criterion=gini, max_depth=560, max_features=sqrt, min_samples_leaf=8, min_samples_split=11, splitter=random; total time=   0.0s\n",
      "[CV] END criterion=gini, max_depth=560, max_features=sqrt, min_samples_leaf=8, min_samples_split=11, splitter=random; total time=   0.0s\n",
      "[CV] END criterion=gini, max_depth=560, max_features=sqrt, min_samples_leaf=8, min_samples_split=11, splitter=random; total time=   0.0s\n",
      "[CV] END criterion=gini, max_depth=560, max_features=sqrt, min_samples_leaf=8, min_samples_split=11, splitter=random; total time=   0.0s\n",
      "[CV] END criterion=gini, max_depth=560, max_features=sqrt, min_samples_leaf=8, min_samples_split=11, splitter=random; total time=   0.0s\n",
      "[CV] END criterion=gini, max_depth=560, max_features=sqrt, min_samples_leaf=8, min_samples_split=12, splitter=random; total time=   0.0s\n",
      "[CV] END criterion=gini, max_depth=560, max_features=sqrt, min_samples_leaf=8, min_samples_split=12, splitter=random; total time=   0.0s\n",
      "[CV] END criterion=gini, max_depth=560, max_features=sqrt, min_samples_leaf=8, min_samples_split=12, splitter=random; total time=   0.0s\n",
      "[CV] END criterion=gini, max_depth=560, max_features=sqrt, min_samples_leaf=8, min_samples_split=12, splitter=random; total time=   0.0s\n",
      "[CV] END criterion=gini, max_depth=560, max_features=sqrt, min_samples_leaf=8, min_samples_split=12, splitter=random; total time=   0.0s\n",
      "[CV] END criterion=gini, max_depth=560, max_features=sqrt, min_samples_leaf=8, min_samples_split=12, splitter=random; total time=   0.0s\n",
      "[CV] END criterion=gini, max_depth=560, max_features=sqrt, min_samples_leaf=8, min_samples_split=12, splitter=random; total time=   0.0s\n",
      "[CV] END criterion=gini, max_depth=560, max_features=sqrt, min_samples_leaf=8, min_samples_split=12, splitter=random; total time=   0.0s\n",
      "[CV] END criterion=gini, max_depth=560, max_features=sqrt, min_samples_leaf=8, min_samples_split=12, splitter=random; total time=   0.0s\n",
      "[CV] END criterion=gini, max_depth=560, max_features=sqrt, min_samples_leaf=8, min_samples_split=12, splitter=random; total time=   0.0s\n",
      "[CV] END criterion=gini, max_depth=560, max_features=sqrt, min_samples_leaf=10, min_samples_split=8, splitter=random; total time=   0.0s\n",
      "[CV] END criterion=gini, max_depth=560, max_features=sqrt, min_samples_leaf=10, min_samples_split=8, splitter=random; total time=   0.0s\n",
      "[CV] END criterion=gini, max_depth=560, max_features=sqrt, min_samples_leaf=10, min_samples_split=8, splitter=random; total time=   0.0s\n",
      "[CV] END criterion=gini, max_depth=560, max_features=sqrt, min_samples_leaf=10, min_samples_split=8, splitter=random; total time=   0.0s\n",
      "[CV] END criterion=gini, max_depth=560, max_features=sqrt, min_samples_leaf=10, min_samples_split=8, splitter=random; total time=   0.0s\n",
      "[CV] END criterion=gini, max_depth=560, max_features=sqrt, min_samples_leaf=10, min_samples_split=8, splitter=random; total time=   0.0s\n",
      "[CV] END criterion=gini, max_depth=560, max_features=sqrt, min_samples_leaf=10, min_samples_split=8, splitter=random; total time=   0.0s\n",
      "[CV] END criterion=gini, max_depth=560, max_features=sqrt, min_samples_leaf=10, min_samples_split=8, splitter=random; total time=   0.0s\n",
      "[CV] END criterion=gini, max_depth=560, max_features=sqrt, min_samples_leaf=10, min_samples_split=8, splitter=random; total time=   0.0s\n",
      "[CV] END criterion=gini, max_depth=560, max_features=sqrt, min_samples_leaf=10, min_samples_split=8, splitter=random; total time=   0.0s\n",
      "[CV] END criterion=gini, max_depth=560, max_features=sqrt, min_samples_leaf=10, min_samples_split=9, splitter=random; total time=   0.0s\n",
      "[CV] END criterion=gini, max_depth=560, max_features=sqrt, min_samples_leaf=10, min_samples_split=9, splitter=random; total time=   0.0s\n",
      "[CV] END criterion=gini, max_depth=560, max_features=sqrt, min_samples_leaf=10, min_samples_split=9, splitter=random; total time=   0.0s\n",
      "[CV] END criterion=gini, max_depth=560, max_features=sqrt, min_samples_leaf=10, min_samples_split=9, splitter=random; total time=   0.0s\n",
      "[CV] END criterion=gini, max_depth=560, max_features=sqrt, min_samples_leaf=10, min_samples_split=9, splitter=random; total time=   0.0s\n",
      "[CV] END criterion=gini, max_depth=560, max_features=sqrt, min_samples_leaf=10, min_samples_split=9, splitter=random; total time=   0.0s\n",
      "[CV] END criterion=gini, max_depth=560, max_features=sqrt, min_samples_leaf=10, min_samples_split=9, splitter=random; total time=   0.0s\n",
      "[CV] END criterion=gini, max_depth=560, max_features=sqrt, min_samples_leaf=10, min_samples_split=9, splitter=random; total time=   0.0s\n",
      "[CV] END criterion=gini, max_depth=560, max_features=sqrt, min_samples_leaf=10, min_samples_split=9, splitter=random; total time=   0.0s\n",
      "[CV] END criterion=gini, max_depth=560, max_features=sqrt, min_samples_leaf=10, min_samples_split=9, splitter=random; total time=   0.0s\n",
      "[CV] END criterion=gini, max_depth=560, max_features=sqrt, min_samples_leaf=10, min_samples_split=10, splitter=random; total time=   0.0s\n"
     ]
    },
    {
     "name": "stdout",
     "output_type": "stream",
     "text": [
      "[CV] END criterion=gini, max_depth=560, max_features=sqrt, min_samples_leaf=10, min_samples_split=10, splitter=random; total time=   0.0s\n",
      "[CV] END criterion=gini, max_depth=560, max_features=sqrt, min_samples_leaf=10, min_samples_split=10, splitter=random; total time=   0.0s\n",
      "[CV] END criterion=gini, max_depth=560, max_features=sqrt, min_samples_leaf=10, min_samples_split=10, splitter=random; total time=   0.0s\n",
      "[CV] END criterion=gini, max_depth=560, max_features=sqrt, min_samples_leaf=10, min_samples_split=10, splitter=random; total time=   0.0s\n",
      "[CV] END criterion=gini, max_depth=560, max_features=sqrt, min_samples_leaf=10, min_samples_split=10, splitter=random; total time=   0.0s\n",
      "[CV] END criterion=gini, max_depth=560, max_features=sqrt, min_samples_leaf=10, min_samples_split=10, splitter=random; total time=   0.0s\n",
      "[CV] END criterion=gini, max_depth=560, max_features=sqrt, min_samples_leaf=10, min_samples_split=10, splitter=random; total time=   0.0s\n",
      "[CV] END criterion=gini, max_depth=560, max_features=sqrt, min_samples_leaf=10, min_samples_split=10, splitter=random; total time=   0.0s\n",
      "[CV] END criterion=gini, max_depth=560, max_features=sqrt, min_samples_leaf=10, min_samples_split=10, splitter=random; total time=   0.0s\n",
      "[CV] END criterion=gini, max_depth=560, max_features=sqrt, min_samples_leaf=10, min_samples_split=11, splitter=random; total time=   0.0s\n",
      "[CV] END criterion=gini, max_depth=560, max_features=sqrt, min_samples_leaf=10, min_samples_split=11, splitter=random; total time=   0.0s\n",
      "[CV] END criterion=gini, max_depth=560, max_features=sqrt, min_samples_leaf=10, min_samples_split=11, splitter=random; total time=   0.0s\n",
      "[CV] END criterion=gini, max_depth=560, max_features=sqrt, min_samples_leaf=10, min_samples_split=11, splitter=random; total time=   0.0s\n",
      "[CV] END criterion=gini, max_depth=560, max_features=sqrt, min_samples_leaf=10, min_samples_split=11, splitter=random; total time=   0.0s\n",
      "[CV] END criterion=gini, max_depth=560, max_features=sqrt, min_samples_leaf=10, min_samples_split=11, splitter=random; total time=   0.0s\n",
      "[CV] END criterion=gini, max_depth=560, max_features=sqrt, min_samples_leaf=10, min_samples_split=11, splitter=random; total time=   0.0s\n",
      "[CV] END criterion=gini, max_depth=560, max_features=sqrt, min_samples_leaf=10, min_samples_split=11, splitter=random; total time=   0.0s\n",
      "[CV] END criterion=gini, max_depth=560, max_features=sqrt, min_samples_leaf=10, min_samples_split=11, splitter=random; total time=   0.0s\n",
      "[CV] END criterion=gini, max_depth=560, max_features=sqrt, min_samples_leaf=10, min_samples_split=11, splitter=random; total time=   0.0s\n",
      "[CV] END criterion=gini, max_depth=560, max_features=sqrt, min_samples_leaf=10, min_samples_split=12, splitter=random; total time=   0.0s\n",
      "[CV] END criterion=gini, max_depth=560, max_features=sqrt, min_samples_leaf=10, min_samples_split=12, splitter=random; total time=   0.0s\n",
      "[CV] END criterion=gini, max_depth=560, max_features=sqrt, min_samples_leaf=10, min_samples_split=12, splitter=random; total time=   0.0s\n",
      "[CV] END criterion=gini, max_depth=560, max_features=sqrt, min_samples_leaf=10, min_samples_split=12, splitter=random; total time=   0.0s\n",
      "[CV] END criterion=gini, max_depth=560, max_features=sqrt, min_samples_leaf=10, min_samples_split=12, splitter=random; total time=   0.0s\n",
      "[CV] END criterion=gini, max_depth=560, max_features=sqrt, min_samples_leaf=10, min_samples_split=12, splitter=random; total time=   0.0s\n",
      "[CV] END criterion=gini, max_depth=560, max_features=sqrt, min_samples_leaf=10, min_samples_split=12, splitter=random; total time=   0.0s\n",
      "[CV] END criterion=gini, max_depth=560, max_features=sqrt, min_samples_leaf=10, min_samples_split=12, splitter=random; total time=   0.0s\n",
      "[CV] END criterion=gini, max_depth=560, max_features=sqrt, min_samples_leaf=10, min_samples_split=12, splitter=random; total time=   0.0s\n",
      "[CV] END criterion=gini, max_depth=560, max_features=sqrt, min_samples_leaf=10, min_samples_split=12, splitter=random; total time=   0.0s\n"
     ]
    },
    {
     "data": {
      "text/plain": [
       "GridSearchCV(cv=10, estimator=DecisionTreeClassifier(),\n",
       "             param_grid={'criterion': ['gini'], 'max_depth': [560],\n",
       "                         'max_features': ['sqrt'],\n",
       "                         'min_samples_leaf': [6, 8, 10],\n",
       "                         'min_samples_split': [8, 9, 10, 11, 12],\n",
       "                         'splitter': ['random']},\n",
       "             verbose=2)"
      ]
     },
     "execution_count": 16,
     "metadata": {},
     "output_type": "execute_result"
    }
   ],
   "source": [
    "dt = tree.DecisionTreeClassifier()\n",
    "grid_search=GridSearchCV(estimator=dt,param_grid=param_grid,cv=10,verbose=2)\n",
    "grid_search.fit(X_train,y_train)"
   ]
  },
  {
   "cell_type": "code",
   "execution_count": 17,
   "id": "91816c17",
   "metadata": {},
   "outputs": [
    {
     "data": {
      "text/plain": [
       "DecisionTreeClassifier(max_depth=560, max_features='sqrt', min_samples_leaf=10,\n",
       "                       min_samples_split=12, splitter='random')"
      ]
     },
     "execution_count": 17,
     "metadata": {},
     "output_type": "execute_result"
    }
   ],
   "source": [
    "grid_search.best_estimator_"
   ]
  },
  {
   "cell_type": "code",
   "execution_count": 18,
   "id": "81384433",
   "metadata": {},
   "outputs": [],
   "source": [
    "best_grid = grid_search.best_estimator_"
   ]
  },
  {
   "cell_type": "code",
   "execution_count": 19,
   "id": "a2c66069",
   "metadata": {},
   "outputs": [
    {
     "name": "stdout",
     "output_type": "stream",
     "text": [
      "Dectsion Tree Training Result\n",
      "[[ 28 111]\n",
      " [ 18 890]]\n",
      "Auc Score 0.7808924666434254\n",
      "Accuracy Score 0.8767908309455588\n",
      "Classification report:               precision    recall  f1-score   support\n",
      "\n",
      "         0.0       0.61      0.20      0.30       139\n",
      "         1.0       0.89      0.98      0.93       908\n",
      "\n",
      "    accuracy                           0.88      1047\n",
      "   macro avg       0.75      0.59      0.62      1047\n",
      "weighted avg       0.85      0.88      0.85      1047\n",
      "\n",
      "Decision Tree Testing Result\n",
      "[[ 13  57]\n",
      " [ 10 370]]\n",
      "Auc Score 0.725187969924812\n",
      "Accuracy Score 0.8511111111111112\n",
      "Classification report:               precision    recall  f1-score   support\n",
      "\n",
      "         0.0       0.57      0.19      0.28        70\n",
      "         1.0       0.87      0.97      0.92       380\n",
      "\n",
      "    accuracy                           0.85       450\n",
      "   macro avg       0.72      0.58      0.60       450\n",
      "weighted avg       0.82      0.85      0.82       450\n",
      "\n"
     ]
    }
   ],
   "source": [
    "from sklearn.metrics import roc_curve, roc_auc_score\n",
    "y_train_pred = best_grid.predict(X_train)\n",
    "y_pred=best_grid.predict(X_test)\n",
    "print(\"Dectsion Tree Training Result\")\n",
    "print(confusion_matrix(y_train,y_train_pred))\n",
    "print(\"Auc Score {}\".format(roc_auc_score(y_train, best_grid.predict_proba(X_train)[:,1])))\n",
    "print(\"Accuracy Score {}\".format(accuracy_score(y_train,y_train_pred)))\n",
    "print(\"Classification report: {}\".format(classification_report(y_train,y_train_pred)))\n",
    "\n",
    "print(\"Decision Tree Testing Result\")\n",
    "print(confusion_matrix(y_test,y_pred))\n",
    "print(\"Auc Score {}\".format(roc_auc_score(y_test, best_grid.predict_proba(X_test)[:,1])))\n",
    "print(\"Accuracy Score {}\".format(accuracy_score(y_test,y_pred)))\n",
    "print(\"Classification report: {}\".format(classification_report(y_test,y_pred)))"
   ]
  },
  {
   "cell_type": "code",
   "execution_count": 20,
   "id": "5c6f6b7b",
   "metadata": {},
   "outputs": [],
   "source": [
    "from sklearn.model_selection import KFold\n",
    "from sklearn.metrics import roc_curve, roc_auc_score\n",
    "kf = KFold(n_splits=5)\n",
    "auc_train = []\n",
    "auc_test = []\n",
    "for train_index, test_index in kf.split(Z): \n",
    "    X_train, X_test = Z[train_index], Z[test_index]\n",
    "    y_train, y_test = Y[train_index], Y[test_index]\n",
    "    model = best_grid\n",
    "    model.fit(X_train, y_train)\n",
    "    y_train_pred = model.predict(X_train)\n",
    "    y_test_pred = model.predict(X_test)\n",
    "    auc_train.append(roc_auc_score(y_train, model.predict_proba(X_train)[:,1]))\n",
    "    auc_test.append(roc_auc_score(y_test, model.predict_proba(X_test)[:,1]))"
   ]
  },
  {
   "cell_type": "code",
   "execution_count": 21,
   "id": "785aa66f",
   "metadata": {},
   "outputs": [
    {
     "data": {
      "image/png": "[encoded data removed]",
      "text/plain": [
       "<Figure size 640x480 with 1 Axes>"
      ]
     },
     "metadata": {},
     "output_type": "display_data"
    }
   ],
   "source": [
    "folds = range(1, kf.get_n_splits() + 1)\n",
    "plt.plot(folds, auc_train, 'o-', color='green', label='train')\n",
    "plt.plot(folds, auc_test, 'o-', color='red', label='test')\n",
    "plt.legend()\n",
    "plt.grid()\n",
    "plt.xlabel('Number of fold')\n",
    "plt.ylabel('Area Under the Curve')\n",
    "plt.show()"
   ]
  },
  {
   "cell_type": "code",
   "execution_count": 22,
   "id": "441df7d8",
   "metadata": {},
   "outputs": [],
   "source": [
    "from sklearn.linear_model import LogisticRegression\n",
    "model = LogisticRegression(solver='lbfgs', max_iter=1500)"
   ]
  },
  {
   "cell_type": "code",
   "execution_count": 23,
   "id": "d84cb00b",
   "metadata": {},
   "outputs": [
    {
     "name": "stderr",
     "output_type": "stream",
     "text": [
      "C:\\Users\\hp\\anaconda3\\lib\\site-packages\\sklearn\\linear_model\\_logistic.py:814: ConvergenceWarning: lbfgs failed to converge (status=1):\n",
      "STOP: TOTAL NO. of ITERATIONS REACHED LIMIT.\n",
      "\n",
      "Increase the number of iterations (max_iter) or scale the data as shown in:\n",
      "    https://scikit-learn.org/stable/modules/preprocessing.html\n",
      "Please also refer to the documentation for alternative solver options:\n",
      "    https://scikit-learn.org/stable/modules/linear_model.html#logistic-regression\n",
      "  n_iter_i = _check_optimize_result(\n",
      "C:\\Users\\hp\\anaconda3\\lib\\site-packages\\sklearn\\linear_model\\_logistic.py:814: ConvergenceWarning: lbfgs failed to converge (status=1):\n",
      "STOP: TOTAL NO. of ITERATIONS REACHED LIMIT.\n",
      "\n",
      "Increase the number of iterations (max_iter) or scale the data as shown in:\n",
      "    https://scikit-learn.org/stable/modules/preprocessing.html\n",
      "Please also refer to the documentation for alternative solver options:\n",
      "    https://scikit-learn.org/stable/modules/linear_model.html#logistic-regression\n",
      "  n_iter_i = _check_optimize_result(\n",
      "C:\\Users\\hp\\anaconda3\\lib\\site-packages\\sklearn\\linear_model\\_logistic.py:814: ConvergenceWarning: lbfgs failed to converge (status=1):\n",
      "STOP: TOTAL NO. of ITERATIONS REACHED LIMIT.\n",
      "\n",
      "Increase the number of iterations (max_iter) or scale the data as shown in:\n",
      "    https://scikit-learn.org/stable/modules/preprocessing.html\n",
      "Please also refer to the documentation for alternative solver options:\n",
      "    https://scikit-learn.org/stable/modules/linear_model.html#logistic-regression\n",
      "  n_iter_i = _check_optimize_result(\n",
      "C:\\Users\\hp\\anaconda3\\lib\\site-packages\\sklearn\\linear_model\\_logistic.py:814: ConvergenceWarning: lbfgs failed to converge (status=1):\n",
      "STOP: TOTAL NO. of ITERATIONS REACHED LIMIT.\n",
      "\n",
      "Increase the number of iterations (max_iter) or scale the data as shown in:\n",
      "    https://scikit-learn.org/stable/modules/preprocessing.html\n",
      "Please also refer to the documentation for alternative solver options:\n",
      "    https://scikit-learn.org/stable/modules/linear_model.html#logistic-regression\n",
      "  n_iter_i = _check_optimize_result(\n"
     ]
    }
   ],
   "source": [
    "from sklearn.model_selection import KFold\n",
    "from sklearn.metrics import roc_curve, roc_auc_score\n",
    "kf = KFold(n_splits=4)\n",
    "auc_train = []\n",
    "auc_test = []\n",
    "for train_index, test_index in kf.split(Z): \n",
    "    X_train, X_test = Z[train_index], Z[test_index]\n",
    "    y_train, y_test = Y[train_index], Y[test_index]\n",
    "    model = LogisticRegression(solver='lbfgs', max_iter=1500)\n",
    "    model.fit(X_train, y_train)\n",
    "    y_train_pred = model.predict(X_train)\n",
    "    y_test_pred = model.predict(X_test)\n",
    "    auc_train.append(roc_auc_score(y_train, model.predict_proba(X_train)[:,1]))\n",
    "    auc_test.append(roc_auc_score(y_test, model.predict_proba(X_test)[:,1]))"
   ]
  },
  {
   "cell_type": "code",
   "execution_count": 24,
   "id": "885b43d2",
   "metadata": {},
   "outputs": [
    {
     "data": {
      "image/png": "[encoded data removed]",
      "text/plain": [
       "<Figure size 640x480 with 1 Axes>"
      ]
     },
     "metadata": {},
     "output_type": "display_data"
    }
   ],
   "source": [
    "folds = range(1, kf.get_n_splits() + 1)\n",
    "plt.plot(folds, auc_train, 'o-', color='green', label='train')\n",
    "plt.plot(folds, auc_test, 'o-', color='red', label='test')\n",
    "plt.legend()\n",
    "plt.grid()\n",
    "plt.xlabel('Number of fold')\n",
    "plt.ylabel('Area Under the Curve')\n",
    "plt.show()"
   ]
  },
  {
   "cell_type": "code",
   "execution_count": 25,
   "id": "b115af2c",
   "metadata": {},
   "outputs": [
    {
     "name": "stdout",
     "output_type": "stream",
     "text": [
      "Logistic Regression Algorithm in training\n",
      "              precision    recall  f1-score   support\n",
      "\n",
      "         0.0       0.73      0.25      0.37       139\n",
      "         1.0       0.90      0.99      0.94       908\n",
      "\n",
      "    accuracy                           0.89      1047\n",
      "   macro avg       0.81      0.62      0.66      1047\n",
      "weighted avg       0.87      0.89      0.86      1047\n",
      "\n",
      "[[ 35 104]\n",
      " [ 13 895]]\n",
      "ACC:  0.8882521489971347\n",
      "AUC:  0.804170760308053\n",
      "Logistic Regression Algorithm\n",
      "              precision    recall  f1-score   support\n",
      "\n",
      "         0.0       0.54      0.19      0.28        70\n",
      "         1.0       0.87      0.97      0.92       380\n",
      "\n",
      "    accuracy                           0.85       450\n",
      "   macro avg       0.70      0.58      0.60       450\n",
      "weighted avg       0.82      0.85      0.82       450\n",
      "\n",
      "[[ 13  57]\n",
      " [ 11 369]]\n",
      "ACC:  0.8488888888888889\n",
      "AUC:  0.6797368421052632\n"
     ]
    },
    {
     "name": "stderr",
     "output_type": "stream",
     "text": [
      "C:\\Users\\hp\\anaconda3\\lib\\site-packages\\sklearn\\linear_model\\_logistic.py:814: ConvergenceWarning: lbfgs failed to converge (status=1):\n",
      "STOP: TOTAL NO. of ITERATIONS REACHED LIMIT.\n",
      "\n",
      "Increase the number of iterations (max_iter) or scale the data as shown in:\n",
      "    https://scikit-learn.org/stable/modules/preprocessing.html\n",
      "Please also refer to the documentation for alternative solver options:\n",
      "    https://scikit-learn.org/stable/modules/linear_model.html#logistic-regression\n",
      "  n_iter_i = _check_optimize_result(\n"
     ]
    }
   ],
   "source": [
    "from sklearn.model_selection import train_test_split\n",
    "from sklearn.metrics import confusion_matrix, classification_report, accuracy_score\n",
    "from sklearn.metrics import roc_curve, roc_auc_score\n",
    "\n",
    "X_train, X_test, y_train, y_test = train_test_split(Z, Y, test_size = 0.3, random_state = 0)\n",
    "\n",
    "model.fit(X_train, y_train)\n",
    "\n",
    "y_predict_training = model.predict(X_train)\n",
    "y_pred = model.predict(X_test)\n",
    "#summery of training accuracy by the classifier\n",
    "print(\"Logistic Regression Algorithm in training\")\n",
    "print(classification_report(y_train, y_predict_training))\n",
    "print(confusion_matrix(y_train, y_predict_training))\n",
    "print(\"ACC: \",accuracy_score(y_train, y_predict_training))\n",
    "print(\"AUC: \",roc_auc_score(y_train, model.predict_proba(X_train)[:,1]))\n",
    "\n",
    "#Summary of the predictions made by the classifier\n",
    "print(\"Logistic Regression Algorithm\")\n",
    "print(classification_report(y_test, y_pred))\n",
    "print(confusion_matrix(y_test, y_pred))\n",
    "#Accuracy score\n",
    "print(\"ACC: \",accuracy_score(y_pred,y_test))\n",
    "print(\"AUC: \",roc_auc_score(y_test, model.predict_proba(X_test)[:,1]))"
   ]
  },
  {
   "cell_type": "code",
   "execution_count": 26,
   "id": "063d20fd",
   "metadata": {},
   "outputs": [],
   "source": [
    "from sklearn.linear_model import LogisticRegression\n",
    "model = LogisticRegression(solver='lbfgs', max_iter=1500)"
   ]
  },
  {
   "cell_type": "code",
   "execution_count": 27,
   "id": "9b1c3c36",
   "metadata": {},
   "outputs": [
    {
     "name": "stdout",
     "output_type": "stream",
     "text": [
      "{'penalty': ['l1', 'l2', 'elasticnet', 'none'], 'solver': ['newton-cg', 'lbfgs', 'liblinear', 'sag', 'saga'], 'C': [1000, 100, 10, 1.0, 0.1, 0.01, 0.001], 'fit_intercept': [True, False], 'max_iter': [1000, 1222, 1444, 1666, 1888, 2111, 2333, 2555, 2777, 3000], 'multi_class': ['auto', 'ovr', 'multinomial']}\n"
     ]
    }
   ],
   "source": [
    "penalty = ['l1', 'l2', 'elasticnet', 'none']\n",
    "solver = ['newton-cg', 'lbfgs', 'liblinear', 'sag', 'saga']\n",
    "C = [1000, 100, 10, 1.0, 0.1, 0.01, 0.001]\n",
    "fit_intercept = [True, False]\n",
    "# class_weight = ['balanced','None']\n",
    "max_iter = [int(x) for x in np.linspace(1000, 3000, 10)]\n",
    "multi_class = ['auto', 'ovr', 'multinomial'] \n",
    "\n",
    "random_grid = {\n",
    "    'penalty': penalty,\n",
    "    'solver' : solver,\n",
    "    'C':C,\n",
    "    'fit_intercept':fit_intercept,\n",
    "#     'class_weight':class_weight,\n",
    "    'max_iter':max_iter,\n",
    "    'multi_class':multi_class\n",
    "}\n",
    "print(random_grid)"
   ]
  },
  {
   "cell_type": "code",
   "execution_count": 28,
   "id": "0c4deb0b",
   "metadata": {},
   "outputs": [
    {
     "name": "stdout",
     "output_type": "stream",
     "text": [
      "Fitting 3 folds for each of 100 candidates, totalling 300 fits\n",
      "[CV] END C=0.1, fit_intercept=False, max_iter=2555, multi_class=multinomial, penalty=l1, solver=newton-cg; total time=   0.0s\n",
      "[CV] END C=0.1, fit_intercept=False, max_iter=2555, multi_class=multinomial, penalty=l1, solver=newton-cg; total time=   0.0s\n",
      "[CV] END C=0.1, fit_intercept=False, max_iter=2555, multi_class=multinomial, penalty=l1, solver=newton-cg; total time=   0.0s\n"
     ]
    },
    {
     "name": "stderr",
     "output_type": "stream",
     "text": [
      "C:\\Users\\hp\\anaconda3\\lib\\site-packages\\sklearn\\linear_model\\_logistic.py:1483: UserWarning: Setting penalty='none' will ignore the C and l1_ratio parameters\n",
      "  warnings.warn(\n",
      "C:\\Users\\hp\\anaconda3\\lib\\site-packages\\sklearn\\linear_model\\_logistic.py:814: ConvergenceWarning: lbfgs failed to converge (status=1):\n",
      "STOP: TOTAL NO. of ITERATIONS REACHED LIMIT.\n",
      "\n",
      "Increase the number of iterations (max_iter) or scale the data as shown in:\n",
      "    https://scikit-learn.org/stable/modules/preprocessing.html\n",
      "Please also refer to the documentation for alternative solver options:\n",
      "    https://scikit-learn.org/stable/modules/linear_model.html#logistic-regression\n",
      "  n_iter_i = _check_optimize_result(\n",
      "C:\\Users\\hp\\anaconda3\\lib\\site-packages\\sklearn\\linear_model\\_logistic.py:1483: UserWarning: Setting penalty='none' will ignore the C and l1_ratio parameters\n",
      "  warnings.warn(\n"
     ]
    },
    {
     "name": "stdout",
     "output_type": "stream",
     "text": [
      "[CV] END C=0.01, fit_intercept=False, max_iter=2555, multi_class=auto, penalty=none, solver=lbfgs; total time=   3.8s\n"
     ]
    },
    {
     "name": "stderr",
     "output_type": "stream",
     "text": [
      "C:\\Users\\hp\\anaconda3\\lib\\site-packages\\sklearn\\linear_model\\_logistic.py:814: ConvergenceWarning: lbfgs failed to converge (status=1):\n",
      "STOP: TOTAL NO. of ITERATIONS REACHED LIMIT.\n",
      "\n",
      "Increase the number of iterations (max_iter) or scale the data as shown in:\n",
      "    https://scikit-learn.org/stable/modules/preprocessing.html\n",
      "Please also refer to the documentation for alternative solver options:\n",
      "    https://scikit-learn.org/stable/modules/linear_model.html#logistic-regression\n",
      "  n_iter_i = _check_optimize_result(\n",
      "C:\\Users\\hp\\anaconda3\\lib\\site-packages\\sklearn\\linear_model\\_logistic.py:1483: UserWarning: Setting penalty='none' will ignore the C and l1_ratio parameters\n",
      "  warnings.warn(\n"
     ]
    },
    {
     "name": "stdout",
     "output_type": "stream",
     "text": [
      "[CV] END C=0.01, fit_intercept=False, max_iter=2555, multi_class=auto, penalty=none, solver=lbfgs; total time=   3.6s\n"
     ]
    },
    {
     "name": "stderr",
     "output_type": "stream",
     "text": [
      "C:\\Users\\hp\\anaconda3\\lib\\site-packages\\sklearn\\linear_model\\_logistic.py:814: ConvergenceWarning: lbfgs failed to converge (status=1):\n",
      "STOP: TOTAL NO. of ITERATIONS REACHED LIMIT.\n",
      "\n",
      "Increase the number of iterations (max_iter) or scale the data as shown in:\n",
      "    https://scikit-learn.org/stable/modules/preprocessing.html\n",
      "Please also refer to the documentation for alternative solver options:\n",
      "    https://scikit-learn.org/stable/modules/linear_model.html#logistic-regression\n",
      "  n_iter_i = _check_optimize_result(\n"
     ]
    },
    {
     "name": "stdout",
     "output_type": "stream",
     "text": [
      "[CV] END C=0.01, fit_intercept=False, max_iter=2555, multi_class=auto, penalty=none, solver=lbfgs; total time=   3.7s\n",
      "[CV] END C=10, fit_intercept=False, max_iter=2333, multi_class=ovr, penalty=none, solver=liblinear; total time=   0.0s\n",
      "[CV] END C=10, fit_intercept=False, max_iter=2333, multi_class=ovr, penalty=none, solver=liblinear; total time=   0.0s\n",
      "[CV] END C=10, fit_intercept=False, max_iter=2333, multi_class=ovr, penalty=none, solver=liblinear; total time=   0.0s\n"
     ]
    },
    {
     "name": "stderr",
     "output_type": "stream",
     "text": [
      "C:\\Users\\hp\\anaconda3\\lib\\site-packages\\sklearn\\linear_model\\_sag.py:352: ConvergenceWarning: The max_iter was reached which means the coef_ did not converge\n",
      "  warnings.warn(\n"
     ]
    },
    {
     "name": "stdout",
     "output_type": "stream",
     "text": [
      "[CV] END C=10, fit_intercept=True, max_iter=1000, multi_class=multinomial, penalty=l1, solver=saga; total time=   3.7s\n"
     ]
    },
    {
     "name": "stderr",
     "output_type": "stream",
     "text": [
      "C:\\Users\\hp\\anaconda3\\lib\\site-packages\\sklearn\\linear_model\\_sag.py:352: ConvergenceWarning: The max_iter was reached which means the coef_ did not converge\n",
      "  warnings.warn(\n"
     ]
    },
    {
     "name": "stdout",
     "output_type": "stream",
     "text": [
      "[CV] END C=10, fit_intercept=True, max_iter=1000, multi_class=multinomial, penalty=l1, solver=saga; total time=   3.7s\n"
     ]
    },
    {
     "name": "stderr",
     "output_type": "stream",
     "text": [
      "C:\\Users\\hp\\anaconda3\\lib\\site-packages\\sklearn\\linear_model\\_sag.py:352: ConvergenceWarning: The max_iter was reached which means the coef_ did not converge\n",
      "  warnings.warn(\n"
     ]
    },
    {
     "name": "stdout",
     "output_type": "stream",
     "text": [
      "[CV] END C=10, fit_intercept=True, max_iter=1000, multi_class=multinomial, penalty=l1, solver=saga; total time=   3.6s\n",
      "[CV] END C=100, fit_intercept=True, max_iter=1888, multi_class=auto, penalty=l1, solver=liblinear; total time=   1.0s\n",
      "[CV] END C=100, fit_intercept=True, max_iter=1888, multi_class=auto, penalty=l1, solver=liblinear; total time=   0.2s\n",
      "[CV] END C=100, fit_intercept=True, max_iter=1888, multi_class=auto, penalty=l1, solver=liblinear; total time=   0.4s\n",
      "[CV] END C=1000, fit_intercept=False, max_iter=2333, multi_class=auto, penalty=l1, solver=sag; total time=   0.0s\n",
      "[CV] END C=1000, fit_intercept=False, max_iter=2333, multi_class=auto, penalty=l1, solver=sag; total time=   0.0s\n",
      "[CV] END C=1000, fit_intercept=False, max_iter=2333, multi_class=auto, penalty=l1, solver=sag; total time=   0.0s\n",
      "[CV] END C=1000, fit_intercept=False, max_iter=2111, multi_class=ovr, penalty=elasticnet, solver=lbfgs; total time=   0.0s\n",
      "[CV] END C=1000, fit_intercept=False, max_iter=2111, multi_class=ovr, penalty=elasticnet, solver=lbfgs; total time=   0.0s\n",
      "[CV] END C=1000, fit_intercept=False, max_iter=2111, multi_class=ovr, penalty=elasticnet, solver=lbfgs; total time=   0.0s\n",
      "[CV] END C=10, fit_intercept=True, max_iter=1000, multi_class=ovr, penalty=elasticnet, solver=liblinear; total time=   0.0s\n",
      "[CV] END C=10, fit_intercept=True, max_iter=1000, multi_class=ovr, penalty=elasticnet, solver=liblinear; total time=   0.0s\n",
      "[CV] END C=10, fit_intercept=True, max_iter=1000, multi_class=ovr, penalty=elasticnet, solver=liblinear; total time=   0.0s\n",
      "[CV] END C=100, fit_intercept=False, max_iter=1222, multi_class=ovr, penalty=l2, solver=newton-cg; total time=   1.2s\n",
      "[CV] END C=100, fit_intercept=False, max_iter=1222, multi_class=ovr, penalty=l2, solver=newton-cg; total time=   1.2s\n",
      "[CV] END C=100, fit_intercept=False, max_iter=1222, multi_class=ovr, penalty=l2, solver=newton-cg; total time=   1.4s\n",
      "[CV] END C=10, fit_intercept=False, max_iter=2777, multi_class=ovr, penalty=l2, solver=liblinear; total time=   0.0s\n",
      "[CV] END C=10, fit_intercept=False, max_iter=2777, multi_class=ovr, penalty=l2, solver=liblinear; total time=   0.0s\n",
      "[CV] END C=10, fit_intercept=False, max_iter=2777, multi_class=ovr, penalty=l2, solver=liblinear; total time=   0.0s\n",
      "[CV] END C=100, fit_intercept=True, max_iter=1000, multi_class=ovr, penalty=elasticnet, solver=newton-cg; total time=   0.0s\n",
      "[CV] END C=100, fit_intercept=True, max_iter=1000, multi_class=ovr, penalty=elasticnet, solver=newton-cg; total time=   0.0s\n",
      "[CV] END C=100, fit_intercept=True, max_iter=1000, multi_class=ovr, penalty=elasticnet, solver=newton-cg; total time=   0.0s\n",
      "[CV] END C=1000, fit_intercept=False, max_iter=1444, multi_class=multinomial, penalty=l2, solver=newton-cg; total time=   2.0s\n",
      "[CV] END C=1000, fit_intercept=False, max_iter=1444, multi_class=multinomial, penalty=l2, solver=newton-cg; total time=   2.3s\n",
      "[CV] END C=1000, fit_intercept=False, max_iter=1444, multi_class=multinomial, penalty=l2, solver=newton-cg; total time=   3.9s\n",
      "[CV] END C=0.001, fit_intercept=False, max_iter=2111, multi_class=multinomial, penalty=elasticnet, solver=saga; total time=   0.0s\n",
      "[CV] END C=0.001, fit_intercept=False, max_iter=2111, multi_class=multinomial, penalty=elasticnet, solver=saga; total time=   0.0s\n",
      "[CV] END C=0.001, fit_intercept=False, max_iter=2111, multi_class=multinomial, penalty=elasticnet, solver=saga; total time=   0.0s\n"
     ]
    },
    {
     "name": "stderr",
     "output_type": "stream",
     "text": [
      "C:\\Users\\hp\\anaconda3\\lib\\site-packages\\sklearn\\linear_model\\_logistic.py:1483: UserWarning: Setting penalty='none' will ignore the C and l1_ratio parameters\n",
      "  warnings.warn(\n",
      "C:\\Users\\hp\\anaconda3\\lib\\site-packages\\sklearn\\linear_model\\_sag.py:352: ConvergenceWarning: The max_iter was reached which means the coef_ did not converge\n",
      "  warnings.warn(\n",
      "C:\\Users\\hp\\anaconda3\\lib\\site-packages\\sklearn\\linear_model\\_logistic.py:1483: UserWarning: Setting penalty='none' will ignore the C and l1_ratio parameters\n",
      "  warnings.warn(\n"
     ]
    },
    {
     "name": "stdout",
     "output_type": "stream",
     "text": [
      "[CV] END C=10, fit_intercept=False, max_iter=1444, multi_class=multinomial, penalty=none, solver=saga; total time=   3.2s\n"
     ]
    },
    {
     "name": "stderr",
     "output_type": "stream",
     "text": [
      "C:\\Users\\hp\\anaconda3\\lib\\site-packages\\sklearn\\linear_model\\_sag.py:352: ConvergenceWarning: The max_iter was reached which means the coef_ did not converge\n",
      "  warnings.warn(\n",
      "C:\\Users\\hp\\anaconda3\\lib\\site-packages\\sklearn\\linear_model\\_logistic.py:1483: UserWarning: Setting penalty='none' will ignore the C and l1_ratio parameters\n",
      "  warnings.warn(\n"
     ]
    },
    {
     "name": "stdout",
     "output_type": "stream",
     "text": [
      "[CV] END C=10, fit_intercept=False, max_iter=1444, multi_class=multinomial, penalty=none, solver=saga; total time=   3.0s\n"
     ]
    },
    {
     "name": "stderr",
     "output_type": "stream",
     "text": [
      "C:\\Users\\hp\\anaconda3\\lib\\site-packages\\sklearn\\linear_model\\_sag.py:352: ConvergenceWarning: The max_iter was reached which means the coef_ did not converge\n",
      "  warnings.warn(\n",
      "C:\\Users\\hp\\anaconda3\\lib\\site-packages\\sklearn\\linear_model\\_logistic.py:1483: UserWarning: Setting penalty='none' will ignore the C and l1_ratio parameters\n",
      "  warnings.warn(\n"
     ]
    },
    {
     "name": "stdout",
     "output_type": "stream",
     "text": [
      "[CV] END C=10, fit_intercept=False, max_iter=1444, multi_class=multinomial, penalty=none, solver=saga; total time=   3.0s\n"
     ]
    },
    {
     "name": "stderr",
     "output_type": "stream",
     "text": [
      "C:\\Users\\hp\\anaconda3\\lib\\site-packages\\sklearn\\linear_model\\_sag.py:352: ConvergenceWarning: The max_iter was reached which means the coef_ did not converge\n",
      "  warnings.warn(\n",
      "C:\\Users\\hp\\anaconda3\\lib\\site-packages\\sklearn\\linear_model\\_logistic.py:1483: UserWarning: Setting penalty='none' will ignore the C and l1_ratio parameters\n",
      "  warnings.warn(\n"
     ]
    },
    {
     "name": "stdout",
     "output_type": "stream",
     "text": [
      "[CV] END C=0.01, fit_intercept=True, max_iter=1888, multi_class=multinomial, penalty=none, solver=saga; total time=   3.4s\n"
     ]
    },
    {
     "name": "stderr",
     "output_type": "stream",
     "text": [
      "C:\\Users\\hp\\anaconda3\\lib\\site-packages\\sklearn\\linear_model\\_sag.py:352: ConvergenceWarning: The max_iter was reached which means the coef_ did not converge\n",
      "  warnings.warn(\n",
      "C:\\Users\\hp\\anaconda3\\lib\\site-packages\\sklearn\\linear_model\\_logistic.py:1483: UserWarning: Setting penalty='none' will ignore the C and l1_ratio parameters\n",
      "  warnings.warn(\n"
     ]
    },
    {
     "name": "stdout",
     "output_type": "stream",
     "text": [
      "[CV] END C=0.01, fit_intercept=True, max_iter=1888, multi_class=multinomial, penalty=none, solver=saga; total time=   3.5s\n"
     ]
    },
    {
     "name": "stderr",
     "output_type": "stream",
     "text": [
      "C:\\Users\\hp\\anaconda3\\lib\\site-packages\\sklearn\\linear_model\\_sag.py:352: ConvergenceWarning: The max_iter was reached which means the coef_ did not converge\n",
      "  warnings.warn(\n",
      "C:\\Users\\hp\\anaconda3\\lib\\site-packages\\sklearn\\linear_model\\_logistic.py:1483: UserWarning: Setting penalty='none' will ignore the C and l1_ratio parameters\n",
      "  warnings.warn(\n"
     ]
    },
    {
     "name": "stdout",
     "output_type": "stream",
     "text": [
      "[CV] END C=0.01, fit_intercept=True, max_iter=1888, multi_class=multinomial, penalty=none, solver=saga; total time=   3.4s\n"
     ]
    },
    {
     "name": "stderr",
     "output_type": "stream",
     "text": [
      "C:\\Users\\hp\\anaconda3\\lib\\site-packages\\sklearn\\linear_model\\_logistic.py:814: ConvergenceWarning: lbfgs failed to converge (status=1):\n",
      "STOP: TOTAL NO. of ITERATIONS REACHED LIMIT.\n",
      "\n",
      "Increase the number of iterations (max_iter) or scale the data as shown in:\n",
      "    https://scikit-learn.org/stable/modules/preprocessing.html\n",
      "Please also refer to the documentation for alternative solver options:\n",
      "    https://scikit-learn.org/stable/modules/linear_model.html#logistic-regression\n",
      "  n_iter_i = _check_optimize_result(\n",
      "C:\\Users\\hp\\anaconda3\\lib\\site-packages\\sklearn\\linear_model\\_logistic.py:1483: UserWarning: Setting penalty='none' will ignore the C and l1_ratio parameters\n",
      "  warnings.warn(\n"
     ]
    },
    {
     "name": "stdout",
     "output_type": "stream",
     "text": [
      "[CV] END C=0.1, fit_intercept=False, max_iter=1888, multi_class=auto, penalty=none, solver=lbfgs; total time=   2.5s\n"
     ]
    },
    {
     "name": "stderr",
     "output_type": "stream",
     "text": [
      "C:\\Users\\hp\\anaconda3\\lib\\site-packages\\sklearn\\linear_model\\_logistic.py:814: ConvergenceWarning: lbfgs failed to converge (status=1):\n",
      "STOP: TOTAL NO. of ITERATIONS REACHED LIMIT.\n",
      "\n",
      "Increase the number of iterations (max_iter) or scale the data as shown in:\n",
      "    https://scikit-learn.org/stable/modules/preprocessing.html\n",
      "Please also refer to the documentation for alternative solver options:\n",
      "    https://scikit-learn.org/stable/modules/linear_model.html#logistic-regression\n",
      "  n_iter_i = _check_optimize_result(\n",
      "C:\\Users\\hp\\anaconda3\\lib\\site-packages\\sklearn\\linear_model\\_logistic.py:1483: UserWarning: Setting penalty='none' will ignore the C and l1_ratio parameters\n",
      "  warnings.warn(\n"
     ]
    },
    {
     "name": "stdout",
     "output_type": "stream",
     "text": [
      "[CV] END C=0.1, fit_intercept=False, max_iter=1888, multi_class=auto, penalty=none, solver=lbfgs; total time=   2.5s\n"
     ]
    },
    {
     "name": "stderr",
     "output_type": "stream",
     "text": [
      "C:\\Users\\hp\\anaconda3\\lib\\site-packages\\sklearn\\linear_model\\_logistic.py:814: ConvergenceWarning: lbfgs failed to converge (status=1):\n",
      "STOP: TOTAL NO. of ITERATIONS REACHED LIMIT.\n",
      "\n",
      "Increase the number of iterations (max_iter) or scale the data as shown in:\n",
      "    https://scikit-learn.org/stable/modules/preprocessing.html\n",
      "Please also refer to the documentation for alternative solver options:\n",
      "    https://scikit-learn.org/stable/modules/linear_model.html#logistic-regression\n",
      "  n_iter_i = _check_optimize_result(\n"
     ]
    },
    {
     "name": "stdout",
     "output_type": "stream",
     "text": [
      "[CV] END C=0.1, fit_intercept=False, max_iter=1888, multi_class=auto, penalty=none, solver=lbfgs; total time=   2.5s\n",
      "[CV] END C=100, fit_intercept=True, max_iter=2333, multi_class=auto, penalty=l1, solver=sag; total time=   0.0s\n",
      "[CV] END C=100, fit_intercept=True, max_iter=2333, multi_class=auto, penalty=l1, solver=sag; total time=   0.0s\n",
      "[CV] END C=100, fit_intercept=True, max_iter=2333, multi_class=auto, penalty=l1, solver=sag; total time=   0.0s\n",
      "[CV] END C=0.01, fit_intercept=True, max_iter=1888, multi_class=ovr, penalty=l2, solver=liblinear; total time=   0.0s\n",
      "[CV] END C=0.01, fit_intercept=True, max_iter=1888, multi_class=ovr, penalty=l2, solver=liblinear; total time=   0.0s\n",
      "[CV] END C=0.01, fit_intercept=True, max_iter=1888, multi_class=ovr, penalty=l2, solver=liblinear; total time=   0.0s\n",
      "[CV] END C=1.0, fit_intercept=False, max_iter=2555, multi_class=auto, penalty=l2, solver=newton-cg; total time=   0.3s\n",
      "[CV] END C=1.0, fit_intercept=False, max_iter=2555, multi_class=auto, penalty=l2, solver=newton-cg; total time=   0.4s\n",
      "[CV] END C=1.0, fit_intercept=False, max_iter=2555, multi_class=auto, penalty=l2, solver=newton-cg; total time=   0.4s\n"
     ]
    },
    {
     "name": "stderr",
     "output_type": "stream",
     "text": [
      "C:\\Users\\hp\\anaconda3\\lib\\site-packages\\sklearn\\linear_model\\_logistic.py:1483: UserWarning: Setting penalty='none' will ignore the C and l1_ratio parameters\n",
      "  warnings.warn(\n",
      "C:\\Users\\hp\\anaconda3\\lib\\site-packages\\sklearn\\linear_model\\_logistic.py:814: ConvergenceWarning: lbfgs failed to converge (status=1):\n",
      "STOP: TOTAL NO. of ITERATIONS REACHED LIMIT.\n",
      "\n",
      "Increase the number of iterations (max_iter) or scale the data as shown in:\n",
      "    https://scikit-learn.org/stable/modules/preprocessing.html\n",
      "Please also refer to the documentation for alternative solver options:\n",
      "    https://scikit-learn.org/stable/modules/linear_model.html#logistic-regression\n",
      "  n_iter_i = _check_optimize_result(\n",
      "C:\\Users\\hp\\anaconda3\\lib\\site-packages\\sklearn\\linear_model\\_logistic.py:1483: UserWarning: Setting penalty='none' will ignore the C and l1_ratio parameters\n",
      "  warnings.warn(\n"
     ]
    },
    {
     "name": "stdout",
     "output_type": "stream",
     "text": [
      "[CV] END C=0.01, fit_intercept=False, max_iter=3000, multi_class=auto, penalty=none, solver=lbfgs; total time=   4.2s\n"
     ]
    },
    {
     "name": "stderr",
     "output_type": "stream",
     "text": [
      "C:\\Users\\hp\\anaconda3\\lib\\site-packages\\sklearn\\linear_model\\_logistic.py:814: ConvergenceWarning: lbfgs failed to converge (status=1):\n",
      "STOP: TOTAL NO. of ITERATIONS REACHED LIMIT.\n",
      "\n",
      "Increase the number of iterations (max_iter) or scale the data as shown in:\n",
      "    https://scikit-learn.org/stable/modules/preprocessing.html\n",
      "Please also refer to the documentation for alternative solver options:\n",
      "    https://scikit-learn.org/stable/modules/linear_model.html#logistic-regression\n",
      "  n_iter_i = _check_optimize_result(\n",
      "C:\\Users\\hp\\anaconda3\\lib\\site-packages\\sklearn\\linear_model\\_logistic.py:1483: UserWarning: Setting penalty='none' will ignore the C and l1_ratio parameters\n",
      "  warnings.warn(\n"
     ]
    },
    {
     "name": "stdout",
     "output_type": "stream",
     "text": [
      "[CV] END C=0.01, fit_intercept=False, max_iter=3000, multi_class=auto, penalty=none, solver=lbfgs; total time=   4.1s\n"
     ]
    },
    {
     "name": "stderr",
     "output_type": "stream",
     "text": [
      "C:\\Users\\hp\\anaconda3\\lib\\site-packages\\sklearn\\linear_model\\_logistic.py:814: ConvergenceWarning: lbfgs failed to converge (status=1):\n",
      "STOP: TOTAL NO. of ITERATIONS REACHED LIMIT.\n",
      "\n",
      "Increase the number of iterations (max_iter) or scale the data as shown in:\n",
      "    https://scikit-learn.org/stable/modules/preprocessing.html\n",
      "Please also refer to the documentation for alternative solver options:\n",
      "    https://scikit-learn.org/stable/modules/linear_model.html#logistic-regression\n",
      "  n_iter_i = _check_optimize_result(\n",
      "C:\\Users\\hp\\anaconda3\\lib\\site-packages\\sklearn\\linear_model\\_logistic.py:1483: UserWarning: Setting penalty='none' will ignore the C and l1_ratio parameters\n",
      "  warnings.warn(\n"
     ]
    },
    {
     "name": "stdout",
     "output_type": "stream",
     "text": [
      "[CV] END C=0.01, fit_intercept=False, max_iter=3000, multi_class=auto, penalty=none, solver=lbfgs; total time=   4.0s\n",
      "[CV] END C=1.0, fit_intercept=False, max_iter=1888, multi_class=auto, penalty=l1, solver=sag; total time=   0.0s\n",
      "[CV] END C=1.0, fit_intercept=False, max_iter=1888, multi_class=auto, penalty=l1, solver=sag; total time=   0.0s\n",
      "[CV] END C=1.0, fit_intercept=False, max_iter=1888, multi_class=auto, penalty=l1, solver=sag; total time=   0.0s\n",
      "[CV] END C=0.1, fit_intercept=False, max_iter=1444, multi_class=multinomial, penalty=l1, solver=sag; total time=   0.0s\n",
      "[CV] END C=0.1, fit_intercept=False, max_iter=1444, multi_class=multinomial, penalty=l1, solver=sag; total time=   0.0s\n",
      "[CV] END C=0.1, fit_intercept=False, max_iter=1444, multi_class=multinomial, penalty=l1, solver=sag; total time=   0.0s\n"
     ]
    },
    {
     "name": "stderr",
     "output_type": "stream",
     "text": [
      "C:\\Users\\hp\\anaconda3\\lib\\site-packages\\sklearn\\linear_model\\_logistic.py:814: ConvergenceWarning: lbfgs failed to converge (status=1):\n",
      "STOP: TOTAL NO. of ITERATIONS REACHED LIMIT.\n",
      "\n",
      "Increase the number of iterations (max_iter) or scale the data as shown in:\n",
      "    https://scikit-learn.org/stable/modules/preprocessing.html\n",
      "Please also refer to the documentation for alternative solver options:\n",
      "    https://scikit-learn.org/stable/modules/linear_model.html#logistic-regression\n",
      "  n_iter_i = _check_optimize_result(\n",
      "C:\\Users\\hp\\anaconda3\\lib\\site-packages\\sklearn\\linear_model\\_logistic.py:1483: UserWarning: Setting penalty='none' will ignore the C and l1_ratio parameters\n",
      "  warnings.warn(\n"
     ]
    },
    {
     "name": "stdout",
     "output_type": "stream",
     "text": [
      "[CV] END C=0.1, fit_intercept=False, max_iter=1444, multi_class=ovr, penalty=none, solver=lbfgs; total time=   2.0s\n"
     ]
    },
    {
     "name": "stderr",
     "output_type": "stream",
     "text": [
      "C:\\Users\\hp\\anaconda3\\lib\\site-packages\\sklearn\\linear_model\\_logistic.py:814: ConvergenceWarning: lbfgs failed to converge (status=1):\n",
      "STOP: TOTAL NO. of ITERATIONS REACHED LIMIT.\n",
      "\n",
      "Increase the number of iterations (max_iter) or scale the data as shown in:\n",
      "    https://scikit-learn.org/stable/modules/preprocessing.html\n",
      "Please also refer to the documentation for alternative solver options:\n",
      "    https://scikit-learn.org/stable/modules/linear_model.html#logistic-regression\n",
      "  n_iter_i = _check_optimize_result(\n",
      "C:\\Users\\hp\\anaconda3\\lib\\site-packages\\sklearn\\linear_model\\_logistic.py:1483: UserWarning: Setting penalty='none' will ignore the C and l1_ratio parameters\n",
      "  warnings.warn(\n"
     ]
    },
    {
     "name": "stdout",
     "output_type": "stream",
     "text": [
      "[CV] END C=0.1, fit_intercept=False, max_iter=1444, multi_class=ovr, penalty=none, solver=lbfgs; total time=   1.9s\n"
     ]
    },
    {
     "name": "stderr",
     "output_type": "stream",
     "text": [
      "C:\\Users\\hp\\anaconda3\\lib\\site-packages\\sklearn\\linear_model\\_logistic.py:814: ConvergenceWarning: lbfgs failed to converge (status=1):\n",
      "STOP: TOTAL NO. of ITERATIONS REACHED LIMIT.\n",
      "\n",
      "Increase the number of iterations (max_iter) or scale the data as shown in:\n",
      "    https://scikit-learn.org/stable/modules/preprocessing.html\n",
      "Please also refer to the documentation for alternative solver options:\n",
      "    https://scikit-learn.org/stable/modules/linear_model.html#logistic-regression\n",
      "  n_iter_i = _check_optimize_result(\n"
     ]
    },
    {
     "name": "stdout",
     "output_type": "stream",
     "text": [
      "[CV] END C=0.1, fit_intercept=False, max_iter=1444, multi_class=ovr, penalty=none, solver=lbfgs; total time=   2.0s\n",
      "[CV] END C=10, fit_intercept=True, max_iter=1888, multi_class=ovr, penalty=l1, solver=liblinear; total time=   0.2s\n",
      "[CV] END C=10, fit_intercept=True, max_iter=1888, multi_class=ovr, penalty=l1, solver=liblinear; total time=   0.0s\n",
      "[CV] END C=10, fit_intercept=True, max_iter=1888, multi_class=ovr, penalty=l1, solver=liblinear; total time=   0.2s\n",
      "[CV] END C=0.001, fit_intercept=True, max_iter=1666, multi_class=auto, penalty=l2, solver=liblinear; total time=   0.0s\n",
      "[CV] END C=0.001, fit_intercept=True, max_iter=1666, multi_class=auto, penalty=l2, solver=liblinear; total time=   0.0s\n",
      "[CV] END C=0.001, fit_intercept=True, max_iter=1666, multi_class=auto, penalty=l2, solver=liblinear; total time=   0.0s\n",
      "[CV] END C=100, fit_intercept=True, max_iter=2777, multi_class=auto, penalty=elasticnet, solver=lbfgs; total time=   0.0s\n",
      "[CV] END C=100, fit_intercept=True, max_iter=2777, multi_class=auto, penalty=elasticnet, solver=lbfgs; total time=   0.0s\n",
      "[CV] END C=100, fit_intercept=True, max_iter=2777, multi_class=auto, penalty=elasticnet, solver=lbfgs; total time=   0.0s\n",
      "[CV] END C=0.01, fit_intercept=True, max_iter=2555, multi_class=multinomial, penalty=l2, solver=lbfgs; total time=   1.1s\n",
      "[CV] END C=0.01, fit_intercept=True, max_iter=2555, multi_class=multinomial, penalty=l2, solver=lbfgs; total time=   1.3s\n",
      "[CV] END C=0.01, fit_intercept=True, max_iter=2555, multi_class=multinomial, penalty=l2, solver=lbfgs; total time=   0.9s\n",
      "[CV] END C=0.001, fit_intercept=True, max_iter=1444, multi_class=ovr, penalty=l1, solver=newton-cg; total time=   0.0s\n",
      "[CV] END C=0.001, fit_intercept=True, max_iter=1444, multi_class=ovr, penalty=l1, solver=newton-cg; total time=   0.0s\n",
      "[CV] END C=0.001, fit_intercept=True, max_iter=1444, multi_class=ovr, penalty=l1, solver=newton-cg; total time=   0.0s\n"
     ]
    },
    {
     "name": "stderr",
     "output_type": "stream",
     "text": [
      "C:\\Users\\hp\\anaconda3\\lib\\site-packages\\sklearn\\linear_model\\_sag.py:352: ConvergenceWarning: The max_iter was reached which means the coef_ did not converge\n",
      "  warnings.warn(\n"
     ]
    },
    {
     "name": "stdout",
     "output_type": "stream",
     "text": [
      "[CV] END C=0.01, fit_intercept=True, max_iter=1444, multi_class=ovr, penalty=l1, solver=saga; total time=   2.8s\n"
     ]
    },
    {
     "name": "stderr",
     "output_type": "stream",
     "text": [
      "C:\\Users\\hp\\anaconda3\\lib\\site-packages\\sklearn\\linear_model\\_sag.py:352: ConvergenceWarning: The max_iter was reached which means the coef_ did not converge\n",
      "  warnings.warn(\n"
     ]
    },
    {
     "name": "stdout",
     "output_type": "stream",
     "text": [
      "[CV] END C=0.01, fit_intercept=True, max_iter=1444, multi_class=ovr, penalty=l1, solver=saga; total time=   2.8s\n"
     ]
    },
    {
     "name": "stderr",
     "output_type": "stream",
     "text": [
      "C:\\Users\\hp\\anaconda3\\lib\\site-packages\\sklearn\\linear_model\\_sag.py:352: ConvergenceWarning: The max_iter was reached which means the coef_ did not converge\n",
      "  warnings.warn(\n"
     ]
    },
    {
     "name": "stdout",
     "output_type": "stream",
     "text": [
      "[CV] END C=0.01, fit_intercept=True, max_iter=1444, multi_class=ovr, penalty=l1, solver=saga; total time=   3.3s\n",
      "[CV] END C=1.0, fit_intercept=False, max_iter=2777, multi_class=multinomial, penalty=elasticnet, solver=liblinear; total time=   0.0s\n",
      "[CV] END C=1.0, fit_intercept=False, max_iter=2777, multi_class=multinomial, penalty=elasticnet, solver=liblinear; total time=   0.0s\n",
      "[CV] END C=1.0, fit_intercept=False, max_iter=2777, multi_class=multinomial, penalty=elasticnet, solver=liblinear; total time=   0.0s\n",
      "[CV] END C=0.01, fit_intercept=True, max_iter=1444, multi_class=ovr, penalty=l1, solver=lbfgs; total time=   0.0s\n",
      "[CV] END C=0.01, fit_intercept=True, max_iter=1444, multi_class=ovr, penalty=l1, solver=lbfgs; total time=   0.0s\n",
      "[CV] END C=0.01, fit_intercept=True, max_iter=1444, multi_class=ovr, penalty=l1, solver=lbfgs; total time=   0.0s\n",
      "[CV] END C=0.001, fit_intercept=True, max_iter=1000, multi_class=multinomial, penalty=l1, solver=saga; total time=   0.7s\n",
      "[CV] END C=0.001, fit_intercept=True, max_iter=1000, multi_class=multinomial, penalty=l1, solver=saga; total time=   0.2s\n",
      "[CV] END C=0.001, fit_intercept=True, max_iter=1000, multi_class=multinomial, penalty=l1, solver=saga; total time=   0.6s\n"
     ]
    },
    {
     "name": "stderr",
     "output_type": "stream",
     "text": [
      "C:\\Users\\hp\\anaconda3\\lib\\site-packages\\sklearn\\linear_model\\_sag.py:352: ConvergenceWarning: The max_iter was reached which means the coef_ did not converge\n",
      "  warnings.warn(\n"
     ]
    },
    {
     "name": "stdout",
     "output_type": "stream",
     "text": [
      "[CV] END C=1.0, fit_intercept=False, max_iter=2777, multi_class=auto, penalty=l2, solver=sag; total time=   4.6s\n"
     ]
    },
    {
     "name": "stderr",
     "output_type": "stream",
     "text": [
      "C:\\Users\\hp\\anaconda3\\lib\\site-packages\\sklearn\\linear_model\\_sag.py:352: ConvergenceWarning: The max_iter was reached which means the coef_ did not converge\n",
      "  warnings.warn(\n"
     ]
    },
    {
     "name": "stdout",
     "output_type": "stream",
     "text": [
      "[CV] END C=1.0, fit_intercept=False, max_iter=2777, multi_class=auto, penalty=l2, solver=sag; total time=   4.4s\n"
     ]
    },
    {
     "name": "stderr",
     "output_type": "stream",
     "text": [
      "C:\\Users\\hp\\anaconda3\\lib\\site-packages\\sklearn\\linear_model\\_sag.py:352: ConvergenceWarning: The max_iter was reached which means the coef_ did not converge\n",
      "  warnings.warn(\n",
      "C:\\Users\\hp\\anaconda3\\lib\\site-packages\\sklearn\\linear_model\\_logistic.py:1483: UserWarning: Setting penalty='none' will ignore the C and l1_ratio parameters\n",
      "  warnings.warn(\n"
     ]
    },
    {
     "name": "stdout",
     "output_type": "stream",
     "text": [
      "[CV] END C=1.0, fit_intercept=False, max_iter=2777, multi_class=auto, penalty=l2, solver=sag; total time=   4.3s\n",
      "[CV] END C=0.001, fit_intercept=False, max_iter=3000, multi_class=auto, penalty=l1, solver=newton-cg; total time=   0.0s\n",
      "[CV] END C=0.001, fit_intercept=False, max_iter=3000, multi_class=auto, penalty=l1, solver=newton-cg; total time=   0.0s\n",
      "[CV] END C=0.001, fit_intercept=False, max_iter=3000, multi_class=auto, penalty=l1, solver=newton-cg; total time=   0.0s\n",
      "[CV] END C=100, fit_intercept=False, max_iter=1222, multi_class=multinomial, penalty=l2, solver=liblinear; total time=   0.0s\n",
      "[CV] END C=100, fit_intercept=False, max_iter=1222, multi_class=multinomial, penalty=l2, solver=liblinear; total time=   0.0s\n",
      "[CV] END C=100, fit_intercept=False, max_iter=1222, multi_class=multinomial, penalty=l2, solver=liblinear; total time=   0.0s\n"
     ]
    },
    {
     "name": "stderr",
     "output_type": "stream",
     "text": [
      "C:\\Users\\hp\\anaconda3\\lib\\site-packages\\sklearn\\linear_model\\_sag.py:352: ConvergenceWarning: The max_iter was reached which means the coef_ did not converge\n",
      "  warnings.warn(\n",
      "C:\\Users\\hp\\anaconda3\\lib\\site-packages\\sklearn\\linear_model\\_logistic.py:1483: UserWarning: Setting penalty='none' will ignore the C and l1_ratio parameters\n",
      "  warnings.warn(\n"
     ]
    },
    {
     "name": "stdout",
     "output_type": "stream",
     "text": [
      "[CV] END C=0.01, fit_intercept=True, max_iter=2333, multi_class=ovr, penalty=none, solver=sag; total time=   4.3s\n"
     ]
    },
    {
     "name": "stderr",
     "output_type": "stream",
     "text": [
      "C:\\Users\\hp\\anaconda3\\lib\\site-packages\\sklearn\\linear_model\\_sag.py:352: ConvergenceWarning: The max_iter was reached which means the coef_ did not converge\n",
      "  warnings.warn(\n",
      "C:\\Users\\hp\\anaconda3\\lib\\site-packages\\sklearn\\linear_model\\_logistic.py:1483: UserWarning: Setting penalty='none' will ignore the C and l1_ratio parameters\n",
      "  warnings.warn(\n"
     ]
    },
    {
     "name": "stdout",
     "output_type": "stream",
     "text": [
      "[CV] END C=0.01, fit_intercept=True, max_iter=2333, multi_class=ovr, penalty=none, solver=sag; total time=   4.5s\n"
     ]
    },
    {
     "name": "stderr",
     "output_type": "stream",
     "text": [
      "C:\\Users\\hp\\anaconda3\\lib\\site-packages\\sklearn\\linear_model\\_sag.py:352: ConvergenceWarning: The max_iter was reached which means the coef_ did not converge\n",
      "  warnings.warn(\n"
     ]
    },
    {
     "name": "stdout",
     "output_type": "stream",
     "text": [
      "[CV] END C=0.01, fit_intercept=True, max_iter=2333, multi_class=ovr, penalty=none, solver=sag; total time=   4.7s\n",
      "[CV] END C=0.01, fit_intercept=True, max_iter=1888, multi_class=multinomial, penalty=elasticnet, solver=sag; total time=   0.0s\n",
      "[CV] END C=0.01, fit_intercept=True, max_iter=1888, multi_class=multinomial, penalty=elasticnet, solver=sag; total time=   0.0s\n",
      "[CV] END C=0.01, fit_intercept=True, max_iter=1888, multi_class=multinomial, penalty=elasticnet, solver=sag; total time=   0.0s\n",
      "[CV] END C=1.0, fit_intercept=True, max_iter=3000, multi_class=ovr, penalty=elasticnet, solver=sag; total time=   0.0s\n",
      "[CV] END C=1.0, fit_intercept=True, max_iter=3000, multi_class=ovr, penalty=elasticnet, solver=sag; total time=   0.0s\n",
      "[CV] END C=1.0, fit_intercept=True, max_iter=3000, multi_class=ovr, penalty=elasticnet, solver=sag; total time=   0.0s\n"
     ]
    },
    {
     "name": "stderr",
     "output_type": "stream",
     "text": [
      "C:\\Users\\hp\\anaconda3\\lib\\site-packages\\sklearn\\linear_model\\_sag.py:352: ConvergenceWarning: The max_iter was reached which means the coef_ did not converge\n",
      "  warnings.warn(\n"
     ]
    },
    {
     "name": "stdout",
     "output_type": "stream",
     "text": [
      "[CV] END C=1.0, fit_intercept=False, max_iter=2555, multi_class=ovr, penalty=none, solver=sag; total time=   3.9s\n"
     ]
    },
    {
     "name": "stderr",
     "output_type": "stream",
     "text": [
      "C:\\Users\\hp\\anaconda3\\lib\\site-packages\\sklearn\\linear_model\\_sag.py:352: ConvergenceWarning: The max_iter was reached which means the coef_ did not converge\n",
      "  warnings.warn(\n"
     ]
    },
    {
     "name": "stdout",
     "output_type": "stream",
     "text": [
      "[CV] END C=1.0, fit_intercept=False, max_iter=2555, multi_class=ovr, penalty=none, solver=sag; total time=   5.0s\n"
     ]
    },
    {
     "name": "stderr",
     "output_type": "stream",
     "text": [
      "C:\\Users\\hp\\anaconda3\\lib\\site-packages\\sklearn\\linear_model\\_sag.py:352: ConvergenceWarning: The max_iter was reached which means the coef_ did not converge\n",
      "  warnings.warn(\n"
     ]
    },
    {
     "name": "stdout",
     "output_type": "stream",
     "text": [
      "[CV] END C=1.0, fit_intercept=False, max_iter=2555, multi_class=ovr, penalty=none, solver=sag; total time=   4.1s\n"
     ]
    },
    {
     "name": "stderr",
     "output_type": "stream",
     "text": [
      "C:\\Users\\hp\\anaconda3\\lib\\site-packages\\sklearn\\linear_model\\_sag.py:352: ConvergenceWarning: The max_iter was reached which means the coef_ did not converge\n",
      "  warnings.warn(\n"
     ]
    },
    {
     "name": "stdout",
     "output_type": "stream",
     "text": [
      "[CV] END C=0.001, fit_intercept=False, max_iter=3000, multi_class=auto, penalty=l2, solver=saga; total time=   6.2s\n"
     ]
    },
    {
     "name": "stderr",
     "output_type": "stream",
     "text": [
      "C:\\Users\\hp\\anaconda3\\lib\\site-packages\\sklearn\\linear_model\\_sag.py:352: ConvergenceWarning: The max_iter was reached which means the coef_ did not converge\n",
      "  warnings.warn(\n"
     ]
    },
    {
     "name": "stdout",
     "output_type": "stream",
     "text": [
      "[CV] END C=0.001, fit_intercept=False, max_iter=3000, multi_class=auto, penalty=l2, solver=saga; total time=   4.4s\n"
     ]
    },
    {
     "name": "stderr",
     "output_type": "stream",
     "text": [
      "C:\\Users\\hp\\anaconda3\\lib\\site-packages\\sklearn\\linear_model\\_sag.py:352: ConvergenceWarning: The max_iter was reached which means the coef_ did not converge\n",
      "  warnings.warn(\n",
      "C:\\Users\\hp\\anaconda3\\lib\\site-packages\\sklearn\\linear_model\\_logistic.py:1483: UserWarning: Setting penalty='none' will ignore the C and l1_ratio parameters\n",
      "  warnings.warn(\n"
     ]
    },
    {
     "name": "stdout",
     "output_type": "stream",
     "text": [
      "[CV] END C=0.001, fit_intercept=False, max_iter=3000, multi_class=auto, penalty=l2, solver=saga; total time=   4.1s\n"
     ]
    },
    {
     "name": "stderr",
     "output_type": "stream",
     "text": [
      "C:\\Users\\hp\\anaconda3\\lib\\site-packages\\scipy\\optimize\\_linesearch.py:456: LineSearchWarning: The line search algorithm did not converge\n",
      "  warn('The line search algorithm did not converge', LineSearchWarning)\n",
      "C:\\Users\\hp\\anaconda3\\lib\\site-packages\\scipy\\optimize\\_linesearch.py:305: LineSearchWarning: The line search algorithm did not converge\n",
      "  warn('The line search algorithm did not converge', LineSearchWarning)\n",
      "C:\\Users\\hp\\anaconda3\\lib\\site-packages\\scipy\\optimize\\_linesearch.py:456: LineSearchWarning: The line search algorithm did not converge\n",
      "  warn('The line search algorithm did not converge', LineSearchWarning)\n",
      "C:\\Users\\hp\\anaconda3\\lib\\site-packages\\scipy\\optimize\\_linesearch.py:305: LineSearchWarning: The line search algorithm did not converge\n",
      "  warn('The line search algorithm did not converge', LineSearchWarning)\n"
     ]
    },
    {
     "name": "stdout",
     "output_type": "stream",
     "text": [
      "[CV] END C=10, fit_intercept=True, max_iter=2777, multi_class=auto, penalty=none, solver=newton-cg; total time= 1.1min\n"
     ]
    },
    {
     "name": "stderr",
     "output_type": "stream",
     "text": [
      "C:\\Users\\hp\\anaconda3\\lib\\site-packages\\sklearn\\linear_model\\_logistic.py:1483: UserWarning: Setting penalty='none' will ignore the C and l1_ratio parameters\n",
      "  warnings.warn(\n",
      "C:\\Users\\hp\\anaconda3\\lib\\site-packages\\scipy\\optimize\\_linesearch.py:456: LineSearchWarning: The line search algorithm did not converge\n",
      "  warn('The line search algorithm did not converge', LineSearchWarning)\n",
      "C:\\Users\\hp\\anaconda3\\lib\\site-packages\\scipy\\optimize\\_linesearch.py:305: LineSearchWarning: The line search algorithm did not converge\n",
      "  warn('The line search algorithm did not converge', LineSearchWarning)\n",
      "C:\\Users\\hp\\anaconda3\\lib\\site-packages\\scipy\\optimize\\_linesearch.py:456: LineSearchWarning: The line search algorithm did not converge\n",
      "  warn('The line search algorithm did not converge', LineSearchWarning)\n",
      "C:\\Users\\hp\\anaconda3\\lib\\site-packages\\scipy\\optimize\\_linesearch.py:305: LineSearchWarning: The line search algorithm did not converge\n",
      "  warn('The line search algorithm did not converge', LineSearchWarning)\n"
     ]
    },
    {
     "name": "stdout",
     "output_type": "stream",
     "text": [
      "[CV] END C=10, fit_intercept=True, max_iter=2777, multi_class=auto, penalty=none, solver=newton-cg; total time=  56.1s\n"
     ]
    },
    {
     "name": "stderr",
     "output_type": "stream",
     "text": [
      "C:\\Users\\hp\\anaconda3\\lib\\site-packages\\sklearn\\linear_model\\_logistic.py:1483: UserWarning: Setting penalty='none' will ignore the C and l1_ratio parameters\n",
      "  warnings.warn(\n",
      "C:\\Users\\hp\\anaconda3\\lib\\site-packages\\scipy\\optimize\\_linesearch.py:456: LineSearchWarning: The line search algorithm did not converge\n",
      "  warn('The line search algorithm did not converge', LineSearchWarning)\n",
      "C:\\Users\\hp\\anaconda3\\lib\\site-packages\\scipy\\optimize\\_linesearch.py:305: LineSearchWarning: The line search algorithm did not converge\n",
      "  warn('The line search algorithm did not converge', LineSearchWarning)\n"
     ]
    },
    {
     "name": "stdout",
     "output_type": "stream",
     "text": [
      "[CV] END C=10, fit_intercept=True, max_iter=2777, multi_class=auto, penalty=none, solver=newton-cg; total time=  43.2s\n",
      "[CV] END C=1.0, fit_intercept=False, max_iter=1888, multi_class=ovr, penalty=elasticnet, solver=newton-cg; total time=   0.0s\n",
      "[CV] END C=1.0, fit_intercept=False, max_iter=1888, multi_class=ovr, penalty=elasticnet, solver=newton-cg; total time=   0.0s\n",
      "[CV] END C=1.0, fit_intercept=False, max_iter=1888, multi_class=ovr, penalty=elasticnet, solver=newton-cg; total time=   0.0s\n",
      "[CV] END C=0.001, fit_intercept=False, max_iter=2777, multi_class=multinomial, penalty=elasticnet, solver=liblinear; total time=   0.0s\n",
      "[CV] END C=0.001, fit_intercept=False, max_iter=2777, multi_class=multinomial, penalty=elasticnet, solver=liblinear; total time=   0.0s\n",
      "[CV] END C=0.001, fit_intercept=False, max_iter=2777, multi_class=multinomial, penalty=elasticnet, solver=liblinear; total time=   0.0s\n"
     ]
    },
    {
     "name": "stderr",
     "output_type": "stream",
     "text": [
      "C:\\Users\\hp\\anaconda3\\lib\\site-packages\\sklearn\\linear_model\\_logistic.py:1483: UserWarning: Setting penalty='none' will ignore the C and l1_ratio parameters\n",
      "  warnings.warn(\n",
      "C:\\Users\\hp\\anaconda3\\lib\\site-packages\\sklearn\\linear_model\\_sag.py:352: ConvergenceWarning: The max_iter was reached which means the coef_ did not converge\n",
      "  warnings.warn(\n",
      "C:\\Users\\hp\\anaconda3\\lib\\site-packages\\sklearn\\linear_model\\_logistic.py:1483: UserWarning: Setting penalty='none' will ignore the C and l1_ratio parameters\n",
      "  warnings.warn(\n"
     ]
    },
    {
     "name": "stdout",
     "output_type": "stream",
     "text": [
      "[CV] END C=10, fit_intercept=True, max_iter=2333, multi_class=auto, penalty=none, solver=sag; total time=   3.0s\n"
     ]
    },
    {
     "name": "stderr",
     "output_type": "stream",
     "text": [
      "C:\\Users\\hp\\anaconda3\\lib\\site-packages\\sklearn\\linear_model\\_sag.py:352: ConvergenceWarning: The max_iter was reached which means the coef_ did not converge\n",
      "  warnings.warn(\n",
      "C:\\Users\\hp\\anaconda3\\lib\\site-packages\\sklearn\\linear_model\\_logistic.py:1483: UserWarning: Setting penalty='none' will ignore the C and l1_ratio parameters\n",
      "  warnings.warn(\n"
     ]
    },
    {
     "name": "stdout",
     "output_type": "stream",
     "text": [
      "[CV] END C=10, fit_intercept=True, max_iter=2333, multi_class=auto, penalty=none, solver=sag; total time=   2.9s\n"
     ]
    },
    {
     "name": "stderr",
     "output_type": "stream",
     "text": [
      "C:\\Users\\hp\\anaconda3\\lib\\site-packages\\sklearn\\linear_model\\_sag.py:352: ConvergenceWarning: The max_iter was reached which means the coef_ did not converge\n",
      "  warnings.warn(\n"
     ]
    },
    {
     "name": "stdout",
     "output_type": "stream",
     "text": [
      "[CV] END C=10, fit_intercept=True, max_iter=2333, multi_class=auto, penalty=none, solver=sag; total time=   2.9s\n",
      "[CV] END C=0.01, fit_intercept=False, max_iter=1000, multi_class=multinomial, penalty=l1, solver=sag; total time=   0.0s\n",
      "[CV] END C=0.01, fit_intercept=False, max_iter=1000, multi_class=multinomial, penalty=l1, solver=sag; total time=   0.0s\n",
      "[CV] END C=0.01, fit_intercept=False, max_iter=1000, multi_class=multinomial, penalty=l1, solver=sag; total time=   0.0s\n",
      "[CV] END C=1000, fit_intercept=False, max_iter=2777, multi_class=ovr, penalty=l2, solver=newton-cg; total time=   1.6s\n",
      "[CV] END C=1000, fit_intercept=False, max_iter=2777, multi_class=ovr, penalty=l2, solver=newton-cg; total time=   2.1s\n",
      "[CV] END C=1000, fit_intercept=False, max_iter=2777, multi_class=ovr, penalty=l2, solver=newton-cg; total time=   3.1s\n",
      "[CV] END C=0.001, fit_intercept=True, max_iter=2555, multi_class=multinomial, penalty=l2, solver=liblinear; total time=   0.0s\n",
      "[CV] END C=0.001, fit_intercept=True, max_iter=2555, multi_class=multinomial, penalty=l2, solver=liblinear; total time=   0.0s\n",
      "[CV] END C=0.001, fit_intercept=True, max_iter=2555, multi_class=multinomial, penalty=l2, solver=liblinear; total time=   0.0s\n",
      "[CV] END C=10, fit_intercept=True, max_iter=2777, multi_class=ovr, penalty=l1, solver=sag; total time=   0.0s\n",
      "[CV] END C=10, fit_intercept=True, max_iter=2777, multi_class=ovr, penalty=l1, solver=sag; total time=   0.0s\n",
      "[CV] END C=10, fit_intercept=True, max_iter=2777, multi_class=ovr, penalty=l1, solver=sag; total time=   0.0s\n"
     ]
    },
    {
     "name": "stderr",
     "output_type": "stream",
     "text": [
      "C:\\Users\\hp\\anaconda3\\lib\\site-packages\\sklearn\\linear_model\\_sag.py:352: ConvergenceWarning: The max_iter was reached which means the coef_ did not converge\n",
      "  warnings.warn(\n"
     ]
    },
    {
     "name": "stdout",
     "output_type": "stream",
     "text": [
      "[CV] END C=1000, fit_intercept=True, max_iter=2333, multi_class=auto, penalty=l2, solver=sag; total time=   2.8s\n"
     ]
    },
    {
     "name": "stderr",
     "output_type": "stream",
     "text": [
      "C:\\Users\\hp\\anaconda3\\lib\\site-packages\\sklearn\\linear_model\\_sag.py:352: ConvergenceWarning: The max_iter was reached which means the coef_ did not converge\n",
      "  warnings.warn(\n"
     ]
    },
    {
     "name": "stdout",
     "output_type": "stream",
     "text": [
      "[CV] END C=1000, fit_intercept=True, max_iter=2333, multi_class=auto, penalty=l2, solver=sag; total time=   3.2s\n"
     ]
    },
    {
     "name": "stderr",
     "output_type": "stream",
     "text": [
      "C:\\Users\\hp\\anaconda3\\lib\\site-packages\\sklearn\\linear_model\\_sag.py:352: ConvergenceWarning: The max_iter was reached which means the coef_ did not converge\n",
      "  warnings.warn(\n"
     ]
    },
    {
     "name": "stdout",
     "output_type": "stream",
     "text": [
      "[CV] END C=1000, fit_intercept=True, max_iter=2333, multi_class=auto, penalty=l2, solver=sag; total time=   2.9s\n",
      "[CV] END C=100, fit_intercept=False, max_iter=3000, multi_class=multinomial, penalty=elasticnet, solver=lbfgs; total time=   0.0s\n",
      "[CV] END C=100, fit_intercept=False, max_iter=3000, multi_class=multinomial, penalty=elasticnet, solver=lbfgs; total time=   0.0s\n",
      "[CV] END C=100, fit_intercept=False, max_iter=3000, multi_class=multinomial, penalty=elasticnet, solver=lbfgs; total time=   0.0s\n"
     ]
    },
    {
     "name": "stderr",
     "output_type": "stream",
     "text": [
      "C:\\Users\\hp\\anaconda3\\lib\\site-packages\\sklearn\\linear_model\\_logistic.py:814: ConvergenceWarning: lbfgs failed to converge (status=1):\n",
      "STOP: TOTAL NO. of ITERATIONS REACHED LIMIT.\n",
      "\n",
      "Increase the number of iterations (max_iter) or scale the data as shown in:\n",
      "    https://scikit-learn.org/stable/modules/preprocessing.html\n",
      "Please also refer to the documentation for alternative solver options:\n",
      "    https://scikit-learn.org/stable/modules/linear_model.html#logistic-regression\n",
      "  n_iter_i = _check_optimize_result(\n"
     ]
    },
    {
     "name": "stdout",
     "output_type": "stream",
     "text": [
      "[CV] END C=1.0, fit_intercept=False, max_iter=2111, multi_class=multinomial, penalty=none, solver=lbfgs; total time=   2.8s\n"
     ]
    },
    {
     "name": "stderr",
     "output_type": "stream",
     "text": [
      "C:\\Users\\hp\\anaconda3\\lib\\site-packages\\sklearn\\linear_model\\_logistic.py:814: ConvergenceWarning: lbfgs failed to converge (status=1):\n",
      "STOP: TOTAL NO. of ITERATIONS REACHED LIMIT.\n",
      "\n",
      "Increase the number of iterations (max_iter) or scale the data as shown in:\n",
      "    https://scikit-learn.org/stable/modules/preprocessing.html\n",
      "Please also refer to the documentation for alternative solver options:\n",
      "    https://scikit-learn.org/stable/modules/linear_model.html#logistic-regression\n",
      "  n_iter_i = _check_optimize_result(\n"
     ]
    },
    {
     "name": "stdout",
     "output_type": "stream",
     "text": [
      "[CV] END C=1.0, fit_intercept=False, max_iter=2111, multi_class=multinomial, penalty=none, solver=lbfgs; total time=   2.8s\n"
     ]
    },
    {
     "name": "stderr",
     "output_type": "stream",
     "text": [
      "C:\\Users\\hp\\anaconda3\\lib\\site-packages\\sklearn\\linear_model\\_logistic.py:814: ConvergenceWarning: lbfgs failed to converge (status=1):\n",
      "STOP: TOTAL NO. of ITERATIONS REACHED LIMIT.\n",
      "\n",
      "Increase the number of iterations (max_iter) or scale the data as shown in:\n",
      "    https://scikit-learn.org/stable/modules/preprocessing.html\n",
      "Please also refer to the documentation for alternative solver options:\n",
      "    https://scikit-learn.org/stable/modules/linear_model.html#logistic-regression\n",
      "  n_iter_i = _check_optimize_result(\n",
      "C:\\Users\\hp\\anaconda3\\lib\\site-packages\\sklearn\\linear_model\\_logistic.py:1483: UserWarning: Setting penalty='none' will ignore the C and l1_ratio parameters\n",
      "  warnings.warn(\n"
     ]
    },
    {
     "name": "stdout",
     "output_type": "stream",
     "text": [
      "[CV] END C=1.0, fit_intercept=False, max_iter=2111, multi_class=multinomial, penalty=none, solver=lbfgs; total time=   2.9s\n"
     ]
    },
    {
     "name": "stderr",
     "output_type": "stream",
     "text": [
      "C:\\Users\\hp\\anaconda3\\lib\\site-packages\\sklearn\\linear_model\\_logistic.py:814: ConvergenceWarning: lbfgs failed to converge (status=1):\n",
      "STOP: TOTAL NO. of ITERATIONS REACHED LIMIT.\n",
      "\n",
      "Increase the number of iterations (max_iter) or scale the data as shown in:\n",
      "    https://scikit-learn.org/stable/modules/preprocessing.html\n",
      "Please also refer to the documentation for alternative solver options:\n",
      "    https://scikit-learn.org/stable/modules/linear_model.html#logistic-regression\n",
      "  n_iter_i = _check_optimize_result(\n",
      "C:\\Users\\hp\\anaconda3\\lib\\site-packages\\sklearn\\linear_model\\_logistic.py:1483: UserWarning: Setting penalty='none' will ignore the C and l1_ratio parameters\n",
      "  warnings.warn(\n"
     ]
    },
    {
     "name": "stdout",
     "output_type": "stream",
     "text": [
      "[CV] END C=0.1, fit_intercept=True, max_iter=3000, multi_class=multinomial, penalty=none, solver=lbfgs; total time=   6.0s\n",
      "[CV] END C=0.1, fit_intercept=True, max_iter=3000, multi_class=multinomial, penalty=none, solver=lbfgs; total time=   7.2s\n"
     ]
    },
    {
     "name": "stderr",
     "output_type": "stream",
     "text": [
      "C:\\Users\\hp\\anaconda3\\lib\\site-packages\\sklearn\\linear_model\\_logistic.py:814: ConvergenceWarning: lbfgs failed to converge (status=1):\n",
      "STOP: TOTAL NO. of ITERATIONS REACHED LIMIT.\n",
      "\n",
      "Increase the number of iterations (max_iter) or scale the data as shown in:\n",
      "    https://scikit-learn.org/stable/modules/preprocessing.html\n",
      "Please also refer to the documentation for alternative solver options:\n",
      "    https://scikit-learn.org/stable/modules/linear_model.html#logistic-regression\n",
      "  n_iter_i = _check_optimize_result(\n",
      "C:\\Users\\hp\\anaconda3\\lib\\site-packages\\sklearn\\linear_model\\_logistic.py:1483: UserWarning: Setting penalty='none' will ignore the C and l1_ratio parameters\n",
      "  warnings.warn(\n",
      "C:\\Users\\hp\\anaconda3\\lib\\site-packages\\sklearn\\linear_model\\_logistic.py:814: ConvergenceWarning: lbfgs failed to converge (status=1):\n",
      "STOP: TOTAL NO. of ITERATIONS REACHED LIMIT.\n",
      "\n",
      "Increase the number of iterations (max_iter) or scale the data as shown in:\n",
      "    https://scikit-learn.org/stable/modules/preprocessing.html\n",
      "Please also refer to the documentation for alternative solver options:\n",
      "    https://scikit-learn.org/stable/modules/linear_model.html#logistic-regression\n",
      "  n_iter_i = _check_optimize_result(\n"
     ]
    },
    {
     "name": "stdout",
     "output_type": "stream",
     "text": [
      "[CV] END C=0.1, fit_intercept=True, max_iter=3000, multi_class=multinomial, penalty=none, solver=lbfgs; total time=   6.5s\n",
      "[CV] END C=0.1, fit_intercept=True, max_iter=2111, multi_class=ovr, penalty=l2, solver=lbfgs; total time=   2.3s\n",
      "[CV] END C=0.1, fit_intercept=True, max_iter=2111, multi_class=ovr, penalty=l2, solver=lbfgs; total time=   1.6s\n",
      "[CV] END C=0.1, fit_intercept=True, max_iter=2111, multi_class=ovr, penalty=l2, solver=lbfgs; total time=   1.9s\n",
      "[CV] END C=0.1, fit_intercept=False, max_iter=1222, multi_class=ovr, penalty=l1, solver=sag; total time=   0.0s\n",
      "[CV] END C=0.1, fit_intercept=False, max_iter=1222, multi_class=ovr, penalty=l1, solver=sag; total time=   0.0s\n",
      "[CV] END C=0.1, fit_intercept=False, max_iter=1222, multi_class=ovr, penalty=l1, solver=sag; total time=   0.0s\n"
     ]
    },
    {
     "name": "stderr",
     "output_type": "stream",
     "text": [
      "C:\\Users\\hp\\anaconda3\\lib\\site-packages\\sklearn\\linear_model\\_logistic.py:814: ConvergenceWarning: lbfgs failed to converge (status=1):\n",
      "STOP: TOTAL NO. of ITERATIONS REACHED LIMIT.\n",
      "\n",
      "Increase the number of iterations (max_iter) or scale the data as shown in:\n",
      "    https://scikit-learn.org/stable/modules/preprocessing.html\n",
      "Please also refer to the documentation for alternative solver options:\n",
      "    https://scikit-learn.org/stable/modules/linear_model.html#logistic-regression\n",
      "  n_iter_i = _check_optimize_result(\n"
     ]
    },
    {
     "name": "stdout",
     "output_type": "stream",
     "text": [
      "[CV] END C=100, fit_intercept=True, max_iter=1444, multi_class=multinomial, penalty=l2, solver=lbfgs; total time=   2.2s\n"
     ]
    },
    {
     "name": "stderr",
     "output_type": "stream",
     "text": [
      "C:\\Users\\hp\\anaconda3\\lib\\site-packages\\sklearn\\linear_model\\_logistic.py:814: ConvergenceWarning: lbfgs failed to converge (status=1):\n",
      "STOP: TOTAL NO. of ITERATIONS REACHED LIMIT.\n",
      "\n",
      "Increase the number of iterations (max_iter) or scale the data as shown in:\n",
      "    https://scikit-learn.org/stable/modules/preprocessing.html\n",
      "Please also refer to the documentation for alternative solver options:\n",
      "    https://scikit-learn.org/stable/modules/linear_model.html#logistic-regression\n",
      "  n_iter_i = _check_optimize_result(\n"
     ]
    },
    {
     "name": "stdout",
     "output_type": "stream",
     "text": [
      "[CV] END C=100, fit_intercept=True, max_iter=1444, multi_class=multinomial, penalty=l2, solver=lbfgs; total time=   1.6s\n"
     ]
    },
    {
     "name": "stderr",
     "output_type": "stream",
     "text": [
      "C:\\Users\\hp\\anaconda3\\lib\\site-packages\\sklearn\\linear_model\\_logistic.py:814: ConvergenceWarning: lbfgs failed to converge (status=1):\n",
      "STOP: TOTAL NO. of ITERATIONS REACHED LIMIT.\n",
      "\n",
      "Increase the number of iterations (max_iter) or scale the data as shown in:\n",
      "    https://scikit-learn.org/stable/modules/preprocessing.html\n",
      "Please also refer to the documentation for alternative solver options:\n",
      "    https://scikit-learn.org/stable/modules/linear_model.html#logistic-regression\n",
      "  n_iter_i = _check_optimize_result(\n",
      "C:\\Users\\hp\\anaconda3\\lib\\site-packages\\sklearn\\linear_model\\_logistic.py:1483: UserWarning: Setting penalty='none' will ignore the C and l1_ratio parameters\n",
      "  warnings.warn(\n"
     ]
    },
    {
     "name": "stdout",
     "output_type": "stream",
     "text": [
      "[CV] END C=100, fit_intercept=True, max_iter=1444, multi_class=multinomial, penalty=l2, solver=lbfgs; total time=   1.5s\n"
     ]
    },
    {
     "name": "stderr",
     "output_type": "stream",
     "text": [
      "C:\\Users\\hp\\anaconda3\\lib\\site-packages\\scipy\\optimize\\_linesearch.py:456: LineSearchWarning: The line search algorithm did not converge\n",
      "  warn('The line search algorithm did not converge', LineSearchWarning)\n",
      "C:\\Users\\hp\\anaconda3\\lib\\site-packages\\scipy\\optimize\\_linesearch.py:305: LineSearchWarning: The line search algorithm did not converge\n",
      "  warn('The line search algorithm did not converge', LineSearchWarning)\n",
      "C:\\Users\\hp\\anaconda3\\lib\\site-packages\\scipy\\optimize\\_linesearch.py:456: LineSearchWarning: The line search algorithm did not converge\n",
      "  warn('The line search algorithm did not converge', LineSearchWarning)\n",
      "C:\\Users\\hp\\anaconda3\\lib\\site-packages\\scipy\\optimize\\_linesearch.py:305: LineSearchWarning: The line search algorithm did not converge\n",
      "  warn('The line search algorithm did not converge', LineSearchWarning)\n"
     ]
    },
    {
     "name": "stdout",
     "output_type": "stream",
     "text": [
      "[CV] END C=1000, fit_intercept=False, max_iter=2555, multi_class=ovr, penalty=none, solver=newton-cg; total time=  44.7s\n"
     ]
    },
    {
     "name": "stderr",
     "output_type": "stream",
     "text": [
      "C:\\Users\\hp\\anaconda3\\lib\\site-packages\\sklearn\\linear_model\\_logistic.py:1483: UserWarning: Setting penalty='none' will ignore the C and l1_ratio parameters\n",
      "  warnings.warn(\n",
      "C:\\Users\\hp\\anaconda3\\lib\\site-packages\\scipy\\optimize\\_linesearch.py:456: LineSearchWarning: The line search algorithm did not converge\n",
      "  warn('The line search algorithm did not converge', LineSearchWarning)\n",
      "C:\\Users\\hp\\anaconda3\\lib\\site-packages\\scipy\\optimize\\_linesearch.py:305: LineSearchWarning: The line search algorithm did not converge\n",
      "  warn('The line search algorithm did not converge', LineSearchWarning)\n",
      "C:\\Users\\hp\\anaconda3\\lib\\site-packages\\scipy\\optimize\\_linesearch.py:456: LineSearchWarning: The line search algorithm did not converge\n",
      "  warn('The line search algorithm did not converge', LineSearchWarning)\n",
      "C:\\Users\\hp\\anaconda3\\lib\\site-packages\\scipy\\optimize\\_linesearch.py:305: LineSearchWarning: The line search algorithm did not converge\n",
      "  warn('The line search algorithm did not converge', LineSearchWarning)\n",
      "C:\\Users\\hp\\anaconda3\\lib\\site-packages\\scipy\\optimize\\_linesearch.py:456: LineSearchWarning: The line search algorithm did not converge\n",
      "  warn('The line search algorithm did not converge', LineSearchWarning)\n",
      "C:\\Users\\hp\\anaconda3\\lib\\site-packages\\scipy\\optimize\\_linesearch.py:305: LineSearchWarning: The line search algorithm did not converge\n",
      "  warn('The line search algorithm did not converge', LineSearchWarning)\n",
      "C:\\Users\\hp\\anaconda3\\lib\\site-packages\\scipy\\optimize\\_linesearch.py:456: LineSearchWarning: The line search algorithm did not converge\n",
      "  warn('The line search algorithm did not converge', LineSearchWarning)\n",
      "C:\\Users\\hp\\anaconda3\\lib\\site-packages\\scipy\\optimize\\_linesearch.py:305: LineSearchWarning: The line search algorithm did not converge\n",
      "  warn('The line search algorithm did not converge', LineSearchWarning)\n",
      "C:\\Users\\hp\\anaconda3\\lib\\site-packages\\scipy\\optimize\\_linesearch.py:456: LineSearchWarning: The line search algorithm did not converge\n",
      "  warn('The line search algorithm did not converge', LineSearchWarning)\n",
      "C:\\Users\\hp\\anaconda3\\lib\\site-packages\\scipy\\optimize\\_linesearch.py:305: LineSearchWarning: The line search algorithm did not converge\n",
      "  warn('The line search algorithm did not converge', LineSearchWarning)\n",
      "C:\\Users\\hp\\anaconda3\\lib\\site-packages\\scipy\\optimize\\_linesearch.py:456: LineSearchWarning: The line search algorithm did not converge\n",
      "  warn('The line search algorithm did not converge', LineSearchWarning)\n",
      "C:\\Users\\hp\\anaconda3\\lib\\site-packages\\scipy\\optimize\\_linesearch.py:305: LineSearchWarning: The line search algorithm did not converge\n",
      "  warn('The line search algorithm did not converge', LineSearchWarning)\n"
     ]
    },
    {
     "name": "stdout",
     "output_type": "stream",
     "text": [
      "[CV] END C=1000, fit_intercept=False, max_iter=2555, multi_class=ovr, penalty=none, solver=newton-cg; total time=  43.7s\n"
     ]
    },
    {
     "name": "stderr",
     "output_type": "stream",
     "text": [
      "C:\\Users\\hp\\anaconda3\\lib\\site-packages\\sklearn\\linear_model\\_logistic.py:1483: UserWarning: Setting penalty='none' will ignore the C and l1_ratio parameters\n",
      "  warnings.warn(\n",
      "C:\\Users\\hp\\anaconda3\\lib\\site-packages\\scipy\\optimize\\_linesearch.py:456: LineSearchWarning: The line search algorithm did not converge\n",
      "  warn('The line search algorithm did not converge', LineSearchWarning)\n",
      "C:\\Users\\hp\\anaconda3\\lib\\site-packages\\scipy\\optimize\\_linesearch.py:305: LineSearchWarning: The line search algorithm did not converge\n",
      "  warn('The line search algorithm did not converge', LineSearchWarning)\n",
      "C:\\Users\\hp\\anaconda3\\lib\\site-packages\\scipy\\optimize\\_linesearch.py:456: LineSearchWarning: The line search algorithm did not converge\n",
      "  warn('The line search algorithm did not converge', LineSearchWarning)\n",
      "C:\\Users\\hp\\anaconda3\\lib\\site-packages\\scipy\\optimize\\_linesearch.py:305: LineSearchWarning: The line search algorithm did not converge\n",
      "  warn('The line search algorithm did not converge', LineSearchWarning)\n"
     ]
    },
    {
     "name": "stdout",
     "output_type": "stream",
     "text": [
      "[CV] END C=1000, fit_intercept=False, max_iter=2555, multi_class=ovr, penalty=none, solver=newton-cg; total time=  28.8s\n",
      "[CV] END C=1000, fit_intercept=False, max_iter=1000, multi_class=multinomial, penalty=none, solver=liblinear; total time=   0.0s\n",
      "[CV] END C=1000, fit_intercept=False, max_iter=1000, multi_class=multinomial, penalty=none, solver=liblinear; total time=   0.0s\n",
      "[CV] END C=1000, fit_intercept=False, max_iter=1000, multi_class=multinomial, penalty=none, solver=liblinear; total time=   0.0s\n"
     ]
    },
    {
     "name": "stderr",
     "output_type": "stream",
     "text": [
      "C:\\Users\\hp\\anaconda3\\lib\\site-packages\\sklearn\\linear_model\\_sag.py:352: ConvergenceWarning: The max_iter was reached which means the coef_ did not converge\n",
      "  warnings.warn(\n"
     ]
    },
    {
     "name": "stdout",
     "output_type": "stream",
     "text": [
      "[CV] END C=1.0, fit_intercept=True, max_iter=1000, multi_class=ovr, penalty=l2, solver=sag; total time=   2.2s\n"
     ]
    },
    {
     "name": "stderr",
     "output_type": "stream",
     "text": [
      "C:\\Users\\hp\\anaconda3\\lib\\site-packages\\sklearn\\linear_model\\_sag.py:352: ConvergenceWarning: The max_iter was reached which means the coef_ did not converge\n",
      "  warnings.warn(\n"
     ]
    },
    {
     "name": "stdout",
     "output_type": "stream",
     "text": [
      "[CV] END C=1.0, fit_intercept=True, max_iter=1000, multi_class=ovr, penalty=l2, solver=sag; total time=   2.3s\n"
     ]
    },
    {
     "name": "stderr",
     "output_type": "stream",
     "text": [
      "C:\\Users\\hp\\anaconda3\\lib\\site-packages\\sklearn\\linear_model\\_sag.py:352: ConvergenceWarning: The max_iter was reached which means the coef_ did not converge\n",
      "  warnings.warn(\n",
      "C:\\Users\\hp\\anaconda3\\lib\\site-packages\\sklearn\\linear_model\\_logistic.py:1483: UserWarning: Setting penalty='none' will ignore the C and l1_ratio parameters\n",
      "  warnings.warn(\n"
     ]
    },
    {
     "name": "stdout",
     "output_type": "stream",
     "text": [
      "[CV] END C=1.0, fit_intercept=True, max_iter=1000, multi_class=ovr, penalty=l2, solver=sag; total time=   2.2s\n"
     ]
    },
    {
     "name": "stderr",
     "output_type": "stream",
     "text": [
      "C:\\Users\\hp\\anaconda3\\lib\\site-packages\\sklearn\\linear_model\\_sag.py:352: ConvergenceWarning: The max_iter was reached which means the coef_ did not converge\n",
      "  warnings.warn(\n",
      "C:\\Users\\hp\\anaconda3\\lib\\site-packages\\sklearn\\linear_model\\_logistic.py:1483: UserWarning: Setting penalty='none' will ignore the C and l1_ratio parameters\n",
      "  warnings.warn(\n"
     ]
    },
    {
     "name": "stdout",
     "output_type": "stream",
     "text": [
      "[CV] END C=1000, fit_intercept=True, max_iter=1222, multi_class=multinomial, penalty=none, solver=sag; total time=   3.6s\n"
     ]
    },
    {
     "name": "stderr",
     "output_type": "stream",
     "text": [
      "C:\\Users\\hp\\anaconda3\\lib\\site-packages\\sklearn\\linear_model\\_sag.py:352: ConvergenceWarning: The max_iter was reached which means the coef_ did not converge\n",
      "  warnings.warn(\n",
      "C:\\Users\\hp\\anaconda3\\lib\\site-packages\\sklearn\\linear_model\\_logistic.py:1483: UserWarning: Setting penalty='none' will ignore the C and l1_ratio parameters\n",
      "  warnings.warn(\n"
     ]
    },
    {
     "name": "stdout",
     "output_type": "stream",
     "text": [
      "[CV] END C=1000, fit_intercept=True, max_iter=1222, multi_class=multinomial, penalty=none, solver=sag; total time=   3.6s\n"
     ]
    },
    {
     "name": "stderr",
     "output_type": "stream",
     "text": [
      "C:\\Users\\hp\\anaconda3\\lib\\site-packages\\sklearn\\linear_model\\_sag.py:352: ConvergenceWarning: The max_iter was reached which means the coef_ did not converge\n",
      "  warnings.warn(\n"
     ]
    },
    {
     "name": "stdout",
     "output_type": "stream",
     "text": [
      "[CV] END C=1000, fit_intercept=True, max_iter=1222, multi_class=multinomial, penalty=none, solver=sag; total time=   3.6s\n"
     ]
    },
    {
     "name": "stderr",
     "output_type": "stream",
     "text": [
      "C:\\Users\\hp\\anaconda3\\lib\\site-packages\\sklearn\\linear_model\\_sag.py:352: ConvergenceWarning: The max_iter was reached which means the coef_ did not converge\n",
      "  warnings.warn(\n"
     ]
    },
    {
     "name": "stdout",
     "output_type": "stream",
     "text": [
      "[CV] END C=1000, fit_intercept=True, max_iter=1444, multi_class=auto, penalty=l2, solver=saga; total time=   3.7s\n",
      "[CV] END C=1000, fit_intercept=True, max_iter=1444, multi_class=auto, penalty=l2, solver=saga; total time=   3.8s\n"
     ]
    },
    {
     "name": "stderr",
     "output_type": "stream",
     "text": [
      "C:\\Users\\hp\\anaconda3\\lib\\site-packages\\sklearn\\linear_model\\_sag.py:352: ConvergenceWarning: The max_iter was reached which means the coef_ did not converge\n",
      "  warnings.warn(\n",
      "C:\\Users\\hp\\anaconda3\\lib\\site-packages\\sklearn\\linear_model\\_sag.py:352: ConvergenceWarning: The max_iter was reached which means the coef_ did not converge\n",
      "  warnings.warn(\n"
     ]
    },
    {
     "name": "stdout",
     "output_type": "stream",
     "text": [
      "[CV] END C=1000, fit_intercept=True, max_iter=1444, multi_class=auto, penalty=l2, solver=saga; total time=   3.9s\n"
     ]
    },
    {
     "name": "stderr",
     "output_type": "stream",
     "text": [
      "C:\\Users\\hp\\anaconda3\\lib\\site-packages\\sklearn\\linear_model\\_sag.py:352: ConvergenceWarning: The max_iter was reached which means the coef_ did not converge\n",
      "  warnings.warn(\n"
     ]
    },
    {
     "name": "stdout",
     "output_type": "stream",
     "text": [
      "[CV] END C=10, fit_intercept=False, max_iter=1888, multi_class=multinomial, penalty=l1, solver=saga; total time=  12.7s\n"
     ]
    },
    {
     "name": "stderr",
     "output_type": "stream",
     "text": [
      "C:\\Users\\hp\\anaconda3\\lib\\site-packages\\sklearn\\linear_model\\_sag.py:352: ConvergenceWarning: The max_iter was reached which means the coef_ did not converge\n",
      "  warnings.warn(\n"
     ]
    },
    {
     "name": "stdout",
     "output_type": "stream",
     "text": [
      "[CV] END C=10, fit_intercept=False, max_iter=1888, multi_class=multinomial, penalty=l1, solver=saga; total time=  12.9s\n"
     ]
    },
    {
     "name": "stderr",
     "output_type": "stream",
     "text": [
      "C:\\Users\\hp\\anaconda3\\lib\\site-packages\\sklearn\\linear_model\\_sag.py:352: ConvergenceWarning: The max_iter was reached which means the coef_ did not converge\n",
      "  warnings.warn(\n",
      "C:\\Users\\hp\\anaconda3\\lib\\site-packages\\sklearn\\linear_model\\_logistic.py:1483: UserWarning: Setting penalty='none' will ignore the C and l1_ratio parameters\n",
      "  warnings.warn(\n"
     ]
    },
    {
     "name": "stdout",
     "output_type": "stream",
     "text": [
      "[CV] END C=10, fit_intercept=False, max_iter=1888, multi_class=multinomial, penalty=l1, solver=saga; total time=  12.4s\n"
     ]
    },
    {
     "name": "stderr",
     "output_type": "stream",
     "text": [
      "C:\\Users\\hp\\anaconda3\\lib\\site-packages\\sklearn\\linear_model\\_sag.py:352: ConvergenceWarning: The max_iter was reached which means the coef_ did not converge\n",
      "  warnings.warn(\n",
      "C:\\Users\\hp\\anaconda3\\lib\\site-packages\\sklearn\\linear_model\\_logistic.py:1483: UserWarning: Setting penalty='none' will ignore the C and l1_ratio parameters\n",
      "  warnings.warn(\n"
     ]
    },
    {
     "name": "stdout",
     "output_type": "stream",
     "text": [
      "[CV] END C=1000, fit_intercept=False, max_iter=2555, multi_class=multinomial, penalty=none, solver=saga; total time=   9.3s\n"
     ]
    },
    {
     "name": "stderr",
     "output_type": "stream",
     "text": [
      "C:\\Users\\hp\\anaconda3\\lib\\site-packages\\sklearn\\linear_model\\_sag.py:352: ConvergenceWarning: The max_iter was reached which means the coef_ did not converge\n",
      "  warnings.warn(\n",
      "C:\\Users\\hp\\anaconda3\\lib\\site-packages\\sklearn\\linear_model\\_logistic.py:1483: UserWarning: Setting penalty='none' will ignore the C and l1_ratio parameters\n",
      "  warnings.warn(\n"
     ]
    },
    {
     "name": "stdout",
     "output_type": "stream",
     "text": [
      "[CV] END C=1000, fit_intercept=False, max_iter=2555, multi_class=multinomial, penalty=none, solver=saga; total time=   9.1s\n"
     ]
    },
    {
     "name": "stderr",
     "output_type": "stream",
     "text": [
      "C:\\Users\\hp\\anaconda3\\lib\\site-packages\\sklearn\\linear_model\\_sag.py:352: ConvergenceWarning: The max_iter was reached which means the coef_ did not converge\n",
      "  warnings.warn(\n"
     ]
    },
    {
     "name": "stdout",
     "output_type": "stream",
     "text": [
      "[CV] END C=1000, fit_intercept=False, max_iter=2555, multi_class=multinomial, penalty=none, solver=saga; total time=   6.7s\n",
      "[CV] END C=0.1, fit_intercept=True, max_iter=1000, multi_class=ovr, penalty=elasticnet, solver=saga; total time=   0.0s\n",
      "[CV] END C=0.1, fit_intercept=True, max_iter=1000, multi_class=ovr, penalty=elasticnet, solver=saga; total time=   0.0s\n",
      "[CV] END C=0.1, fit_intercept=True, max_iter=1000, multi_class=ovr, penalty=elasticnet, solver=saga; total time=   0.0s\n",
      "[CV] END C=1.0, fit_intercept=True, max_iter=1888, multi_class=ovr, penalty=l2, solver=lbfgs; total time=   2.3s\n"
     ]
    },
    {
     "name": "stderr",
     "output_type": "stream",
     "text": [
      "C:\\Users\\hp\\anaconda3\\lib\\site-packages\\sklearn\\linear_model\\_logistic.py:814: ConvergenceWarning: lbfgs failed to converge (status=1):\n",
      "STOP: TOTAL NO. of ITERATIONS REACHED LIMIT.\n",
      "\n",
      "Increase the number of iterations (max_iter) or scale the data as shown in:\n",
      "    https://scikit-learn.org/stable/modules/preprocessing.html\n",
      "Please also refer to the documentation for alternative solver options:\n",
      "    https://scikit-learn.org/stable/modules/linear_model.html#logistic-regression\n",
      "  n_iter_i = _check_optimize_result(\n"
     ]
    },
    {
     "name": "stdout",
     "output_type": "stream",
     "text": [
      "[CV] END C=1.0, fit_intercept=True, max_iter=1888, multi_class=ovr, penalty=l2, solver=lbfgs; total time=   2.8s\n"
     ]
    },
    {
     "name": "stderr",
     "output_type": "stream",
     "text": [
      "C:\\Users\\hp\\anaconda3\\lib\\site-packages\\sklearn\\linear_model\\_logistic.py:814: ConvergenceWarning: lbfgs failed to converge (status=1):\n",
      "STOP: TOTAL NO. of ITERATIONS REACHED LIMIT.\n",
      "\n",
      "Increase the number of iterations (max_iter) or scale the data as shown in:\n",
      "    https://scikit-learn.org/stable/modules/preprocessing.html\n",
      "Please also refer to the documentation for alternative solver options:\n",
      "    https://scikit-learn.org/stable/modules/linear_model.html#logistic-regression\n",
      "  n_iter_i = _check_optimize_result(\n",
      "C:\\Users\\hp\\anaconda3\\lib\\site-packages\\sklearn\\linear_model\\_logistic.py:1483: UserWarning: Setting penalty='none' will ignore the C and l1_ratio parameters\n",
      "  warnings.warn(\n"
     ]
    },
    {
     "name": "stdout",
     "output_type": "stream",
     "text": [
      "[CV] END C=1.0, fit_intercept=True, max_iter=1888, multi_class=ovr, penalty=l2, solver=lbfgs; total time=   2.7s\n"
     ]
    },
    {
     "name": "stderr",
     "output_type": "stream",
     "text": [
      "C:\\Users\\hp\\anaconda3\\lib\\site-packages\\sklearn\\linear_model\\_sag.py:352: ConvergenceWarning: The max_iter was reached which means the coef_ did not converge\n",
      "  warnings.warn(\n",
      "C:\\Users\\hp\\anaconda3\\lib\\site-packages\\sklearn\\linear_model\\_logistic.py:1483: UserWarning: Setting penalty='none' will ignore the C and l1_ratio parameters\n",
      "  warnings.warn(\n"
     ]
    },
    {
     "name": "stdout",
     "output_type": "stream",
     "text": [
      "[CV] END C=0.1, fit_intercept=True, max_iter=1222, multi_class=ovr, penalty=none, solver=sag; total time=   1.9s\n"
     ]
    },
    {
     "name": "stderr",
     "output_type": "stream",
     "text": [
      "C:\\Users\\hp\\anaconda3\\lib\\site-packages\\sklearn\\linear_model\\_sag.py:352: ConvergenceWarning: The max_iter was reached which means the coef_ did not converge\n",
      "  warnings.warn(\n",
      "C:\\Users\\hp\\anaconda3\\lib\\site-packages\\sklearn\\linear_model\\_logistic.py:1483: UserWarning: Setting penalty='none' will ignore the C and l1_ratio parameters\n",
      "  warnings.warn(\n"
     ]
    },
    {
     "name": "stdout",
     "output_type": "stream",
     "text": [
      "[CV] END C=0.1, fit_intercept=True, max_iter=1222, multi_class=ovr, penalty=none, solver=sag; total time=   2.1s\n"
     ]
    },
    {
     "name": "stderr",
     "output_type": "stream",
     "text": [
      "C:\\Users\\hp\\anaconda3\\lib\\site-packages\\sklearn\\linear_model\\_sag.py:352: ConvergenceWarning: The max_iter was reached which means the coef_ did not converge\n",
      "  warnings.warn(\n"
     ]
    },
    {
     "name": "stdout",
     "output_type": "stream",
     "text": [
      "[CV] END C=0.1, fit_intercept=True, max_iter=1222, multi_class=ovr, penalty=none, solver=sag; total time=   2.0s\n",
      "[CV] END C=0.001, fit_intercept=True, max_iter=2111, multi_class=ovr, penalty=l2, solver=newton-cg; total time=   0.2s\n",
      "[CV] END C=0.001, fit_intercept=True, max_iter=2111, multi_class=ovr, penalty=l2, solver=newton-cg; total time=   0.2s\n",
      "[CV] END C=0.001, fit_intercept=True, max_iter=2111, multi_class=ovr, penalty=l2, solver=newton-cg; total time=   0.2s\n",
      "[CV] END C=1000, fit_intercept=False, max_iter=1444, multi_class=auto, penalty=none, solver=liblinear; total time=   0.0s\n",
      "[CV] END C=1000, fit_intercept=False, max_iter=1444, multi_class=auto, penalty=none, solver=liblinear; total time=   0.0s\n",
      "[CV] END C=1000, fit_intercept=False, max_iter=1444, multi_class=auto, penalty=none, solver=liblinear; total time=   0.0s\n",
      "[CV] END C=0.01, fit_intercept=False, max_iter=1888, multi_class=auto, penalty=elasticnet, solver=saga; total time=   0.0s\n",
      "[CV] END C=0.01, fit_intercept=False, max_iter=1888, multi_class=auto, penalty=elasticnet, solver=saga; total time=   0.0s\n",
      "[CV] END C=0.01, fit_intercept=False, max_iter=1888, multi_class=auto, penalty=elasticnet, solver=saga; total time=   0.0s\n",
      "[CV] END C=1.0, fit_intercept=True, max_iter=2777, multi_class=multinomial, penalty=elasticnet, solver=liblinear; total time=   0.0s\n",
      "[CV] END C=1.0, fit_intercept=True, max_iter=2777, multi_class=multinomial, penalty=elasticnet, solver=liblinear; total time=   0.0s\n",
      "[CV] END C=1.0, fit_intercept=True, max_iter=2777, multi_class=multinomial, penalty=elasticnet, solver=liblinear; total time=   0.0s\n",
      "[CV] END C=10, fit_intercept=False, max_iter=2111, multi_class=ovr, penalty=l1, solver=sag; total time=   0.0s\n",
      "[CV] END C=10, fit_intercept=False, max_iter=2111, multi_class=ovr, penalty=l1, solver=sag; total time=   0.0s\n",
      "[CV] END C=10, fit_intercept=False, max_iter=2111, multi_class=ovr, penalty=l1, solver=sag; total time=   0.0s\n"
     ]
    },
    {
     "name": "stderr",
     "output_type": "stream",
     "text": [
      "C:\\Users\\hp\\anaconda3\\lib\\site-packages\\sklearn\\linear_model\\_logistic.py:1483: UserWarning: Setting penalty='none' will ignore the C and l1_ratio parameters\n",
      "  warnings.warn(\n",
      "C:\\Users\\hp\\anaconda3\\lib\\site-packages\\sklearn\\linear_model\\_logistic.py:814: ConvergenceWarning: lbfgs failed to converge (status=1):\n",
      "STOP: TOTAL NO. of ITERATIONS REACHED LIMIT.\n",
      "\n",
      "Increase the number of iterations (max_iter) or scale the data as shown in:\n",
      "    https://scikit-learn.org/stable/modules/preprocessing.html\n",
      "Please also refer to the documentation for alternative solver options:\n",
      "    https://scikit-learn.org/stable/modules/linear_model.html#logistic-regression\n",
      "  n_iter_i = _check_optimize_result(\n",
      "C:\\Users\\hp\\anaconda3\\lib\\site-packages\\sklearn\\linear_model\\_logistic.py:1483: UserWarning: Setting penalty='none' will ignore the C and l1_ratio parameters\n",
      "  warnings.warn(\n"
     ]
    },
    {
     "name": "stdout",
     "output_type": "stream",
     "text": [
      "[CV] END C=1000, fit_intercept=False, max_iter=3000, multi_class=ovr, penalty=none, solver=lbfgs; total time=   4.3s\n"
     ]
    },
    {
     "name": "stderr",
     "output_type": "stream",
     "text": [
      "C:\\Users\\hp\\anaconda3\\lib\\site-packages\\sklearn\\linear_model\\_logistic.py:814: ConvergenceWarning: lbfgs failed to converge (status=1):\n",
      "STOP: TOTAL NO. of ITERATIONS REACHED LIMIT.\n",
      "\n",
      "Increase the number of iterations (max_iter) or scale the data as shown in:\n",
      "    https://scikit-learn.org/stable/modules/preprocessing.html\n",
      "Please also refer to the documentation for alternative solver options:\n",
      "    https://scikit-learn.org/stable/modules/linear_model.html#logistic-regression\n",
      "  n_iter_i = _check_optimize_result(\n",
      "C:\\Users\\hp\\anaconda3\\lib\\site-packages\\sklearn\\linear_model\\_logistic.py:1483: UserWarning: Setting penalty='none' will ignore the C and l1_ratio parameters\n",
      "  warnings.warn(\n"
     ]
    },
    {
     "name": "stdout",
     "output_type": "stream",
     "text": [
      "[CV] END C=1000, fit_intercept=False, max_iter=3000, multi_class=ovr, penalty=none, solver=lbfgs; total time=   4.5s\n"
     ]
    },
    {
     "name": "stderr",
     "output_type": "stream",
     "text": [
      "C:\\Users\\hp\\anaconda3\\lib\\site-packages\\sklearn\\linear_model\\_logistic.py:814: ConvergenceWarning: lbfgs failed to converge (status=1):\n",
      "STOP: TOTAL NO. of ITERATIONS REACHED LIMIT.\n",
      "\n",
      "Increase the number of iterations (max_iter) or scale the data as shown in:\n",
      "    https://scikit-learn.org/stable/modules/preprocessing.html\n",
      "Please also refer to the documentation for alternative solver options:\n",
      "    https://scikit-learn.org/stable/modules/linear_model.html#logistic-regression\n",
      "  n_iter_i = _check_optimize_result(\n",
      "C:\\Users\\hp\\anaconda3\\lib\\site-packages\\sklearn\\linear_model\\_logistic.py:1483: UserWarning: Setting penalty='none' will ignore the C and l1_ratio parameters\n",
      "  warnings.warn(\n"
     ]
    },
    {
     "name": "stdout",
     "output_type": "stream",
     "text": [
      "[CV] END C=1000, fit_intercept=False, max_iter=3000, multi_class=ovr, penalty=none, solver=lbfgs; total time=   4.7s\n",
      "[CV] END C=0.001, fit_intercept=False, max_iter=2333, multi_class=ovr, penalty=elasticnet, solver=sag; total time=   0.0s\n",
      "[CV] END C=0.001, fit_intercept=False, max_iter=2333, multi_class=ovr, penalty=elasticnet, solver=sag; total time=   0.0s\n",
      "[CV] END C=0.001, fit_intercept=False, max_iter=2333, multi_class=ovr, penalty=elasticnet, solver=sag; total time=   0.0s\n"
     ]
    },
    {
     "name": "stderr",
     "output_type": "stream",
     "text": [
      "C:\\Users\\hp\\anaconda3\\lib\\site-packages\\sklearn\\linear_model\\_sag.py:352: ConvergenceWarning: The max_iter was reached which means the coef_ did not converge\n",
      "  warnings.warn(\n",
      "C:\\Users\\hp\\anaconda3\\lib\\site-packages\\sklearn\\linear_model\\_logistic.py:1483: UserWarning: Setting penalty='none' will ignore the C and l1_ratio parameters\n",
      "  warnings.warn(\n"
     ]
    },
    {
     "name": "stdout",
     "output_type": "stream",
     "text": [
      "[CV] END C=1000, fit_intercept=True, max_iter=2111, multi_class=auto, penalty=none, solver=saga; total time=   5.4s\n"
     ]
    },
    {
     "name": "stderr",
     "output_type": "stream",
     "text": [
      "C:\\Users\\hp\\anaconda3\\lib\\site-packages\\sklearn\\linear_model\\_sag.py:352: ConvergenceWarning: The max_iter was reached which means the coef_ did not converge\n",
      "  warnings.warn(\n",
      "C:\\Users\\hp\\anaconda3\\lib\\site-packages\\sklearn\\linear_model\\_logistic.py:1483: UserWarning: Setting penalty='none' will ignore the C and l1_ratio parameters\n",
      "  warnings.warn(\n"
     ]
    },
    {
     "name": "stdout",
     "output_type": "stream",
     "text": [
      "[CV] END C=1000, fit_intercept=True, max_iter=2111, multi_class=auto, penalty=none, solver=saga; total time=   5.5s\n"
     ]
    },
    {
     "name": "stderr",
     "output_type": "stream",
     "text": [
      "C:\\Users\\hp\\anaconda3\\lib\\site-packages\\sklearn\\linear_model\\_sag.py:352: ConvergenceWarning: The max_iter was reached which means the coef_ did not converge\n",
      "  warnings.warn(\n"
     ]
    },
    {
     "name": "stdout",
     "output_type": "stream",
     "text": [
      "[CV] END C=1000, fit_intercept=True, max_iter=2111, multi_class=auto, penalty=none, solver=saga; total time=   5.9s\n",
      "[CV] END C=0.1, fit_intercept=False, max_iter=1444, multi_class=multinomial, penalty=l2, solver=newton-cg; total time=   0.4s\n",
      "[CV] END C=0.1, fit_intercept=False, max_iter=1444, multi_class=multinomial, penalty=l2, solver=newton-cg; total time=   0.4s\n",
      "[CV] END C=0.1, fit_intercept=False, max_iter=1444, multi_class=multinomial, penalty=l2, solver=newton-cg; total time=   0.5s\n",
      "[CV] END C=1.0, fit_intercept=True, max_iter=1000, multi_class=multinomial, penalty=l1, solver=newton-cg; total time=   0.0s\n",
      "[CV] END C=1.0, fit_intercept=True, max_iter=1000, multi_class=multinomial, penalty=l1, solver=newton-cg; total time=   0.0s\n",
      "[CV] END C=1.0, fit_intercept=True, max_iter=1000, multi_class=multinomial, penalty=l1, solver=newton-cg; total time=   0.0s\n"
     ]
    },
    {
     "name": "stderr",
     "output_type": "stream",
     "text": [
      "C:\\Users\\hp\\anaconda3\\lib\\site-packages\\sklearn\\linear_model\\_logistic.py:1483: UserWarning: Setting penalty='none' will ignore the C and l1_ratio parameters\n",
      "  warnings.warn(\n",
      "C:\\Users\\hp\\anaconda3\\lib\\site-packages\\scipy\\optimize\\_linesearch.py:456: LineSearchWarning: The line search algorithm did not converge\n",
      "  warn('The line search algorithm did not converge', LineSearchWarning)\n",
      "C:\\Users\\hp\\anaconda3\\lib\\site-packages\\scipy\\optimize\\_linesearch.py:305: LineSearchWarning: The line search algorithm did not converge\n",
      "  warn('The line search algorithm did not converge', LineSearchWarning)\n",
      "C:\\Users\\hp\\anaconda3\\lib\\site-packages\\scipy\\optimize\\_linesearch.py:456: LineSearchWarning: The line search algorithm did not converge\n",
      "  warn('The line search algorithm did not converge', LineSearchWarning)\n",
      "C:\\Users\\hp\\anaconda3\\lib\\site-packages\\scipy\\optimize\\_linesearch.py:305: LineSearchWarning: The line search algorithm did not converge\n",
      "  warn('The line search algorithm did not converge', LineSearchWarning)\n"
     ]
    },
    {
     "name": "stdout",
     "output_type": "stream",
     "text": [
      "[CV] END C=0.01, fit_intercept=False, max_iter=1222, multi_class=auto, penalty=none, solver=newton-cg; total time=  41.5s\n"
     ]
    },
    {
     "name": "stderr",
     "output_type": "stream",
     "text": [
      "C:\\Users\\hp\\anaconda3\\lib\\site-packages\\sklearn\\linear_model\\_logistic.py:1483: UserWarning: Setting penalty='none' will ignore the C and l1_ratio parameters\n",
      "  warnings.warn(\n",
      "C:\\Users\\hp\\anaconda3\\lib\\site-packages\\scipy\\optimize\\_linesearch.py:456: LineSearchWarning: The line search algorithm did not converge\n",
      "  warn('The line search algorithm did not converge', LineSearchWarning)\n",
      "C:\\Users\\hp\\anaconda3\\lib\\site-packages\\scipy\\optimize\\_linesearch.py:305: LineSearchWarning: The line search algorithm did not converge\n",
      "  warn('The line search algorithm did not converge', LineSearchWarning)\n",
      "C:\\Users\\hp\\anaconda3\\lib\\site-packages\\scipy\\optimize\\_linesearch.py:456: LineSearchWarning: The line search algorithm did not converge\n",
      "  warn('The line search algorithm did not converge', LineSearchWarning)\n",
      "C:\\Users\\hp\\anaconda3\\lib\\site-packages\\scipy\\optimize\\_linesearch.py:305: LineSearchWarning: The line search algorithm did not converge\n",
      "  warn('The line search algorithm did not converge', LineSearchWarning)\n",
      "C:\\Users\\hp\\anaconda3\\lib\\site-packages\\scipy\\optimize\\_linesearch.py:456: LineSearchWarning: The line search algorithm did not converge\n",
      "  warn('The line search algorithm did not converge', LineSearchWarning)\n",
      "C:\\Users\\hp\\anaconda3\\lib\\site-packages\\scipy\\optimize\\_linesearch.py:305: LineSearchWarning: The line search algorithm did not converge\n",
      "  warn('The line search algorithm did not converge', LineSearchWarning)\n",
      "C:\\Users\\hp\\anaconda3\\lib\\site-packages\\scipy\\optimize\\_linesearch.py:456: LineSearchWarning: The line search algorithm did not converge\n",
      "  warn('The line search algorithm did not converge', LineSearchWarning)\n",
      "C:\\Users\\hp\\anaconda3\\lib\\site-packages\\scipy\\optimize\\_linesearch.py:305: LineSearchWarning: The line search algorithm did not converge\n",
      "  warn('The line search algorithm did not converge', LineSearchWarning)\n",
      "C:\\Users\\hp\\anaconda3\\lib\\site-packages\\scipy\\optimize\\_linesearch.py:456: LineSearchWarning: The line search algorithm did not converge\n",
      "  warn('The line search algorithm did not converge', LineSearchWarning)\n",
      "C:\\Users\\hp\\anaconda3\\lib\\site-packages\\scipy\\optimize\\_linesearch.py:305: LineSearchWarning: The line search algorithm did not converge\n",
      "  warn('The line search algorithm did not converge', LineSearchWarning)\n",
      "C:\\Users\\hp\\anaconda3\\lib\\site-packages\\scipy\\optimize\\_linesearch.py:456: LineSearchWarning: The line search algorithm did not converge\n",
      "  warn('The line search algorithm did not converge', LineSearchWarning)\n",
      "C:\\Users\\hp\\anaconda3\\lib\\site-packages\\scipy\\optimize\\_linesearch.py:305: LineSearchWarning: The line search algorithm did not converge\n",
      "  warn('The line search algorithm did not converge', LineSearchWarning)\n"
     ]
    },
    {
     "name": "stdout",
     "output_type": "stream",
     "text": [
      "[CV] END C=0.01, fit_intercept=False, max_iter=1222, multi_class=auto, penalty=none, solver=newton-cg; total time=  55.2s\n"
     ]
    },
    {
     "name": "stderr",
     "output_type": "stream",
     "text": [
      "C:\\Users\\hp\\anaconda3\\lib\\site-packages\\sklearn\\linear_model\\_logistic.py:1483: UserWarning: Setting penalty='none' will ignore the C and l1_ratio parameters\n",
      "  warnings.warn(\n",
      "C:\\Users\\hp\\anaconda3\\lib\\site-packages\\scipy\\optimize\\_linesearch.py:456: LineSearchWarning: The line search algorithm did not converge\n",
      "  warn('The line search algorithm did not converge', LineSearchWarning)\n",
      "C:\\Users\\hp\\anaconda3\\lib\\site-packages\\scipy\\optimize\\_linesearch.py:305: LineSearchWarning: The line search algorithm did not converge\n",
      "  warn('The line search algorithm did not converge', LineSearchWarning)\n",
      "C:\\Users\\hp\\anaconda3\\lib\\site-packages\\scipy\\optimize\\_linesearch.py:456: LineSearchWarning: The line search algorithm did not converge\n",
      "  warn('The line search algorithm did not converge', LineSearchWarning)\n",
      "C:\\Users\\hp\\anaconda3\\lib\\site-packages\\scipy\\optimize\\_linesearch.py:305: LineSearchWarning: The line search algorithm did not converge\n",
      "  warn('The line search algorithm did not converge', LineSearchWarning)\n"
     ]
    },
    {
     "name": "stdout",
     "output_type": "stream",
     "text": [
      "[CV] END C=0.01, fit_intercept=False, max_iter=1222, multi_class=auto, penalty=none, solver=newton-cg; total time=  32.9s\n",
      "[CV] END C=1.0, fit_intercept=True, max_iter=1222, multi_class=auto, penalty=elasticnet, solver=liblinear; total time=   0.0s\n",
      "[CV] END C=1.0, fit_intercept=True, max_iter=1222, multi_class=auto, penalty=elasticnet, solver=liblinear; total time=   0.0s\n",
      "[CV] END C=1.0, fit_intercept=True, max_iter=1222, multi_class=auto, penalty=elasticnet, solver=liblinear; total time=   0.0s\n",
      "[CV] END C=1000, fit_intercept=True, max_iter=2333, multi_class=multinomial, penalty=elasticnet, solver=lbfgs; total time=   0.0s\n",
      "[CV] END C=1000, fit_intercept=True, max_iter=2333, multi_class=multinomial, penalty=elasticnet, solver=lbfgs; total time=   0.0s\n",
      "[CV] END C=1000, fit_intercept=True, max_iter=2333, multi_class=multinomial, penalty=elasticnet, solver=lbfgs; total time=   0.0s\n",
      "[CV] END C=1000, fit_intercept=False, max_iter=1444, multi_class=multinomial, penalty=elasticnet, solver=sag; total time=   0.0s\n",
      "[CV] END C=1000, fit_intercept=False, max_iter=1444, multi_class=multinomial, penalty=elasticnet, solver=sag; total time=   0.0s\n",
      "[CV] END C=1000, fit_intercept=False, max_iter=1444, multi_class=multinomial, penalty=elasticnet, solver=sag; total time=   0.0s\n"
     ]
    },
    {
     "name": "stderr",
     "output_type": "stream",
     "text": [
      "C:\\Users\\hp\\anaconda3\\lib\\site-packages\\sklearn\\linear_model\\_logistic.py:814: ConvergenceWarning: lbfgs failed to converge (status=1):\n",
      "STOP: TOTAL NO. of ITERATIONS REACHED LIMIT.\n",
      "\n",
      "Increase the number of iterations (max_iter) or scale the data as shown in:\n",
      "    https://scikit-learn.org/stable/modules/preprocessing.html\n",
      "Please also refer to the documentation for alternative solver options:\n",
      "    https://scikit-learn.org/stable/modules/linear_model.html#logistic-regression\n",
      "  n_iter_i = _check_optimize_result(\n"
     ]
    },
    {
     "name": "stdout",
     "output_type": "stream",
     "text": [
      "[CV] END C=0.1, fit_intercept=True, max_iter=1222, multi_class=ovr, penalty=l2, solver=lbfgs; total time=   1.7s\n",
      "[CV] END C=0.1, fit_intercept=True, max_iter=1222, multi_class=ovr, penalty=l2, solver=lbfgs; total time=   1.5s\n"
     ]
    },
    {
     "name": "stderr",
     "output_type": "stream",
     "text": [
      "C:\\Users\\hp\\anaconda3\\lib\\site-packages\\sklearn\\linear_model\\_logistic.py:814: ConvergenceWarning: lbfgs failed to converge (status=1):\n",
      "STOP: TOTAL NO. of ITERATIONS REACHED LIMIT.\n",
      "\n",
      "Increase the number of iterations (max_iter) or scale the data as shown in:\n",
      "    https://scikit-learn.org/stable/modules/preprocessing.html\n",
      "Please also refer to the documentation for alternative solver options:\n",
      "    https://scikit-learn.org/stable/modules/linear_model.html#logistic-regression\n",
      "  n_iter_i = _check_optimize_result(\n",
      "C:\\Users\\hp\\anaconda3\\lib\\site-packages\\sklearn\\linear_model\\_logistic.py:1483: UserWarning: Setting penalty='none' will ignore the C and l1_ratio parameters\n",
      "  warnings.warn(\n"
     ]
    },
    {
     "name": "stdout",
     "output_type": "stream",
     "text": [
      "[CV] END C=0.1, fit_intercept=True, max_iter=1222, multi_class=ovr, penalty=l2, solver=lbfgs; total time=   1.7s\n",
      "[CV] END C=1000, fit_intercept=True, max_iter=2333, multi_class=auto, penalty=elasticnet, solver=sag; total time=   0.0s\n",
      "[CV] END C=1000, fit_intercept=True, max_iter=2333, multi_class=auto, penalty=elasticnet, solver=sag; total time=   0.0s\n",
      "[CV] END C=1000, fit_intercept=True, max_iter=2333, multi_class=auto, penalty=elasticnet, solver=sag; total time=   0.0s\n",
      "[CV] END C=0.1, fit_intercept=False, max_iter=1444, multi_class=multinomial, penalty=l1, solver=lbfgs; total time=   0.0s\n",
      "[CV] END C=0.1, fit_intercept=False, max_iter=1444, multi_class=multinomial, penalty=l1, solver=lbfgs; total time=   0.0s\n",
      "[CV] END C=0.1, fit_intercept=False, max_iter=1444, multi_class=multinomial, penalty=l1, solver=lbfgs; total time=   0.0s\n",
      "[CV] END C=100, fit_intercept=False, max_iter=2333, multi_class=auto, penalty=l1, solver=newton-cg; total time=   0.0s\n",
      "[CV] END C=100, fit_intercept=False, max_iter=2333, multi_class=auto, penalty=l1, solver=newton-cg; total time=   0.0s\n",
      "[CV] END C=100, fit_intercept=False, max_iter=2333, multi_class=auto, penalty=l1, solver=newton-cg; total time=   0.0s\n",
      "[CV] END C=1000, fit_intercept=False, max_iter=2777, multi_class=auto, penalty=l1, solver=lbfgs; total time=   0.0s\n",
      "[CV] END C=1000, fit_intercept=False, max_iter=2777, multi_class=auto, penalty=l1, solver=lbfgs; total time=   0.0s\n",
      "[CV] END C=1000, fit_intercept=False, max_iter=2777, multi_class=auto, penalty=l1, solver=lbfgs; total time=   0.0s\n",
      "[CV] END C=0.1, fit_intercept=False, max_iter=2555, multi_class=auto, penalty=elasticnet, solver=newton-cg; total time=   0.0s\n",
      "[CV] END C=0.1, fit_intercept=False, max_iter=2555, multi_class=auto, penalty=elasticnet, solver=newton-cg; total time=   0.0s\n",
      "[CV] END C=0.1, fit_intercept=False, max_iter=2555, multi_class=auto, penalty=elasticnet, solver=newton-cg; total time=   0.0s\n"
     ]
    },
    {
     "name": "stderr",
     "output_type": "stream",
     "text": [
      "C:\\Users\\hp\\anaconda3\\lib\\site-packages\\scipy\\optimize\\_linesearch.py:456: LineSearchWarning: The line search algorithm did not converge\n",
      "  warn('The line search algorithm did not converge', LineSearchWarning)\n",
      "C:\\Users\\hp\\anaconda3\\lib\\site-packages\\scipy\\optimize\\_linesearch.py:305: LineSearchWarning: The line search algorithm did not converge\n",
      "  warn('The line search algorithm did not converge', LineSearchWarning)\n",
      "C:\\Users\\hp\\anaconda3\\lib\\site-packages\\scipy\\optimize\\_linesearch.py:456: LineSearchWarning: The line search algorithm did not converge\n",
      "  warn('The line search algorithm did not converge', LineSearchWarning)\n",
      "C:\\Users\\hp\\anaconda3\\lib\\site-packages\\scipy\\optimize\\_linesearch.py:305: LineSearchWarning: The line search algorithm did not converge\n",
      "  warn('The line search algorithm did not converge', LineSearchWarning)\n"
     ]
    },
    {
     "name": "stdout",
     "output_type": "stream",
     "text": [
      "[CV] END C=0.1, fit_intercept=True, max_iter=3000, multi_class=auto, penalty=none, solver=newton-cg; total time= 1.2min\n"
     ]
    },
    {
     "name": "stderr",
     "output_type": "stream",
     "text": [
      "C:\\Users\\hp\\anaconda3\\lib\\site-packages\\sklearn\\linear_model\\_logistic.py:1483: UserWarning: Setting penalty='none' will ignore the C and l1_ratio parameters\n",
      "  warnings.warn(\n",
      "C:\\Users\\hp\\anaconda3\\lib\\site-packages\\scipy\\optimize\\_linesearch.py:456: LineSearchWarning: The line search algorithm did not converge\n",
      "  warn('The line search algorithm did not converge', LineSearchWarning)\n",
      "C:\\Users\\hp\\anaconda3\\lib\\site-packages\\scipy\\optimize\\_linesearch.py:305: LineSearchWarning: The line search algorithm did not converge\n",
      "  warn('The line search algorithm did not converge', LineSearchWarning)\n",
      "C:\\Users\\hp\\anaconda3\\lib\\site-packages\\scipy\\optimize\\_linesearch.py:456: LineSearchWarning: The line search algorithm did not converge\n",
      "  warn('The line search algorithm did not converge', LineSearchWarning)\n",
      "C:\\Users\\hp\\anaconda3\\lib\\site-packages\\scipy\\optimize\\_linesearch.py:305: LineSearchWarning: The line search algorithm did not converge\n",
      "  warn('The line search algorithm did not converge', LineSearchWarning)\n"
     ]
    },
    {
     "name": "stdout",
     "output_type": "stream",
     "text": [
      "[CV] END C=0.1, fit_intercept=True, max_iter=3000, multi_class=auto, penalty=none, solver=newton-cg; total time= 1.0min\n"
     ]
    },
    {
     "name": "stderr",
     "output_type": "stream",
     "text": [
      "C:\\Users\\hp\\anaconda3\\lib\\site-packages\\sklearn\\linear_model\\_logistic.py:1483: UserWarning: Setting penalty='none' will ignore the C and l1_ratio parameters\n",
      "  warnings.warn(\n",
      "C:\\Users\\hp\\anaconda3\\lib\\site-packages\\scipy\\optimize\\_linesearch.py:456: LineSearchWarning: The line search algorithm did not converge\n",
      "  warn('The line search algorithm did not converge', LineSearchWarning)\n",
      "C:\\Users\\hp\\anaconda3\\lib\\site-packages\\scipy\\optimize\\_linesearch.py:305: LineSearchWarning: The line search algorithm did not converge\n",
      "  warn('The line search algorithm did not converge', LineSearchWarning)\n"
     ]
    },
    {
     "name": "stdout",
     "output_type": "stream",
     "text": [
      "[CV] END C=0.1, fit_intercept=True, max_iter=3000, multi_class=auto, penalty=none, solver=newton-cg; total time=  47.3s\n"
     ]
    },
    {
     "name": "stderr",
     "output_type": "stream",
     "text": [
      "C:\\Users\\hp\\anaconda3\\lib\\site-packages\\sklearn\\linear_model\\_logistic.py:1483: UserWarning: Setting penalty='none' will ignore the C and l1_ratio parameters\n",
      "  warnings.warn(\n",
      "C:\\Users\\hp\\anaconda3\\lib\\site-packages\\sklearn\\linear_model\\_logistic.py:814: ConvergenceWarning: lbfgs failed to converge (status=1):\n",
      "STOP: TOTAL NO. of ITERATIONS REACHED LIMIT.\n",
      "\n",
      "Increase the number of iterations (max_iter) or scale the data as shown in:\n",
      "    https://scikit-learn.org/stable/modules/preprocessing.html\n",
      "Please also refer to the documentation for alternative solver options:\n",
      "    https://scikit-learn.org/stable/modules/linear_model.html#logistic-regression\n",
      "  n_iter_i = _check_optimize_result(\n",
      "C:\\Users\\hp\\anaconda3\\lib\\site-packages\\sklearn\\linear_model\\_logistic.py:1483: UserWarning: Setting penalty='none' will ignore the C and l1_ratio parameters\n",
      "  warnings.warn(\n"
     ]
    },
    {
     "name": "stdout",
     "output_type": "stream",
     "text": [
      "[CV] END C=0.1, fit_intercept=True, max_iter=1222, multi_class=auto, penalty=none, solver=lbfgs; total time=   1.7s\n"
     ]
    },
    {
     "name": "stderr",
     "output_type": "stream",
     "text": [
      "C:\\Users\\hp\\anaconda3\\lib\\site-packages\\sklearn\\linear_model\\_logistic.py:814: ConvergenceWarning: lbfgs failed to converge (status=1):\n",
      "STOP: TOTAL NO. of ITERATIONS REACHED LIMIT.\n",
      "\n",
      "Increase the number of iterations (max_iter) or scale the data as shown in:\n",
      "    https://scikit-learn.org/stable/modules/preprocessing.html\n",
      "Please also refer to the documentation for alternative solver options:\n",
      "    https://scikit-learn.org/stable/modules/linear_model.html#logistic-regression\n",
      "  n_iter_i = _check_optimize_result(\n",
      "C:\\Users\\hp\\anaconda3\\lib\\site-packages\\sklearn\\linear_model\\_logistic.py:1483: UserWarning: Setting penalty='none' will ignore the C and l1_ratio parameters\n",
      "  warnings.warn(\n"
     ]
    },
    {
     "name": "stdout",
     "output_type": "stream",
     "text": [
      "[CV] END C=0.1, fit_intercept=True, max_iter=1222, multi_class=auto, penalty=none, solver=lbfgs; total time=   1.7s\n"
     ]
    },
    {
     "name": "stderr",
     "output_type": "stream",
     "text": [
      "C:\\Users\\hp\\anaconda3\\lib\\site-packages\\sklearn\\linear_model\\_logistic.py:814: ConvergenceWarning: lbfgs failed to converge (status=1):\n",
      "STOP: TOTAL NO. of ITERATIONS REACHED LIMIT.\n",
      "\n",
      "Increase the number of iterations (max_iter) or scale the data as shown in:\n",
      "    https://scikit-learn.org/stable/modules/preprocessing.html\n",
      "Please also refer to the documentation for alternative solver options:\n",
      "    https://scikit-learn.org/stable/modules/linear_model.html#logistic-regression\n",
      "  n_iter_i = _check_optimize_result(\n"
     ]
    },
    {
     "name": "stdout",
     "output_type": "stream",
     "text": [
      "[CV] END C=0.1, fit_intercept=True, max_iter=1222, multi_class=auto, penalty=none, solver=lbfgs; total time=   1.7s\n",
      "[CV] END C=0.01, fit_intercept=False, max_iter=2111, multi_class=auto, penalty=elasticnet, solver=liblinear; total time=   0.0s\n",
      "[CV] END C=0.01, fit_intercept=False, max_iter=2111, multi_class=auto, penalty=elasticnet, solver=liblinear; total time=   0.0s\n",
      "[CV] END C=0.01, fit_intercept=False, max_iter=2111, multi_class=auto, penalty=elasticnet, solver=liblinear; total time=   0.0s\n",
      "[CV] END C=1.0, fit_intercept=True, max_iter=2555, multi_class=auto, penalty=elasticnet, solver=liblinear; total time=   0.0s\n",
      "[CV] END C=1.0, fit_intercept=True, max_iter=2555, multi_class=auto, penalty=elasticnet, solver=liblinear; total time=   0.0s\n",
      "[CV] END C=1.0, fit_intercept=True, max_iter=2555, multi_class=auto, penalty=elasticnet, solver=liblinear; total time=   0.0s\n"
     ]
    },
    {
     "name": "stderr",
     "output_type": "stream",
     "text": [
      "C:\\Users\\hp\\anaconda3\\lib\\site-packages\\sklearn\\linear_model\\_sag.py:352: ConvergenceWarning: The max_iter was reached which means the coef_ did not converge\n",
      "  warnings.warn(\n"
     ]
    },
    {
     "name": "stdout",
     "output_type": "stream",
     "text": [
      "[CV] END C=1.0, fit_intercept=True, max_iter=1222, multi_class=auto, penalty=none, solver=saga; total time=   2.0s\n"
     ]
    },
    {
     "name": "stderr",
     "output_type": "stream",
     "text": [
      "C:\\Users\\hp\\anaconda3\\lib\\site-packages\\sklearn\\linear_model\\_sag.py:352: ConvergenceWarning: The max_iter was reached which means the coef_ did not converge\n",
      "  warnings.warn(\n"
     ]
    },
    {
     "name": "stdout",
     "output_type": "stream",
     "text": [
      "[CV] END C=1.0, fit_intercept=True, max_iter=1222, multi_class=auto, penalty=none, solver=saga; total time=   1.8s\n",
      "[CV] END C=1.0, fit_intercept=True, max_iter=1222, multi_class=auto, penalty=none, solver=saga; total time=   1.8s\n",
      "[CV] END C=10, fit_intercept=True, max_iter=1888, multi_class=multinomial, penalty=l1, solver=lbfgs; total time=   0.0s\n",
      "[CV] END C=10, fit_intercept=True, max_iter=1888, multi_class=multinomial, penalty=l1, solver=lbfgs; total time=   0.0s\n",
      "[CV] END C=10, fit_intercept=True, max_iter=1888, multi_class=multinomial, penalty=l1, solver=lbfgs; total time=   0.0s\n",
      "[CV] END C=1.0, fit_intercept=True, max_iter=2555, multi_class=multinomial, penalty=l1, solver=sag; total time=   0.0s\n",
      "[CV] END C=1.0, fit_intercept=True, max_iter=2555, multi_class=multinomial, penalty=l1, solver=sag; total time=   0.0s\n",
      "[CV] END C=1.0, fit_intercept=True, max_iter=2555, multi_class=multinomial, penalty=l1, solver=sag; total time=   0.0s\n"
     ]
    },
    {
     "name": "stderr",
     "output_type": "stream",
     "text": [
      "C:\\Users\\hp\\anaconda3\\lib\\site-packages\\sklearn\\linear_model\\_sag.py:352: ConvergenceWarning: The max_iter was reached which means the coef_ did not converge\n",
      "  warnings.warn(\n",
      "C:\\Users\\hp\\anaconda3\\lib\\site-packages\\sklearn\\linear_model\\_logistic.py:1483: UserWarning: Setting penalty='none' will ignore the C and l1_ratio parameters\n",
      "  warnings.warn(\n",
      "C:\\Users\\hp\\anaconda3\\lib\\site-packages\\sklearn\\linear_model\\_sag.py:352: ConvergenceWarning: The max_iter was reached which means the coef_ did not converge\n",
      "  warnings.warn(\n",
      "C:\\Users\\hp\\anaconda3\\lib\\site-packages\\sklearn\\linear_model\\_logistic.py:1483: UserWarning: Setting penalty='none' will ignore the C and l1_ratio parameters\n",
      "  warnings.warn(\n"
     ]
    },
    {
     "name": "stdout",
     "output_type": "stream",
     "text": [
      "[CV] END C=1000, fit_intercept=False, max_iter=3000, multi_class=auto, penalty=none, solver=sag; total time=   3.8s\n"
     ]
    },
    {
     "name": "stderr",
     "output_type": "stream",
     "text": [
      "C:\\Users\\hp\\anaconda3\\lib\\site-packages\\sklearn\\linear_model\\_sag.py:352: ConvergenceWarning: The max_iter was reached which means the coef_ did not converge\n",
      "  warnings.warn(\n",
      "C:\\Users\\hp\\anaconda3\\lib\\site-packages\\sklearn\\linear_model\\_logistic.py:1483: UserWarning: Setting penalty='none' will ignore the C and l1_ratio parameters\n",
      "  warnings.warn(\n"
     ]
    },
    {
     "name": "stdout",
     "output_type": "stream",
     "text": [
      "[CV] END C=1000, fit_intercept=False, max_iter=3000, multi_class=auto, penalty=none, solver=sag; total time=   3.7s\n"
     ]
    },
    {
     "name": "stderr",
     "output_type": "stream",
     "text": [
      "C:\\Users\\hp\\anaconda3\\lib\\site-packages\\sklearn\\linear_model\\_sag.py:352: ConvergenceWarning: The max_iter was reached which means the coef_ did not converge\n",
      "  warnings.warn(\n",
      "C:\\Users\\hp\\anaconda3\\lib\\site-packages\\sklearn\\linear_model\\_logistic.py:1483: UserWarning: Setting penalty='none' will ignore the C and l1_ratio parameters\n",
      "  warnings.warn(\n"
     ]
    },
    {
     "name": "stdout",
     "output_type": "stream",
     "text": [
      "[CV] END C=1000, fit_intercept=False, max_iter=3000, multi_class=auto, penalty=none, solver=sag; total time=   3.6s\n",
      "[CV] END C=10, fit_intercept=True, max_iter=2111, multi_class=multinomial, penalty=elasticnet, solver=saga; total time=   0.0s\n",
      "[CV] END C=10, fit_intercept=True, max_iter=2111, multi_class=multinomial, penalty=elasticnet, solver=saga; total time=   0.0s\n",
      "[CV] END C=10, fit_intercept=True, max_iter=2111, multi_class=multinomial, penalty=elasticnet, solver=saga; total time=   0.0s\n"
     ]
    },
    {
     "name": "stderr",
     "output_type": "stream",
     "text": [
      "C:\\Users\\hp\\anaconda3\\lib\\site-packages\\sklearn\\linear_model\\_logistic.py:814: ConvergenceWarning: lbfgs failed to converge (status=1):\n",
      "STOP: TOTAL NO. of ITERATIONS REACHED LIMIT.\n",
      "\n",
      "Increase the number of iterations (max_iter) or scale the data as shown in:\n",
      "    https://scikit-learn.org/stable/modules/preprocessing.html\n",
      "Please also refer to the documentation for alternative solver options:\n",
      "    https://scikit-learn.org/stable/modules/linear_model.html#logistic-regression\n",
      "  n_iter_i = _check_optimize_result(\n",
      "C:\\Users\\hp\\anaconda3\\lib\\site-packages\\sklearn\\linear_model\\_logistic.py:1483: UserWarning: Setting penalty='none' will ignore the C and l1_ratio parameters\n",
      "  warnings.warn(\n"
     ]
    },
    {
     "name": "stdout",
     "output_type": "stream",
     "text": [
      "[CV] END C=100, fit_intercept=False, max_iter=1888, multi_class=auto, penalty=none, solver=lbfgs; total time=   2.4s\n"
     ]
    },
    {
     "name": "stderr",
     "output_type": "stream",
     "text": [
      "C:\\Users\\hp\\anaconda3\\lib\\site-packages\\sklearn\\linear_model\\_logistic.py:814: ConvergenceWarning: lbfgs failed to converge (status=1):\n",
      "STOP: TOTAL NO. of ITERATIONS REACHED LIMIT.\n",
      "\n",
      "Increase the number of iterations (max_iter) or scale the data as shown in:\n",
      "    https://scikit-learn.org/stable/modules/preprocessing.html\n",
      "Please also refer to the documentation for alternative solver options:\n",
      "    https://scikit-learn.org/stable/modules/linear_model.html#logistic-regression\n",
      "  n_iter_i = _check_optimize_result(\n",
      "C:\\Users\\hp\\anaconda3\\lib\\site-packages\\sklearn\\linear_model\\_logistic.py:1483: UserWarning: Setting penalty='none' will ignore the C and l1_ratio parameters\n",
      "  warnings.warn(\n"
     ]
    },
    {
     "name": "stdout",
     "output_type": "stream",
     "text": [
      "[CV] END C=100, fit_intercept=False, max_iter=1888, multi_class=auto, penalty=none, solver=lbfgs; total time=   2.6s\n"
     ]
    },
    {
     "name": "stderr",
     "output_type": "stream",
     "text": [
      "C:\\Users\\hp\\anaconda3\\lib\\site-packages\\sklearn\\linear_model\\_logistic.py:814: ConvergenceWarning: lbfgs failed to converge (status=1):\n",
      "STOP: TOTAL NO. of ITERATIONS REACHED LIMIT.\n",
      "\n",
      "Increase the number of iterations (max_iter) or scale the data as shown in:\n",
      "    https://scikit-learn.org/stable/modules/preprocessing.html\n",
      "Please also refer to the documentation for alternative solver options:\n",
      "    https://scikit-learn.org/stable/modules/linear_model.html#logistic-regression\n",
      "  n_iter_i = _check_optimize_result(\n",
      "C:\\Users\\hp\\anaconda3\\lib\\site-packages\\sklearn\\model_selection\\_validation.py:372: FitFailedWarning: \n",
      "153 fits failed out of a total of 300.\n",
      "The score on these train-test partitions for these parameters will be set to nan.\n",
      "If these failures are not expected, you can try to debug them by setting error_score='raise'.\n",
      "\n",
      "Below are more details about the failures:\n",
      "--------------------------------------------------------------------------------\n",
      "15 fits failed with the following error:\n",
      "Traceback (most recent call last):\n",
      "  File \"C:\\Users\\hp\\anaconda3\\lib\\site-packages\\sklearn\\model_selection\\_validation.py\", line 680, in _fit_and_score\n",
      "    estimator.fit(X_train, y_train, **fit_params)\n",
      "  File \"C:\\Users\\hp\\anaconda3\\lib\\site-packages\\sklearn\\linear_model\\_logistic.py\", line 1461, in fit\n",
      "    solver = _check_solver(self.solver, self.penalty, self.dual)\n",
      "  File \"C:\\Users\\hp\\anaconda3\\lib\\site-packages\\sklearn\\linear_model\\_logistic.py\", line 447, in _check_solver\n",
      "    raise ValueError(\n",
      "ValueError: Solver newton-cg supports only 'l2' or 'none' penalties, got l1 penalty.\n",
      "\n",
      "--------------------------------------------------------------------------------\n",
      "12 fits failed with the following error:\n",
      "Traceback (most recent call last):\n",
      "  File \"C:\\Users\\hp\\anaconda3\\lib\\site-packages\\sklearn\\model_selection\\_validation.py\", line 680, in _fit_and_score\n",
      "    estimator.fit(X_train, y_train, **fit_params)\n",
      "  File \"C:\\Users\\hp\\anaconda3\\lib\\site-packages\\sklearn\\linear_model\\_logistic.py\", line 1461, in fit\n",
      "    solver = _check_solver(self.solver, self.penalty, self.dual)\n",
      "  File \"C:\\Users\\hp\\anaconda3\\lib\\site-packages\\sklearn\\linear_model\\_logistic.py\", line 464, in _check_solver\n",
      "    raise ValueError(\"penalty='none' is not supported for the liblinear solver\")\n",
      "ValueError: penalty='none' is not supported for the liblinear solver\n",
      "\n",
      "--------------------------------------------------------------------------------\n",
      "27 fits failed with the following error:\n",
      "Traceback (most recent call last):\n",
      "  File \"C:\\Users\\hp\\anaconda3\\lib\\site-packages\\sklearn\\model_selection\\_validation.py\", line 680, in _fit_and_score\n",
      "    estimator.fit(X_train, y_train, **fit_params)\n",
      "  File \"C:\\Users\\hp\\anaconda3\\lib\\site-packages\\sklearn\\linear_model\\_logistic.py\", line 1461, in fit\n",
      "    solver = _check_solver(self.solver, self.penalty, self.dual)\n",
      "  File \"C:\\Users\\hp\\anaconda3\\lib\\site-packages\\sklearn\\linear_model\\_logistic.py\", line 447, in _check_solver\n",
      "    raise ValueError(\n",
      "ValueError: Solver sag supports only 'l2' or 'none' penalties, got l1 penalty.\n",
      "\n",
      "--------------------------------------------------------------------------------\n",
      "12 fits failed with the following error:\n",
      "Traceback (most recent call last):\n",
      "  File \"C:\\Users\\hp\\anaconda3\\lib\\site-packages\\sklearn\\model_selection\\_validation.py\", line 680, in _fit_and_score\n",
      "    estimator.fit(X_train, y_train, **fit_params)\n",
      "  File \"C:\\Users\\hp\\anaconda3\\lib\\site-packages\\sklearn\\linear_model\\_logistic.py\", line 1461, in fit\n",
      "    solver = _check_solver(self.solver, self.penalty, self.dual)\n",
      "  File \"C:\\Users\\hp\\anaconda3\\lib\\site-packages\\sklearn\\linear_model\\_logistic.py\", line 447, in _check_solver\n",
      "    raise ValueError(\n",
      "ValueError: Solver lbfgs supports only 'l2' or 'none' penalties, got elasticnet penalty.\n",
      "\n",
      "--------------------------------------------------------------------------------\n",
      "21 fits failed with the following error:\n",
      "Traceback (most recent call last):\n",
      "  File \"C:\\Users\\hp\\anaconda3\\lib\\site-packages\\sklearn\\model_selection\\_validation.py\", line 680, in _fit_and_score\n",
      "    estimator.fit(X_train, y_train, **fit_params)\n",
      "  File \"C:\\Users\\hp\\anaconda3\\lib\\site-packages\\sklearn\\linear_model\\_logistic.py\", line 1461, in fit\n",
      "    solver = _check_solver(self.solver, self.penalty, self.dual)\n",
      "  File \"C:\\Users\\hp\\anaconda3\\lib\\site-packages\\sklearn\\linear_model\\_logistic.py\", line 457, in _check_solver\n",
      "    raise ValueError(\n",
      "ValueError: Only 'saga' solver supports elasticnet penalty, got solver=liblinear.\n",
      "\n",
      "--------------------------------------------------------------------------------\n",
      "12 fits failed with the following error:\n",
      "Traceback (most recent call last):\n",
      "  File \"C:\\Users\\hp\\anaconda3\\lib\\site-packages\\sklearn\\model_selection\\_validation.py\", line 680, in _fit_and_score\n",
      "    estimator.fit(X_train, y_train, **fit_params)\n",
      "  File \"C:\\Users\\hp\\anaconda3\\lib\\site-packages\\sklearn\\linear_model\\_logistic.py\", line 1461, in fit\n",
      "    solver = _check_solver(self.solver, self.penalty, self.dual)\n",
      "  File \"C:\\Users\\hp\\anaconda3\\lib\\site-packages\\sklearn\\linear_model\\_logistic.py\", line 447, in _check_solver\n",
      "    raise ValueError(\n",
      "ValueError: Solver newton-cg supports only 'l2' or 'none' penalties, got elasticnet penalty.\n",
      "\n",
      "--------------------------------------------------------------------------------\n",
      "15 fits failed with the following error:\n",
      "Traceback (most recent call last):\n",
      "  File \"C:\\Users\\hp\\anaconda3\\lib\\site-packages\\sklearn\\model_selection\\_validation.py\", line 680, in _fit_and_score\n",
      "    estimator.fit(X_train, y_train, **fit_params)\n",
      "  File \"C:\\Users\\hp\\anaconda3\\lib\\site-packages\\sklearn\\linear_model\\_logistic.py\", line 1471, in fit\n",
      "    raise ValueError(\n",
      "ValueError: l1_ratio must be between 0 and 1; got (l1_ratio=None)\n",
      "\n",
      "--------------------------------------------------------------------------------\n",
      "12 fits failed with the following error:\n",
      "Traceback (most recent call last):\n",
      "  File \"C:\\Users\\hp\\anaconda3\\lib\\site-packages\\sklearn\\model_selection\\_validation.py\", line 680, in _fit_and_score\n",
      "    estimator.fit(X_train, y_train, **fit_params)\n",
      "  File \"C:\\Users\\hp\\anaconda3\\lib\\site-packages\\sklearn\\linear_model\\_logistic.py\", line 1461, in fit\n",
      "    solver = _check_solver(self.solver, self.penalty, self.dual)\n",
      "  File \"C:\\Users\\hp\\anaconda3\\lib\\site-packages\\sklearn\\linear_model\\_logistic.py\", line 447, in _check_solver\n",
      "    raise ValueError(\n",
      "ValueError: Solver lbfgs supports only 'l2' or 'none' penalties, got l1 penalty.\n",
      "\n",
      "--------------------------------------------------------------------------------\n",
      "6 fits failed with the following error:\n",
      "Traceback (most recent call last):\n",
      "  File \"C:\\Users\\hp\\anaconda3\\lib\\site-packages\\sklearn\\model_selection\\_validation.py\", line 680, in _fit_and_score\n",
      "    estimator.fit(X_train, y_train, **fit_params)\n",
      "  File \"C:\\Users\\hp\\anaconda3\\lib\\site-packages\\sklearn\\linear_model\\_logistic.py\", line 1519, in fit\n",
      "    multi_class = _check_multi_class(self.multi_class, solver, len(self.classes_))\n",
      "  File \"C:\\Users\\hp\\anaconda3\\lib\\site-packages\\sklearn\\linear_model\\_logistic.py\", line 483, in _check_multi_class\n",
      "    raise ValueError(\"Solver %s does not support a multinomial backend.\" % solver)\n",
      "ValueError: Solver liblinear does not support a multinomial backend.\n",
      "\n",
      "--------------------------------------------------------------------------------\n",
      "21 fits failed with the following error:\n",
      "Traceback (most recent call last):\n",
      "  File \"C:\\Users\\hp\\anaconda3\\lib\\site-packages\\sklearn\\model_selection\\_validation.py\", line 680, in _fit_and_score\n",
      "    estimator.fit(X_train, y_train, **fit_params)\n",
      "  File \"C:\\Users\\hp\\anaconda3\\lib\\site-packages\\sklearn\\linear_model\\_logistic.py\", line 1461, in fit\n",
      "    solver = _check_solver(self.solver, self.penalty, self.dual)\n",
      "  File \"C:\\Users\\hp\\anaconda3\\lib\\site-packages\\sklearn\\linear_model\\_logistic.py\", line 447, in _check_solver\n",
      "    raise ValueError(\n",
      "ValueError: Solver sag supports only 'l2' or 'none' penalties, got elasticnet penalty.\n",
      "\n",
      "  warnings.warn(some_fits_failed_message, FitFailedWarning)\n",
      "C:\\Users\\hp\\anaconda3\\lib\\site-packages\\sklearn\\model_selection\\_search.py:969: UserWarning: One or more of the test scores are non-finite: [       nan 0.87297039        nan 0.87488061 0.87010506        nan\n",
      "        nan        nan 0.86723973 0.87297039        nan 0.86819484\n",
      "        nan 0.87488061 0.87106017 0.87201528        nan 0.87774594\n",
      " 0.87679083 0.86914995        nan        nan 0.87201528 0.8643744\n",
      " 0.87488061        nan 0.87201528        nan 0.86819484        nan\n",
      "        nan 0.86628462 0.87201528        nan        nan 0.87201528\n",
      "        nan        nan 0.87297039 0.87488061 0.85291309        nan\n",
      "        nan 0.87297039        nan 0.86532951        nan        nan\n",
      " 0.87297039        nan 0.87106017 0.86628462 0.87106017        nan\n",
      " 0.8643744  0.85577841        nan 0.87488061 0.87297039 0.87679083\n",
      " 0.87106017 0.87297039        nan 0.86628462 0.87488061 0.8739255\n",
      "        nan        nan        nan        nan 0.86914995        nan\n",
      " 0.87488061 0.88061127        nan 0.85577841        nan        nan\n",
      "        nan 0.87106017        nan        nan        nan        nan\n",
      "        nan 0.85291309 0.8643744         nan        nan 0.87583572\n",
      "        nan        nan 0.87201528        nan 0.87201528        nan\n",
      "        nan        nan        nan        nan]\n",
      "  warnings.warn(\n"
     ]
    },
    {
     "name": "stdout",
     "output_type": "stream",
     "text": [
      "[CV] END C=100, fit_intercept=False, max_iter=1888, multi_class=auto, penalty=none, solver=lbfgs; total time=   2.5s\n",
      "[CV] END C=10, fit_intercept=False, max_iter=2555, multi_class=ovr, penalty=elasticnet, solver=sag; total time=   0.0s\n",
      "[CV] END C=10, fit_intercept=False, max_iter=2555, multi_class=ovr, penalty=elasticnet, solver=sag; total time=   0.0s\n",
      "[CV] END C=10, fit_intercept=False, max_iter=2555, multi_class=ovr, penalty=elasticnet, solver=sag; total time=   0.0s\n",
      "[CV] END C=1000, fit_intercept=True, max_iter=1666, multi_class=auto, penalty=elasticnet, solver=sag; total time=   0.0s\n",
      "[CV] END C=1000, fit_intercept=True, max_iter=1666, multi_class=auto, penalty=elasticnet, solver=sag; total time=   0.0s\n",
      "[CV] END C=1000, fit_intercept=True, max_iter=1666, multi_class=auto, penalty=elasticnet, solver=sag; total time=   0.0s\n",
      "[CV] END C=10, fit_intercept=False, max_iter=1888, multi_class=multinomial, penalty=none, solver=liblinear; total time=   0.0s\n",
      "[CV] END C=10, fit_intercept=False, max_iter=1888, multi_class=multinomial, penalty=none, solver=liblinear; total time=   0.0s\n",
      "[CV] END C=10, fit_intercept=False, max_iter=1888, multi_class=multinomial, penalty=none, solver=liblinear; total time=   0.0s\n",
      "[CV] END C=1000, fit_intercept=True, max_iter=2333, multi_class=ovr, penalty=elasticnet, solver=newton-cg; total time=   0.0s\n",
      "[CV] END C=1000, fit_intercept=True, max_iter=2333, multi_class=ovr, penalty=elasticnet, solver=newton-cg; total time=   0.0s\n",
      "[CV] END C=1000, fit_intercept=True, max_iter=2333, multi_class=ovr, penalty=elasticnet, solver=newton-cg; total time=   0.0s\n",
      "[CV] END C=10, fit_intercept=False, max_iter=2777, multi_class=ovr, penalty=elasticnet, solver=saga; total time=   0.0s\n",
      "[CV] END C=10, fit_intercept=False, max_iter=2777, multi_class=ovr, penalty=elasticnet, solver=saga; total time=   0.0s\n",
      "[CV] END C=10, fit_intercept=False, max_iter=2777, multi_class=ovr, penalty=elasticnet, solver=saga; total time=   0.0s\n"
     ]
    },
    {
     "data": {
      "text/plain": [
       "RandomizedSearchCV(cv=3, estimator=LogisticRegression(), n_iter=100,\n",
       "                   param_distributions={'C': [1000, 100, 10, 1.0, 0.1, 0.01,\n",
       "                                              0.001],\n",
       "                                        'fit_intercept': [True, False],\n",
       "                                        'max_iter': [1000, 1222, 1444, 1666,\n",
       "                                                     1888, 2111, 2333, 2555,\n",
       "                                                     2777, 3000],\n",
       "                                        'multi_class': ['auto', 'ovr',\n",
       "                                                        'multinomial'],\n",
       "                                        'penalty': ['l1', 'l2', 'elasticnet',\n",
       "                                                    'none'],\n",
       "                                        'solver': ['newton-cg', 'lbfgs',\n",
       "                                                   'liblinear', 'sag',\n",
       "                                                   'saga']},\n",
       "                   random_state=555, verbose=2)"
      ]
     },
     "execution_count": 28,
     "metadata": {},
     "output_type": "execute_result"
    }
   ],
   "source": [
    "lr = LogisticRegression()\n",
    "lr_randomcv=RandomizedSearchCV(estimator=lr,param_distributions=random_grid,n_iter=100,cv=3,verbose=2,\n",
    "                               random_state=555)\n",
    "lr_randomcv.fit(X_train,y_train)"
   ]
  },
  {
   "cell_type": "code",
   "execution_count": 29,
   "id": "c85e1dd9",
   "metadata": {},
   "outputs": [
    {
     "data": {
      "text/plain": [
       "{'solver': 'newton-cg',\n",
       " 'penalty': 'l2',\n",
       " 'multi_class': 'multinomial',\n",
       " 'max_iter': 1444,\n",
       " 'fit_intercept': False,\n",
       " 'C': 0.1}"
      ]
     },
     "execution_count": 29,
     "metadata": {},
     "output_type": "execute_result"
    }
   ],
   "source": [
    "lr_randomcv.best_params_"
   ]
  },
  {
   "cell_type": "code",
   "execution_count": 30,
   "id": "fa074f65",
   "metadata": {},
   "outputs": [
    {
     "name": "stdout",
     "output_type": "stream",
     "text": [
      "[[ 13  57]\n",
      " [ 13 367]]\n",
      "Accuracy Score 0.8444444444444444\n",
      "Classification report:               precision    recall  f1-score   support\n",
      "\n",
      "         0.0       0.50      0.19      0.27        70\n",
      "         1.0       0.87      0.97      0.91       380\n",
      "\n",
      "    accuracy                           0.84       450\n",
      "   macro avg       0.68      0.58      0.59       450\n",
      "weighted avg       0.81      0.84      0.81       450\n",
      "\n"
     ]
    }
   ],
   "source": [
    "best_random_grid = lr_randomcv.best_estimator_\n",
    "y_pred=best_random_grid.predict(X_test)\n",
    "print(confusion_matrix(y_test,y_pred))\n",
    "print(\"Accuracy Score {}\".format(accuracy_score(y_test,y_pred)))\n",
    "print(\"Classification report: {}\".format(classification_report(y_test,y_pred)))"
   ]
  },
  {
   "cell_type": "code",
   "execution_count": 31,
   "id": "e51bed40",
   "metadata": {},
   "outputs": [
    {
     "name": "stdout",
     "output_type": "stream",
     "text": [
      "{'solver': ['newton-cg'], 'penalty': ['l2'], 'multi_class': ['multinomial'], 'max_iter': [1344, 1394, 1444, 1544, 1494, 1564], 'fit_intercept': [False], 'C': [0.09910000000000001, 0.0995, 0.10500000000000001, 0.1009]}\n"
     ]
    }
   ],
   "source": [
    "from sklearn.model_selection import GridSearchCV\n",
    "param_grid = {\n",
    "    'solver':[lr_randomcv.best_params_['solver']],\n",
    "    'penalty':[lr_randomcv.best_params_['penalty']],\n",
    "    'multi_class':[lr_randomcv.best_params_['multi_class']],\n",
    "    'max_iter':[\n",
    "        lr_randomcv.best_params_['max_iter']-100,\n",
    "        lr_randomcv.best_params_['max_iter']-50,\n",
    "        lr_randomcv.best_params_['max_iter'],\n",
    "        lr_randomcv.best_params_['max_iter']+100,\n",
    "        lr_randomcv.best_params_['max_iter']+50,\n",
    "        lr_randomcv.best_params_['max_iter']+120\n",
    "    ],\n",
    "    'fit_intercept':[lr_randomcv.best_params_['fit_intercept']],\n",
    "    'C':[\n",
    "        lr_randomcv.best_params_['C']-0.0009,\n",
    "        lr_randomcv.best_params_['C']-0.0005,\n",
    "        lr_randomcv.best_params_['C']+0.005,\n",
    "        lr_randomcv.best_params_['C']+0.0009\n",
    "    ]\n",
    "}\n",
    "\n",
    "print(param_grid)"
   ]
  },
  {
   "cell_type": "code",
   "execution_count": 32,
   "id": "f38ec61c",
   "metadata": {},
   "outputs": [
    {
     "name": "stdout",
     "output_type": "stream",
     "text": [
      "Fitting 10 folds for each of 24 candidates, totalling 240 fits\n",
      "[CV] END C=0.09910000000000001, fit_intercept=False, max_iter=1344, multi_class=multinomial, penalty=l2, solver=newton-cg; total time=   0.3s\n",
      "[CV] END C=0.09910000000000001, fit_intercept=False, max_iter=1344, multi_class=multinomial, penalty=l2, solver=newton-cg; total time=   0.3s\n",
      "[CV] END C=0.09910000000000001, fit_intercept=False, max_iter=1344, multi_class=multinomial, penalty=l2, solver=newton-cg; total time=   0.3s\n",
      "[CV] END C=0.09910000000000001, fit_intercept=False, max_iter=1344, multi_class=multinomial, penalty=l2, solver=newton-cg; total time=   0.4s\n",
      "[CV] END C=0.09910000000000001, fit_intercept=False, max_iter=1344, multi_class=multinomial, penalty=l2, solver=newton-cg; total time=   0.3s\n",
      "[CV] END C=0.09910000000000001, fit_intercept=False, max_iter=1344, multi_class=multinomial, penalty=l2, solver=newton-cg; total time=   0.3s\n",
      "[CV] END C=0.09910000000000001, fit_intercept=False, max_iter=1344, multi_class=multinomial, penalty=l2, solver=newton-cg; total time=   0.3s\n",
      "[CV] END C=0.09910000000000001, fit_intercept=False, max_iter=1344, multi_class=multinomial, penalty=l2, solver=newton-cg; total time=   0.3s\n",
      "[CV] END C=0.09910000000000001, fit_intercept=False, max_iter=1344, multi_class=multinomial, penalty=l2, solver=newton-cg; total time=   0.3s\n",
      "[CV] END C=0.09910000000000001, fit_intercept=False, max_iter=1344, multi_class=multinomial, penalty=l2, solver=newton-cg; total time=   0.4s\n",
      "[CV] END C=0.09910000000000001, fit_intercept=False, max_iter=1394, multi_class=multinomial, penalty=l2, solver=newton-cg; total time=   0.3s\n",
      "[CV] END C=0.09910000000000001, fit_intercept=False, max_iter=1394, multi_class=multinomial, penalty=l2, solver=newton-cg; total time=   0.3s\n",
      "[CV] END C=0.09910000000000001, fit_intercept=False, max_iter=1394, multi_class=multinomial, penalty=l2, solver=newton-cg; total time=   0.3s\n",
      "[CV] END C=0.09910000000000001, fit_intercept=False, max_iter=1394, multi_class=multinomial, penalty=l2, solver=newton-cg; total time=   0.3s\n",
      "[CV] END C=0.09910000000000001, fit_intercept=False, max_iter=1394, multi_class=multinomial, penalty=l2, solver=newton-cg; total time=   0.3s\n",
      "[CV] END C=0.09910000000000001, fit_intercept=False, max_iter=1394, multi_class=multinomial, penalty=l2, solver=newton-cg; total time=   0.3s\n",
      "[CV] END C=0.09910000000000001, fit_intercept=False, max_iter=1394, multi_class=multinomial, penalty=l2, solver=newton-cg; total time=   0.3s\n",
      "[CV] END C=0.09910000000000001, fit_intercept=False, max_iter=1394, multi_class=multinomial, penalty=l2, solver=newton-cg; total time=   0.3s\n",
      "[CV] END C=0.09910000000000001, fit_intercept=False, max_iter=1394, multi_class=multinomial, penalty=l2, solver=newton-cg; total time=   0.3s\n",
      "[CV] END C=0.09910000000000001, fit_intercept=False, max_iter=1394, multi_class=multinomial, penalty=l2, solver=newton-cg; total time=   0.3s\n",
      "[CV] END C=0.09910000000000001, fit_intercept=False, max_iter=1444, multi_class=multinomial, penalty=l2, solver=newton-cg; total time=   0.3s\n",
      "[CV] END C=0.09910000000000001, fit_intercept=False, max_iter=1444, multi_class=multinomial, penalty=l2, solver=newton-cg; total time=   0.3s\n",
      "[CV] END C=0.09910000000000001, fit_intercept=False, max_iter=1444, multi_class=multinomial, penalty=l2, solver=newton-cg; total time=   0.4s\n",
      "[CV] END C=0.09910000000000001, fit_intercept=False, max_iter=1444, multi_class=multinomial, penalty=l2, solver=newton-cg; total time=   0.4s\n",
      "[CV] END C=0.09910000000000001, fit_intercept=False, max_iter=1444, multi_class=multinomial, penalty=l2, solver=newton-cg; total time=   0.3s\n",
      "[CV] END C=0.09910000000000001, fit_intercept=False, max_iter=1444, multi_class=multinomial, penalty=l2, solver=newton-cg; total time=   0.3s\n",
      "[CV] END C=0.09910000000000001, fit_intercept=False, max_iter=1444, multi_class=multinomial, penalty=l2, solver=newton-cg; total time=   0.3s\n",
      "[CV] END C=0.09910000000000001, fit_intercept=False, max_iter=1444, multi_class=multinomial, penalty=l2, solver=newton-cg; total time=   0.3s\n",
      "[CV] END C=0.09910000000000001, fit_intercept=False, max_iter=1444, multi_class=multinomial, penalty=l2, solver=newton-cg; total time=   0.3s\n",
      "[CV] END C=0.09910000000000001, fit_intercept=False, max_iter=1444, multi_class=multinomial, penalty=l2, solver=newton-cg; total time=   0.3s\n",
      "[CV] END C=0.09910000000000001, fit_intercept=False, max_iter=1544, multi_class=multinomial, penalty=l2, solver=newton-cg; total time=   0.3s\n",
      "[CV] END C=0.09910000000000001, fit_intercept=False, max_iter=1544, multi_class=multinomial, penalty=l2, solver=newton-cg; total time=   0.3s\n",
      "[CV] END C=0.09910000000000001, fit_intercept=False, max_iter=1544, multi_class=multinomial, penalty=l2, solver=newton-cg; total time=   0.3s\n",
      "[CV] END C=0.09910000000000001, fit_intercept=False, max_iter=1544, multi_class=multinomial, penalty=l2, solver=newton-cg; total time=   0.3s\n",
      "[CV] END C=0.09910000000000001, fit_intercept=False, max_iter=1544, multi_class=multinomial, penalty=l2, solver=newton-cg; total time=   0.3s\n",
      "[CV] END C=0.09910000000000001, fit_intercept=False, max_iter=1544, multi_class=multinomial, penalty=l2, solver=newton-cg; total time=   0.3s\n",
      "[CV] END C=0.09910000000000001, fit_intercept=False, max_iter=1544, multi_class=multinomial, penalty=l2, solver=newton-cg; total time=   0.3s\n",
      "[CV] END C=0.09910000000000001, fit_intercept=False, max_iter=1544, multi_class=multinomial, penalty=l2, solver=newton-cg; total time=   0.3s\n",
      "[CV] END C=0.09910000000000001, fit_intercept=False, max_iter=1544, multi_class=multinomial, penalty=l2, solver=newton-cg; total time=   0.3s\n",
      "[CV] END C=0.09910000000000001, fit_intercept=False, max_iter=1544, multi_class=multinomial, penalty=l2, solver=newton-cg; total time=   0.3s\n",
      "[CV] END C=0.09910000000000001, fit_intercept=False, max_iter=1494, multi_class=multinomial, penalty=l2, solver=newton-cg; total time=   0.3s\n",
      "[CV] END C=0.09910000000000001, fit_intercept=False, max_iter=1494, multi_class=multinomial, penalty=l2, solver=newton-cg; total time=   0.2s\n",
      "[CV] END C=0.09910000000000001, fit_intercept=False, max_iter=1494, multi_class=multinomial, penalty=l2, solver=newton-cg; total time=   0.3s\n",
      "[CV] END C=0.09910000000000001, fit_intercept=False, max_iter=1494, multi_class=multinomial, penalty=l2, solver=newton-cg; total time=   0.3s\n",
      "[CV] END C=0.09910000000000001, fit_intercept=False, max_iter=1494, multi_class=multinomial, penalty=l2, solver=newton-cg; total time=   0.3s\n",
      "[CV] END C=0.09910000000000001, fit_intercept=False, max_iter=1494, multi_class=multinomial, penalty=l2, solver=newton-cg; total time=   0.3s\n",
      "[CV] END C=0.09910000000000001, fit_intercept=False, max_iter=1494, multi_class=multinomial, penalty=l2, solver=newton-cg; total time=   0.3s\n",
      "[CV] END C=0.09910000000000001, fit_intercept=False, max_iter=1494, multi_class=multinomial, penalty=l2, solver=newton-cg; total time=   0.3s\n",
      "[CV] END C=0.09910000000000001, fit_intercept=False, max_iter=1494, multi_class=multinomial, penalty=l2, solver=newton-cg; total time=   0.4s\n",
      "[CV] END C=0.09910000000000001, fit_intercept=False, max_iter=1494, multi_class=multinomial, penalty=l2, solver=newton-cg; total time=   0.5s\n",
      "[CV] END C=0.09910000000000001, fit_intercept=False, max_iter=1564, multi_class=multinomial, penalty=l2, solver=newton-cg; total time=   0.4s\n",
      "[CV] END C=0.09910000000000001, fit_intercept=False, max_iter=1564, multi_class=multinomial, penalty=l2, solver=newton-cg; total time=   0.4s\n",
      "[CV] END C=0.09910000000000001, fit_intercept=False, max_iter=1564, multi_class=multinomial, penalty=l2, solver=newton-cg; total time=   0.3s\n",
      "[CV] END C=0.09910000000000001, fit_intercept=False, max_iter=1564, multi_class=multinomial, penalty=l2, solver=newton-cg; total time=   0.4s\n",
      "[CV] END C=0.09910000000000001, fit_intercept=False, max_iter=1564, multi_class=multinomial, penalty=l2, solver=newton-cg; total time=   0.3s\n",
      "[CV] END C=0.09910000000000001, fit_intercept=False, max_iter=1564, multi_class=multinomial, penalty=l2, solver=newton-cg; total time=   0.3s\n",
      "[CV] END C=0.09910000000000001, fit_intercept=False, max_iter=1564, multi_class=multinomial, penalty=l2, solver=newton-cg; total time=   0.4s\n",
      "[CV] END C=0.09910000000000001, fit_intercept=False, max_iter=1564, multi_class=multinomial, penalty=l2, solver=newton-cg; total time=   0.4s\n"
     ]
    },
    {
     "name": "stdout",
     "output_type": "stream",
     "text": [
      "[CV] END C=0.09910000000000001, fit_intercept=False, max_iter=1564, multi_class=multinomial, penalty=l2, solver=newton-cg; total time=   0.4s\n",
      "[CV] END C=0.09910000000000001, fit_intercept=False, max_iter=1564, multi_class=multinomial, penalty=l2, solver=newton-cg; total time=   0.5s\n",
      "[CV] END C=0.0995, fit_intercept=False, max_iter=1344, multi_class=multinomial, penalty=l2, solver=newton-cg; total time=   0.3s\n",
      "[CV] END C=0.0995, fit_intercept=False, max_iter=1344, multi_class=multinomial, penalty=l2, solver=newton-cg; total time=   0.3s\n",
      "[CV] END C=0.0995, fit_intercept=False, max_iter=1344, multi_class=multinomial, penalty=l2, solver=newton-cg; total time=   0.4s\n",
      "[CV] END C=0.0995, fit_intercept=False, max_iter=1344, multi_class=multinomial, penalty=l2, solver=newton-cg; total time=   0.3s\n",
      "[CV] END C=0.0995, fit_intercept=False, max_iter=1344, multi_class=multinomial, penalty=l2, solver=newton-cg; total time=   0.3s\n",
      "[CV] END C=0.0995, fit_intercept=False, max_iter=1344, multi_class=multinomial, penalty=l2, solver=newton-cg; total time=   0.3s\n",
      "[CV] END C=0.0995, fit_intercept=False, max_iter=1344, multi_class=multinomial, penalty=l2, solver=newton-cg; total time=   0.3s\n",
      "[CV] END C=0.0995, fit_intercept=False, max_iter=1344, multi_class=multinomial, penalty=l2, solver=newton-cg; total time=   0.3s\n",
      "[CV] END C=0.0995, fit_intercept=False, max_iter=1344, multi_class=multinomial, penalty=l2, solver=newton-cg; total time=   0.3s\n",
      "[CV] END C=0.0995, fit_intercept=False, max_iter=1344, multi_class=multinomial, penalty=l2, solver=newton-cg; total time=   0.4s\n",
      "[CV] END C=0.0995, fit_intercept=False, max_iter=1394, multi_class=multinomial, penalty=l2, solver=newton-cg; total time=   0.3s\n",
      "[CV] END C=0.0995, fit_intercept=False, max_iter=1394, multi_class=multinomial, penalty=l2, solver=newton-cg; total time=   0.3s\n",
      "[CV] END C=0.0995, fit_intercept=False, max_iter=1394, multi_class=multinomial, penalty=l2, solver=newton-cg; total time=   0.3s\n",
      "[CV] END C=0.0995, fit_intercept=False, max_iter=1394, multi_class=multinomial, penalty=l2, solver=newton-cg; total time=   0.3s\n",
      "[CV] END C=0.0995, fit_intercept=False, max_iter=1394, multi_class=multinomial, penalty=l2, solver=newton-cg; total time=   0.3s\n",
      "[CV] END C=0.0995, fit_intercept=False, max_iter=1394, multi_class=multinomial, penalty=l2, solver=newton-cg; total time=   0.3s\n",
      "[CV] END C=0.0995, fit_intercept=False, max_iter=1394, multi_class=multinomial, penalty=l2, solver=newton-cg; total time=   0.3s\n",
      "[CV] END C=0.0995, fit_intercept=False, max_iter=1394, multi_class=multinomial, penalty=l2, solver=newton-cg; total time=   0.3s\n",
      "[CV] END C=0.0995, fit_intercept=False, max_iter=1394, multi_class=multinomial, penalty=l2, solver=newton-cg; total time=   0.4s\n",
      "[CV] END C=0.0995, fit_intercept=False, max_iter=1394, multi_class=multinomial, penalty=l2, solver=newton-cg; total time=   0.3s\n",
      "[CV] END C=0.0995, fit_intercept=False, max_iter=1444, multi_class=multinomial, penalty=l2, solver=newton-cg; total time=   0.4s\n",
      "[CV] END C=0.0995, fit_intercept=False, max_iter=1444, multi_class=multinomial, penalty=l2, solver=newton-cg; total time=   0.3s\n",
      "[CV] END C=0.0995, fit_intercept=False, max_iter=1444, multi_class=multinomial, penalty=l2, solver=newton-cg; total time=   0.4s\n",
      "[CV] END C=0.0995, fit_intercept=False, max_iter=1444, multi_class=multinomial, penalty=l2, solver=newton-cg; total time=   0.3s\n",
      "[CV] END C=0.0995, fit_intercept=False, max_iter=1444, multi_class=multinomial, penalty=l2, solver=newton-cg; total time=   0.3s\n",
      "[CV] END C=0.0995, fit_intercept=False, max_iter=1444, multi_class=multinomial, penalty=l2, solver=newton-cg; total time=   0.3s\n",
      "[CV] END C=0.0995, fit_intercept=False, max_iter=1444, multi_class=multinomial, penalty=l2, solver=newton-cg; total time=   0.3s\n",
      "[CV] END C=0.0995, fit_intercept=False, max_iter=1444, multi_class=multinomial, penalty=l2, solver=newton-cg; total time=   0.3s\n",
      "[CV] END C=0.0995, fit_intercept=False, max_iter=1444, multi_class=multinomial, penalty=l2, solver=newton-cg; total time=   0.4s\n",
      "[CV] END C=0.0995, fit_intercept=False, max_iter=1444, multi_class=multinomial, penalty=l2, solver=newton-cg; total time=   0.4s\n",
      "[CV] END C=0.0995, fit_intercept=False, max_iter=1544, multi_class=multinomial, penalty=l2, solver=newton-cg; total time=   0.3s\n",
      "[CV] END C=0.0995, fit_intercept=False, max_iter=1544, multi_class=multinomial, penalty=l2, solver=newton-cg; total time=   0.3s\n",
      "[CV] END C=0.0995, fit_intercept=False, max_iter=1544, multi_class=multinomial, penalty=l2, solver=newton-cg; total time=   0.3s\n",
      "[CV] END C=0.0995, fit_intercept=False, max_iter=1544, multi_class=multinomial, penalty=l2, solver=newton-cg; total time=   0.2s\n",
      "[CV] END C=0.0995, fit_intercept=False, max_iter=1544, multi_class=multinomial, penalty=l2, solver=newton-cg; total time=   0.3s\n",
      "[CV] END C=0.0995, fit_intercept=False, max_iter=1544, multi_class=multinomial, penalty=l2, solver=newton-cg; total time=   0.3s\n",
      "[CV] END C=0.0995, fit_intercept=False, max_iter=1544, multi_class=multinomial, penalty=l2, solver=newton-cg; total time=   0.3s\n",
      "[CV] END C=0.0995, fit_intercept=False, max_iter=1544, multi_class=multinomial, penalty=l2, solver=newton-cg; total time=   0.3s\n",
      "[CV] END C=0.0995, fit_intercept=False, max_iter=1544, multi_class=multinomial, penalty=l2, solver=newton-cg; total time=   0.3s\n",
      "[CV] END C=0.0995, fit_intercept=False, max_iter=1544, multi_class=multinomial, penalty=l2, solver=newton-cg; total time=   0.3s\n",
      "[CV] END C=0.0995, fit_intercept=False, max_iter=1494, multi_class=multinomial, penalty=l2, solver=newton-cg; total time=   0.3s\n",
      "[CV] END C=0.0995, fit_intercept=False, max_iter=1494, multi_class=multinomial, penalty=l2, solver=newton-cg; total time=   0.2s\n",
      "[CV] END C=0.0995, fit_intercept=False, max_iter=1494, multi_class=multinomial, penalty=l2, solver=newton-cg; total time=   0.3s\n",
      "[CV] END C=0.0995, fit_intercept=False, max_iter=1494, multi_class=multinomial, penalty=l2, solver=newton-cg; total time=   0.3s\n",
      "[CV] END C=0.0995, fit_intercept=False, max_iter=1494, multi_class=multinomial, penalty=l2, solver=newton-cg; total time=   0.3s\n",
      "[CV] END C=0.0995, fit_intercept=False, max_iter=1494, multi_class=multinomial, penalty=l2, solver=newton-cg; total time=   0.3s\n",
      "[CV] END C=0.0995, fit_intercept=False, max_iter=1494, multi_class=multinomial, penalty=l2, solver=newton-cg; total time=   0.3s\n",
      "[CV] END C=0.0995, fit_intercept=False, max_iter=1494, multi_class=multinomial, penalty=l2, solver=newton-cg; total time=   0.3s\n",
      "[CV] END C=0.0995, fit_intercept=False, max_iter=1494, multi_class=multinomial, penalty=l2, solver=newton-cg; total time=   0.3s\n",
      "[CV] END C=0.0995, fit_intercept=False, max_iter=1494, multi_class=multinomial, penalty=l2, solver=newton-cg; total time=   0.3s\n",
      "[CV] END C=0.0995, fit_intercept=False, max_iter=1564, multi_class=multinomial, penalty=l2, solver=newton-cg; total time=   0.3s\n",
      "[CV] END C=0.0995, fit_intercept=False, max_iter=1564, multi_class=multinomial, penalty=l2, solver=newton-cg; total time=   0.3s\n",
      "[CV] END C=0.0995, fit_intercept=False, max_iter=1564, multi_class=multinomial, penalty=l2, solver=newton-cg; total time=   0.3s\n",
      "[CV] END C=0.0995, fit_intercept=False, max_iter=1564, multi_class=multinomial, penalty=l2, solver=newton-cg; total time=   0.3s\n",
      "[CV] END C=0.0995, fit_intercept=False, max_iter=1564, multi_class=multinomial, penalty=l2, solver=newton-cg; total time=   0.3s\n",
      "[CV] END C=0.0995, fit_intercept=False, max_iter=1564, multi_class=multinomial, penalty=l2, solver=newton-cg; total time=   0.3s\n",
      "[CV] END C=0.0995, fit_intercept=False, max_iter=1564, multi_class=multinomial, penalty=l2, solver=newton-cg; total time=   0.3s\n",
      "[CV] END C=0.0995, fit_intercept=False, max_iter=1564, multi_class=multinomial, penalty=l2, solver=newton-cg; total time=   0.4s\n",
      "[CV] END C=0.0995, fit_intercept=False, max_iter=1564, multi_class=multinomial, penalty=l2, solver=newton-cg; total time=   0.4s\n",
      "[CV] END C=0.0995, fit_intercept=False, max_iter=1564, multi_class=multinomial, penalty=l2, solver=newton-cg; total time=   0.4s\n",
      "[CV] END C=0.10500000000000001, fit_intercept=False, max_iter=1344, multi_class=multinomial, penalty=l2, solver=newton-cg; total time=   0.3s\n",
      "[CV] END C=0.10500000000000001, fit_intercept=False, max_iter=1344, multi_class=multinomial, penalty=l2, solver=newton-cg; total time=   0.3s\n"
     ]
    },
    {
     "name": "stdout",
     "output_type": "stream",
     "text": [
      "[CV] END C=0.10500000000000001, fit_intercept=False, max_iter=1344, multi_class=multinomial, penalty=l2, solver=newton-cg; total time=   0.3s\n",
      "[CV] END C=0.10500000000000001, fit_intercept=False, max_iter=1344, multi_class=multinomial, penalty=l2, solver=newton-cg; total time=   0.3s\n",
      "[CV] END C=0.10500000000000001, fit_intercept=False, max_iter=1344, multi_class=multinomial, penalty=l2, solver=newton-cg; total time=   0.3s\n",
      "[CV] END C=0.10500000000000001, fit_intercept=False, max_iter=1344, multi_class=multinomial, penalty=l2, solver=newton-cg; total time=   0.3s\n",
      "[CV] END C=0.10500000000000001, fit_intercept=False, max_iter=1344, multi_class=multinomial, penalty=l2, solver=newton-cg; total time=   0.3s\n",
      "[CV] END C=0.10500000000000001, fit_intercept=False, max_iter=1344, multi_class=multinomial, penalty=l2, solver=newton-cg; total time=   0.3s\n",
      "[CV] END C=0.10500000000000001, fit_intercept=False, max_iter=1344, multi_class=multinomial, penalty=l2, solver=newton-cg; total time=   0.4s\n",
      "[CV] END C=0.10500000000000001, fit_intercept=False, max_iter=1344, multi_class=multinomial, penalty=l2, solver=newton-cg; total time=   0.3s\n",
      "[CV] END C=0.10500000000000001, fit_intercept=False, max_iter=1394, multi_class=multinomial, penalty=l2, solver=newton-cg; total time=   0.3s\n",
      "[CV] END C=0.10500000000000001, fit_intercept=False, max_iter=1394, multi_class=multinomial, penalty=l2, solver=newton-cg; total time=   0.3s\n",
      "[CV] END C=0.10500000000000001, fit_intercept=False, max_iter=1394, multi_class=multinomial, penalty=l2, solver=newton-cg; total time=   0.3s\n",
      "[CV] END C=0.10500000000000001, fit_intercept=False, max_iter=1394, multi_class=multinomial, penalty=l2, solver=newton-cg; total time=   0.3s\n",
      "[CV] END C=0.10500000000000001, fit_intercept=False, max_iter=1394, multi_class=multinomial, penalty=l2, solver=newton-cg; total time=   0.2s\n",
      "[CV] END C=0.10500000000000001, fit_intercept=False, max_iter=1394, multi_class=multinomial, penalty=l2, solver=newton-cg; total time=   0.2s\n",
      "[CV] END C=0.10500000000000001, fit_intercept=False, max_iter=1394, multi_class=multinomial, penalty=l2, solver=newton-cg; total time=   0.3s\n",
      "[CV] END C=0.10500000000000001, fit_intercept=False, max_iter=1394, multi_class=multinomial, penalty=l2, solver=newton-cg; total time=   0.3s\n",
      "[CV] END C=0.10500000000000001, fit_intercept=False, max_iter=1394, multi_class=multinomial, penalty=l2, solver=newton-cg; total time=   0.3s\n",
      "[CV] END C=0.10500000000000001, fit_intercept=False, max_iter=1394, multi_class=multinomial, penalty=l2, solver=newton-cg; total time=   0.3s\n",
      "[CV] END C=0.10500000000000001, fit_intercept=False, max_iter=1444, multi_class=multinomial, penalty=l2, solver=newton-cg; total time=   0.3s\n",
      "[CV] END C=0.10500000000000001, fit_intercept=False, max_iter=1444, multi_class=multinomial, penalty=l2, solver=newton-cg; total time=   0.2s\n",
      "[CV] END C=0.10500000000000001, fit_intercept=False, max_iter=1444, multi_class=multinomial, penalty=l2, solver=newton-cg; total time=   0.3s\n",
      "[CV] END C=0.10500000000000001, fit_intercept=False, max_iter=1444, multi_class=multinomial, penalty=l2, solver=newton-cg; total time=   0.3s\n",
      "[CV] END C=0.10500000000000001, fit_intercept=False, max_iter=1444, multi_class=multinomial, penalty=l2, solver=newton-cg; total time=   0.3s\n",
      "[CV] END C=0.10500000000000001, fit_intercept=False, max_iter=1444, multi_class=multinomial, penalty=l2, solver=newton-cg; total time=   0.3s\n",
      "[CV] END C=0.10500000000000001, fit_intercept=False, max_iter=1444, multi_class=multinomial, penalty=l2, solver=newton-cg; total time=   0.3s\n",
      "[CV] END C=0.10500000000000001, fit_intercept=False, max_iter=1444, multi_class=multinomial, penalty=l2, solver=newton-cg; total time=   0.3s\n",
      "[CV] END C=0.10500000000000001, fit_intercept=False, max_iter=1444, multi_class=multinomial, penalty=l2, solver=newton-cg; total time=   0.3s\n",
      "[CV] END C=0.10500000000000001, fit_intercept=False, max_iter=1444, multi_class=multinomial, penalty=l2, solver=newton-cg; total time=   0.3s\n",
      "[CV] END C=0.10500000000000001, fit_intercept=False, max_iter=1544, multi_class=multinomial, penalty=l2, solver=newton-cg; total time=   0.3s\n",
      "[CV] END C=0.10500000000000001, fit_intercept=False, max_iter=1544, multi_class=multinomial, penalty=l2, solver=newton-cg; total time=   0.3s\n",
      "[CV] END C=0.10500000000000001, fit_intercept=False, max_iter=1544, multi_class=multinomial, penalty=l2, solver=newton-cg; total time=   0.3s\n",
      "[CV] END C=0.10500000000000001, fit_intercept=False, max_iter=1544, multi_class=multinomial, penalty=l2, solver=newton-cg; total time=   0.3s\n",
      "[CV] END C=0.10500000000000001, fit_intercept=False, max_iter=1544, multi_class=multinomial, penalty=l2, solver=newton-cg; total time=   0.3s\n",
      "[CV] END C=0.10500000000000001, fit_intercept=False, max_iter=1544, multi_class=multinomial, penalty=l2, solver=newton-cg; total time=   0.2s\n",
      "[CV] END C=0.10500000000000001, fit_intercept=False, max_iter=1544, multi_class=multinomial, penalty=l2, solver=newton-cg; total time=   0.3s\n",
      "[CV] END C=0.10500000000000001, fit_intercept=False, max_iter=1544, multi_class=multinomial, penalty=l2, solver=newton-cg; total time=   0.3s\n",
      "[CV] END C=0.10500000000000001, fit_intercept=False, max_iter=1544, multi_class=multinomial, penalty=l2, solver=newton-cg; total time=   0.3s\n",
      "[CV] END C=0.10500000000000001, fit_intercept=False, max_iter=1544, multi_class=multinomial, penalty=l2, solver=newton-cg; total time=   0.3s\n",
      "[CV] END C=0.10500000000000001, fit_intercept=False, max_iter=1494, multi_class=multinomial, penalty=l2, solver=newton-cg; total time=   0.3s\n",
      "[CV] END C=0.10500000000000001, fit_intercept=False, max_iter=1494, multi_class=multinomial, penalty=l2, solver=newton-cg; total time=   0.3s\n",
      "[CV] END C=0.10500000000000001, fit_intercept=False, max_iter=1494, multi_class=multinomial, penalty=l2, solver=newton-cg; total time=   0.3s\n",
      "[CV] END C=0.10500000000000001, fit_intercept=False, max_iter=1494, multi_class=multinomial, penalty=l2, solver=newton-cg; total time=   0.3s\n",
      "[CV] END C=0.10500000000000001, fit_intercept=False, max_iter=1494, multi_class=multinomial, penalty=l2, solver=newton-cg; total time=   0.3s\n",
      "[CV] END C=0.10500000000000001, fit_intercept=False, max_iter=1494, multi_class=multinomial, penalty=l2, solver=newton-cg; total time=   0.3s\n",
      "[CV] END C=0.10500000000000001, fit_intercept=False, max_iter=1494, multi_class=multinomial, penalty=l2, solver=newton-cg; total time=   0.3s\n",
      "[CV] END C=0.10500000000000001, fit_intercept=False, max_iter=1494, multi_class=multinomial, penalty=l2, solver=newton-cg; total time=   0.4s\n",
      "[CV] END C=0.10500000000000001, fit_intercept=False, max_iter=1494, multi_class=multinomial, penalty=l2, solver=newton-cg; total time=   0.3s\n",
      "[CV] END C=0.10500000000000001, fit_intercept=False, max_iter=1494, multi_class=multinomial, penalty=l2, solver=newton-cg; total time=   0.3s\n",
      "[CV] END C=0.10500000000000001, fit_intercept=False, max_iter=1564, multi_class=multinomial, penalty=l2, solver=newton-cg; total time=   0.3s\n",
      "[CV] END C=0.10500000000000001, fit_intercept=False, max_iter=1564, multi_class=multinomial, penalty=l2, solver=newton-cg; total time=   0.3s\n",
      "[CV] END C=0.10500000000000001, fit_intercept=False, max_iter=1564, multi_class=multinomial, penalty=l2, solver=newton-cg; total time=   0.3s\n",
      "[CV] END C=0.10500000000000001, fit_intercept=False, max_iter=1564, multi_class=multinomial, penalty=l2, solver=newton-cg; total time=   0.3s\n",
      "[CV] END C=0.10500000000000001, fit_intercept=False, max_iter=1564, multi_class=multinomial, penalty=l2, solver=newton-cg; total time=   0.3s\n",
      "[CV] END C=0.10500000000000001, fit_intercept=False, max_iter=1564, multi_class=multinomial, penalty=l2, solver=newton-cg; total time=   0.3s\n",
      "[CV] END C=0.10500000000000001, fit_intercept=False, max_iter=1564, multi_class=multinomial, penalty=l2, solver=newton-cg; total time=   0.3s\n",
      "[CV] END C=0.10500000000000001, fit_intercept=False, max_iter=1564, multi_class=multinomial, penalty=l2, solver=newton-cg; total time=   0.3s\n",
      "[CV] END C=0.10500000000000001, fit_intercept=False, max_iter=1564, multi_class=multinomial, penalty=l2, solver=newton-cg; total time=   0.3s\n",
      "[CV] END C=0.10500000000000001, fit_intercept=False, max_iter=1564, multi_class=multinomial, penalty=l2, solver=newton-cg; total time=   0.3s\n"
     ]
    },
    {
     "name": "stdout",
     "output_type": "stream",
     "text": [
      "[CV] END C=0.1009, fit_intercept=False, max_iter=1344, multi_class=multinomial, penalty=l2, solver=newton-cg; total time=   0.2s\n",
      "[CV] END C=0.1009, fit_intercept=False, max_iter=1344, multi_class=multinomial, penalty=l2, solver=newton-cg; total time=   0.3s\n",
      "[CV] END C=0.1009, fit_intercept=False, max_iter=1344, multi_class=multinomial, penalty=l2, solver=newton-cg; total time=   0.3s\n",
      "[CV] END C=0.1009, fit_intercept=False, max_iter=1344, multi_class=multinomial, penalty=l2, solver=newton-cg; total time=   0.3s\n",
      "[CV] END C=0.1009, fit_intercept=False, max_iter=1344, multi_class=multinomial, penalty=l2, solver=newton-cg; total time=   0.3s\n",
      "[CV] END C=0.1009, fit_intercept=False, max_iter=1344, multi_class=multinomial, penalty=l2, solver=newton-cg; total time=   0.2s\n",
      "[CV] END C=0.1009, fit_intercept=False, max_iter=1344, multi_class=multinomial, penalty=l2, solver=newton-cg; total time=   0.3s\n",
      "[CV] END C=0.1009, fit_intercept=False, max_iter=1344, multi_class=multinomial, penalty=l2, solver=newton-cg; total time=   0.3s\n",
      "[CV] END C=0.1009, fit_intercept=False, max_iter=1344, multi_class=multinomial, penalty=l2, solver=newton-cg; total time=   0.3s\n",
      "[CV] END C=0.1009, fit_intercept=False, max_iter=1344, multi_class=multinomial, penalty=l2, solver=newton-cg; total time=   0.3s\n",
      "[CV] END C=0.1009, fit_intercept=False, max_iter=1394, multi_class=multinomial, penalty=l2, solver=newton-cg; total time=   0.2s\n",
      "[CV] END C=0.1009, fit_intercept=False, max_iter=1394, multi_class=multinomial, penalty=l2, solver=newton-cg; total time=   0.3s\n",
      "[CV] END C=0.1009, fit_intercept=False, max_iter=1394, multi_class=multinomial, penalty=l2, solver=newton-cg; total time=   0.3s\n",
      "[CV] END C=0.1009, fit_intercept=False, max_iter=1394, multi_class=multinomial, penalty=l2, solver=newton-cg; total time=   0.3s\n",
      "[CV] END C=0.1009, fit_intercept=False, max_iter=1394, multi_class=multinomial, penalty=l2, solver=newton-cg; total time=   0.3s\n",
      "[CV] END C=0.1009, fit_intercept=False, max_iter=1394, multi_class=multinomial, penalty=l2, solver=newton-cg; total time=   0.3s\n",
      "[CV] END C=0.1009, fit_intercept=False, max_iter=1394, multi_class=multinomial, penalty=l2, solver=newton-cg; total time=   0.3s\n",
      "[CV] END C=0.1009, fit_intercept=False, max_iter=1394, multi_class=multinomial, penalty=l2, solver=newton-cg; total time=   0.3s\n",
      "[CV] END C=0.1009, fit_intercept=False, max_iter=1394, multi_class=multinomial, penalty=l2, solver=newton-cg; total time=   0.3s\n",
      "[CV] END C=0.1009, fit_intercept=False, max_iter=1394, multi_class=multinomial, penalty=l2, solver=newton-cg; total time=   0.3s\n",
      "[CV] END C=0.1009, fit_intercept=False, max_iter=1444, multi_class=multinomial, penalty=l2, solver=newton-cg; total time=   0.3s\n",
      "[CV] END C=0.1009, fit_intercept=False, max_iter=1444, multi_class=multinomial, penalty=l2, solver=newton-cg; total time=   0.3s\n",
      "[CV] END C=0.1009, fit_intercept=False, max_iter=1444, multi_class=multinomial, penalty=l2, solver=newton-cg; total time=   0.3s\n",
      "[CV] END C=0.1009, fit_intercept=False, max_iter=1444, multi_class=multinomial, penalty=l2, solver=newton-cg; total time=   0.3s\n",
      "[CV] END C=0.1009, fit_intercept=False, max_iter=1444, multi_class=multinomial, penalty=l2, solver=newton-cg; total time=   0.3s\n",
      "[CV] END C=0.1009, fit_intercept=False, max_iter=1444, multi_class=multinomial, penalty=l2, solver=newton-cg; total time=   0.3s\n",
      "[CV] END C=0.1009, fit_intercept=False, max_iter=1444, multi_class=multinomial, penalty=l2, solver=newton-cg; total time=   0.3s\n",
      "[CV] END C=0.1009, fit_intercept=False, max_iter=1444, multi_class=multinomial, penalty=l2, solver=newton-cg; total time=   0.3s\n",
      "[CV] END C=0.1009, fit_intercept=False, max_iter=1444, multi_class=multinomial, penalty=l2, solver=newton-cg; total time=   0.3s\n",
      "[CV] END C=0.1009, fit_intercept=False, max_iter=1444, multi_class=multinomial, penalty=l2, solver=newton-cg; total time=   0.3s\n",
      "[CV] END C=0.1009, fit_intercept=False, max_iter=1544, multi_class=multinomial, penalty=l2, solver=newton-cg; total time=   0.3s\n",
      "[CV] END C=0.1009, fit_intercept=False, max_iter=1544, multi_class=multinomial, penalty=l2, solver=newton-cg; total time=   0.3s\n",
      "[CV] END C=0.1009, fit_intercept=False, max_iter=1544, multi_class=multinomial, penalty=l2, solver=newton-cg; total time=   0.3s\n",
      "[CV] END C=0.1009, fit_intercept=False, max_iter=1544, multi_class=multinomial, penalty=l2, solver=newton-cg; total time=   0.3s\n",
      "[CV] END C=0.1009, fit_intercept=False, max_iter=1544, multi_class=multinomial, penalty=l2, solver=newton-cg; total time=   0.3s\n",
      "[CV] END C=0.1009, fit_intercept=False, max_iter=1544, multi_class=multinomial, penalty=l2, solver=newton-cg; total time=   0.3s\n",
      "[CV] END C=0.1009, fit_intercept=False, max_iter=1544, multi_class=multinomial, penalty=l2, solver=newton-cg; total time=   0.3s\n",
      "[CV] END C=0.1009, fit_intercept=False, max_iter=1544, multi_class=multinomial, penalty=l2, solver=newton-cg; total time=   0.3s\n",
      "[CV] END C=0.1009, fit_intercept=False, max_iter=1544, multi_class=multinomial, penalty=l2, solver=newton-cg; total time=   0.4s\n",
      "[CV] END C=0.1009, fit_intercept=False, max_iter=1544, multi_class=multinomial, penalty=l2, solver=newton-cg; total time=   0.4s\n",
      "[CV] END C=0.1009, fit_intercept=False, max_iter=1494, multi_class=multinomial, penalty=l2, solver=newton-cg; total time=   0.3s\n",
      "[CV] END C=0.1009, fit_intercept=False, max_iter=1494, multi_class=multinomial, penalty=l2, solver=newton-cg; total time=   0.4s\n",
      "[CV] END C=0.1009, fit_intercept=False, max_iter=1494, multi_class=multinomial, penalty=l2, solver=newton-cg; total time=   0.4s\n",
      "[CV] END C=0.1009, fit_intercept=False, max_iter=1494, multi_class=multinomial, penalty=l2, solver=newton-cg; total time=   0.4s\n",
      "[CV] END C=0.1009, fit_intercept=False, max_iter=1494, multi_class=multinomial, penalty=l2, solver=newton-cg; total time=   0.4s\n",
      "[CV] END C=0.1009, fit_intercept=False, max_iter=1494, multi_class=multinomial, penalty=l2, solver=newton-cg; total time=   0.3s\n",
      "[CV] END C=0.1009, fit_intercept=False, max_iter=1494, multi_class=multinomial, penalty=l2, solver=newton-cg; total time=   0.4s\n",
      "[CV] END C=0.1009, fit_intercept=False, max_iter=1494, multi_class=multinomial, penalty=l2, solver=newton-cg; total time=   0.3s\n",
      "[CV] END C=0.1009, fit_intercept=False, max_iter=1494, multi_class=multinomial, penalty=l2, solver=newton-cg; total time=   0.4s\n",
      "[CV] END C=0.1009, fit_intercept=False, max_iter=1494, multi_class=multinomial, penalty=l2, solver=newton-cg; total time=   0.4s\n",
      "[CV] END C=0.1009, fit_intercept=False, max_iter=1564, multi_class=multinomial, penalty=l2, solver=newton-cg; total time=   0.4s\n",
      "[CV] END C=0.1009, fit_intercept=False, max_iter=1564, multi_class=multinomial, penalty=l2, solver=newton-cg; total time=   0.4s\n",
      "[CV] END C=0.1009, fit_intercept=False, max_iter=1564, multi_class=multinomial, penalty=l2, solver=newton-cg; total time=   0.3s\n",
      "[CV] END C=0.1009, fit_intercept=False, max_iter=1564, multi_class=multinomial, penalty=l2, solver=newton-cg; total time=   0.3s\n",
      "[CV] END C=0.1009, fit_intercept=False, max_iter=1564, multi_class=multinomial, penalty=l2, solver=newton-cg; total time=   0.3s\n",
      "[CV] END C=0.1009, fit_intercept=False, max_iter=1564, multi_class=multinomial, penalty=l2, solver=newton-cg; total time=   0.3s\n",
      "[CV] END C=0.1009, fit_intercept=False, max_iter=1564, multi_class=multinomial, penalty=l2, solver=newton-cg; total time=   0.3s\n",
      "[CV] END C=0.1009, fit_intercept=False, max_iter=1564, multi_class=multinomial, penalty=l2, solver=newton-cg; total time=   0.3s\n",
      "[CV] END C=0.1009, fit_intercept=False, max_iter=1564, multi_class=multinomial, penalty=l2, solver=newton-cg; total time=   0.3s\n",
      "[CV] END C=0.1009, fit_intercept=False, max_iter=1564, multi_class=multinomial, penalty=l2, solver=newton-cg; total time=   0.3s\n"
     ]
    },
    {
     "data": {
      "text/plain": [
       "GridSearchCV(cv=10, estimator=LogisticRegression(),\n",
       "             param_grid={'C': [0.09910000000000001, 0.0995, 0.10500000000000001,\n",
       "                               0.1009],\n",
       "                         'fit_intercept': [False],\n",
       "                         'max_iter': [1344, 1394, 1444, 1544, 1494, 1564],\n",
       "                         'multi_class': ['multinomial'], 'penalty': ['l2'],\n",
       "                         'solver': ['newton-cg']},\n",
       "             verbose=2)"
      ]
     },
     "execution_count": 32,
     "metadata": {},
     "output_type": "execute_result"
    }
   ],
   "source": [
    "lr = LogisticRegression()\n",
    "grid_search=GridSearchCV(estimator=lr,param_grid=param_grid,cv=10,verbose=2)\n",
    "grid_search.fit(X_train,y_train)"
   ]
  },
  {
   "cell_type": "code",
   "execution_count": 33,
   "id": "ec4c6c45",
   "metadata": {},
   "outputs": [
    {
     "data": {
      "text/plain": [
       "LogisticRegression(C=0.09910000000000001, fit_intercept=False, max_iter=1344,\n",
       "                   multi_class='multinomial', solver='newton-cg')"
      ]
     },
     "execution_count": 33,
     "metadata": {},
     "output_type": "execute_result"
    }
   ],
   "source": [
    "best_grid = grid_search.best_estimator_\n",
    "best_grid"
   ]
  },
  {
   "cell_type": "code",
   "execution_count": 34,
   "id": "1f433e87",
   "metadata": {},
   "outputs": [
    {
     "name": "stdout",
     "output_type": "stream",
     "text": [
      "Logistic Regression Training Result\n",
      "[[ 35 104]\n",
      " [ 12 896]]\n",
      "Auc Score 0.7787769784172662\n",
      "Accuracy Score 0.889207258834766\n",
      "Classification report:               precision    recall  f1-score   support\n",
      "\n",
      "         0.0       0.74      0.25      0.38       139\n",
      "         1.0       0.90      0.99      0.94       908\n",
      "\n",
      "    accuracy                           0.89      1047\n",
      "   macro avg       0.82      0.62      0.66      1047\n",
      "weighted avg       0.88      0.89      0.86      1047\n",
      "\n",
      "Logistic Regression Testing Result\n",
      "[[ 13  57]\n",
      " [ 13 367]]\n",
      "Auc Score 0.6419172932330827\n",
      "Accuracy Score 0.8444444444444444\n",
      "Classification report:               precision    recall  f1-score   support\n",
      "\n",
      "         0.0       0.50      0.19      0.27        70\n",
      "         1.0       0.87      0.97      0.91       380\n",
      "\n",
      "    accuracy                           0.84       450\n",
      "   macro avg       0.68      0.58      0.59       450\n",
      "weighted avg       0.81      0.84      0.81       450\n",
      "\n"
     ]
    }
   ],
   "source": [
    "from sklearn.metrics import roc_curve, roc_auc_score\n",
    "y_train_pred = best_grid.predict(X_train)\n",
    "y_pred=best_grid.predict(X_test)\n",
    "print(\"Logistic Regression Training Result\")\n",
    "print(confusion_matrix(y_train,y_train_pred))\n",
    "print(\"Auc Score {}\".format(roc_auc_score(y_train, best_grid.predict_proba(X_train)[:,1])))\n",
    "print(\"Accuracy Score {}\".format(accuracy_score(y_train,y_train_pred)))\n",
    "print(\"Classification report: {}\".format(classification_report(y_train,y_train_pred)))\n",
    "\n",
    "print(\"Logistic Regression Testing Result\")\n",
    "print(confusion_matrix(y_test,y_pred))\n",
    "print(\"Auc Score {}\".format(roc_auc_score(y_test, best_grid.predict_proba(X_test)[:,1])))\n",
    "print(\"Accuracy Score {}\".format(accuracy_score(y_test,y_pred)))\n",
    "print(\"Classification report: {}\".format(classification_report(y_test,y_pred)))"
   ]
  },
  {
   "cell_type": "code",
   "execution_count": 35,
   "id": "955bdf1a",
   "metadata": {},
   "outputs": [],
   "source": [
    "from sklearn.model_selection import KFold\n",
    "from sklearn.metrics import roc_curve, roc_auc_score\n",
    "kf = KFold(n_splits=4)\n",
    "auc_train = []\n",
    "auc_test = []\n",
    "for train_index, test_index in kf.split(Z): \n",
    "    X_train, X_test = Z[train_index], Z[test_index]\n",
    "    y_train, y_test = Y[train_index], Y[test_index]\n",
    "    model = best_grid\n",
    "    model.fit(X_train, y_train)\n",
    "    y_train_pred = model.predict(X_train)\n",
    "    y_test_pred = model.predict(X_test)\n",
    "    auc_train.append(roc_auc_score(y_train, model.predict_proba(X_train)[:,1]))\n",
    "    auc_test.append(roc_auc_score(y_test, model.predict_proba(X_test)[:,1]))"
   ]
  },
  {
   "cell_type": "code",
   "execution_count": 36,
   "id": "a8632f73",
   "metadata": {},
   "outputs": [
    {
     "data": {
      "image/png": "[encoded data removed]",
      "text/plain": [
       "<Figure size 640x480 with 1 Axes>"
      ]
     },
     "metadata": {},
     "output_type": "display_data"
    }
   ],
   "source": [
    "folds = range(1, kf.get_n_splits() + 1)\n",
    "plt.plot(folds, auc_train, 'o-', color='green', label='train')\n",
    "plt.plot(folds, auc_test, 'o-', color='red', label='test')\n",
    "plt.legend()\n",
    "plt.grid()\n",
    "plt.xlabel('Number of fold')\n",
    "plt.ylabel('Area Under the Curve')\n",
    "plt.show()"
   ]
  },
  {
   "cell_type": "code",
   "execution_count": 37,
   "id": "1232f353",
   "metadata": {},
   "outputs": [],
   "source": [
    "from sklearn.neighbors import KNeighborsClassifier\n",
    "model = KNeighborsClassifier()"
   ]
  },
  {
   "cell_type": "code",
   "execution_count": 38,
   "id": "2cc25fbf",
   "metadata": {},
   "outputs": [
    {
     "name": "stderr",
     "output_type": "stream",
     "text": [
      "C:\\Users\\hp\\anaconda3\\lib\\site-packages\\sklearn\\neighbors\\_classification.py:228: FutureWarning: Unlike other reduction functions (e.g. `skew`, `kurtosis`), the default behavior of `mode` typically preserves the axis it acts along. In SciPy 1.11.0, this behavior will change: the default value of `keepdims` will become False, the `axis` over which the statistic is taken will be eliminated, and the value None will no longer be accepted. Set `keepdims` to True or False to avoid this warning.\n",
      "  mode, _ = stats.mode(_y[neigh_ind, k], axis=1)\n",
      "C:\\Users\\hp\\anaconda3\\lib\\site-packages\\sklearn\\neighbors\\_classification.py:228: FutureWarning: Unlike other reduction functions (e.g. `skew`, `kurtosis`), the default behavior of `mode` typically preserves the axis it acts along. In SciPy 1.11.0, this behavior will change: the default value of `keepdims` will become False, the `axis` over which the statistic is taken will be eliminated, and the value None will no longer be accepted. Set `keepdims` to True or False to avoid this warning.\n",
      "  mode, _ = stats.mode(_y[neigh_ind, k], axis=1)\n",
      "C:\\Users\\hp\\anaconda3\\lib\\site-packages\\sklearn\\neighbors\\_classification.py:228: FutureWarning: Unlike other reduction functions (e.g. `skew`, `kurtosis`), the default behavior of `mode` typically preserves the axis it acts along. In SciPy 1.11.0, this behavior will change: the default value of `keepdims` will become False, the `axis` over which the statistic is taken will be eliminated, and the value None will no longer be accepted. Set `keepdims` to True or False to avoid this warning.\n",
      "  mode, _ = stats.mode(_y[neigh_ind, k], axis=1)\n",
      "C:\\Users\\hp\\anaconda3\\lib\\site-packages\\sklearn\\neighbors\\_classification.py:228: FutureWarning: Unlike other reduction functions (e.g. `skew`, `kurtosis`), the default behavior of `mode` typically preserves the axis it acts along. In SciPy 1.11.0, this behavior will change: the default value of `keepdims` will become False, the `axis` over which the statistic is taken will be eliminated, and the value None will no longer be accepted. Set `keepdims` to True or False to avoid this warning.\n",
      "  mode, _ = stats.mode(_y[neigh_ind, k], axis=1)\n",
      "C:\\Users\\hp\\anaconda3\\lib\\site-packages\\sklearn\\neighbors\\_classification.py:228: FutureWarning: Unlike other reduction functions (e.g. `skew`, `kurtosis`), the default behavior of `mode` typically preserves the axis it acts along. In SciPy 1.11.0, this behavior will change: the default value of `keepdims` will become False, the `axis` over which the statistic is taken will be eliminated, and the value None will no longer be accepted. Set `keepdims` to True or False to avoid this warning.\n",
      "  mode, _ = stats.mode(_y[neigh_ind, k], axis=1)\n",
      "C:\\Users\\hp\\anaconda3\\lib\\site-packages\\sklearn\\neighbors\\_classification.py:228: FutureWarning: Unlike other reduction functions (e.g. `skew`, `kurtosis`), the default behavior of `mode` typically preserves the axis it acts along. In SciPy 1.11.0, this behavior will change: the default value of `keepdims` will become False, the `axis` over which the statistic is taken will be eliminated, and the value None will no longer be accepted. Set `keepdims` to True or False to avoid this warning.\n",
      "  mode, _ = stats.mode(_y[neigh_ind, k], axis=1)\n",
      "C:\\Users\\hp\\anaconda3\\lib\\site-packages\\sklearn\\neighbors\\_classification.py:228: FutureWarning: Unlike other reduction functions (e.g. `skew`, `kurtosis`), the default behavior of `mode` typically preserves the axis it acts along. In SciPy 1.11.0, this behavior will change: the default value of `keepdims` will become False, the `axis` over which the statistic is taken will be eliminated, and the value None will no longer be accepted. Set `keepdims` to True or False to avoid this warning.\n",
      "  mode, _ = stats.mode(_y[neigh_ind, k], axis=1)\n",
      "C:\\Users\\hp\\anaconda3\\lib\\site-packages\\sklearn\\neighbors\\_classification.py:228: FutureWarning: Unlike other reduction functions (e.g. `skew`, `kurtosis`), the default behavior of `mode` typically preserves the axis it acts along. In SciPy 1.11.0, this behavior will change: the default value of `keepdims` will become False, the `axis` over which the statistic is taken will be eliminated, and the value None will no longer be accepted. Set `keepdims` to True or False to avoid this warning.\n",
      "  mode, _ = stats.mode(_y[neigh_ind, k], axis=1)\n"
     ]
    }
   ],
   "source": [
    "from sklearn.model_selection import KFold\n",
    "from sklearn.metrics import roc_curve, roc_auc_score\n",
    "kf = KFold(n_splits=4)\n",
    "auc_train = []\n",
    "auc_test = []\n",
    "for train_index, test_index in kf.split(Z): \n",
    "    X_train, X_test = Z[train_index], Z[test_index]\n",
    "    y_train, y_test = Y[train_index], Y[test_index]\n",
    "    model = KNeighborsClassifier( n_neighbors=2)\n",
    "    model.fit(X_train, y_train)\n",
    "    y_train_pred = model.predict(X_train)\n",
    "    y_test_pred = model.predict(X_test)\n",
    "    auc_train.append(roc_auc_score(y_train, model.predict_proba(X_train)[:,1]))\n",
    "    auc_test.append(roc_auc_score(y_test, model.predict_proba(X_test)[:,1]))"
   ]
  },
  {
   "cell_type": "code",
   "execution_count": 39,
   "id": "18b2c777",
   "metadata": {},
   "outputs": [
    {
     "data": {
      "image/png": "[encoded data removed]",
      "text/plain": [
       "<Figure size 640x480 with 1 Axes>"
      ]
     },
     "metadata": {},
     "output_type": "display_data"
    }
   ],
   "source": [
    "folds = range(1, kf.get_n_splits() + 1)\n",
    "plt.plot(folds, auc_train, 'o-', color='green', label='train')\n",
    "plt.plot(folds, auc_test, 'o-', color='red', label='test')\n",
    "plt.legend()\n",
    "plt.grid()\n",
    "plt.xlabel('Number of fold')\n",
    "plt.ylabel('Area Under the Curve')\n",
    "plt.show()"
   ]
  },
  {
   "cell_type": "code",
   "execution_count": 40,
   "id": "8982eefe",
   "metadata": {},
   "outputs": [
    {
     "name": "stderr",
     "output_type": "stream",
     "text": [
      "C:\\Users\\hp\\anaconda3\\lib\\site-packages\\sklearn\\neighbors\\_classification.py:228: FutureWarning: Unlike other reduction functions (e.g. `skew`, `kurtosis`), the default behavior of `mode` typically preserves the axis it acts along. In SciPy 1.11.0, this behavior will change: the default value of `keepdims` will become False, the `axis` over which the statistic is taken will be eliminated, and the value None will no longer be accepted. Set `keepdims` to True or False to avoid this warning.\n",
      "  mode, _ = stats.mode(_y[neigh_ind, k], axis=1)\n",
      "C:\\Users\\hp\\anaconda3\\lib\\site-packages\\sklearn\\neighbors\\_classification.py:228: FutureWarning: Unlike other reduction functions (e.g. `skew`, `kurtosis`), the default behavior of `mode` typically preserves the axis it acts along. In SciPy 1.11.0, this behavior will change: the default value of `keepdims` will become False, the `axis` over which the statistic is taken will be eliminated, and the value None will no longer be accepted. Set `keepdims` to True or False to avoid this warning.\n",
      "  mode, _ = stats.mode(_y[neigh_ind, k], axis=1)\n"
     ]
    },
    {
     "name": "stdout",
     "output_type": "stream",
     "text": [
      "Logistic Regression Algorithm in training\n",
      "              precision    recall  f1-score   support\n",
      "\n",
      "         0.0       0.66      1.00      0.79       139\n",
      "         1.0       1.00      0.92      0.96       908\n",
      "\n",
      "    accuracy                           0.93      1047\n",
      "   macro avg       0.83      0.96      0.88      1047\n",
      "weighted avg       0.95      0.93      0.94      1047\n",
      "\n",
      "[[139   0]\n",
      " [ 72 836]]\n",
      "ACC:  0.9312320916905444\n",
      "AUC:  0.9700503914049378\n",
      "Decision Tree Algorithm\n",
      "              precision    recall  f1-score   support\n",
      "\n",
      "         0.0       0.30      0.49      0.37        70\n",
      "         1.0       0.89      0.79      0.84       380\n",
      "\n",
      "    accuracy                           0.74       450\n",
      "   macro avg       0.60      0.64      0.60       450\n",
      "weighted avg       0.80      0.74      0.77       450\n",
      "\n",
      "[[ 34  36]\n",
      " [ 80 300]]\n",
      "ACC:  0.7422222222222222\n",
      "AUC:  0.645375939849624\n"
     ]
    }
   ],
   "source": [
    "from sklearn.model_selection import train_test_split\n",
    "from sklearn.metrics import confusion_matrix, classification_report, accuracy_score\n",
    "from sklearn.metrics import roc_curve, roc_auc_score\n",
    "\n",
    "X_train, X_test, y_train, y_test = train_test_split(Z, Y, test_size = 0.3, random_state = 0)\n",
    "\n",
    "model.fit(X_train, y_train)\n",
    "\n",
    "y_predict_training = model.predict(X_train)\n",
    "y_pred = model.predict(X_test)\n",
    "#summery of training accuracy by the classifier\n",
    "print(\"Logistic Regression Algorithm in training\")\n",
    "print(classification_report(y_train, y_predict_training))\n",
    "print(confusion_matrix(y_train, y_predict_training))\n",
    "print(\"ACC: \",accuracy_score(y_train, y_predict_training))\n",
    "print(\"AUC: \",roc_auc_score(y_train, model.predict_proba(X_train)[:,1]))\n",
    "\n",
    "#Summary of the predictions made by the classifier\n",
    "print(\"Decision Tree Algorithm\")\n",
    "print(classification_report(y_test, y_pred))\n",
    "print(confusion_matrix(y_test, y_pred))\n",
    "#Accuracy score\n",
    "print(\"ACC: \",accuracy_score(y_pred,y_test))\n",
    "print(\"AUC: \",roc_auc_score(y_test, model.predict_proba(X_test)[:,1]))"
   ]
  },
  {
   "cell_type": "code",
   "execution_count": 41,
   "id": "b33a50c3",
   "metadata": {},
   "outputs": [],
   "source": [
    "from sklearn.neighbors import KNeighborsClassifier\n",
    "knn = KNeighborsClassifier()"
   ]
  },
  {
   "cell_type": "code",
   "execution_count": 42,
   "id": "38af671b",
   "metadata": {},
   "outputs": [
    {
     "name": "stdout",
     "output_type": "stream",
     "text": [
      "{'n_neighbors': [5, 7, 9, 11, 13, 15], 'weights': ['uniform', 'distance'], 'metric': ['minkowski', 'euclidean', 'manhattan']}\n"
     ]
    }
   ],
   "source": [
    "n_neighbors = [5,7,9,11,13,15]\n",
    "weights = ['uniform','distance']\n",
    "metric = ['minkowski','euclidean','manhattan']\n",
    "random_grid = {\n",
    "    'n_neighbors' : n_neighbors,\n",
    "    'weights' : weights,\n",
    "    'metric' : metric\n",
    "}\n",
    "print(random_grid)"
   ]
  },
  {
   "cell_type": "code",
   "execution_count": 43,
   "id": "7fdb6c3b",
   "metadata": {},
   "outputs": [
    {
     "name": "stdout",
     "output_type": "stream",
     "text": [
      "Fitting 3 folds for each of 36 candidates, totalling 108 fits\n",
      "[CV] END ...metric=minkowski, n_neighbors=5, weights=uniform; total time=   0.0s\n",
      "[CV] END ...metric=minkowski, n_neighbors=5, weights=uniform; total time=   0.0s\n",
      "[CV] END ...metric=minkowski, n_neighbors=5, weights=uniform; total time=   0.0s\n",
      "[CV] END ..metric=minkowski, n_neighbors=5, weights=distance; total time=   0.0s\n",
      "[CV] END ..metric=minkowski, n_neighbors=5, weights=distance; total time=   0.0s\n"
     ]
    },
    {
     "name": "stderr",
     "output_type": "stream",
     "text": [
      "C:\\Users\\hp\\anaconda3\\lib\\site-packages\\sklearn\\model_selection\\_search.py:292: UserWarning: The total space of parameters 36 is smaller than n_iter=100. Running 36 iterations. For exhaustive searches, use GridSearchCV.\n",
      "  warnings.warn(\n",
      "C:\\Users\\hp\\anaconda3\\lib\\site-packages\\sklearn\\neighbors\\_classification.py:228: FutureWarning: Unlike other reduction functions (e.g. `skew`, `kurtosis`), the default behavior of `mode` typically preserves the axis it acts along. In SciPy 1.11.0, this behavior will change: the default value of `keepdims` will become False, the `axis` over which the statistic is taken will be eliminated, and the value None will no longer be accepted. Set `keepdims` to True or False to avoid this warning.\n",
      "  mode, _ = stats.mode(_y[neigh_ind, k], axis=1)\n",
      "C:\\Users\\hp\\anaconda3\\lib\\site-packages\\sklearn\\neighbors\\_classification.py:228: FutureWarning: Unlike other reduction functions (e.g. `skew`, `kurtosis`), the default behavior of `mode` typically preserves the axis it acts along. In SciPy 1.11.0, this behavior will change: the default value of `keepdims` will become False, the `axis` over which the statistic is taken will be eliminated, and the value None will no longer be accepted. Set `keepdims` to True or False to avoid this warning.\n",
      "  mode, _ = stats.mode(_y[neigh_ind, k], axis=1)\n",
      "C:\\Users\\hp\\anaconda3\\lib\\site-packages\\sklearn\\neighbors\\_classification.py:228: FutureWarning: Unlike other reduction functions (e.g. `skew`, `kurtosis`), the default behavior of `mode` typically preserves the axis it acts along. In SciPy 1.11.0, this behavior will change: the default value of `keepdims` will become False, the `axis` over which the statistic is taken will be eliminated, and the value None will no longer be accepted. Set `keepdims` to True or False to avoid this warning.\n",
      "  mode, _ = stats.mode(_y[neigh_ind, k], axis=1)\n"
     ]
    },
    {
     "name": "stdout",
     "output_type": "stream",
     "text": [
      "[CV] END ..metric=minkowski, n_neighbors=5, weights=distance; total time=   0.0s\n",
      "[CV] END ...metric=minkowski, n_neighbors=7, weights=uniform; total time=   0.0s\n",
      "[CV] END ...metric=minkowski, n_neighbors=7, weights=uniform; total time=   0.0s\n",
      "[CV] END ...metric=minkowski, n_neighbors=7, weights=uniform; total time=   0.0s\n",
      "[CV] END ..metric=minkowski, n_neighbors=7, weights=distance; total time=   0.0s\n",
      "[CV] END ..metric=minkowski, n_neighbors=7, weights=distance; total time=   0.0s\n",
      "[CV] END ..metric=minkowski, n_neighbors=7, weights=distance; total time=   0.0s\n"
     ]
    },
    {
     "name": "stderr",
     "output_type": "stream",
     "text": [
      "C:\\Users\\hp\\anaconda3\\lib\\site-packages\\sklearn\\neighbors\\_classification.py:228: FutureWarning: Unlike other reduction functions (e.g. `skew`, `kurtosis`), the default behavior of `mode` typically preserves the axis it acts along. In SciPy 1.11.0, this behavior will change: the default value of `keepdims` will become False, the `axis` over which the statistic is taken will be eliminated, and the value None will no longer be accepted. Set `keepdims` to True or False to avoid this warning.\n",
      "  mode, _ = stats.mode(_y[neigh_ind, k], axis=1)\n",
      "C:\\Users\\hp\\anaconda3\\lib\\site-packages\\sklearn\\neighbors\\_classification.py:228: FutureWarning: Unlike other reduction functions (e.g. `skew`, `kurtosis`), the default behavior of `mode` typically preserves the axis it acts along. In SciPy 1.11.0, this behavior will change: the default value of `keepdims` will become False, the `axis` over which the statistic is taken will be eliminated, and the value None will no longer be accepted. Set `keepdims` to True or False to avoid this warning.\n",
      "  mode, _ = stats.mode(_y[neigh_ind, k], axis=1)\n",
      "C:\\Users\\hp\\anaconda3\\lib\\site-packages\\sklearn\\neighbors\\_classification.py:228: FutureWarning: Unlike other reduction functions (e.g. `skew`, `kurtosis`), the default behavior of `mode` typically preserves the axis it acts along. In SciPy 1.11.0, this behavior will change: the default value of `keepdims` will become False, the `axis` over which the statistic is taken will be eliminated, and the value None will no longer be accepted. Set `keepdims` to True or False to avoid this warning.\n",
      "  mode, _ = stats.mode(_y[neigh_ind, k], axis=1)\n",
      "C:\\Users\\hp\\anaconda3\\lib\\site-packages\\sklearn\\neighbors\\_classification.py:228: FutureWarning: Unlike other reduction functions (e.g. `skew`, `kurtosis`), the default behavior of `mode` typically preserves the axis it acts along. In SciPy 1.11.0, this behavior will change: the default value of `keepdims` will become False, the `axis` over which the statistic is taken will be eliminated, and the value None will no longer be accepted. Set `keepdims` to True or False to avoid this warning.\n",
      "  mode, _ = stats.mode(_y[neigh_ind, k], axis=1)\n"
     ]
    },
    {
     "name": "stdout",
     "output_type": "stream",
     "text": [
      "[CV] END ...metric=minkowski, n_neighbors=9, weights=uniform; total time=   0.0s\n",
      "[CV] END ...metric=minkowski, n_neighbors=9, weights=uniform; total time=   0.0s\n",
      "[CV] END ...metric=minkowski, n_neighbors=9, weights=uniform; total time=   0.0s\n",
      "[CV] END ..metric=minkowski, n_neighbors=9, weights=distance; total time=   0.0s\n",
      "[CV] END ..metric=minkowski, n_neighbors=9, weights=distance; total time=   0.0s\n",
      "[CV] END ..metric=minkowski, n_neighbors=9, weights=distance; total time=   0.0s\n",
      "[CV] END ..metric=minkowski, n_neighbors=11, weights=uniform; total time=   0.0s\n"
     ]
    },
    {
     "name": "stderr",
     "output_type": "stream",
     "text": [
      "C:\\Users\\hp\\anaconda3\\lib\\site-packages\\sklearn\\neighbors\\_classification.py:228: FutureWarning: Unlike other reduction functions (e.g. `skew`, `kurtosis`), the default behavior of `mode` typically preserves the axis it acts along. In SciPy 1.11.0, this behavior will change: the default value of `keepdims` will become False, the `axis` over which the statistic is taken will be eliminated, and the value None will no longer be accepted. Set `keepdims` to True or False to avoid this warning.\n",
      "  mode, _ = stats.mode(_y[neigh_ind, k], axis=1)\n",
      "C:\\Users\\hp\\anaconda3\\lib\\site-packages\\sklearn\\neighbors\\_classification.py:228: FutureWarning: Unlike other reduction functions (e.g. `skew`, `kurtosis`), the default behavior of `mode` typically preserves the axis it acts along. In SciPy 1.11.0, this behavior will change: the default value of `keepdims` will become False, the `axis` over which the statistic is taken will be eliminated, and the value None will no longer be accepted. Set `keepdims` to True or False to avoid this warning.\n",
      "  mode, _ = stats.mode(_y[neigh_ind, k], axis=1)\n",
      "C:\\Users\\hp\\anaconda3\\lib\\site-packages\\sklearn\\neighbors\\_classification.py:228: FutureWarning: Unlike other reduction functions (e.g. `skew`, `kurtosis`), the default behavior of `mode` typically preserves the axis it acts along. In SciPy 1.11.0, this behavior will change: the default value of `keepdims` will become False, the `axis` over which the statistic is taken will be eliminated, and the value None will no longer be accepted. Set `keepdims` to True or False to avoid this warning.\n",
      "  mode, _ = stats.mode(_y[neigh_ind, k], axis=1)\n",
      "C:\\Users\\hp\\anaconda3\\lib\\site-packages\\sklearn\\neighbors\\_classification.py:228: FutureWarning: Unlike other reduction functions (e.g. `skew`, `kurtosis`), the default behavior of `mode` typically preserves the axis it acts along. In SciPy 1.11.0, this behavior will change: the default value of `keepdims` will become False, the `axis` over which the statistic is taken will be eliminated, and the value None will no longer be accepted. Set `keepdims` to True or False to avoid this warning.\n",
      "  mode, _ = stats.mode(_y[neigh_ind, k], axis=1)\n"
     ]
    },
    {
     "name": "stdout",
     "output_type": "stream",
     "text": [
      "[CV] END ..metric=minkowski, n_neighbors=11, weights=uniform; total time=   0.0s\n",
      "[CV] END ..metric=minkowski, n_neighbors=11, weights=uniform; total time=   0.0s\n",
      "[CV] END .metric=minkowski, n_neighbors=11, weights=distance; total time=   0.0s\n",
      "[CV] END .metric=minkowski, n_neighbors=11, weights=distance; total time=   0.0s\n",
      "[CV] END .metric=minkowski, n_neighbors=11, weights=distance; total time=   0.0s\n",
      "[CV] END ..metric=minkowski, n_neighbors=13, weights=uniform; total time=   0.0s\n"
     ]
    },
    {
     "name": "stderr",
     "output_type": "stream",
     "text": [
      "C:\\Users\\hp\\anaconda3\\lib\\site-packages\\sklearn\\neighbors\\_classification.py:228: FutureWarning: Unlike other reduction functions (e.g. `skew`, `kurtosis`), the default behavior of `mode` typically preserves the axis it acts along. In SciPy 1.11.0, this behavior will change: the default value of `keepdims` will become False, the `axis` over which the statistic is taken will be eliminated, and the value None will no longer be accepted. Set `keepdims` to True or False to avoid this warning.\n",
      "  mode, _ = stats.mode(_y[neigh_ind, k], axis=1)\n",
      "C:\\Users\\hp\\anaconda3\\lib\\site-packages\\sklearn\\neighbors\\_classification.py:228: FutureWarning: Unlike other reduction functions (e.g. `skew`, `kurtosis`), the default behavior of `mode` typically preserves the axis it acts along. In SciPy 1.11.0, this behavior will change: the default value of `keepdims` will become False, the `axis` over which the statistic is taken will be eliminated, and the value None will no longer be accepted. Set `keepdims` to True or False to avoid this warning.\n",
      "  mode, _ = stats.mode(_y[neigh_ind, k], axis=1)\n",
      "C:\\Users\\hp\\anaconda3\\lib\\site-packages\\sklearn\\neighbors\\_classification.py:228: FutureWarning: Unlike other reduction functions (e.g. `skew`, `kurtosis`), the default behavior of `mode` typically preserves the axis it acts along. In SciPy 1.11.0, this behavior will change: the default value of `keepdims` will become False, the `axis` over which the statistic is taken will be eliminated, and the value None will no longer be accepted. Set `keepdims` to True or False to avoid this warning.\n",
      "  mode, _ = stats.mode(_y[neigh_ind, k], axis=1)\n"
     ]
    },
    {
     "name": "stdout",
     "output_type": "stream",
     "text": [
      "[CV] END ..metric=minkowski, n_neighbors=13, weights=uniform; total time=   0.0s\n",
      "[CV] END ..metric=minkowski, n_neighbors=13, weights=uniform; total time=   0.0s\n",
      "[CV] END .metric=minkowski, n_neighbors=13, weights=distance; total time=   0.0s\n",
      "[CV] END .metric=minkowski, n_neighbors=13, weights=distance; total time=   0.0s\n",
      "[CV] END .metric=minkowski, n_neighbors=13, weights=distance; total time=   0.0s\n",
      "[CV] END ..metric=minkowski, n_neighbors=15, weights=uniform; total time=   0.0s\n",
      "[CV] END ..metric=minkowski, n_neighbors=15, weights=uniform; total time=   0.0s\n"
     ]
    },
    {
     "name": "stderr",
     "output_type": "stream",
     "text": [
      "C:\\Users\\hp\\anaconda3\\lib\\site-packages\\sklearn\\neighbors\\_classification.py:228: FutureWarning: Unlike other reduction functions (e.g. `skew`, `kurtosis`), the default behavior of `mode` typically preserves the axis it acts along. In SciPy 1.11.0, this behavior will change: the default value of `keepdims` will become False, the `axis` over which the statistic is taken will be eliminated, and the value None will no longer be accepted. Set `keepdims` to True or False to avoid this warning.\n",
      "  mode, _ = stats.mode(_y[neigh_ind, k], axis=1)\n",
      "C:\\Users\\hp\\anaconda3\\lib\\site-packages\\sklearn\\neighbors\\_classification.py:228: FutureWarning: Unlike other reduction functions (e.g. `skew`, `kurtosis`), the default behavior of `mode` typically preserves the axis it acts along. In SciPy 1.11.0, this behavior will change: the default value of `keepdims` will become False, the `axis` over which the statistic is taken will be eliminated, and the value None will no longer be accepted. Set `keepdims` to True or False to avoid this warning.\n",
      "  mode, _ = stats.mode(_y[neigh_ind, k], axis=1)\n",
      "C:\\Users\\hp\\anaconda3\\lib\\site-packages\\sklearn\\neighbors\\_classification.py:228: FutureWarning: Unlike other reduction functions (e.g. `skew`, `kurtosis`), the default behavior of `mode` typically preserves the axis it acts along. In SciPy 1.11.0, this behavior will change: the default value of `keepdims` will become False, the `axis` over which the statistic is taken will be eliminated, and the value None will no longer be accepted. Set `keepdims` to True or False to avoid this warning.\n",
      "  mode, _ = stats.mode(_y[neigh_ind, k], axis=1)\n",
      "C:\\Users\\hp\\anaconda3\\lib\\site-packages\\sklearn\\neighbors\\_classification.py:228: FutureWarning: Unlike other reduction functions (e.g. `skew`, `kurtosis`), the default behavior of `mode` typically preserves the axis it acts along. In SciPy 1.11.0, this behavior will change: the default value of `keepdims` will become False, the `axis` over which the statistic is taken will be eliminated, and the value None will no longer be accepted. Set `keepdims` to True or False to avoid this warning.\n",
      "  mode, _ = stats.mode(_y[neigh_ind, k], axis=1)\n"
     ]
    },
    {
     "name": "stdout",
     "output_type": "stream",
     "text": [
      "[CV] END ..metric=minkowski, n_neighbors=15, weights=uniform; total time=   0.0s\n",
      "[CV] END .metric=minkowski, n_neighbors=15, weights=distance; total time=   0.0s\n",
      "[CV] END .metric=minkowski, n_neighbors=15, weights=distance; total time=   0.0s\n",
      "[CV] END .metric=minkowski, n_neighbors=15, weights=distance; total time=   0.0s\n",
      "[CV] END ...metric=euclidean, n_neighbors=5, weights=uniform; total time=   0.0s\n",
      "[CV] END ...metric=euclidean, n_neighbors=5, weights=uniform; total time=   0.0s\n",
      "[CV] END ...metric=euclidean, n_neighbors=5, weights=uniform; total time=   0.0s\n"
     ]
    },
    {
     "name": "stderr",
     "output_type": "stream",
     "text": [
      "C:\\Users\\hp\\anaconda3\\lib\\site-packages\\sklearn\\neighbors\\_classification.py:228: FutureWarning: Unlike other reduction functions (e.g. `skew`, `kurtosis`), the default behavior of `mode` typically preserves the axis it acts along. In SciPy 1.11.0, this behavior will change: the default value of `keepdims` will become False, the `axis` over which the statistic is taken will be eliminated, and the value None will no longer be accepted. Set `keepdims` to True or False to avoid this warning.\n",
      "  mode, _ = stats.mode(_y[neigh_ind, k], axis=1)\n",
      "C:\\Users\\hp\\anaconda3\\lib\\site-packages\\sklearn\\neighbors\\_classification.py:228: FutureWarning: Unlike other reduction functions (e.g. `skew`, `kurtosis`), the default behavior of `mode` typically preserves the axis it acts along. In SciPy 1.11.0, this behavior will change: the default value of `keepdims` will become False, the `axis` over which the statistic is taken will be eliminated, and the value None will no longer be accepted. Set `keepdims` to True or False to avoid this warning.\n",
      "  mode, _ = stats.mode(_y[neigh_ind, k], axis=1)\n",
      "C:\\Users\\hp\\anaconda3\\lib\\site-packages\\sklearn\\neighbors\\_classification.py:228: FutureWarning: Unlike other reduction functions (e.g. `skew`, `kurtosis`), the default behavior of `mode` typically preserves the axis it acts along. In SciPy 1.11.0, this behavior will change: the default value of `keepdims` will become False, the `axis` over which the statistic is taken will be eliminated, and the value None will no longer be accepted. Set `keepdims` to True or False to avoid this warning.\n",
      "  mode, _ = stats.mode(_y[neigh_ind, k], axis=1)\n",
      "C:\\Users\\hp\\anaconda3\\lib\\site-packages\\sklearn\\neighbors\\_classification.py:228: FutureWarning: Unlike other reduction functions (e.g. `skew`, `kurtosis`), the default behavior of `mode` typically preserves the axis it acts along. In SciPy 1.11.0, this behavior will change: the default value of `keepdims` will become False, the `axis` over which the statistic is taken will be eliminated, and the value None will no longer be accepted. Set `keepdims` to True or False to avoid this warning.\n",
      "  mode, _ = stats.mode(_y[neigh_ind, k], axis=1)\n"
     ]
    },
    {
     "name": "stdout",
     "output_type": "stream",
     "text": [
      "[CV] END ..metric=euclidean, n_neighbors=5, weights=distance; total time=   0.0s\n",
      "[CV] END ..metric=euclidean, n_neighbors=5, weights=distance; total time=   0.0s\n",
      "[CV] END ..metric=euclidean, n_neighbors=5, weights=distance; total time=   0.0s\n",
      "[CV] END ...metric=euclidean, n_neighbors=7, weights=uniform; total time=   0.0s\n",
      "[CV] END ...metric=euclidean, n_neighbors=7, weights=uniform; total time=   0.0s\n"
     ]
    },
    {
     "name": "stderr",
     "output_type": "stream",
     "text": [
      "C:\\Users\\hp\\anaconda3\\lib\\site-packages\\sklearn\\neighbors\\_classification.py:228: FutureWarning: Unlike other reduction functions (e.g. `skew`, `kurtosis`), the default behavior of `mode` typically preserves the axis it acts along. In SciPy 1.11.0, this behavior will change: the default value of `keepdims` will become False, the `axis` over which the statistic is taken will be eliminated, and the value None will no longer be accepted. Set `keepdims` to True or False to avoid this warning.\n",
      "  mode, _ = stats.mode(_y[neigh_ind, k], axis=1)\n",
      "C:\\Users\\hp\\anaconda3\\lib\\site-packages\\sklearn\\neighbors\\_classification.py:228: FutureWarning: Unlike other reduction functions (e.g. `skew`, `kurtosis`), the default behavior of `mode` typically preserves the axis it acts along. In SciPy 1.11.0, this behavior will change: the default value of `keepdims` will become False, the `axis` over which the statistic is taken will be eliminated, and the value None will no longer be accepted. Set `keepdims` to True or False to avoid this warning.\n",
      "  mode, _ = stats.mode(_y[neigh_ind, k], axis=1)\n",
      "C:\\Users\\hp\\anaconda3\\lib\\site-packages\\sklearn\\neighbors\\_classification.py:228: FutureWarning: Unlike other reduction functions (e.g. `skew`, `kurtosis`), the default behavior of `mode` typically preserves the axis it acts along. In SciPy 1.11.0, this behavior will change: the default value of `keepdims` will become False, the `axis` over which the statistic is taken will be eliminated, and the value None will no longer be accepted. Set `keepdims` to True or False to avoid this warning.\n",
      "  mode, _ = stats.mode(_y[neigh_ind, k], axis=1)\n",
      "C:\\Users\\hp\\anaconda3\\lib\\site-packages\\sklearn\\neighbors\\_classification.py:228: FutureWarning: Unlike other reduction functions (e.g. `skew`, `kurtosis`), the default behavior of `mode` typically preserves the axis it acts along. In SciPy 1.11.0, this behavior will change: the default value of `keepdims` will become False, the `axis` over which the statistic is taken will be eliminated, and the value None will no longer be accepted. Set `keepdims` to True or False to avoid this warning.\n",
      "  mode, _ = stats.mode(_y[neigh_ind, k], axis=1)\n"
     ]
    },
    {
     "name": "stdout",
     "output_type": "stream",
     "text": [
      "[CV] END ...metric=euclidean, n_neighbors=7, weights=uniform; total time=   0.0s\n",
      "[CV] END ..metric=euclidean, n_neighbors=7, weights=distance; total time=   0.0s\n",
      "[CV] END ..metric=euclidean, n_neighbors=7, weights=distance; total time=   0.0s\n",
      "[CV] END ..metric=euclidean, n_neighbors=7, weights=distance; total time=   0.0s\n",
      "[CV] END ...metric=euclidean, n_neighbors=9, weights=uniform; total time=   0.0s\n",
      "[CV] END ...metric=euclidean, n_neighbors=9, weights=uniform; total time=   0.0s\n"
     ]
    },
    {
     "name": "stderr",
     "output_type": "stream",
     "text": [
      "C:\\Users\\hp\\anaconda3\\lib\\site-packages\\sklearn\\neighbors\\_classification.py:228: FutureWarning: Unlike other reduction functions (e.g. `skew`, `kurtosis`), the default behavior of `mode` typically preserves the axis it acts along. In SciPy 1.11.0, this behavior will change: the default value of `keepdims` will become False, the `axis` over which the statistic is taken will be eliminated, and the value None will no longer be accepted. Set `keepdims` to True or False to avoid this warning.\n",
      "  mode, _ = stats.mode(_y[neigh_ind, k], axis=1)\n",
      "C:\\Users\\hp\\anaconda3\\lib\\site-packages\\sklearn\\neighbors\\_classification.py:228: FutureWarning: Unlike other reduction functions (e.g. `skew`, `kurtosis`), the default behavior of `mode` typically preserves the axis it acts along. In SciPy 1.11.0, this behavior will change: the default value of `keepdims` will become False, the `axis` over which the statistic is taken will be eliminated, and the value None will no longer be accepted. Set `keepdims` to True or False to avoid this warning.\n",
      "  mode, _ = stats.mode(_y[neigh_ind, k], axis=1)\n",
      "C:\\Users\\hp\\anaconda3\\lib\\site-packages\\sklearn\\neighbors\\_classification.py:228: FutureWarning: Unlike other reduction functions (e.g. `skew`, `kurtosis`), the default behavior of `mode` typically preserves the axis it acts along. In SciPy 1.11.0, this behavior will change: the default value of `keepdims` will become False, the `axis` over which the statistic is taken will be eliminated, and the value None will no longer be accepted. Set `keepdims` to True or False to avoid this warning.\n",
      "  mode, _ = stats.mode(_y[neigh_ind, k], axis=1)\n",
      "C:\\Users\\hp\\anaconda3\\lib\\site-packages\\sklearn\\neighbors\\_classification.py:228: FutureWarning: Unlike other reduction functions (e.g. `skew`, `kurtosis`), the default behavior of `mode` typically preserves the axis it acts along. In SciPy 1.11.0, this behavior will change: the default value of `keepdims` will become False, the `axis` over which the statistic is taken will be eliminated, and the value None will no longer be accepted. Set `keepdims` to True or False to avoid this warning.\n",
      "  mode, _ = stats.mode(_y[neigh_ind, k], axis=1)\n"
     ]
    },
    {
     "name": "stdout",
     "output_type": "stream",
     "text": [
      "[CV] END ...metric=euclidean, n_neighbors=9, weights=uniform; total time=   0.0s\n",
      "[CV] END ..metric=euclidean, n_neighbors=9, weights=distance; total time=   0.0s\n",
      "[CV] END ..metric=euclidean, n_neighbors=9, weights=distance; total time=   0.0s\n",
      "[CV] END ..metric=euclidean, n_neighbors=9, weights=distance; total time=   0.0s\n",
      "[CV] END ..metric=euclidean, n_neighbors=11, weights=uniform; total time=   0.0s\n",
      "[CV] END ..metric=euclidean, n_neighbors=11, weights=uniform; total time=   0.0s\n",
      "[CV] END ..metric=euclidean, n_neighbors=11, weights=uniform; total time=   0.0s\n",
      "[CV] END .metric=euclidean, n_neighbors=11, weights=distance; total time=   0.0s\n",
      "[CV] END .metric=euclidean, n_neighbors=11, weights=distance; total time=   0.0s\n",
      "[CV] END .metric=euclidean, n_neighbors=11, weights=distance; total time=   0.0s\n",
      "[CV] END ..metric=euclidean, n_neighbors=13, weights=uniform; total time=   0.0s\n",
      "[CV] END ..metric=euclidean, n_neighbors=13, weights=uniform; total time=   0.0s\n",
      "[CV] END ..metric=euclidean, n_neighbors=13, weights=uniform; total time=   0.0s\n"
     ]
    },
    {
     "name": "stderr",
     "output_type": "stream",
     "text": [
      "C:\\Users\\hp\\anaconda3\\lib\\site-packages\\sklearn\\neighbors\\_classification.py:228: FutureWarning: Unlike other reduction functions (e.g. `skew`, `kurtosis`), the default behavior of `mode` typically preserves the axis it acts along. In SciPy 1.11.0, this behavior will change: the default value of `keepdims` will become False, the `axis` over which the statistic is taken will be eliminated, and the value None will no longer be accepted. Set `keepdims` to True or False to avoid this warning.\n",
      "  mode, _ = stats.mode(_y[neigh_ind, k], axis=1)\n",
      "C:\\Users\\hp\\anaconda3\\lib\\site-packages\\sklearn\\neighbors\\_classification.py:228: FutureWarning: Unlike other reduction functions (e.g. `skew`, `kurtosis`), the default behavior of `mode` typically preserves the axis it acts along. In SciPy 1.11.0, this behavior will change: the default value of `keepdims` will become False, the `axis` over which the statistic is taken will be eliminated, and the value None will no longer be accepted. Set `keepdims` to True or False to avoid this warning.\n",
      "  mode, _ = stats.mode(_y[neigh_ind, k], axis=1)\n",
      "C:\\Users\\hp\\anaconda3\\lib\\site-packages\\sklearn\\neighbors\\_classification.py:228: FutureWarning: Unlike other reduction functions (e.g. `skew`, `kurtosis`), the default behavior of `mode` typically preserves the axis it acts along. In SciPy 1.11.0, this behavior will change: the default value of `keepdims` will become False, the `axis` over which the statistic is taken will be eliminated, and the value None will no longer be accepted. Set `keepdims` to True or False to avoid this warning.\n",
      "  mode, _ = stats.mode(_y[neigh_ind, k], axis=1)\n"
     ]
    },
    {
     "name": "stdout",
     "output_type": "stream",
     "text": [
      "[CV] END .metric=euclidean, n_neighbors=13, weights=distance; total time=   0.0s\n",
      "[CV] END .metric=euclidean, n_neighbors=13, weights=distance; total time=   0.0s\n",
      "[CV] END .metric=euclidean, n_neighbors=13, weights=distance; total time=   0.0s\n",
      "[CV] END ..metric=euclidean, n_neighbors=15, weights=uniform; total time=   0.0s\n",
      "[CV] END ..metric=euclidean, n_neighbors=15, weights=uniform; total time=   0.0s\n",
      "[CV] END ..metric=euclidean, n_neighbors=15, weights=uniform; total time=   0.0s\n",
      "[CV] END .metric=euclidean, n_neighbors=15, weights=distance; total time=   0.0s\n",
      "[CV] END .metric=euclidean, n_neighbors=15, weights=distance; total time=   0.0s\n"
     ]
    },
    {
     "name": "stderr",
     "output_type": "stream",
     "text": [
      "C:\\Users\\hp\\anaconda3\\lib\\site-packages\\sklearn\\neighbors\\_classification.py:228: FutureWarning: Unlike other reduction functions (e.g. `skew`, `kurtosis`), the default behavior of `mode` typically preserves the axis it acts along. In SciPy 1.11.0, this behavior will change: the default value of `keepdims` will become False, the `axis` over which the statistic is taken will be eliminated, and the value None will no longer be accepted. Set `keepdims` to True or False to avoid this warning.\n",
      "  mode, _ = stats.mode(_y[neigh_ind, k], axis=1)\n",
      "C:\\Users\\hp\\anaconda3\\lib\\site-packages\\sklearn\\neighbors\\_classification.py:228: FutureWarning: Unlike other reduction functions (e.g. `skew`, `kurtosis`), the default behavior of `mode` typically preserves the axis it acts along. In SciPy 1.11.0, this behavior will change: the default value of `keepdims` will become False, the `axis` over which the statistic is taken will be eliminated, and the value None will no longer be accepted. Set `keepdims` to True or False to avoid this warning.\n",
      "  mode, _ = stats.mode(_y[neigh_ind, k], axis=1)\n",
      "C:\\Users\\hp\\anaconda3\\lib\\site-packages\\sklearn\\neighbors\\_classification.py:228: FutureWarning: Unlike other reduction functions (e.g. `skew`, `kurtosis`), the default behavior of `mode` typically preserves the axis it acts along. In SciPy 1.11.0, this behavior will change: the default value of `keepdims` will become False, the `axis` over which the statistic is taken will be eliminated, and the value None will no longer be accepted. Set `keepdims` to True or False to avoid this warning.\n",
      "  mode, _ = stats.mode(_y[neigh_ind, k], axis=1)\n",
      "C:\\Users\\hp\\anaconda3\\lib\\site-packages\\sklearn\\neighbors\\_classification.py:228: FutureWarning: Unlike other reduction functions (e.g. `skew`, `kurtosis`), the default behavior of `mode` typically preserves the axis it acts along. In SciPy 1.11.0, this behavior will change: the default value of `keepdims` will become False, the `axis` over which the statistic is taken will be eliminated, and the value None will no longer be accepted. Set `keepdims` to True or False to avoid this warning.\n",
      "  mode, _ = stats.mode(_y[neigh_ind, k], axis=1)\n"
     ]
    },
    {
     "name": "stdout",
     "output_type": "stream",
     "text": [
      "[CV] END .metric=euclidean, n_neighbors=15, weights=distance; total time=   0.0s\n",
      "[CV] END ...metric=manhattan, n_neighbors=5, weights=uniform; total time=   0.0s\n",
      "[CV] END ...metric=manhattan, n_neighbors=5, weights=uniform; total time=   0.0s\n",
      "[CV] END ...metric=manhattan, n_neighbors=5, weights=uniform; total time=   0.0s\n"
     ]
    },
    {
     "name": "stderr",
     "output_type": "stream",
     "text": [
      "C:\\Users\\hp\\anaconda3\\lib\\site-packages\\sklearn\\neighbors\\_classification.py:228: FutureWarning: Unlike other reduction functions (e.g. `skew`, `kurtosis`), the default behavior of `mode` typically preserves the axis it acts along. In SciPy 1.11.0, this behavior will change: the default value of `keepdims` will become False, the `axis` over which the statistic is taken will be eliminated, and the value None will no longer be accepted. Set `keepdims` to True or False to avoid this warning.\n",
      "  mode, _ = stats.mode(_y[neigh_ind, k], axis=1)\n",
      "C:\\Users\\hp\\anaconda3\\lib\\site-packages\\sklearn\\neighbors\\_classification.py:228: FutureWarning: Unlike other reduction functions (e.g. `skew`, `kurtosis`), the default behavior of `mode` typically preserves the axis it acts along. In SciPy 1.11.0, this behavior will change: the default value of `keepdims` will become False, the `axis` over which the statistic is taken will be eliminated, and the value None will no longer be accepted. Set `keepdims` to True or False to avoid this warning.\n",
      "  mode, _ = stats.mode(_y[neigh_ind, k], axis=1)\n"
     ]
    },
    {
     "name": "stdout",
     "output_type": "stream",
     "text": [
      "[CV] END ..metric=manhattan, n_neighbors=5, weights=distance; total time=   0.0s\n",
      "[CV] END ..metric=manhattan, n_neighbors=5, weights=distance; total time=   0.0s\n",
      "[CV] END ..metric=manhattan, n_neighbors=5, weights=distance; total time=   0.0s\n",
      "[CV] END ...metric=manhattan, n_neighbors=7, weights=uniform; total time=   0.0s\n"
     ]
    },
    {
     "name": "stderr",
     "output_type": "stream",
     "text": [
      "C:\\Users\\hp\\anaconda3\\lib\\site-packages\\sklearn\\neighbors\\_classification.py:228: FutureWarning: Unlike other reduction functions (e.g. `skew`, `kurtosis`), the default behavior of `mode` typically preserves the axis it acts along. In SciPy 1.11.0, this behavior will change: the default value of `keepdims` will become False, the `axis` over which the statistic is taken will be eliminated, and the value None will no longer be accepted. Set `keepdims` to True or False to avoid this warning.\n",
      "  mode, _ = stats.mode(_y[neigh_ind, k], axis=1)\n",
      "C:\\Users\\hp\\anaconda3\\lib\\site-packages\\sklearn\\neighbors\\_classification.py:228: FutureWarning: Unlike other reduction functions (e.g. `skew`, `kurtosis`), the default behavior of `mode` typically preserves the axis it acts along. In SciPy 1.11.0, this behavior will change: the default value of `keepdims` will become False, the `axis` over which the statistic is taken will be eliminated, and the value None will no longer be accepted. Set `keepdims` to True or False to avoid this warning.\n",
      "  mode, _ = stats.mode(_y[neigh_ind, k], axis=1)\n",
      "C:\\Users\\hp\\anaconda3\\lib\\site-packages\\sklearn\\neighbors\\_classification.py:228: FutureWarning: Unlike other reduction functions (e.g. `skew`, `kurtosis`), the default behavior of `mode` typically preserves the axis it acts along. In SciPy 1.11.0, this behavior will change: the default value of `keepdims` will become False, the `axis` over which the statistic is taken will be eliminated, and the value None will no longer be accepted. Set `keepdims` to True or False to avoid this warning.\n",
      "  mode, _ = stats.mode(_y[neigh_ind, k], axis=1)\n"
     ]
    },
    {
     "name": "stdout",
     "output_type": "stream",
     "text": [
      "[CV] END ...metric=manhattan, n_neighbors=7, weights=uniform; total time=   0.0s\n",
      "[CV] END ...metric=manhattan, n_neighbors=7, weights=uniform; total time=   0.0s\n",
      "[CV] END ..metric=manhattan, n_neighbors=7, weights=distance; total time=   0.0s\n",
      "[CV] END ..metric=manhattan, n_neighbors=7, weights=distance; total time=   0.0s\n",
      "[CV] END ..metric=manhattan, n_neighbors=7, weights=distance; total time=   0.0s\n"
     ]
    },
    {
     "name": "stderr",
     "output_type": "stream",
     "text": [
      "C:\\Users\\hp\\anaconda3\\lib\\site-packages\\sklearn\\neighbors\\_classification.py:228: FutureWarning: Unlike other reduction functions (e.g. `skew`, `kurtosis`), the default behavior of `mode` typically preserves the axis it acts along. In SciPy 1.11.0, this behavior will change: the default value of `keepdims` will become False, the `axis` over which the statistic is taken will be eliminated, and the value None will no longer be accepted. Set `keepdims` to True or False to avoid this warning.\n",
      "  mode, _ = stats.mode(_y[neigh_ind, k], axis=1)\n",
      "C:\\Users\\hp\\anaconda3\\lib\\site-packages\\sklearn\\neighbors\\_classification.py:228: FutureWarning: Unlike other reduction functions (e.g. `skew`, `kurtosis`), the default behavior of `mode` typically preserves the axis it acts along. In SciPy 1.11.0, this behavior will change: the default value of `keepdims` will become False, the `axis` over which the statistic is taken will be eliminated, and the value None will no longer be accepted. Set `keepdims` to True or False to avoid this warning.\n",
      "  mode, _ = stats.mode(_y[neigh_ind, k], axis=1)\n",
      "C:\\Users\\hp\\anaconda3\\lib\\site-packages\\sklearn\\neighbors\\_classification.py:228: FutureWarning: Unlike other reduction functions (e.g. `skew`, `kurtosis`), the default behavior of `mode` typically preserves the axis it acts along. In SciPy 1.11.0, this behavior will change: the default value of `keepdims` will become False, the `axis` over which the statistic is taken will be eliminated, and the value None will no longer be accepted. Set `keepdims` to True or False to avoid this warning.\n",
      "  mode, _ = stats.mode(_y[neigh_ind, k], axis=1)\n"
     ]
    },
    {
     "name": "stdout",
     "output_type": "stream",
     "text": [
      "[CV] END ...metric=manhattan, n_neighbors=9, weights=uniform; total time=   0.0s\n",
      "[CV] END ...metric=manhattan, n_neighbors=9, weights=uniform; total time=   0.0s\n",
      "[CV] END ...metric=manhattan, n_neighbors=9, weights=uniform; total time=   0.0s\n",
      "[CV] END ..metric=manhattan, n_neighbors=9, weights=distance; total time=   0.0s\n",
      "[CV] END ..metric=manhattan, n_neighbors=9, weights=distance; total time=   0.0s\n",
      "[CV] END ..metric=manhattan, n_neighbors=9, weights=distance; total time=   0.0s\n",
      "[CV] END ..metric=manhattan, n_neighbors=11, weights=uniform; total time=   0.0s\n",
      "[CV] END ..metric=manhattan, n_neighbors=11, weights=uniform; total time=   0.0s\n"
     ]
    },
    {
     "name": "stderr",
     "output_type": "stream",
     "text": [
      "C:\\Users\\hp\\anaconda3\\lib\\site-packages\\sklearn\\neighbors\\_classification.py:228: FutureWarning: Unlike other reduction functions (e.g. `skew`, `kurtosis`), the default behavior of `mode` typically preserves the axis it acts along. In SciPy 1.11.0, this behavior will change: the default value of `keepdims` will become False, the `axis` over which the statistic is taken will be eliminated, and the value None will no longer be accepted. Set `keepdims` to True or False to avoid this warning.\n",
      "  mode, _ = stats.mode(_y[neigh_ind, k], axis=1)\n",
      "C:\\Users\\hp\\anaconda3\\lib\\site-packages\\sklearn\\neighbors\\_classification.py:228: FutureWarning: Unlike other reduction functions (e.g. `skew`, `kurtosis`), the default behavior of `mode` typically preserves the axis it acts along. In SciPy 1.11.0, this behavior will change: the default value of `keepdims` will become False, the `axis` over which the statistic is taken will be eliminated, and the value None will no longer be accepted. Set `keepdims` to True or False to avoid this warning.\n",
      "  mode, _ = stats.mode(_y[neigh_ind, k], axis=1)\n",
      "C:\\Users\\hp\\anaconda3\\lib\\site-packages\\sklearn\\neighbors\\_classification.py:228: FutureWarning: Unlike other reduction functions (e.g. `skew`, `kurtosis`), the default behavior of `mode` typically preserves the axis it acts along. In SciPy 1.11.0, this behavior will change: the default value of `keepdims` will become False, the `axis` over which the statistic is taken will be eliminated, and the value None will no longer be accepted. Set `keepdims` to True or False to avoid this warning.\n",
      "  mode, _ = stats.mode(_y[neigh_ind, k], axis=1)\n"
     ]
    },
    {
     "name": "stdout",
     "output_type": "stream",
     "text": [
      "[CV] END ..metric=manhattan, n_neighbors=11, weights=uniform; total time=   0.0s\n",
      "[CV] END .metric=manhattan, n_neighbors=11, weights=distance; total time=   0.0s\n",
      "[CV] END .metric=manhattan, n_neighbors=11, weights=distance; total time=   0.0s\n",
      "[CV] END .metric=manhattan, n_neighbors=11, weights=distance; total time=   0.0s\n",
      "[CV] END ..metric=manhattan, n_neighbors=13, weights=uniform; total time=   0.0s\n"
     ]
    },
    {
     "name": "stderr",
     "output_type": "stream",
     "text": [
      "C:\\Users\\hp\\anaconda3\\lib\\site-packages\\sklearn\\neighbors\\_classification.py:228: FutureWarning: Unlike other reduction functions (e.g. `skew`, `kurtosis`), the default behavior of `mode` typically preserves the axis it acts along. In SciPy 1.11.0, this behavior will change: the default value of `keepdims` will become False, the `axis` over which the statistic is taken will be eliminated, and the value None will no longer be accepted. Set `keepdims` to True or False to avoid this warning.\n",
      "  mode, _ = stats.mode(_y[neigh_ind, k], axis=1)\n",
      "C:\\Users\\hp\\anaconda3\\lib\\site-packages\\sklearn\\neighbors\\_classification.py:228: FutureWarning: Unlike other reduction functions (e.g. `skew`, `kurtosis`), the default behavior of `mode` typically preserves the axis it acts along. In SciPy 1.11.0, this behavior will change: the default value of `keepdims` will become False, the `axis` over which the statistic is taken will be eliminated, and the value None will no longer be accepted. Set `keepdims` to True or False to avoid this warning.\n",
      "  mode, _ = stats.mode(_y[neigh_ind, k], axis=1)\n",
      "C:\\Users\\hp\\anaconda3\\lib\\site-packages\\sklearn\\neighbors\\_classification.py:228: FutureWarning: Unlike other reduction functions (e.g. `skew`, `kurtosis`), the default behavior of `mode` typically preserves the axis it acts along. In SciPy 1.11.0, this behavior will change: the default value of `keepdims` will become False, the `axis` over which the statistic is taken will be eliminated, and the value None will no longer be accepted. Set `keepdims` to True or False to avoid this warning.\n",
      "  mode, _ = stats.mode(_y[neigh_ind, k], axis=1)\n"
     ]
    },
    {
     "name": "stdout",
     "output_type": "stream",
     "text": [
      "[CV] END ..metric=manhattan, n_neighbors=13, weights=uniform; total time=   0.0s\n",
      "[CV] END ..metric=manhattan, n_neighbors=13, weights=uniform; total time=   0.0s\n",
      "[CV] END .metric=manhattan, n_neighbors=13, weights=distance; total time=   0.0s\n",
      "[CV] END .metric=manhattan, n_neighbors=13, weights=distance; total time=   0.0s\n",
      "[CV] END .metric=manhattan, n_neighbors=13, weights=distance; total time=   0.0s\n"
     ]
    },
    {
     "name": "stderr",
     "output_type": "stream",
     "text": [
      "C:\\Users\\hp\\anaconda3\\lib\\site-packages\\sklearn\\neighbors\\_classification.py:228: FutureWarning: Unlike other reduction functions (e.g. `skew`, `kurtosis`), the default behavior of `mode` typically preserves the axis it acts along. In SciPy 1.11.0, this behavior will change: the default value of `keepdims` will become False, the `axis` over which the statistic is taken will be eliminated, and the value None will no longer be accepted. Set `keepdims` to True or False to avoid this warning.\n",
      "  mode, _ = stats.mode(_y[neigh_ind, k], axis=1)\n",
      "C:\\Users\\hp\\anaconda3\\lib\\site-packages\\sklearn\\neighbors\\_classification.py:228: FutureWarning: Unlike other reduction functions (e.g. `skew`, `kurtosis`), the default behavior of `mode` typically preserves the axis it acts along. In SciPy 1.11.0, this behavior will change: the default value of `keepdims` will become False, the `axis` over which the statistic is taken will be eliminated, and the value None will no longer be accepted. Set `keepdims` to True or False to avoid this warning.\n",
      "  mode, _ = stats.mode(_y[neigh_ind, k], axis=1)\n",
      "C:\\Users\\hp\\anaconda3\\lib\\site-packages\\sklearn\\neighbors\\_classification.py:228: FutureWarning: Unlike other reduction functions (e.g. `skew`, `kurtosis`), the default behavior of `mode` typically preserves the axis it acts along. In SciPy 1.11.0, this behavior will change: the default value of `keepdims` will become False, the `axis` over which the statistic is taken will be eliminated, and the value None will no longer be accepted. Set `keepdims` to True or False to avoid this warning.\n",
      "  mode, _ = stats.mode(_y[neigh_ind, k], axis=1)\n"
     ]
    },
    {
     "name": "stdout",
     "output_type": "stream",
     "text": [
      "[CV] END ..metric=manhattan, n_neighbors=15, weights=uniform; total time=   0.0s\n",
      "[CV] END ..metric=manhattan, n_neighbors=15, weights=uniform; total time=   0.0s\n",
      "[CV] END ..metric=manhattan, n_neighbors=15, weights=uniform; total time=   0.0s\n",
      "[CV] END .metric=manhattan, n_neighbors=15, weights=distance; total time=   0.0s\n",
      "[CV] END .metric=manhattan, n_neighbors=15, weights=distance; total time=   0.0s\n",
      "[CV] END .metric=manhattan, n_neighbors=15, weights=distance; total time=   0.0s\n"
     ]
    },
    {
     "data": {
      "text/plain": [
       "RandomizedSearchCV(cv=3, estimator=KNeighborsClassifier(), n_iter=100,\n",
       "                   param_distributions={'metric': ['minkowski', 'euclidean',\n",
       "                                                   'manhattan'],\n",
       "                                        'n_neighbors': [5, 7, 9, 11, 13, 15],\n",
       "                                        'weights': ['uniform', 'distance']},\n",
       "                   random_state=55, verbose=2)"
      ]
     },
     "execution_count": 43,
     "metadata": {},
     "output_type": "execute_result"
    }
   ],
   "source": [
    "from sklearn.model_selection import RandomizedSearchCV\n",
    "knn_randomcv=RandomizedSearchCV(estimator=knn,param_distributions=random_grid,n_iter=100,cv=3,verbose=2,\n",
    "                               random_state=55)\n",
    "knn_randomcv.fit(X_train,y_train)"
   ]
  },
  {
   "cell_type": "code",
   "execution_count": 44,
   "id": "fdca37cd",
   "metadata": {},
   "outputs": [
    {
     "data": {
      "text/plain": [
       "{'weights': 'uniform', 'n_neighbors': 13, 'metric': 'minkowski'}"
      ]
     },
     "execution_count": 44,
     "metadata": {},
     "output_type": "execute_result"
    }
   ],
   "source": [
    "knn_randomcv.best_params_"
   ]
  },
  {
   "cell_type": "code",
   "execution_count": 45,
   "id": "4f9b6b1c",
   "metadata": {},
   "outputs": [
    {
     "name": "stdout",
     "output_type": "stream",
     "text": [
      "[[  3  67]\n",
      " [  7 373]]\n",
      "Accuracy Score 0.8355555555555556\n",
      "Classification report:               precision    recall  f1-score   support\n",
      "\n",
      "         0.0       0.30      0.04      0.07        70\n",
      "         1.0       0.85      0.98      0.91       380\n",
      "\n",
      "    accuracy                           0.84       450\n",
      "   macro avg       0.57      0.51      0.49       450\n",
      "weighted avg       0.76      0.84      0.78       450\n",
      "\n"
     ]
    },
    {
     "name": "stderr",
     "output_type": "stream",
     "text": [
      "C:\\Users\\hp\\anaconda3\\lib\\site-packages\\sklearn\\neighbors\\_classification.py:228: FutureWarning: Unlike other reduction functions (e.g. `skew`, `kurtosis`), the default behavior of `mode` typically preserves the axis it acts along. In SciPy 1.11.0, this behavior will change: the default value of `keepdims` will become False, the `axis` over which the statistic is taken will be eliminated, and the value None will no longer be accepted. Set `keepdims` to True or False to avoid this warning.\n",
      "  mode, _ = stats.mode(_y[neigh_ind, k], axis=1)\n"
     ]
    }
   ],
   "source": [
    "best_random_grid = knn_randomcv.best_estimator_\n",
    "y_pred=best_random_grid.predict(X_test)\n",
    "print(confusion_matrix(y_test,y_pred))\n",
    "print(\"Accuracy Score {}\".format(accuracy_score(y_test,y_pred)))\n",
    "print(\"Classification report: {}\".format(classification_report(y_test,y_pred)))"
   ]
  },
  {
   "cell_type": "code",
   "execution_count": 46,
   "id": "601197aa",
   "metadata": {},
   "outputs": [
    {
     "name": "stdout",
     "output_type": "stream",
     "text": [
      "{'weights': ['uniform'], 'metric': ['minkowski'], 'n_neighbors': [11, 12, 13, 15, 14]}\n"
     ]
    }
   ],
   "source": [
    "from sklearn.model_selection import GridSearchCV\n",
    "param_grid = {\n",
    "    'weights' : [knn_randomcv.best_params_['weights']],\n",
    "    'metric' : [knn_randomcv.best_params_['metric']],\n",
    "    'n_neighbors' : [\n",
    "        knn_randomcv.best_params_['n_neighbors']-2,\n",
    "        knn_randomcv.best_params_['n_neighbors']-1,\n",
    "        knn_randomcv.best_params_['n_neighbors'],\n",
    "        knn_randomcv.best_params_['n_neighbors']+2,\n",
    "        knn_randomcv.best_params_['n_neighbors']+1,\n",
    "    ]\n",
    "}\n",
    "\n",
    "print(param_grid)"
   ]
  },
  {
   "cell_type": "code",
   "execution_count": 47,
   "id": "ecf7e5d5",
   "metadata": {},
   "outputs": [
    {
     "name": "stderr",
     "output_type": "stream",
     "text": [
      "C:\\Users\\hp\\anaconda3\\lib\\site-packages\\sklearn\\neighbors\\_classification.py:228: FutureWarning: Unlike other reduction functions (e.g. `skew`, `kurtosis`), the default behavior of `mode` typically preserves the axis it acts along. In SciPy 1.11.0, this behavior will change: the default value of `keepdims` will become False, the `axis` over which the statistic is taken will be eliminated, and the value None will no longer be accepted. Set `keepdims` to True or False to avoid this warning.\n",
      "  mode, _ = stats.mode(_y[neigh_ind, k], axis=1)\n",
      "C:\\Users\\hp\\anaconda3\\lib\\site-packages\\sklearn\\neighbors\\_classification.py:228: FutureWarning: Unlike other reduction functions (e.g. `skew`, `kurtosis`), the default behavior of `mode` typically preserves the axis it acts along. In SciPy 1.11.0, this behavior will change: the default value of `keepdims` will become False, the `axis` over which the statistic is taken will be eliminated, and the value None will no longer be accepted. Set `keepdims` to True or False to avoid this warning.\n",
      "  mode, _ = stats.mode(_y[neigh_ind, k], axis=1)\n",
      "C:\\Users\\hp\\anaconda3\\lib\\site-packages\\sklearn\\neighbors\\_classification.py:228: FutureWarning: Unlike other reduction functions (e.g. `skew`, `kurtosis`), the default behavior of `mode` typically preserves the axis it acts along. In SciPy 1.11.0, this behavior will change: the default value of `keepdims` will become False, the `axis` over which the statistic is taken will be eliminated, and the value None will no longer be accepted. Set `keepdims` to True or False to avoid this warning.\n",
      "  mode, _ = stats.mode(_y[neigh_ind, k], axis=1)\n",
      "C:\\Users\\hp\\anaconda3\\lib\\site-packages\\sklearn\\neighbors\\_classification.py:228: FutureWarning: Unlike other reduction functions (e.g. `skew`, `kurtosis`), the default behavior of `mode` typically preserves the axis it acts along. In SciPy 1.11.0, this behavior will change: the default value of `keepdims` will become False, the `axis` over which the statistic is taken will be eliminated, and the value None will no longer be accepted. Set `keepdims` to True or False to avoid this warning.\n",
      "  mode, _ = stats.mode(_y[neigh_ind, k], axis=1)\n",
      "C:\\Users\\hp\\anaconda3\\lib\\site-packages\\sklearn\\neighbors\\_classification.py:228: FutureWarning: Unlike other reduction functions (e.g. `skew`, `kurtosis`), the default behavior of `mode` typically preserves the axis it acts along. In SciPy 1.11.0, this behavior will change: the default value of `keepdims` will become False, the `axis` over which the statistic is taken will be eliminated, and the value None will no longer be accepted. Set `keepdims` to True or False to avoid this warning.\n",
      "  mode, _ = stats.mode(_y[neigh_ind, k], axis=1)\n"
     ]
    },
    {
     "name": "stdout",
     "output_type": "stream",
     "text": [
      "Fitting 10 folds for each of 5 candidates, totalling 50 fits\n",
      "[CV] END ..metric=minkowski, n_neighbors=11, weights=uniform; total time=   0.0s\n",
      "[CV] END ..metric=minkowski, n_neighbors=11, weights=uniform; total time=   0.0s\n",
      "[CV] END ..metric=minkowski, n_neighbors=11, weights=uniform; total time=   0.0s\n",
      "[CV] END ..metric=minkowski, n_neighbors=11, weights=uniform; total time=   0.0s\n",
      "[CV] END ..metric=minkowski, n_neighbors=11, weights=uniform; total time=   0.0s\n",
      "[CV] END ..metric=minkowski, n_neighbors=11, weights=uniform; total time=   0.0s\n",
      "[CV] END ..metric=minkowski, n_neighbors=11, weights=uniform; total time=   0.0s\n",
      "[CV] END ..metric=minkowski, n_neighbors=11, weights=uniform; total time=   0.0s\n",
      "[CV] END ..metric=minkowski, n_neighbors=11, weights=uniform; total time=   0.0s\n"
     ]
    },
    {
     "name": "stderr",
     "output_type": "stream",
     "text": [
      "C:\\Users\\hp\\anaconda3\\lib\\site-packages\\sklearn\\neighbors\\_classification.py:228: FutureWarning: Unlike other reduction functions (e.g. `skew`, `kurtosis`), the default behavior of `mode` typically preserves the axis it acts along. In SciPy 1.11.0, this behavior will change: the default value of `keepdims` will become False, the `axis` over which the statistic is taken will be eliminated, and the value None will no longer be accepted. Set `keepdims` to True or False to avoid this warning.\n",
      "  mode, _ = stats.mode(_y[neigh_ind, k], axis=1)\n",
      "C:\\Users\\hp\\anaconda3\\lib\\site-packages\\sklearn\\neighbors\\_classification.py:228: FutureWarning: Unlike other reduction functions (e.g. `skew`, `kurtosis`), the default behavior of `mode` typically preserves the axis it acts along. In SciPy 1.11.0, this behavior will change: the default value of `keepdims` will become False, the `axis` over which the statistic is taken will be eliminated, and the value None will no longer be accepted. Set `keepdims` to True or False to avoid this warning.\n",
      "  mode, _ = stats.mode(_y[neigh_ind, k], axis=1)\n",
      "C:\\Users\\hp\\anaconda3\\lib\\site-packages\\sklearn\\neighbors\\_classification.py:228: FutureWarning: Unlike other reduction functions (e.g. `skew`, `kurtosis`), the default behavior of `mode` typically preserves the axis it acts along. In SciPy 1.11.0, this behavior will change: the default value of `keepdims` will become False, the `axis` over which the statistic is taken will be eliminated, and the value None will no longer be accepted. Set `keepdims` to True or False to avoid this warning.\n",
      "  mode, _ = stats.mode(_y[neigh_ind, k], axis=1)\n",
      "C:\\Users\\hp\\anaconda3\\lib\\site-packages\\sklearn\\neighbors\\_classification.py:228: FutureWarning: Unlike other reduction functions (e.g. `skew`, `kurtosis`), the default behavior of `mode` typically preserves the axis it acts along. In SciPy 1.11.0, this behavior will change: the default value of `keepdims` will become False, the `axis` over which the statistic is taken will be eliminated, and the value None will no longer be accepted. Set `keepdims` to True or False to avoid this warning.\n",
      "  mode, _ = stats.mode(_y[neigh_ind, k], axis=1)\n"
     ]
    },
    {
     "name": "stdout",
     "output_type": "stream",
     "text": [
      "[CV] END ..metric=minkowski, n_neighbors=11, weights=uniform; total time=   0.0s\n",
      "[CV] END ..metric=minkowski, n_neighbors=12, weights=uniform; total time=   0.0s\n",
      "[CV] END ..metric=minkowski, n_neighbors=12, weights=uniform; total time=   0.0s\n",
      "[CV] END ..metric=minkowski, n_neighbors=12, weights=uniform; total time=   0.0s\n",
      "[CV] END ..metric=minkowski, n_neighbors=12, weights=uniform; total time=   0.0s\n",
      "[CV] END ..metric=minkowski, n_neighbors=12, weights=uniform; total time=   0.0s\n"
     ]
    },
    {
     "name": "stderr",
     "output_type": "stream",
     "text": [
      "C:\\Users\\hp\\anaconda3\\lib\\site-packages\\sklearn\\neighbors\\_classification.py:228: FutureWarning: Unlike other reduction functions (e.g. `skew`, `kurtosis`), the default behavior of `mode` typically preserves the axis it acts along. In SciPy 1.11.0, this behavior will change: the default value of `keepdims` will become False, the `axis` over which the statistic is taken will be eliminated, and the value None will no longer be accepted. Set `keepdims` to True or False to avoid this warning.\n",
      "  mode, _ = stats.mode(_y[neigh_ind, k], axis=1)\n",
      "C:\\Users\\hp\\anaconda3\\lib\\site-packages\\sklearn\\neighbors\\_classification.py:228: FutureWarning: Unlike other reduction functions (e.g. `skew`, `kurtosis`), the default behavior of `mode` typically preserves the axis it acts along. In SciPy 1.11.0, this behavior will change: the default value of `keepdims` will become False, the `axis` over which the statistic is taken will be eliminated, and the value None will no longer be accepted. Set `keepdims` to True or False to avoid this warning.\n",
      "  mode, _ = stats.mode(_y[neigh_ind, k], axis=1)\n",
      "C:\\Users\\hp\\anaconda3\\lib\\site-packages\\sklearn\\neighbors\\_classification.py:228: FutureWarning: Unlike other reduction functions (e.g. `skew`, `kurtosis`), the default behavior of `mode` typically preserves the axis it acts along. In SciPy 1.11.0, this behavior will change: the default value of `keepdims` will become False, the `axis` over which the statistic is taken will be eliminated, and the value None will no longer be accepted. Set `keepdims` to True or False to avoid this warning.\n",
      "  mode, _ = stats.mode(_y[neigh_ind, k], axis=1)\n",
      "C:\\Users\\hp\\anaconda3\\lib\\site-packages\\sklearn\\neighbors\\_classification.py:228: FutureWarning: Unlike other reduction functions (e.g. `skew`, `kurtosis`), the default behavior of `mode` typically preserves the axis it acts along. In SciPy 1.11.0, this behavior will change: the default value of `keepdims` will become False, the `axis` over which the statistic is taken will be eliminated, and the value None will no longer be accepted. Set `keepdims` to True or False to avoid this warning.\n",
      "  mode, _ = stats.mode(_y[neigh_ind, k], axis=1)\n",
      "C:\\Users\\hp\\anaconda3\\lib\\site-packages\\sklearn\\neighbors\\_classification.py:228: FutureWarning: Unlike other reduction functions (e.g. `skew`, `kurtosis`), the default behavior of `mode` typically preserves the axis it acts along. In SciPy 1.11.0, this behavior will change: the default value of `keepdims` will become False, the `axis` over which the statistic is taken will be eliminated, and the value None will no longer be accepted. Set `keepdims` to True or False to avoid this warning.\n",
      "  mode, _ = stats.mode(_y[neigh_ind, k], axis=1)\n",
      "C:\\Users\\hp\\anaconda3\\lib\\site-packages\\sklearn\\neighbors\\_classification.py:228: FutureWarning: Unlike other reduction functions (e.g. `skew`, `kurtosis`), the default behavior of `mode` typically preserves the axis it acts along. In SciPy 1.11.0, this behavior will change: the default value of `keepdims` will become False, the `axis` over which the statistic is taken will be eliminated, and the value None will no longer be accepted. Set `keepdims` to True or False to avoid this warning.\n",
      "  mode, _ = stats.mode(_y[neigh_ind, k], axis=1)\n",
      "C:\\Users\\hp\\anaconda3\\lib\\site-packages\\sklearn\\neighbors\\_classification.py:228: FutureWarning: Unlike other reduction functions (e.g. `skew`, `kurtosis`), the default behavior of `mode` typically preserves the axis it acts along. In SciPy 1.11.0, this behavior will change: the default value of `keepdims` will become False, the `axis` over which the statistic is taken will be eliminated, and the value None will no longer be accepted. Set `keepdims` to True or False to avoid this warning.\n",
      "  mode, _ = stats.mode(_y[neigh_ind, k], axis=1)\n"
     ]
    },
    {
     "name": "stdout",
     "output_type": "stream",
     "text": [
      "[CV] END ..metric=minkowski, n_neighbors=12, weights=uniform; total time=   0.0s\n",
      "[CV] END ..metric=minkowski, n_neighbors=12, weights=uniform; total time=   0.0s\n",
      "[CV] END ..metric=minkowski, n_neighbors=12, weights=uniform; total time=   0.0s\n",
      "[CV] END ..metric=minkowski, n_neighbors=12, weights=uniform; total time=   0.0s\n"
     ]
    },
    {
     "name": "stderr",
     "output_type": "stream",
     "text": [
      "C:\\Users\\hp\\anaconda3\\lib\\site-packages\\sklearn\\neighbors\\_classification.py:228: FutureWarning: Unlike other reduction functions (e.g. `skew`, `kurtosis`), the default behavior of `mode` typically preserves the axis it acts along. In SciPy 1.11.0, this behavior will change: the default value of `keepdims` will become False, the `axis` over which the statistic is taken will be eliminated, and the value None will no longer be accepted. Set `keepdims` to True or False to avoid this warning.\n",
      "  mode, _ = stats.mode(_y[neigh_ind, k], axis=1)\n",
      "C:\\Users\\hp\\anaconda3\\lib\\site-packages\\sklearn\\neighbors\\_classification.py:228: FutureWarning: Unlike other reduction functions (e.g. `skew`, `kurtosis`), the default behavior of `mode` typically preserves the axis it acts along. In SciPy 1.11.0, this behavior will change: the default value of `keepdims` will become False, the `axis` over which the statistic is taken will be eliminated, and the value None will no longer be accepted. Set `keepdims` to True or False to avoid this warning.\n",
      "  mode, _ = stats.mode(_y[neigh_ind, k], axis=1)\n",
      "C:\\Users\\hp\\anaconda3\\lib\\site-packages\\sklearn\\neighbors\\_classification.py:228: FutureWarning: Unlike other reduction functions (e.g. `skew`, `kurtosis`), the default behavior of `mode` typically preserves the axis it acts along. In SciPy 1.11.0, this behavior will change: the default value of `keepdims` will become False, the `axis` over which the statistic is taken will be eliminated, and the value None will no longer be accepted. Set `keepdims` to True or False to avoid this warning.\n",
      "  mode, _ = stats.mode(_y[neigh_ind, k], axis=1)\n"
     ]
    },
    {
     "name": "stdout",
     "output_type": "stream",
     "text": [
      "[CV] END ..metric=minkowski, n_neighbors=12, weights=uniform; total time=   0.0s\n",
      "[CV] END ..metric=minkowski, n_neighbors=13, weights=uniform; total time=   0.0s\n",
      "[CV] END ..metric=minkowski, n_neighbors=13, weights=uniform; total time=   0.0s\n",
      "[CV] END ..metric=minkowski, n_neighbors=13, weights=uniform; total time=   0.0s\n",
      "[CV] END ..metric=minkowski, n_neighbors=13, weights=uniform; total time=   0.0s\n",
      "[CV] END ..metric=minkowski, n_neighbors=13, weights=uniform; total time=   0.0s\n",
      "[CV] END ..metric=minkowski, n_neighbors=13, weights=uniform; total time=   0.0s\n",
      "[CV] END ..metric=minkowski, n_neighbors=13, weights=uniform; total time=   0.0s\n",
      "[CV] END ..metric=minkowski, n_neighbors=13, weights=uniform; total time=   0.0s\n"
     ]
    },
    {
     "name": "stderr",
     "output_type": "stream",
     "text": [
      "C:\\Users\\hp\\anaconda3\\lib\\site-packages\\sklearn\\neighbors\\_classification.py:228: FutureWarning: Unlike other reduction functions (e.g. `skew`, `kurtosis`), the default behavior of `mode` typically preserves the axis it acts along. In SciPy 1.11.0, this behavior will change: the default value of `keepdims` will become False, the `axis` over which the statistic is taken will be eliminated, and the value None will no longer be accepted. Set `keepdims` to True or False to avoid this warning.\n",
      "  mode, _ = stats.mode(_y[neigh_ind, k], axis=1)\n",
      "C:\\Users\\hp\\anaconda3\\lib\\site-packages\\sklearn\\neighbors\\_classification.py:228: FutureWarning: Unlike other reduction functions (e.g. `skew`, `kurtosis`), the default behavior of `mode` typically preserves the axis it acts along. In SciPy 1.11.0, this behavior will change: the default value of `keepdims` will become False, the `axis` over which the statistic is taken will be eliminated, and the value None will no longer be accepted. Set `keepdims` to True or False to avoid this warning.\n",
      "  mode, _ = stats.mode(_y[neigh_ind, k], axis=1)\n",
      "C:\\Users\\hp\\anaconda3\\lib\\site-packages\\sklearn\\neighbors\\_classification.py:228: FutureWarning: Unlike other reduction functions (e.g. `skew`, `kurtosis`), the default behavior of `mode` typically preserves the axis it acts along. In SciPy 1.11.0, this behavior will change: the default value of `keepdims` will become False, the `axis` over which the statistic is taken will be eliminated, and the value None will no longer be accepted. Set `keepdims` to True or False to avoid this warning.\n",
      "  mode, _ = stats.mode(_y[neigh_ind, k], axis=1)\n",
      "C:\\Users\\hp\\anaconda3\\lib\\site-packages\\sklearn\\neighbors\\_classification.py:228: FutureWarning: Unlike other reduction functions (e.g. `skew`, `kurtosis`), the default behavior of `mode` typically preserves the axis it acts along. In SciPy 1.11.0, this behavior will change: the default value of `keepdims` will become False, the `axis` over which the statistic is taken will be eliminated, and the value None will no longer be accepted. Set `keepdims` to True or False to avoid this warning.\n",
      "  mode, _ = stats.mode(_y[neigh_ind, k], axis=1)\n",
      "C:\\Users\\hp\\anaconda3\\lib\\site-packages\\sklearn\\neighbors\\_classification.py:228: FutureWarning: Unlike other reduction functions (e.g. `skew`, `kurtosis`), the default behavior of `mode` typically preserves the axis it acts along. In SciPy 1.11.0, this behavior will change: the default value of `keepdims` will become False, the `axis` over which the statistic is taken will be eliminated, and the value None will no longer be accepted. Set `keepdims` to True or False to avoid this warning.\n",
      "  mode, _ = stats.mode(_y[neigh_ind, k], axis=1)\n",
      "C:\\Users\\hp\\anaconda3\\lib\\site-packages\\sklearn\\neighbors\\_classification.py:228: FutureWarning: Unlike other reduction functions (e.g. `skew`, `kurtosis`), the default behavior of `mode` typically preserves the axis it acts along. In SciPy 1.11.0, this behavior will change: the default value of `keepdims` will become False, the `axis` over which the statistic is taken will be eliminated, and the value None will no longer be accepted. Set `keepdims` to True or False to avoid this warning.\n",
      "  mode, _ = stats.mode(_y[neigh_ind, k], axis=1)\n",
      "C:\\Users\\hp\\anaconda3\\lib\\site-packages\\sklearn\\neighbors\\_classification.py:228: FutureWarning: Unlike other reduction functions (e.g. `skew`, `kurtosis`), the default behavior of `mode` typically preserves the axis it acts along. In SciPy 1.11.0, this behavior will change: the default value of `keepdims` will become False, the `axis` over which the statistic is taken will be eliminated, and the value None will no longer be accepted. Set `keepdims` to True or False to avoid this warning.\n",
      "  mode, _ = stats.mode(_y[neigh_ind, k], axis=1)\n",
      "C:\\Users\\hp\\anaconda3\\lib\\site-packages\\sklearn\\neighbors\\_classification.py:228: FutureWarning: Unlike other reduction functions (e.g. `skew`, `kurtosis`), the default behavior of `mode` typically preserves the axis it acts along. In SciPy 1.11.0, this behavior will change: the default value of `keepdims` will become False, the `axis` over which the statistic is taken will be eliminated, and the value None will no longer be accepted. Set `keepdims` to True or False to avoid this warning.\n",
      "  mode, _ = stats.mode(_y[neigh_ind, k], axis=1)\n",
      "C:\\Users\\hp\\anaconda3\\lib\\site-packages\\sklearn\\neighbors\\_classification.py:228: FutureWarning: Unlike other reduction functions (e.g. `skew`, `kurtosis`), the default behavior of `mode` typically preserves the axis it acts along. In SciPy 1.11.0, this behavior will change: the default value of `keepdims` will become False, the `axis` over which the statistic is taken will be eliminated, and the value None will no longer be accepted. Set `keepdims` to True or False to avoid this warning.\n",
      "  mode, _ = stats.mode(_y[neigh_ind, k], axis=1)\n"
     ]
    },
    {
     "name": "stdout",
     "output_type": "stream",
     "text": [
      "[CV] END ..metric=minkowski, n_neighbors=13, weights=uniform; total time=   0.0s\n",
      "[CV] END ..metric=minkowski, n_neighbors=13, weights=uniform; total time=   0.0s\n",
      "[CV] END ..metric=minkowski, n_neighbors=15, weights=uniform; total time=   0.0s\n"
     ]
    },
    {
     "name": "stderr",
     "output_type": "stream",
     "text": [
      "C:\\Users\\hp\\anaconda3\\lib\\site-packages\\sklearn\\neighbors\\_classification.py:228: FutureWarning: Unlike other reduction functions (e.g. `skew`, `kurtosis`), the default behavior of `mode` typically preserves the axis it acts along. In SciPy 1.11.0, this behavior will change: the default value of `keepdims` will become False, the `axis` over which the statistic is taken will be eliminated, and the value None will no longer be accepted. Set `keepdims` to True or False to avoid this warning.\n",
      "  mode, _ = stats.mode(_y[neigh_ind, k], axis=1)\n",
      "C:\\Users\\hp\\anaconda3\\lib\\site-packages\\sklearn\\neighbors\\_classification.py:228: FutureWarning: Unlike other reduction functions (e.g. `skew`, `kurtosis`), the default behavior of `mode` typically preserves the axis it acts along. In SciPy 1.11.0, this behavior will change: the default value of `keepdims` will become False, the `axis` over which the statistic is taken will be eliminated, and the value None will no longer be accepted. Set `keepdims` to True or False to avoid this warning.\n",
      "  mode, _ = stats.mode(_y[neigh_ind, k], axis=1)\n",
      "C:\\Users\\hp\\anaconda3\\lib\\site-packages\\sklearn\\neighbors\\_classification.py:228: FutureWarning: Unlike other reduction functions (e.g. `skew`, `kurtosis`), the default behavior of `mode` typically preserves the axis it acts along. In SciPy 1.11.0, this behavior will change: the default value of `keepdims` will become False, the `axis` over which the statistic is taken will be eliminated, and the value None will no longer be accepted. Set `keepdims` to True or False to avoid this warning.\n",
      "  mode, _ = stats.mode(_y[neigh_ind, k], axis=1)\n"
     ]
    },
    {
     "name": "stdout",
     "output_type": "stream",
     "text": [
      "[CV] END ..metric=minkowski, n_neighbors=15, weights=uniform; total time=   0.0s\n",
      "[CV] END ..metric=minkowski, n_neighbors=15, weights=uniform; total time=   0.0s\n",
      "[CV] END ..metric=minkowski, n_neighbors=15, weights=uniform; total time=   0.0s\n",
      "[CV] END ..metric=minkowski, n_neighbors=15, weights=uniform; total time=   0.0s\n",
      "[CV] END ..metric=minkowski, n_neighbors=15, weights=uniform; total time=   0.0s\n",
      "[CV] END ..metric=minkowski, n_neighbors=15, weights=uniform; total time=   0.0s\n",
      "[CV] END ..metric=minkowski, n_neighbors=15, weights=uniform; total time=   0.0s\n",
      "[CV] END ..metric=minkowski, n_neighbors=15, weights=uniform; total time=   0.0s\n",
      "[CV] END ..metric=minkowski, n_neighbors=15, weights=uniform; total time=   0.0s\n"
     ]
    },
    {
     "name": "stderr",
     "output_type": "stream",
     "text": [
      "C:\\Users\\hp\\anaconda3\\lib\\site-packages\\sklearn\\neighbors\\_classification.py:228: FutureWarning: Unlike other reduction functions (e.g. `skew`, `kurtosis`), the default behavior of `mode` typically preserves the axis it acts along. In SciPy 1.11.0, this behavior will change: the default value of `keepdims` will become False, the `axis` over which the statistic is taken will be eliminated, and the value None will no longer be accepted. Set `keepdims` to True or False to avoid this warning.\n",
      "  mode, _ = stats.mode(_y[neigh_ind, k], axis=1)\n",
      "C:\\Users\\hp\\anaconda3\\lib\\site-packages\\sklearn\\neighbors\\_classification.py:228: FutureWarning: Unlike other reduction functions (e.g. `skew`, `kurtosis`), the default behavior of `mode` typically preserves the axis it acts along. In SciPy 1.11.0, this behavior will change: the default value of `keepdims` will become False, the `axis` over which the statistic is taken will be eliminated, and the value None will no longer be accepted. Set `keepdims` to True or False to avoid this warning.\n",
      "  mode, _ = stats.mode(_y[neigh_ind, k], axis=1)\n",
      "C:\\Users\\hp\\anaconda3\\lib\\site-packages\\sklearn\\neighbors\\_classification.py:228: FutureWarning: Unlike other reduction functions (e.g. `skew`, `kurtosis`), the default behavior of `mode` typically preserves the axis it acts along. In SciPy 1.11.0, this behavior will change: the default value of `keepdims` will become False, the `axis` over which the statistic is taken will be eliminated, and the value None will no longer be accepted. Set `keepdims` to True or False to avoid this warning.\n",
      "  mode, _ = stats.mode(_y[neigh_ind, k], axis=1)\n",
      "C:\\Users\\hp\\anaconda3\\lib\\site-packages\\sklearn\\neighbors\\_classification.py:228: FutureWarning: Unlike other reduction functions (e.g. `skew`, `kurtosis`), the default behavior of `mode` typically preserves the axis it acts along. In SciPy 1.11.0, this behavior will change: the default value of `keepdims` will become False, the `axis` over which the statistic is taken will be eliminated, and the value None will no longer be accepted. Set `keepdims` to True or False to avoid this warning.\n",
      "  mode, _ = stats.mode(_y[neigh_ind, k], axis=1)\n",
      "C:\\Users\\hp\\anaconda3\\lib\\site-packages\\sklearn\\neighbors\\_classification.py:228: FutureWarning: Unlike other reduction functions (e.g. `skew`, `kurtosis`), the default behavior of `mode` typically preserves the axis it acts along. In SciPy 1.11.0, this behavior will change: the default value of `keepdims` will become False, the `axis` over which the statistic is taken will be eliminated, and the value None will no longer be accepted. Set `keepdims` to True or False to avoid this warning.\n",
      "  mode, _ = stats.mode(_y[neigh_ind, k], axis=1)\n",
      "C:\\Users\\hp\\anaconda3\\lib\\site-packages\\sklearn\\neighbors\\_classification.py:228: FutureWarning: Unlike other reduction functions (e.g. `skew`, `kurtosis`), the default behavior of `mode` typically preserves the axis it acts along. In SciPy 1.11.0, this behavior will change: the default value of `keepdims` will become False, the `axis` over which the statistic is taken will be eliminated, and the value None will no longer be accepted. Set `keepdims` to True or False to avoid this warning.\n",
      "  mode, _ = stats.mode(_y[neigh_ind, k], axis=1)\n",
      "C:\\Users\\hp\\anaconda3\\lib\\site-packages\\sklearn\\neighbors\\_classification.py:228: FutureWarning: Unlike other reduction functions (e.g. `skew`, `kurtosis`), the default behavior of `mode` typically preserves the axis it acts along. In SciPy 1.11.0, this behavior will change: the default value of `keepdims` will become False, the `axis` over which the statistic is taken will be eliminated, and the value None will no longer be accepted. Set `keepdims` to True or False to avoid this warning.\n",
      "  mode, _ = stats.mode(_y[neigh_ind, k], axis=1)\n",
      "C:\\Users\\hp\\anaconda3\\lib\\site-packages\\sklearn\\neighbors\\_classification.py:228: FutureWarning: Unlike other reduction functions (e.g. `skew`, `kurtosis`), the default behavior of `mode` typically preserves the axis it acts along. In SciPy 1.11.0, this behavior will change: the default value of `keepdims` will become False, the `axis` over which the statistic is taken will be eliminated, and the value None will no longer be accepted. Set `keepdims` to True or False to avoid this warning.\n",
      "  mode, _ = stats.mode(_y[neigh_ind, k], axis=1)\n",
      "C:\\Users\\hp\\anaconda3\\lib\\site-packages\\sklearn\\neighbors\\_classification.py:228: FutureWarning: Unlike other reduction functions (e.g. `skew`, `kurtosis`), the default behavior of `mode` typically preserves the axis it acts along. In SciPy 1.11.0, this behavior will change: the default value of `keepdims` will become False, the `axis` over which the statistic is taken will be eliminated, and the value None will no longer be accepted. Set `keepdims` to True or False to avoid this warning.\n",
      "  mode, _ = stats.mode(_y[neigh_ind, k], axis=1)\n",
      "C:\\Users\\hp\\anaconda3\\lib\\site-packages\\sklearn\\neighbors\\_classification.py:228: FutureWarning: Unlike other reduction functions (e.g. `skew`, `kurtosis`), the default behavior of `mode` typically preserves the axis it acts along. In SciPy 1.11.0, this behavior will change: the default value of `keepdims` will become False, the `axis` over which the statistic is taken will be eliminated, and the value None will no longer be accepted. Set `keepdims` to True or False to avoid this warning.\n",
      "  mode, _ = stats.mode(_y[neigh_ind, k], axis=1)\n"
     ]
    },
    {
     "name": "stdout",
     "output_type": "stream",
     "text": [
      "[CV] END ..metric=minkowski, n_neighbors=14, weights=uniform; total time=   0.0s\n",
      "[CV] END ..metric=minkowski, n_neighbors=14, weights=uniform; total time=   0.0s\n",
      "[CV] END ..metric=minkowski, n_neighbors=14, weights=uniform; total time=   0.0s\n",
      "[CV] END ..metric=minkowski, n_neighbors=14, weights=uniform; total time=   0.0s\n",
      "[CV] END ..metric=minkowski, n_neighbors=14, weights=uniform; total time=   0.0s\n",
      "[CV] END ..metric=minkowski, n_neighbors=14, weights=uniform; total time=   0.0s\n",
      "[CV] END ..metric=minkowski, n_neighbors=14, weights=uniform; total time=   0.0s\n",
      "[CV] END ..metric=minkowski, n_neighbors=14, weights=uniform; total time=   0.0s\n",
      "[CV] END ..metric=minkowski, n_neighbors=14, weights=uniform; total time=   0.0s\n",
      "[CV] END ..metric=minkowski, n_neighbors=14, weights=uniform; total time=   0.0s\n"
     ]
    },
    {
     "name": "stderr",
     "output_type": "stream",
     "text": [
      "C:\\Users\\hp\\anaconda3\\lib\\site-packages\\sklearn\\neighbors\\_classification.py:228: FutureWarning: Unlike other reduction functions (e.g. `skew`, `kurtosis`), the default behavior of `mode` typically preserves the axis it acts along. In SciPy 1.11.0, this behavior will change: the default value of `keepdims` will become False, the `axis` over which the statistic is taken will be eliminated, and the value None will no longer be accepted. Set `keepdims` to True or False to avoid this warning.\n",
      "  mode, _ = stats.mode(_y[neigh_ind, k], axis=1)\n",
      "C:\\Users\\hp\\anaconda3\\lib\\site-packages\\sklearn\\neighbors\\_classification.py:228: FutureWarning: Unlike other reduction functions (e.g. `skew`, `kurtosis`), the default behavior of `mode` typically preserves the axis it acts along. In SciPy 1.11.0, this behavior will change: the default value of `keepdims` will become False, the `axis` over which the statistic is taken will be eliminated, and the value None will no longer be accepted. Set `keepdims` to True or False to avoid this warning.\n",
      "  mode, _ = stats.mode(_y[neigh_ind, k], axis=1)\n",
      "C:\\Users\\hp\\anaconda3\\lib\\site-packages\\sklearn\\neighbors\\_classification.py:228: FutureWarning: Unlike other reduction functions (e.g. `skew`, `kurtosis`), the default behavior of `mode` typically preserves the axis it acts along. In SciPy 1.11.0, this behavior will change: the default value of `keepdims` will become False, the `axis` over which the statistic is taken will be eliminated, and the value None will no longer be accepted. Set `keepdims` to True or False to avoid this warning.\n",
      "  mode, _ = stats.mode(_y[neigh_ind, k], axis=1)\n",
      "C:\\Users\\hp\\anaconda3\\lib\\site-packages\\sklearn\\neighbors\\_classification.py:228: FutureWarning: Unlike other reduction functions (e.g. `skew`, `kurtosis`), the default behavior of `mode` typically preserves the axis it acts along. In SciPy 1.11.0, this behavior will change: the default value of `keepdims` will become False, the `axis` over which the statistic is taken will be eliminated, and the value None will no longer be accepted. Set `keepdims` to True or False to avoid this warning.\n",
      "  mode, _ = stats.mode(_y[neigh_ind, k], axis=1)\n",
      "C:\\Users\\hp\\anaconda3\\lib\\site-packages\\sklearn\\neighbors\\_classification.py:228: FutureWarning: Unlike other reduction functions (e.g. `skew`, `kurtosis`), the default behavior of `mode` typically preserves the axis it acts along. In SciPy 1.11.0, this behavior will change: the default value of `keepdims` will become False, the `axis` over which the statistic is taken will be eliminated, and the value None will no longer be accepted. Set `keepdims` to True or False to avoid this warning.\n",
      "  mode, _ = stats.mode(_y[neigh_ind, k], axis=1)\n",
      "C:\\Users\\hp\\anaconda3\\lib\\site-packages\\sklearn\\neighbors\\_classification.py:228: FutureWarning: Unlike other reduction functions (e.g. `skew`, `kurtosis`), the default behavior of `mode` typically preserves the axis it acts along. In SciPy 1.11.0, this behavior will change: the default value of `keepdims` will become False, the `axis` over which the statistic is taken will be eliminated, and the value None will no longer be accepted. Set `keepdims` to True or False to avoid this warning.\n",
      "  mode, _ = stats.mode(_y[neigh_ind, k], axis=1)\n",
      "C:\\Users\\hp\\anaconda3\\lib\\site-packages\\sklearn\\neighbors\\_classification.py:228: FutureWarning: Unlike other reduction functions (e.g. `skew`, `kurtosis`), the default behavior of `mode` typically preserves the axis it acts along. In SciPy 1.11.0, this behavior will change: the default value of `keepdims` will become False, the `axis` over which the statistic is taken will be eliminated, and the value None will no longer be accepted. Set `keepdims` to True or False to avoid this warning.\n",
      "  mode, _ = stats.mode(_y[neigh_ind, k], axis=1)\n",
      "C:\\Users\\hp\\anaconda3\\lib\\site-packages\\sklearn\\neighbors\\_classification.py:228: FutureWarning: Unlike other reduction functions (e.g. `skew`, `kurtosis`), the default behavior of `mode` typically preserves the axis it acts along. In SciPy 1.11.0, this behavior will change: the default value of `keepdims` will become False, the `axis` over which the statistic is taken will be eliminated, and the value None will no longer be accepted. Set `keepdims` to True or False to avoid this warning.\n",
      "  mode, _ = stats.mode(_y[neigh_ind, k], axis=1)\n",
      "C:\\Users\\hp\\anaconda3\\lib\\site-packages\\sklearn\\neighbors\\_classification.py:228: FutureWarning: Unlike other reduction functions (e.g. `skew`, `kurtosis`), the default behavior of `mode` typically preserves the axis it acts along. In SciPy 1.11.0, this behavior will change: the default value of `keepdims` will become False, the `axis` over which the statistic is taken will be eliminated, and the value None will no longer be accepted. Set `keepdims` to True or False to avoid this warning.\n",
      "  mode, _ = stats.mode(_y[neigh_ind, k], axis=1)\n"
     ]
    },
    {
     "data": {
      "text/plain": [
       "GridSearchCV(cv=10, estimator=KNeighborsClassifier(),\n",
       "             param_grid={'metric': ['minkowski'],\n",
       "                         'n_neighbors': [11, 12, 13, 15, 14],\n",
       "                         'weights': ['uniform']},\n",
       "             verbose=2)"
      ]
     },
     "execution_count": 47,
     "metadata": {},
     "output_type": "execute_result"
    }
   ],
   "source": [
    "knn = KNeighborsClassifier()\n",
    "grid_search=GridSearchCV(estimator=knn,param_grid=param_grid,cv=10,verbose=2)\n",
    "grid_search.fit(X_train,y_train)"
   ]
  },
  {
   "cell_type": "code",
   "execution_count": 48,
   "id": "67d5ba86",
   "metadata": {},
   "outputs": [
    {
     "data": {
      "text/plain": [
       "KNeighborsClassifier(n_neighbors=15)"
      ]
     },
     "execution_count": 48,
     "metadata": {},
     "output_type": "execute_result"
    }
   ],
   "source": [
    "best_grid = grid_search.best_estimator_\n",
    "best_grid"
   ]
  },
  {
   "cell_type": "code",
   "execution_count": 49,
   "id": "aa9e20b8",
   "metadata": {},
   "outputs": [
    {
     "name": "stderr",
     "output_type": "stream",
     "text": [
      "C:\\Users\\hp\\anaconda3\\lib\\site-packages\\sklearn\\neighbors\\_classification.py:228: FutureWarning: Unlike other reduction functions (e.g. `skew`, `kurtosis`), the default behavior of `mode` typically preserves the axis it acts along. In SciPy 1.11.0, this behavior will change: the default value of `keepdims` will become False, the `axis` over which the statistic is taken will be eliminated, and the value None will no longer be accepted. Set `keepdims` to True or False to avoid this warning.\n",
      "  mode, _ = stats.mode(_y[neigh_ind, k], axis=1)\n",
      "C:\\Users\\hp\\anaconda3\\lib\\site-packages\\sklearn\\neighbors\\_classification.py:228: FutureWarning: Unlike other reduction functions (e.g. `skew`, `kurtosis`), the default behavior of `mode` typically preserves the axis it acts along. In SciPy 1.11.0, this behavior will change: the default value of `keepdims` will become False, the `axis` over which the statistic is taken will be eliminated, and the value None will no longer be accepted. Set `keepdims` to True or False to avoid this warning.\n",
      "  mode, _ = stats.mode(_y[neigh_ind, k], axis=1)\n"
     ]
    },
    {
     "name": "stdout",
     "output_type": "stream",
     "text": [
      "KNN Training Result\n",
      "[[  7 132]\n",
      " [  2 906]]\n",
      "Auc Score 0.8179412417202803\n",
      "Accuracy Score 0.8720152817574021\n",
      "Classification report:               precision    recall  f1-score   support\n",
      "\n",
      "         0.0       0.78      0.05      0.09       139\n",
      "         1.0       0.87      1.00      0.93       908\n",
      "\n",
      "    accuracy                           0.87      1047\n",
      "   macro avg       0.83      0.52      0.51      1047\n",
      "weighted avg       0.86      0.87      0.82      1047\n",
      "\n",
      "KNN Testing Result\n",
      "[[  2  68]\n",
      " [  4 376]]\n",
      "Auc Score 0.7143796992481203\n",
      "Accuracy Score 0.84\n",
      "Classification report:               precision    recall  f1-score   support\n",
      "\n",
      "         0.0       0.33      0.03      0.05        70\n",
      "         1.0       0.85      0.99      0.91       380\n",
      "\n",
      "    accuracy                           0.84       450\n",
      "   macro avg       0.59      0.51      0.48       450\n",
      "weighted avg       0.77      0.84      0.78       450\n",
      "\n"
     ]
    }
   ],
   "source": [
    "from sklearn.metrics import roc_curve, roc_auc_score\n",
    "y_train_pred = best_grid.predict(X_train)\n",
    "y_pred=best_grid.predict(X_test)\n",
    "print(\"KNN Training Result\")\n",
    "print(confusion_matrix(y_train,y_train_pred))\n",
    "print(\"Auc Score {}\".format(roc_auc_score(y_train, best_grid.predict_proba(X_train)[:,1])))\n",
    "print(\"Accuracy Score {}\".format(accuracy_score(y_train,y_train_pred)))\n",
    "print(\"Classification report: {}\".format(classification_report(y_train,y_train_pred)))\n",
    "\n",
    "print(\"KNN Testing Result\")\n",
    "print(confusion_matrix(y_test,y_pred))\n",
    "print(\"Auc Score {}\".format(roc_auc_score(y_test, best_grid.predict_proba(X_test)[:,1])))\n",
    "print(\"Accuracy Score {}\".format(accuracy_score(y_test,y_pred)))\n",
    "print(\"Classification report: {}\".format(classification_report(y_test,y_pred)))"
   ]
  },
  {
   "cell_type": "code",
   "execution_count": 50,
   "id": "48b475e6",
   "metadata": {},
   "outputs": [
    {
     "name": "stderr",
     "output_type": "stream",
     "text": [
      "C:\\Users\\hp\\anaconda3\\lib\\site-packages\\sklearn\\neighbors\\_classification.py:228: FutureWarning: Unlike other reduction functions (e.g. `skew`, `kurtosis`), the default behavior of `mode` typically preserves the axis it acts along. In SciPy 1.11.0, this behavior will change: the default value of `keepdims` will become False, the `axis` over which the statistic is taken will be eliminated, and the value None will no longer be accepted. Set `keepdims` to True or False to avoid this warning.\n",
      "  mode, _ = stats.mode(_y[neigh_ind, k], axis=1)\n",
      "C:\\Users\\hp\\anaconda3\\lib\\site-packages\\sklearn\\neighbors\\_classification.py:228: FutureWarning: Unlike other reduction functions (e.g. `skew`, `kurtosis`), the default behavior of `mode` typically preserves the axis it acts along. In SciPy 1.11.0, this behavior will change: the default value of `keepdims` will become False, the `axis` over which the statistic is taken will be eliminated, and the value None will no longer be accepted. Set `keepdims` to True or False to avoid this warning.\n",
      "  mode, _ = stats.mode(_y[neigh_ind, k], axis=1)\n",
      "C:\\Users\\hp\\anaconda3\\lib\\site-packages\\sklearn\\neighbors\\_classification.py:228: FutureWarning: Unlike other reduction functions (e.g. `skew`, `kurtosis`), the default behavior of `mode` typically preserves the axis it acts along. In SciPy 1.11.0, this behavior will change: the default value of `keepdims` will become False, the `axis` over which the statistic is taken will be eliminated, and the value None will no longer be accepted. Set `keepdims` to True or False to avoid this warning.\n",
      "  mode, _ = stats.mode(_y[neigh_ind, k], axis=1)\n",
      "C:\\Users\\hp\\anaconda3\\lib\\site-packages\\sklearn\\neighbors\\_classification.py:228: FutureWarning: Unlike other reduction functions (e.g. `skew`, `kurtosis`), the default behavior of `mode` typically preserves the axis it acts along. In SciPy 1.11.0, this behavior will change: the default value of `keepdims` will become False, the `axis` over which the statistic is taken will be eliminated, and the value None will no longer be accepted. Set `keepdims` to True or False to avoid this warning.\n",
      "  mode, _ = stats.mode(_y[neigh_ind, k], axis=1)\n",
      "C:\\Users\\hp\\anaconda3\\lib\\site-packages\\sklearn\\neighbors\\_classification.py:228: FutureWarning: Unlike other reduction functions (e.g. `skew`, `kurtosis`), the default behavior of `mode` typically preserves the axis it acts along. In SciPy 1.11.0, this behavior will change: the default value of `keepdims` will become False, the `axis` over which the statistic is taken will be eliminated, and the value None will no longer be accepted. Set `keepdims` to True or False to avoid this warning.\n",
      "  mode, _ = stats.mode(_y[neigh_ind, k], axis=1)\n",
      "C:\\Users\\hp\\anaconda3\\lib\\site-packages\\sklearn\\neighbors\\_classification.py:228: FutureWarning: Unlike other reduction functions (e.g. `skew`, `kurtosis`), the default behavior of `mode` typically preserves the axis it acts along. In SciPy 1.11.0, this behavior will change: the default value of `keepdims` will become False, the `axis` over which the statistic is taken will be eliminated, and the value None will no longer be accepted. Set `keepdims` to True or False to avoid this warning.\n",
      "  mode, _ = stats.mode(_y[neigh_ind, k], axis=1)\n",
      "C:\\Users\\hp\\anaconda3\\lib\\site-packages\\sklearn\\neighbors\\_classification.py:228: FutureWarning: Unlike other reduction functions (e.g. `skew`, `kurtosis`), the default behavior of `mode` typically preserves the axis it acts along. In SciPy 1.11.0, this behavior will change: the default value of `keepdims` will become False, the `axis` over which the statistic is taken will be eliminated, and the value None will no longer be accepted. Set `keepdims` to True or False to avoid this warning.\n",
      "  mode, _ = stats.mode(_y[neigh_ind, k], axis=1)\n",
      "C:\\Users\\hp\\anaconda3\\lib\\site-packages\\sklearn\\neighbors\\_classification.py:228: FutureWarning: Unlike other reduction functions (e.g. `skew`, `kurtosis`), the default behavior of `mode` typically preserves the axis it acts along. In SciPy 1.11.0, this behavior will change: the default value of `keepdims` will become False, the `axis` over which the statistic is taken will be eliminated, and the value None will no longer be accepted. Set `keepdims` to True or False to avoid this warning.\n",
      "  mode, _ = stats.mode(_y[neigh_ind, k], axis=1)\n",
      "C:\\Users\\hp\\anaconda3\\lib\\site-packages\\sklearn\\neighbors\\_classification.py:228: FutureWarning: Unlike other reduction functions (e.g. `skew`, `kurtosis`), the default behavior of `mode` typically preserves the axis it acts along. In SciPy 1.11.0, this behavior will change: the default value of `keepdims` will become False, the `axis` over which the statistic is taken will be eliminated, and the value None will no longer be accepted. Set `keepdims` to True or False to avoid this warning.\n",
      "  mode, _ = stats.mode(_y[neigh_ind, k], axis=1)\n",
      "C:\\Users\\hp\\anaconda3\\lib\\site-packages\\sklearn\\neighbors\\_classification.py:228: FutureWarning: Unlike other reduction functions (e.g. `skew`, `kurtosis`), the default behavior of `mode` typically preserves the axis it acts along. In SciPy 1.11.0, this behavior will change: the default value of `keepdims` will become False, the `axis` over which the statistic is taken will be eliminated, and the value None will no longer be accepted. Set `keepdims` to True or False to avoid this warning.\n",
      "  mode, _ = stats.mode(_y[neigh_ind, k], axis=1)\n"
     ]
    }
   ],
   "source": [
    "from sklearn.model_selection import KFold\n",
    "from sklearn.metrics import roc_curve, roc_auc_score\n",
    "kf = KFold(n_splits=5)\n",
    "auc_train = []\n",
    "auc_test = []\n",
    "for train_index, test_index in kf.split(Z): \n",
    "    X_train, X_test = Z[train_index], Z[test_index]\n",
    "    y_train, y_test = Y[train_index], Y[test_index]\n",
    "    model = best_grid\n",
    "    model.fit(X_train, y_train)\n",
    "    y_train_pred = model.predict(X_train)\n",
    "    y_test_pred = model.predict(X_test)\n",
    "    auc_train.append(roc_auc_score(y_train, model.predict_proba(X_train)[:,1]))\n",
    "    auc_test.append(roc_auc_score(y_test, model.predict_proba(X_test)[:,1]))"
   ]
  },
  {
   "cell_type": "code",
   "execution_count": 51,
   "id": "e0bf121c",
   "metadata": {},
   "outputs": [
    {
     "data": {
      "image/png": "[encoded data removed]",
      "text/plain": [
       "<Figure size 640x480 with 1 Axes>"
      ]
     },
     "metadata": {},
     "output_type": "display_data"
    }
   ],
   "source": [
    "folds = range(1, kf.get_n_splits() + 1)\n",
    "plt.plot(folds, auc_train, 'o-', color='green', label='train')\n",
    "plt.plot(folds, auc_test, 'o-', color='red', label='test')\n",
    "plt.legend()\n",
    "plt.grid()\n",
    "plt.xlabel('Number of fold')\n",
    "plt.ylabel('Area Under the Curve')\n",
    "plt.show()"
   ]
  },
  {
   "cell_type": "code",
   "execution_count": 52,
   "id": "d617da8d",
   "metadata": {},
   "outputs": [],
   "source": [
    "from sklearn.naive_bayes import GaussianNB\n",
    "model = GaussianNB()"
   ]
  },
  {
   "cell_type": "code",
   "execution_count": 53,
   "id": "34b609fa",
   "metadata": {},
   "outputs": [
    {
     "name": "stdout",
     "output_type": "stream",
     "text": [
      "Logistic Regression Algorithm in training\n",
      "              precision    recall  f1-score   support\n",
      "\n",
      "         0.0       0.40      0.38      0.39       139\n",
      "         1.0       0.91      0.91      0.91       908\n",
      "\n",
      "    accuracy                           0.84      1047\n",
      "   macro avg       0.65      0.65      0.65      1047\n",
      "weighted avg       0.84      0.84      0.84      1047\n",
      "\n",
      "[[ 53  86]\n",
      " [ 81 827]]\n",
      "ACC:  0.8404966571155683\n",
      "AUC:  0.7361899027033879\n",
      "Decision Tree Algorithm\n",
      "              precision    recall  f1-score   support\n",
      "\n",
      "         0.0       0.47      0.41      0.44        70\n",
      "         1.0       0.89      0.91      0.90       380\n",
      "\n",
      "    accuracy                           0.84       450\n",
      "   macro avg       0.68      0.66      0.67       450\n",
      "weighted avg       0.83      0.84      0.83       450\n",
      "\n",
      "[[ 29  41]\n",
      " [ 33 347]]\n",
      "ACC:  0.8355555555555556\n",
      "AUC:  0.7168045112781954\n"
     ]
    }
   ],
   "source": [
    "from sklearn.model_selection import train_test_split\n",
    "from sklearn.metrics import confusion_matrix, classification_report, accuracy_score\n",
    "from sklearn.metrics import roc_curve, roc_auc_score\n",
    "\n",
    "X_train, X_test, y_train, y_test = train_test_split(Z, Y, test_size = 0.3, random_state = 0)\n",
    "\n",
    "model.fit(X_train, y_train)\n",
    "\n",
    "y_predict_training = model.predict(X_train)\n",
    "y_pred = model.predict(X_test)\n",
    "#summery of training accuracy by the classifier\n",
    "print(\"Logistic Regression Algorithm in training\")\n",
    "print(classification_report(y_train, y_predict_training))\n",
    "print(confusion_matrix(y_train, y_predict_training))\n",
    "print(\"ACC: \",accuracy_score(y_train, y_predict_training))\n",
    "print(\"AUC: \",roc_auc_score(y_train, model.predict_proba(X_train)[:,1]))\n",
    "\n",
    "#Summary of the predictions made by the classifier\n",
    "print(\"Decision Tree Algorithm\")\n",
    "print(classification_report(y_test, y_pred))\n",
    "print(confusion_matrix(y_test, y_pred))\n",
    "#Accuracy score\n",
    "print(\"ACC: \",accuracy_score(y_pred,y_test))\n",
    "print(\"AUC: \",roc_auc_score(y_test, model.predict_proba(X_test)[:,1]))"
   ]
  },
  {
   "cell_type": "code",
   "execution_count": 54,
   "id": "131a12b2",
   "metadata": {},
   "outputs": [],
   "source": [
    "from sklearn.model_selection import KFold\n",
    "from sklearn.metrics import roc_curve, roc_auc_score\n",
    "kf = KFold(n_splits=5)\n",
    "auc_train = []\n",
    "auc_test = []\n",
    "for train_index, test_index in kf.split(Z): \n",
    "    X_train, X_test = Z[train_index], Z[test_index]\n",
    "    y_train, y_test = Y[train_index], Y[test_index]\n",
    "    model = GaussianNB()\n",
    "    model.fit(X_train, y_train)\n",
    "    y_train_pred = model.predict(X_train)\n",
    "    y_test_pred = model.predict(X_test)\n",
    "    auc_train.append(roc_auc_score(y_train, model.predict_proba(X_train)[:,1]))\n",
    "    auc_test.append(roc_auc_score(y_test, model.predict_proba(X_test)[:,1]))"
   ]
  },
  {
   "cell_type": "code",
   "execution_count": 55,
   "id": "374e966f",
   "metadata": {},
   "outputs": [
    {
     "data": {
      "image/png": "[encoded data removed]",
      "text/plain": [
       "<Figure size 640x480 with 1 Axes>"
      ]
     },
     "metadata": {},
     "output_type": "display_data"
    }
   ],
   "source": [
    "folds = range(1, kf.get_n_splits() + 1)\n",
    "plt.plot(folds, auc_train, 'o-', color='green', label='train')\n",
    "plt.plot(folds, auc_test, 'o-', color='red', label='test')\n",
    "plt.legend()\n",
    "plt.grid()\n",
    "plt.xlabel('Number of fold')\n",
    "plt.ylabel('Area Under the Curve')\n",
    "plt.show()"
   ]
  },
  {
   "cell_type": "code",
   "execution_count": 56,
   "id": "92e964ce",
   "metadata": {},
   "outputs": [],
   "source": [
    "from sklearn.naive_bayes import GaussianNB\n",
    "nb = GaussianNB()"
   ]
  },
  {
   "cell_type": "code",
   "execution_count": 57,
   "id": "1dfea07e",
   "metadata": {},
   "outputs": [
    {
     "name": "stdout",
     "output_type": "stream",
     "text": [
      "{'var_smoothing': array([1.00000000e+00, 8.11130831e-01, 6.57933225e-01, 5.33669923e-01,\n",
      "       4.32876128e-01, 3.51119173e-01, 2.84803587e-01, 2.31012970e-01,\n",
      "       1.87381742e-01, 1.51991108e-01, 1.23284674e-01, 1.00000000e-01,\n",
      "       8.11130831e-02, 6.57933225e-02, 5.33669923e-02, 4.32876128e-02,\n",
      "       3.51119173e-02, 2.84803587e-02, 2.31012970e-02, 1.87381742e-02,\n",
      "       1.51991108e-02, 1.23284674e-02, 1.00000000e-02, 8.11130831e-03,\n",
      "       6.57933225e-03, 5.33669923e-03, 4.32876128e-03, 3.51119173e-03,\n",
      "       2.84803587e-03, 2.31012970e-03, 1.87381742e-03, 1.51991108e-03,\n",
      "       1.23284674e-03, 1.00000000e-03, 8.11130831e-04, 6.57933225e-04,\n",
      "       5.33669923e-04, 4.32876128e-04, 3.51119173e-04, 2.84803587e-04,\n",
      "       2.31012970e-04, 1.87381742e-04, 1.51991108e-04, 1.23284674e-04,\n",
      "       1.00000000e-04, 8.11130831e-05, 6.57933225e-05, 5.33669923e-05,\n",
      "       4.32876128e-05, 3.51119173e-05, 2.84803587e-05, 2.31012970e-05,\n",
      "       1.87381742e-05, 1.51991108e-05, 1.23284674e-05, 1.00000000e-05,\n",
      "       8.11130831e-06, 6.57933225e-06, 5.33669923e-06, 4.32876128e-06,\n",
      "       3.51119173e-06, 2.84803587e-06, 2.31012970e-06, 1.87381742e-06,\n",
      "       1.51991108e-06, 1.23284674e-06, 1.00000000e-06, 8.11130831e-07,\n",
      "       6.57933225e-07, 5.33669923e-07, 4.32876128e-07, 3.51119173e-07,\n",
      "       2.84803587e-07, 2.31012970e-07, 1.87381742e-07, 1.51991108e-07,\n",
      "       1.23284674e-07, 1.00000000e-07, 8.11130831e-08, 6.57933225e-08,\n",
      "       5.33669923e-08, 4.32876128e-08, 3.51119173e-08, 2.84803587e-08,\n",
      "       2.31012970e-08, 1.87381742e-08, 1.51991108e-08, 1.23284674e-08,\n",
      "       1.00000000e-08, 8.11130831e-09, 6.57933225e-09, 5.33669923e-09,\n",
      "       4.32876128e-09, 3.51119173e-09, 2.84803587e-09, 2.31012970e-09,\n",
      "       1.87381742e-09, 1.51991108e-09, 1.23284674e-09, 1.00000000e-09])}\n"
     ]
    }
   ],
   "source": [
    "random_grid = {\n",
    "    'var_smoothing': np.logspace(0,-9, num=100)\n",
    "}\n",
    "print(random_grid)"
   ]
  },
  {
   "cell_type": "code",
   "execution_count": 58,
   "id": "d8bbd701",
   "metadata": {},
   "outputs": [
    {
     "name": "stdout",
     "output_type": "stream",
     "text": [
      "Fitting 3 folds for each of 100 candidates, totalling 300 fits\n",
      "[CV] END ..................................var_smoothing=1.0; total time=   0.0s\n",
      "[CV] END ..................................var_smoothing=1.0; total time=   0.0s\n",
      "[CV] END ..................................var_smoothing=1.0; total time=   0.0s\n",
      "[CV] END ...................var_smoothing=0.8111308307896871; total time=   0.0s\n",
      "[CV] END ...................var_smoothing=0.8111308307896871; total time=   0.0s\n",
      "[CV] END ...................var_smoothing=0.8111308307896871; total time=   0.0s\n",
      "[CV] END ....................var_smoothing=0.657933224657568; total time=   0.0s\n",
      "[CV] END ....................var_smoothing=0.657933224657568; total time=   0.0s\n",
      "[CV] END ....................var_smoothing=0.657933224657568; total time=   0.0s\n",
      "[CV] END ....................var_smoothing=0.533669923120631; total time=   0.0s\n",
      "[CV] END ....................var_smoothing=0.533669923120631; total time=   0.0s\n",
      "[CV] END ....................var_smoothing=0.533669923120631; total time=   0.0s\n",
      "[CV] END ..................var_smoothing=0.43287612810830584; total time=   0.0s\n",
      "[CV] END ..................var_smoothing=0.43287612810830584; total time=   0.0s\n",
      "[CV] END ..................var_smoothing=0.43287612810830584; total time=   0.0s\n",
      "[CV] END ...................var_smoothing=0.3511191734215131; total time=   0.0s\n",
      "[CV] END ...................var_smoothing=0.3511191734215131; total time=   0.0s\n",
      "[CV] END ...................var_smoothing=0.3511191734215131; total time=   0.0s\n",
      "[CV] END ...................var_smoothing=0.2848035868435802; total time=   0.0s\n",
      "[CV] END ...................var_smoothing=0.2848035868435802; total time=   0.0s\n",
      "[CV] END ...................var_smoothing=0.2848035868435802; total time=   0.0s\n",
      "[CV] END ..................var_smoothing=0.23101297000831597; total time=   0.0s\n",
      "[CV] END ..................var_smoothing=0.23101297000831597; total time=   0.0s\n",
      "[CV] END ..................var_smoothing=0.23101297000831597; total time=   0.0s\n",
      "[CV] END ...................var_smoothing=0.1873817422860384; total time=   0.0s\n",
      "[CV] END ...................var_smoothing=0.1873817422860384; total time=   0.0s\n",
      "[CV] END ...................var_smoothing=0.1873817422860384; total time=   0.0s\n",
      "[CV] END ..................var_smoothing=0.15199110829529336; total time=   0.0s\n",
      "[CV] END ..................var_smoothing=0.15199110829529336; total time=   0.0s\n",
      "[CV] END ..................var_smoothing=0.15199110829529336; total time=   0.0s\n",
      "[CV] END ..................var_smoothing=0.12328467394420659; total time=   0.0s\n",
      "[CV] END ..................var_smoothing=0.12328467394420659; total time=   0.0s\n",
      "[CV] END ..................var_smoothing=0.12328467394420659; total time=   0.0s\n",
      "[CV] END ..................................var_smoothing=0.1; total time=   0.0s\n",
      "[CV] END ..................................var_smoothing=0.1; total time=   0.0s\n",
      "[CV] END ..................................var_smoothing=0.1; total time=   0.0s\n",
      "[CV] END ..................var_smoothing=0.08111308307896872; total time=   0.0s\n",
      "[CV] END ..................var_smoothing=0.08111308307896872; total time=   0.0s\n",
      "[CV] END ..................var_smoothing=0.08111308307896872; total time=   0.0s\n",
      "[CV] END ...................var_smoothing=0.0657933224657568; total time=   0.0s\n",
      "[CV] END ...................var_smoothing=0.0657933224657568; total time=   0.0s\n",
      "[CV] END ...................var_smoothing=0.0657933224657568; total time=   0.0s\n",
      "[CV] END ...................var_smoothing=0.0533669923120631; total time=   0.0s\n",
      "[CV] END ...................var_smoothing=0.0533669923120631; total time=   0.0s\n",
      "[CV] END ...................var_smoothing=0.0533669923120631; total time=   0.0s\n",
      "[CV] END ..................var_smoothing=0.04328761281083057; total time=   0.0s\n",
      "[CV] END ..................var_smoothing=0.04328761281083057; total time=   0.0s\n",
      "[CV] END ..................var_smoothing=0.04328761281083057; total time=   0.0s\n",
      "[CV] END ..................var_smoothing=0.03511191734215131; total time=   0.0s\n",
      "[CV] END ..................var_smoothing=0.03511191734215131; total time=   0.0s\n",
      "[CV] END ..................var_smoothing=0.03511191734215131; total time=   0.0s\n",
      "[CV] END ..................var_smoothing=0.02848035868435802; total time=   0.0s\n",
      "[CV] END ..................var_smoothing=0.02848035868435802; total time=   0.0s\n",
      "[CV] END ..................var_smoothing=0.02848035868435802; total time=   0.0s\n",
      "[CV] END ..................var_smoothing=0.02310129700083159; total time=   0.0s\n",
      "[CV] END ..................var_smoothing=0.02310129700083159; total time=   0.0s\n",
      "[CV] END ..................var_smoothing=0.02310129700083159; total time=   0.0s\n",
      "[CV] END ..................var_smoothing=0.01873817422860384; total time=   0.0s\n",
      "[CV] END ..................var_smoothing=0.01873817422860384; total time=   0.0s\n",
      "[CV] END ..................var_smoothing=0.01873817422860384; total time=   0.0s\n",
      "[CV] END ..................var_smoothing=0.01519911082952933; total time=   0.0s\n",
      "[CV] END ..................var_smoothing=0.01519911082952933; total time=   0.0s\n",
      "[CV] END ..................var_smoothing=0.01519911082952933; total time=   0.0s\n",
      "[CV] END .................var_smoothing=0.012328467394420659; total time=   0.0s\n",
      "[CV] END .................var_smoothing=0.012328467394420659; total time=   0.0s\n",
      "[CV] END .................var_smoothing=0.012328467394420659; total time=   0.0s\n",
      "[CV] END .................................var_smoothing=0.01; total time=   0.0s\n",
      "[CV] END .................................var_smoothing=0.01; total time=   0.0s\n",
      "[CV] END .................................var_smoothing=0.01; total time=   0.0s\n",
      "[CV] END .................var_smoothing=0.008111308307896872; total time=   0.0s\n",
      "[CV] END .................var_smoothing=0.008111308307896872; total time=   0.0s\n",
      "[CV] END .................var_smoothing=0.008111308307896872; total time=   0.0s\n",
      "[CV] END .................var_smoothing=0.006579332246575682; total time=   0.0s\n",
      "[CV] END .................var_smoothing=0.006579332246575682; total time=   0.0s\n",
      "[CV] END .................var_smoothing=0.006579332246575682; total time=   0.0s\n",
      "[CV] END .................var_smoothing=0.005336699231206307; total time=   0.0s\n",
      "[CV] END .................var_smoothing=0.005336699231206307; total time=   0.0s\n",
      "[CV] END .................var_smoothing=0.005336699231206307; total time=   0.0s\n",
      "[CV] END .................var_smoothing=0.004328761281083057; total time=   0.0s\n",
      "[CV] END .................var_smoothing=0.004328761281083057; total time=   0.0s\n",
      "[CV] END .................var_smoothing=0.004328761281083057; total time=   0.0s\n",
      "[CV] END .................var_smoothing=0.003511191734215131; total time=   0.0s\n",
      "[CV] END .................var_smoothing=0.003511191734215131; total time=   0.0s\n",
      "[CV] END .................var_smoothing=0.003511191734215131; total time=   0.0s\n",
      "[CV] END .................var_smoothing=0.002848035868435802; total time=   0.0s\n",
      "[CV] END .................var_smoothing=0.002848035868435802; total time=   0.0s\n",
      "[CV] END .................var_smoothing=0.002848035868435802; total time=   0.0s\n",
      "[CV] END ................var_smoothing=0.0023101297000831605; total time=   0.0s\n",
      "[CV] END ................var_smoothing=0.0023101297000831605; total time=   0.0s\n",
      "[CV] END ................var_smoothing=0.0023101297000831605; total time=   0.0s\n",
      "[CV] END .................var_smoothing=0.001873817422860383; total time=   0.0s\n",
      "[CV] END .................var_smoothing=0.001873817422860383; total time=   0.0s\n",
      "[CV] END .................var_smoothing=0.001873817422860383; total time=   0.0s\n",
      "[CV] END ................var_smoothing=0.0015199110829529332; total time=   0.0s\n",
      "[CV] END ................var_smoothing=0.0015199110829529332; total time=   0.0s\n",
      "[CV] END ................var_smoothing=0.0015199110829529332; total time=   0.0s\n",
      "[CV] END ................var_smoothing=0.0012328467394420659; total time=   0.0s\n",
      "[CV] END ................var_smoothing=0.0012328467394420659; total time=   0.0s\n",
      "[CV] END ................var_smoothing=0.0012328467394420659; total time=   0.0s\n",
      "[CV] END ................................var_smoothing=0.001; total time=   0.0s\n",
      "[CV] END ................................var_smoothing=0.001; total time=   0.0s\n",
      "[CV] END ................................var_smoothing=0.001; total time=   0.0s\n",
      "[CV] END ................var_smoothing=0.0008111308307896872; total time=   0.0s\n",
      "[CV] END ................var_smoothing=0.0008111308307896872; total time=   0.0s\n",
      "[CV] END ................var_smoothing=0.0008111308307896872; total time=   0.0s\n",
      "[CV] END ................var_smoothing=0.0006579332246575676; total time=   0.0s\n",
      "[CV] END ................var_smoothing=0.0006579332246575676; total time=   0.0s\n",
      "[CV] END ................var_smoothing=0.0006579332246575676; total time=   0.0s\n",
      "[CV] END ................var_smoothing=0.0005336699231206307; total time=   0.0s\n",
      "[CV] END ................var_smoothing=0.0005336699231206307; total time=   0.0s\n",
      "[CV] END ................var_smoothing=0.0005336699231206307; total time=   0.0s\n",
      "[CV] END ................var_smoothing=0.0004328761281083057; total time=   0.0s\n",
      "[CV] END ................var_smoothing=0.0004328761281083057; total time=   0.0s\n",
      "[CV] END ................var_smoothing=0.0004328761281083057; total time=   0.0s\n",
      "[CV] END ................var_smoothing=0.0003511191734215131; total time=   0.0s\n",
      "[CV] END ................var_smoothing=0.0003511191734215131; total time=   0.0s\n",
      "[CV] END ................var_smoothing=0.0003511191734215131; total time=   0.0s\n",
      "[CV] END ................var_smoothing=0.0002848035868435802; total time=   0.0s\n",
      "[CV] END ................var_smoothing=0.0002848035868435802; total time=   0.0s\n",
      "[CV] END ................var_smoothing=0.0002848035868435802; total time=   0.0s\n",
      "[CV] END ................var_smoothing=0.0002310129700083158; total time=   0.0s\n"
     ]
    },
    {
     "name": "stdout",
     "output_type": "stream",
     "text": [
      "[CV] END ................var_smoothing=0.0002310129700083158; total time=   0.0s\n",
      "[CV] END ................var_smoothing=0.0002310129700083158; total time=   0.0s\n",
      "[CV] END ................var_smoothing=0.0001873817422860383; total time=   0.0s\n",
      "[CV] END ................var_smoothing=0.0001873817422860383; total time=   0.0s\n",
      "[CV] END ................var_smoothing=0.0001873817422860383; total time=   0.0s\n",
      "[CV] END ................var_smoothing=0.0001519911082952933; total time=   0.0s\n",
      "[CV] END ................var_smoothing=0.0001519911082952933; total time=   0.0s\n",
      "[CV] END ................var_smoothing=0.0001519911082952933; total time=   0.0s\n",
      "[CV] END ................var_smoothing=0.0001232846739442066; total time=   0.0s\n",
      "[CV] END ................var_smoothing=0.0001232846739442066; total time=   0.0s\n",
      "[CV] END ................var_smoothing=0.0001232846739442066; total time=   0.0s\n",
      "[CV] END ...............................var_smoothing=0.0001; total time=   0.0s\n",
      "[CV] END ...............................var_smoothing=0.0001; total time=   0.0s\n",
      "[CV] END ...............................var_smoothing=0.0001; total time=   0.0s\n",
      "[CV] END ................var_smoothing=8.111308307896872e-05; total time=   0.0s\n",
      "[CV] END ................var_smoothing=8.111308307896872e-05; total time=   0.0s\n",
      "[CV] END ................var_smoothing=8.111308307896872e-05; total time=   0.0s\n",
      "[CV] END ................var_smoothing=6.579332246575683e-05; total time=   0.0s\n",
      "[CV] END ................var_smoothing=6.579332246575683e-05; total time=   0.0s\n",
      "[CV] END ................var_smoothing=6.579332246575683e-05; total time=   0.0s\n",
      "[CV] END ...............var_smoothing=5.3366992312063123e-05; total time=   0.0s\n",
      "[CV] END ...............var_smoothing=5.3366992312063123e-05; total time=   0.0s\n",
      "[CV] END ...............var_smoothing=5.3366992312063123e-05; total time=   0.0s\n",
      "[CV] END ................var_smoothing=4.328761281083062e-05; total time=   0.0s\n",
      "[CV] END ................var_smoothing=4.328761281083062e-05; total time=   0.0s\n",
      "[CV] END ................var_smoothing=4.328761281083062e-05; total time=   0.0s\n",
      "[CV] END ................var_smoothing=3.511191734215127e-05; total time=   0.0s\n",
      "[CV] END ................var_smoothing=3.511191734215127e-05; total time=   0.0s\n",
      "[CV] END ................var_smoothing=3.511191734215127e-05; total time=   0.0s\n",
      "[CV] END ................var_smoothing=2.848035868435799e-05; total time=   0.0s\n",
      "[CV] END ................var_smoothing=2.848035868435799e-05; total time=   0.0s\n",
      "[CV] END ................var_smoothing=2.848035868435799e-05; total time=   0.0s\n",
      "[CV] END ................var_smoothing=2.310129700083158e-05; total time=   0.0s\n",
      "[CV] END ................var_smoothing=2.310129700083158e-05; total time=   0.0s\n",
      "[CV] END ................var_smoothing=2.310129700083158e-05; total time=   0.0s\n",
      "[CV] END ................var_smoothing=1.873817422860383e-05; total time=   0.0s\n",
      "[CV] END ................var_smoothing=1.873817422860383e-05; total time=   0.0s\n",
      "[CV] END ................var_smoothing=1.873817422860383e-05; total time=   0.0s\n",
      "[CV] END ...............var_smoothing=1.5199110829529332e-05; total time=   0.0s\n",
      "[CV] END ...............var_smoothing=1.5199110829529332e-05; total time=   0.0s\n",
      "[CV] END ...............var_smoothing=1.5199110829529332e-05; total time=   0.0s\n",
      "[CV] END ...............var_smoothing=1.2328467394420658e-05; total time=   0.0s\n",
      "[CV] END ...............var_smoothing=1.2328467394420658e-05; total time=   0.0s\n",
      "[CV] END ...............var_smoothing=1.2328467394420658e-05; total time=   0.0s\n",
      "[CV] END ................................var_smoothing=1e-05; total time=   0.0s\n",
      "[CV] END ................................var_smoothing=1e-05; total time=   0.0s\n",
      "[CV] END ................................var_smoothing=1e-05; total time=   0.0s\n",
      "[CV] END ................var_smoothing=8.111308307896873e-06; total time=   0.0s\n",
      "[CV] END ................var_smoothing=8.111308307896873e-06; total time=   0.0s\n",
      "[CV] END ................var_smoothing=8.111308307896873e-06; total time=   0.0s\n",
      "[CV] END ................var_smoothing=6.579332246575683e-06; total time=   0.0s\n",
      "[CV] END ................var_smoothing=6.579332246575683e-06; total time=   0.0s\n",
      "[CV] END ................var_smoothing=6.579332246575683e-06; total time=   0.0s\n",
      "[CV] END ................var_smoothing=5.336699231206313e-06; total time=   0.0s\n",
      "[CV] END ................var_smoothing=5.336699231206313e-06; total time=   0.0s\n",
      "[CV] END ................var_smoothing=5.336699231206313e-06; total time=   0.0s\n",
      "[CV] END ................var_smoothing=4.328761281083053e-06; total time=   0.0s\n",
      "[CV] END ................var_smoothing=4.328761281083053e-06; total time=   0.0s\n",
      "[CV] END ................var_smoothing=4.328761281083053e-06; total time=   0.0s\n",
      "[CV] END ...............var_smoothing=3.5111917342151275e-06; total time=   0.0s\n",
      "[CV] END ...............var_smoothing=3.5111917342151275e-06; total time=   0.0s\n",
      "[CV] END ...............var_smoothing=3.5111917342151275e-06; total time=   0.0s\n",
      "[CV] END ................var_smoothing=2.848035868435799e-06; total time=   0.0s\n",
      "[CV] END ................var_smoothing=2.848035868435799e-06; total time=   0.0s\n",
      "[CV] END ................var_smoothing=2.848035868435799e-06; total time=   0.0s\n",
      "[CV] END ................var_smoothing=2.310129700083158e-06; total time=   0.0s\n",
      "[CV] END ................var_smoothing=2.310129700083158e-06; total time=   0.0s\n",
      "[CV] END ................var_smoothing=2.310129700083158e-06; total time=   0.0s\n",
      "[CV] END ................var_smoothing=1.873817422860383e-06; total time=   0.0s\n",
      "[CV] END ................var_smoothing=1.873817422860383e-06; total time=   0.0s\n",
      "[CV] END ................var_smoothing=1.873817422860383e-06; total time=   0.0s\n",
      "[CV] END ................var_smoothing=1.519911082952933e-06; total time=   0.0s\n",
      "[CV] END ................var_smoothing=1.519911082952933e-06; total time=   0.0s\n",
      "[CV] END ................var_smoothing=1.519911082952933e-06; total time=   0.0s\n",
      "[CV] END ................var_smoothing=1.232846739442066e-06; total time=   0.0s\n",
      "[CV] END ................var_smoothing=1.232846739442066e-06; total time=   0.0s\n",
      "[CV] END ................var_smoothing=1.232846739442066e-06; total time=   0.0s\n",
      "[CV] END ................................var_smoothing=1e-06; total time=   0.0s\n",
      "[CV] END ................................var_smoothing=1e-06; total time=   0.0s\n",
      "[CV] END ................................var_smoothing=1e-06; total time=   0.0s\n",
      "[CV] END ................var_smoothing=8.111308307896872e-07; total time=   0.0s\n",
      "[CV] END ................var_smoothing=8.111308307896872e-07; total time=   0.0s\n",
      "[CV] END ................var_smoothing=8.111308307896872e-07; total time=   0.0s\n",
      "[CV] END ................var_smoothing=6.579332246575682e-07; total time=   0.0s\n",
      "[CV] END ................var_smoothing=6.579332246575682e-07; total time=   0.0s\n",
      "[CV] END ................var_smoothing=6.579332246575682e-07; total time=   0.0s\n",
      "[CV] END ................var_smoothing=5.336699231206313e-07; total time=   0.0s\n",
      "[CV] END ................var_smoothing=5.336699231206313e-07; total time=   0.0s\n",
      "[CV] END ................var_smoothing=5.336699231206313e-07; total time=   0.0s\n",
      "[CV] END ...............var_smoothing=4.3287612810830526e-07; total time=   0.0s\n",
      "[CV] END ...............var_smoothing=4.3287612810830526e-07; total time=   0.0s\n",
      "[CV] END ...............var_smoothing=4.3287612810830526e-07; total time=   0.0s\n",
      "[CV] END ...............var_smoothing=3.5111917342151277e-07; total time=   0.0s\n",
      "[CV] END ...............var_smoothing=3.5111917342151277e-07; total time=   0.0s\n",
      "[CV] END ...............var_smoothing=3.5111917342151277e-07; total time=   0.0s\n",
      "[CV] END ................var_smoothing=2.848035868435799e-07; total time=   0.0s\n",
      "[CV] END ................var_smoothing=2.848035868435799e-07; total time=   0.0s\n",
      "[CV] END ................var_smoothing=2.848035868435799e-07; total time=   0.0s\n",
      "[CV] END ................var_smoothing=2.310129700083158e-07; total time=   0.0s\n",
      "[CV] END ................var_smoothing=2.310129700083158e-07; total time=   0.0s\n",
      "[CV] END ................var_smoothing=2.310129700083158e-07; total time=   0.0s\n",
      "[CV] END ................var_smoothing=1.873817422860383e-07; total time=   0.0s\n",
      "[CV] END ................var_smoothing=1.873817422860383e-07; total time=   0.0s\n",
      "[CV] END ................var_smoothing=1.873817422860383e-07; total time=   0.0s\n",
      "[CV] END ................var_smoothing=1.519911082952933e-07; total time=   0.0s\n"
     ]
    },
    {
     "name": "stdout",
     "output_type": "stream",
     "text": [
      "[CV] END ................var_smoothing=1.519911082952933e-07; total time=   0.0s\n",
      "[CV] END ................var_smoothing=1.519911082952933e-07; total time=   0.0s\n",
      "[CV] END ................var_smoothing=1.232846739442066e-07; total time=   0.0s\n",
      "[CV] END ................var_smoothing=1.232846739442066e-07; total time=   0.0s\n",
      "[CV] END ................var_smoothing=1.232846739442066e-07; total time=   0.0s\n",
      "[CV] END ................................var_smoothing=1e-07; total time=   0.0s\n",
      "[CV] END ................................var_smoothing=1e-07; total time=   0.0s\n",
      "[CV] END ................................var_smoothing=1e-07; total time=   0.0s\n",
      "[CV] END ................var_smoothing=8.111308307896873e-08; total time=   0.0s\n",
      "[CV] END ................var_smoothing=8.111308307896873e-08; total time=   0.0s\n",
      "[CV] END ................var_smoothing=8.111308307896873e-08; total time=   0.0s\n",
      "[CV] END ................var_smoothing=6.579332246575682e-08; total time=   0.0s\n",
      "[CV] END ................var_smoothing=6.579332246575682e-08; total time=   0.0s\n",
      "[CV] END ................var_smoothing=6.579332246575682e-08; total time=   0.0s\n",
      "[CV] END ................var_smoothing=5.336699231206302e-08; total time=   0.0s\n",
      "[CV] END ................var_smoothing=5.336699231206302e-08; total time=   0.0s\n",
      "[CV] END ................var_smoothing=5.336699231206302e-08; total time=   0.0s\n",
      "[CV] END ...............var_smoothing=4.3287612810830526e-08; total time=   0.0s\n",
      "[CV] END ...............var_smoothing=4.3287612810830526e-08; total time=   0.0s\n",
      "[CV] END ...............var_smoothing=4.3287612810830526e-08; total time=   0.0s\n",
      "[CV] END ...............var_smoothing=3.5111917342151277e-08; total time=   0.0s\n",
      "[CV] END ...............var_smoothing=3.5111917342151277e-08; total time=   0.0s\n",
      "[CV] END ...............var_smoothing=3.5111917342151277e-08; total time=   0.0s\n",
      "[CV] END ................var_smoothing=2.848035868435799e-08; total time=   0.0s\n",
      "[CV] END ................var_smoothing=2.848035868435799e-08; total time=   0.0s\n",
      "[CV] END ................var_smoothing=2.848035868435799e-08; total time=   0.0s\n",
      "[CV] END ................var_smoothing=2.310129700083158e-08; total time=   0.0s\n",
      "[CV] END ................var_smoothing=2.310129700083158e-08; total time=   0.0s\n",
      "[CV] END ................var_smoothing=2.310129700083158e-08; total time=   0.0s\n",
      "[CV] END ................var_smoothing=1.873817422860383e-08; total time=   0.0s\n",
      "[CV] END ................var_smoothing=1.873817422860383e-08; total time=   0.0s\n",
      "[CV] END ................var_smoothing=1.873817422860383e-08; total time=   0.0s\n",
      "[CV] END ................var_smoothing=1.519911082952933e-08; total time=   0.0s\n",
      "[CV] END ................var_smoothing=1.519911082952933e-08; total time=   0.0s\n",
      "[CV] END ................var_smoothing=1.519911082952933e-08; total time=   0.0s\n",
      "[CV] END ................var_smoothing=1.232846739442066e-08; total time=   0.0s\n",
      "[CV] END ................var_smoothing=1.232846739442066e-08; total time=   0.0s\n",
      "[CV] END ................var_smoothing=1.232846739442066e-08; total time=   0.0s\n",
      "[CV] END ................................var_smoothing=1e-08; total time=   0.0s\n",
      "[CV] END ................................var_smoothing=1e-08; total time=   0.0s\n",
      "[CV] END ................................var_smoothing=1e-08; total time=   0.0s\n",
      "[CV] END ................var_smoothing=8.111308307896856e-09; total time=   0.0s\n",
      "[CV] END ................var_smoothing=8.111308307896856e-09; total time=   0.0s\n",
      "[CV] END ................var_smoothing=8.111308307896856e-09; total time=   0.0s\n",
      "[CV] END ................var_smoothing=6.579332246575682e-09; total time=   0.0s\n",
      "[CV] END ................var_smoothing=6.579332246575682e-09; total time=   0.0s\n",
      "[CV] END ................var_smoothing=6.579332246575682e-09; total time=   0.0s\n",
      "[CV] END ................var_smoothing=5.336699231206302e-09; total time=   0.0s\n",
      "[CV] END ................var_smoothing=5.336699231206302e-09; total time=   0.0s\n",
      "[CV] END ................var_smoothing=5.336699231206302e-09; total time=   0.0s\n",
      "[CV] END ................var_smoothing=4.328761281083061e-09; total time=   0.0s\n",
      "[CV] END ................var_smoothing=4.328761281083061e-09; total time=   0.0s\n",
      "[CV] END ................var_smoothing=4.328761281083061e-09; total time=   0.0s\n",
      "[CV] END ...............var_smoothing=3.5111917342151273e-09; total time=   0.0s\n",
      "[CV] END ...............var_smoothing=3.5111917342151273e-09; total time=   0.0s\n",
      "[CV] END ...............var_smoothing=3.5111917342151273e-09; total time=   0.0s\n",
      "[CV] END ................var_smoothing=2.848035868435805e-09; total time=   0.0s\n",
      "[CV] END ................var_smoothing=2.848035868435805e-09; total time=   0.0s\n",
      "[CV] END ................var_smoothing=2.848035868435805e-09; total time=   0.0s\n",
      "[CV] END ................var_smoothing=2.310129700083158e-09; total time=   0.0s\n",
      "[CV] END ................var_smoothing=2.310129700083158e-09; total time=   0.0s\n",
      "[CV] END ................var_smoothing=2.310129700083158e-09; total time=   0.0s\n",
      "[CV] END ................var_smoothing=1.873817422860387e-09; total time=   0.0s\n",
      "[CV] END ................var_smoothing=1.873817422860387e-09; total time=   0.0s\n",
      "[CV] END ................var_smoothing=1.873817422860387e-09; total time=   0.0s\n",
      "[CV] END ................var_smoothing=1.519911082952933e-09; total time=   0.0s\n",
      "[CV] END ................var_smoothing=1.519911082952933e-09; total time=   0.0s\n",
      "[CV] END ................var_smoothing=1.519911082952933e-09; total time=   0.0s\n",
      "[CV] END ...............var_smoothing=1.2328467394420635e-09; total time=   0.0s\n",
      "[CV] END ...............var_smoothing=1.2328467394420635e-09; total time=   0.0s\n",
      "[CV] END ...............var_smoothing=1.2328467394420635e-09; total time=   0.0s\n",
      "[CV] END ................................var_smoothing=1e-09; total time=   0.0s\n",
      "[CV] END ................................var_smoothing=1e-09; total time=   0.0s\n",
      "[CV] END ................................var_smoothing=1e-09; total time=   0.0s\n"
     ]
    },
    {
     "data": {
      "text/plain": [
       "RandomizedSearchCV(cv=3, estimator=GaussianNB(), n_iter=100,\n",
       "                   param_distributions={'var_smoothing': array([1.00000000e+00, 8.11130831e-01, 6.57933225e-01, 5.33669923e-01,\n",
       "       4.32876128e-01, 3.51119173e-01, 2.84803587e-01, 2.31012970e-01,\n",
       "       1.87381742e-01, 1.51991108e-01, 1.23284674e-01, 1.00000000e-01,\n",
       "       8.11130831e-02, 6.57933225e-02, 5.33669923e-02, 4.32876128e-02,\n",
       "       3.511191...\n",
       "       1.23284674e-07, 1.00000000e-07, 8.11130831e-08, 6.57933225e-08,\n",
       "       5.33669923e-08, 4.32876128e-08, 3.51119173e-08, 2.84803587e-08,\n",
       "       2.31012970e-08, 1.87381742e-08, 1.51991108e-08, 1.23284674e-08,\n",
       "       1.00000000e-08, 8.11130831e-09, 6.57933225e-09, 5.33669923e-09,\n",
       "       4.32876128e-09, 3.51119173e-09, 2.84803587e-09, 2.31012970e-09,\n",
       "       1.87381742e-09, 1.51991108e-09, 1.23284674e-09, 1.00000000e-09])},\n",
       "                   random_state=555, verbose=2)"
      ]
     },
     "execution_count": 58,
     "metadata": {},
     "output_type": "execute_result"
    }
   ],
   "source": [
    "from sklearn.model_selection import RandomizedSearchCV\n",
    "nb_randomcv=RandomizedSearchCV(estimator=nb,param_distributions=random_grid,n_iter=100,cv=3,verbose=2,\n",
    "                               random_state=555)\n",
    "nb_randomcv.fit(X_train,y_train)"
   ]
  },
  {
   "cell_type": "code",
   "execution_count": 59,
   "id": "d9ea536d",
   "metadata": {},
   "outputs": [
    {
     "data": {
      "text/plain": [
       "{'var_smoothing': 1.0}"
      ]
     },
     "execution_count": 59,
     "metadata": {},
     "output_type": "execute_result"
    }
   ],
   "source": [
    "nb_randomcv.best_params_"
   ]
  },
  {
   "cell_type": "code",
   "execution_count": 60,
   "id": "be1ae384",
   "metadata": {},
   "outputs": [
    {
     "name": "stdout",
     "output_type": "stream",
     "text": [
      "[[  2  35]\n",
      " [  3 259]]\n",
      "Accuracy Score 0.8729096989966555\n",
      "Classification report:               precision    recall  f1-score   support\n",
      "\n",
      "         0.0       0.40      0.05      0.10        37\n",
      "         1.0       0.88      0.99      0.93       262\n",
      "\n",
      "    accuracy                           0.87       299\n",
      "   macro avg       0.64      0.52      0.51       299\n",
      "weighted avg       0.82      0.87      0.83       299\n",
      "\n"
     ]
    }
   ],
   "source": [
    "best_random_grid = nb_randomcv.best_estimator_\n",
    "y_pred=best_random_grid.predict(X_test)\n",
    "print(confusion_matrix(y_test,y_pred))\n",
    "print(\"Accuracy Score {}\".format(accuracy_score(y_test,y_pred)))\n",
    "print(\"Classification report: {}\".format(classification_report(y_test,y_pred)))"
   ]
  },
  {
   "cell_type": "code",
   "execution_count": 61,
   "id": "efb16bab",
   "metadata": {},
   "outputs": [
    {
     "name": "stdout",
     "output_type": "stream",
     "text": [
      "Fitting 10 folds for each of 100 candidates, totalling 1000 fits\n",
      "[CV] END ..................................var_smoothing=1.0; total time=   0.0s\n",
      "[CV] END ..................................var_smoothing=1.0; total time=   0.0s\n",
      "[CV] END ..................................var_smoothing=1.0; total time=   0.0s\n",
      "[CV] END ..................................var_smoothing=1.0; total time=   0.0s\n",
      "[CV] END ..................................var_smoothing=1.0; total time=   0.0s\n",
      "[CV] END ..................................var_smoothing=1.0; total time=   0.0s\n",
      "[CV] END ..................................var_smoothing=1.0; total time=   0.0s\n",
      "[CV] END ..................................var_smoothing=1.0; total time=   0.0s\n",
      "[CV] END ..................................var_smoothing=1.0; total time=   0.0s\n",
      "[CV] END ..................................var_smoothing=1.0; total time=   0.0s\n",
      "[CV] END ...................var_smoothing=0.8111308307896871; total time=   0.0s\n",
      "[CV] END ...................var_smoothing=0.8111308307896871; total time=   0.0s\n",
      "[CV] END ...................var_smoothing=0.8111308307896871; total time=   0.0s\n",
      "[CV] END ...................var_smoothing=0.8111308307896871; total time=   0.0s\n",
      "[CV] END ...................var_smoothing=0.8111308307896871; total time=   0.0s\n",
      "[CV] END ...................var_smoothing=0.8111308307896871; total time=   0.0s\n",
      "[CV] END ...................var_smoothing=0.8111308307896871; total time=   0.0s\n",
      "[CV] END ...................var_smoothing=0.8111308307896871; total time=   0.0s\n",
      "[CV] END ...................var_smoothing=0.8111308307896871; total time=   0.0s\n",
      "[CV] END ...................var_smoothing=0.8111308307896871; total time=   0.0s\n",
      "[CV] END ....................var_smoothing=0.657933224657568; total time=   0.0s\n",
      "[CV] END ....................var_smoothing=0.657933224657568; total time=   0.0s\n",
      "[CV] END ....................var_smoothing=0.657933224657568; total time=   0.0s\n",
      "[CV] END ....................var_smoothing=0.657933224657568; total time=   0.0s\n",
      "[CV] END ....................var_smoothing=0.657933224657568; total time=   0.0s\n",
      "[CV] END ....................var_smoothing=0.657933224657568; total time=   0.0s\n",
      "[CV] END ....................var_smoothing=0.657933224657568; total time=   0.0s\n",
      "[CV] END ....................var_smoothing=0.657933224657568; total time=   0.0s\n",
      "[CV] END ....................var_smoothing=0.657933224657568; total time=   0.0s\n",
      "[CV] END ....................var_smoothing=0.657933224657568; total time=   0.0s\n",
      "[CV] END ....................var_smoothing=0.533669923120631; total time=   0.0s\n",
      "[CV] END ....................var_smoothing=0.533669923120631; total time=   0.0s\n",
      "[CV] END ....................var_smoothing=0.533669923120631; total time=   0.0s\n",
      "[CV] END ....................var_smoothing=0.533669923120631; total time=   0.0s\n",
      "[CV] END ....................var_smoothing=0.533669923120631; total time=   0.0s\n",
      "[CV] END ....................var_smoothing=0.533669923120631; total time=   0.0s\n",
      "[CV] END ....................var_smoothing=0.533669923120631; total time=   0.0s\n",
      "[CV] END ....................var_smoothing=0.533669923120631; total time=   0.0s\n",
      "[CV] END ....................var_smoothing=0.533669923120631; total time=   0.0s\n",
      "[CV] END ....................var_smoothing=0.533669923120631; total time=   0.0s\n",
      "[CV] END ..................var_smoothing=0.43287612810830584; total time=   0.0s\n",
      "[CV] END ..................var_smoothing=0.43287612810830584; total time=   0.0s\n",
      "[CV] END ..................var_smoothing=0.43287612810830584; total time=   0.0s\n",
      "[CV] END ..................var_smoothing=0.43287612810830584; total time=   0.0s\n",
      "[CV] END ..................var_smoothing=0.43287612810830584; total time=   0.0s\n",
      "[CV] END ..................var_smoothing=0.43287612810830584; total time=   0.0s\n",
      "[CV] END ..................var_smoothing=0.43287612810830584; total time=   0.0s\n",
      "[CV] END ..................var_smoothing=0.43287612810830584; total time=   0.0s\n",
      "[CV] END ..................var_smoothing=0.43287612810830584; total time=   0.0s\n",
      "[CV] END ..................var_smoothing=0.43287612810830584; total time=   0.0s\n",
      "[CV] END ...................var_smoothing=0.3511191734215131; total time=   0.0s\n",
      "[CV] END ...................var_smoothing=0.3511191734215131; total time=   0.0s\n",
      "[CV] END ...................var_smoothing=0.3511191734215131; total time=   0.0s\n",
      "[CV] END ...................var_smoothing=0.3511191734215131; total time=   0.0s\n",
      "[CV] END ...................var_smoothing=0.3511191734215131; total time=   0.0s\n",
      "[CV] END ...................var_smoothing=0.3511191734215131; total time=   0.0s\n",
      "[CV] END ...................var_smoothing=0.3511191734215131; total time=   0.0s\n",
      "[CV] END ...................var_smoothing=0.3511191734215131; total time=   0.0s\n",
      "[CV] END ...................var_smoothing=0.3511191734215131; total time=   0.0s\n",
      "[CV] END ...................var_smoothing=0.3511191734215131; total time=   0.0s\n",
      "[CV] END ...................var_smoothing=0.2848035868435802; total time=   0.0s\n",
      "[CV] END ...................var_smoothing=0.2848035868435802; total time=   0.0s\n",
      "[CV] END ...................var_smoothing=0.2848035868435802; total time=   0.0s\n",
      "[CV] END ...................var_smoothing=0.2848035868435802; total time=   0.0s\n",
      "[CV] END ...................var_smoothing=0.2848035868435802; total time=   0.0s\n",
      "[CV] END ...................var_smoothing=0.2848035868435802; total time=   0.0s\n",
      "[CV] END ...................var_smoothing=0.2848035868435802; total time=   0.0s\n",
      "[CV] END ...................var_smoothing=0.2848035868435802; total time=   0.0s\n",
      "[CV] END ...................var_smoothing=0.2848035868435802; total time=   0.0s\n",
      "[CV] END ...................var_smoothing=0.2848035868435802; total time=   0.0s\n",
      "[CV] END ..................var_smoothing=0.23101297000831597; total time=   0.0s\n",
      "[CV] END ..................var_smoothing=0.23101297000831597; total time=   0.0s\n",
      "[CV] END ..................var_smoothing=0.23101297000831597; total time=   0.0s\n",
      "[CV] END ..................var_smoothing=0.23101297000831597; total time=   0.0s\n",
      "[CV] END ..................var_smoothing=0.23101297000831597; total time=   0.0s\n",
      "[CV] END ..................var_smoothing=0.23101297000831597; total time=   0.0s\n",
      "[CV] END ..................var_smoothing=0.23101297000831597; total time=   0.0s\n",
      "[CV] END ..................var_smoothing=0.23101297000831597; total time=   0.0s\n",
      "[CV] END ..................var_smoothing=0.23101297000831597; total time=   0.0s\n",
      "[CV] END ..................var_smoothing=0.23101297000831597; total time=   0.0s\n",
      "[CV] END ...................var_smoothing=0.1873817422860384; total time=   0.0s\n",
      "[CV] END ...................var_smoothing=0.1873817422860384; total time=   0.0s\n",
      "[CV] END ...................var_smoothing=0.1873817422860384; total time=   0.0s\n",
      "[CV] END ...................var_smoothing=0.1873817422860384; total time=   0.0s\n",
      "[CV] END ...................var_smoothing=0.1873817422860384; total time=   0.0s\n",
      "[CV] END ...................var_smoothing=0.1873817422860384; total time=   0.0s\n",
      "[CV] END ...................var_smoothing=0.1873817422860384; total time=   0.0s\n",
      "[CV] END ...................var_smoothing=0.1873817422860384; total time=   0.0s\n",
      "[CV] END ...................var_smoothing=0.1873817422860384; total time=   0.0s\n",
      "[CV] END ...................var_smoothing=0.1873817422860384; total time=   0.0s\n",
      "[CV] END ..................var_smoothing=0.15199110829529336; total time=   0.0s\n",
      "[CV] END ..................var_smoothing=0.15199110829529336; total time=   0.0s\n",
      "[CV] END ..................var_smoothing=0.15199110829529336; total time=   0.0s\n",
      "[CV] END ..................var_smoothing=0.15199110829529336; total time=   0.0s\n",
      "[CV] END ..................var_smoothing=0.15199110829529336; total time=   0.0s\n",
      "[CV] END ..................var_smoothing=0.15199110829529336; total time=   0.0s\n",
      "[CV] END ..................var_smoothing=0.15199110829529336; total time=   0.0s\n",
      "[CV] END ..................var_smoothing=0.15199110829529336; total time=   0.0s\n",
      "[CV] END ..................var_smoothing=0.15199110829529336; total time=   0.0s\n",
      "[CV] END ..................var_smoothing=0.15199110829529336; total time=   0.0s\n",
      "[CV] END ..................var_smoothing=0.12328467394420659; total time=   0.0s\n",
      "[CV] END ..................var_smoothing=0.12328467394420659; total time=   0.0s\n",
      "[CV] END ..................var_smoothing=0.12328467394420659; total time=   0.0s\n",
      "[CV] END ..................var_smoothing=0.12328467394420659; total time=   0.0s\n",
      "[CV] END ..................var_smoothing=0.12328467394420659; total time=   0.0s\n",
      "[CV] END ..................var_smoothing=0.12328467394420659; total time=   0.0s\n",
      "[CV] END ..................var_smoothing=0.12328467394420659; total time=   0.0s\n",
      "[CV] END ..................var_smoothing=0.12328467394420659; total time=   0.0s\n",
      "[CV] END ..................var_smoothing=0.12328467394420659; total time=   0.0s\n",
      "[CV] END ..................var_smoothing=0.12328467394420659; total time=   0.0s\n",
      "[CV] END ..................................var_smoothing=0.1; total time=   0.0s\n",
      "[CV] END ..................................var_smoothing=0.1; total time=   0.0s\n",
      "[CV] END ..................................var_smoothing=0.1; total time=   0.0s\n",
      "[CV] END ..................................var_smoothing=0.1; total time=   0.0s\n",
      "[CV] END ..................................var_smoothing=0.1; total time=   0.0s\n",
      "[CV] END ..................................var_smoothing=0.1; total time=   0.0s\n",
      "[CV] END ..................................var_smoothing=0.1; total time=   0.0s\n",
      "[CV] END ..................................var_smoothing=0.1; total time=   0.0s\n",
      "[CV] END ..................................var_smoothing=0.1; total time=   0.0s\n",
      "[CV] END ..................................var_smoothing=0.1; total time=   0.0s\n",
      "[CV] END ..................var_smoothing=0.08111308307896872; total time=   0.0s\n",
      "[CV] END ..................var_smoothing=0.08111308307896872; total time=   0.0s\n",
      "[CV] END ..................var_smoothing=0.08111308307896872; total time=   0.0s\n",
      "[CV] END ..................var_smoothing=0.08111308307896872; total time=   0.0s\n",
      "[CV] END ..................var_smoothing=0.08111308307896872; total time=   0.0s\n",
      "[CV] END ..................var_smoothing=0.08111308307896872; total time=   0.0s\n",
      "[CV] END ..................var_smoothing=0.08111308307896872; total time=   0.0s\n",
      "[CV] END ..................var_smoothing=0.08111308307896872; total time=   0.0s\n",
      "[CV] END ..................var_smoothing=0.08111308307896872; total time=   0.0s\n",
      "[CV] END ..................var_smoothing=0.08111308307896872; total time=   0.0s\n",
      "[CV] END ...................var_smoothing=0.0657933224657568; total time=   0.0s\n",
      "[CV] END ...................var_smoothing=0.0657933224657568; total time=   0.0s\n",
      "[CV] END ...................var_smoothing=0.0657933224657568; total time=   0.0s\n",
      "[CV] END ...................var_smoothing=0.0657933224657568; total time=   0.0s\n",
      "[CV] END ...................var_smoothing=0.0657933224657568; total time=   0.0s\n",
      "[CV] END ...................var_smoothing=0.0657933224657568; total time=   0.0s\n",
      "[CV] END ...................var_smoothing=0.0657933224657568; total time=   0.0s\n",
      "[CV] END ...................var_smoothing=0.0657933224657568; total time=   0.0s\n",
      "[CV] END ...................var_smoothing=0.0657933224657568; total time=   0.0s\n"
     ]
    },
    {
     "name": "stdout",
     "output_type": "stream",
     "text": [
      "[CV] END ...................var_smoothing=0.0657933224657568; total time=   0.0s\n",
      "[CV] END ...................var_smoothing=0.0533669923120631; total time=   0.0s\n",
      "[CV] END ...................var_smoothing=0.0533669923120631; total time=   0.0s\n",
      "[CV] END ...................var_smoothing=0.0533669923120631; total time=   0.0s\n",
      "[CV] END ...................var_smoothing=0.0533669923120631; total time=   0.0s\n",
      "[CV] END ...................var_smoothing=0.0533669923120631; total time=   0.0s\n",
      "[CV] END ...................var_smoothing=0.0533669923120631; total time=   0.0s\n",
      "[CV] END ...................var_smoothing=0.0533669923120631; total time=   0.0s\n",
      "[CV] END ...................var_smoothing=0.0533669923120631; total time=   0.0s\n",
      "[CV] END ...................var_smoothing=0.0533669923120631; total time=   0.0s\n",
      "[CV] END ...................var_smoothing=0.0533669923120631; total time=   0.0s\n",
      "[CV] END ..................var_smoothing=0.04328761281083057; total time=   0.0s\n",
      "[CV] END ..................var_smoothing=0.04328761281083057; total time=   0.0s\n",
      "[CV] END ..................var_smoothing=0.04328761281083057; total time=   0.0s\n",
      "[CV] END ..................var_smoothing=0.04328761281083057; total time=   0.0s\n",
      "[CV] END ..................var_smoothing=0.04328761281083057; total time=   0.0s\n",
      "[CV] END ..................var_smoothing=0.04328761281083057; total time=   0.0s\n",
      "[CV] END ..................var_smoothing=0.04328761281083057; total time=   0.0s\n",
      "[CV] END ..................var_smoothing=0.04328761281083057; total time=   0.0s\n",
      "[CV] END ..................var_smoothing=0.04328761281083057; total time=   0.0s\n",
      "[CV] END ..................var_smoothing=0.04328761281083057; total time=   0.0s\n",
      "[CV] END ..................var_smoothing=0.03511191734215131; total time=   0.0s\n",
      "[CV] END ..................var_smoothing=0.03511191734215131; total time=   0.0s\n",
      "[CV] END ..................var_smoothing=0.03511191734215131; total time=   0.0s\n",
      "[CV] END ..................var_smoothing=0.03511191734215131; total time=   0.0s\n",
      "[CV] END ..................var_smoothing=0.03511191734215131; total time=   0.0s\n",
      "[CV] END ..................var_smoothing=0.03511191734215131; total time=   0.0s\n",
      "[CV] END ..................var_smoothing=0.03511191734215131; total time=   0.0s\n",
      "[CV] END ..................var_smoothing=0.03511191734215131; total time=   0.0s\n",
      "[CV] END ..................var_smoothing=0.03511191734215131; total time=   0.0s\n",
      "[CV] END ..................var_smoothing=0.03511191734215131; total time=   0.0s\n",
      "[CV] END ..................var_smoothing=0.02848035868435802; total time=   0.0s\n",
      "[CV] END ..................var_smoothing=0.02848035868435802; total time=   0.0s\n",
      "[CV] END ..................var_smoothing=0.02848035868435802; total time=   0.0s\n",
      "[CV] END ..................var_smoothing=0.02848035868435802; total time=   0.0s\n",
      "[CV] END ..................var_smoothing=0.02848035868435802; total time=   0.0s\n",
      "[CV] END ..................var_smoothing=0.02848035868435802; total time=   0.0s\n",
      "[CV] END ..................var_smoothing=0.02848035868435802; total time=   0.0s\n",
      "[CV] END ..................var_smoothing=0.02848035868435802; total time=   0.0s\n",
      "[CV] END ..................var_smoothing=0.02848035868435802; total time=   0.0s\n",
      "[CV] END ..................var_smoothing=0.02848035868435802; total time=   0.0s\n",
      "[CV] END ..................var_smoothing=0.02310129700083159; total time=   0.0s\n",
      "[CV] END ..................var_smoothing=0.02310129700083159; total time=   0.0s\n",
      "[CV] END ..................var_smoothing=0.02310129700083159; total time=   0.0s\n",
      "[CV] END ..................var_smoothing=0.02310129700083159; total time=   0.0s\n",
      "[CV] END ..................var_smoothing=0.02310129700083159; total time=   0.0s\n",
      "[CV] END ..................var_smoothing=0.02310129700083159; total time=   0.0s\n",
      "[CV] END ..................var_smoothing=0.02310129700083159; total time=   0.0s\n",
      "[CV] END ..................var_smoothing=0.02310129700083159; total time=   0.0s\n",
      "[CV] END ..................var_smoothing=0.02310129700083159; total time=   0.0s\n",
      "[CV] END ..................var_smoothing=0.02310129700083159; total time=   0.0s\n",
      "[CV] END ..................var_smoothing=0.01873817422860384; total time=   0.0s\n",
      "[CV] END ..................var_smoothing=0.01873817422860384; total time=   0.0s\n",
      "[CV] END ..................var_smoothing=0.01873817422860384; total time=   0.0s\n",
      "[CV] END ..................var_smoothing=0.01873817422860384; total time=   0.0s\n",
      "[CV] END ..................var_smoothing=0.01873817422860384; total time=   0.0s\n",
      "[CV] END ..................var_smoothing=0.01873817422860384; total time=   0.0s\n",
      "[CV] END ..................var_smoothing=0.01873817422860384; total time=   0.0s\n",
      "[CV] END ..................var_smoothing=0.01873817422860384; total time=   0.0s\n",
      "[CV] END ..................var_smoothing=0.01873817422860384; total time=   0.0s\n",
      "[CV] END ..................var_smoothing=0.01873817422860384; total time=   0.0s\n",
      "[CV] END ..................var_smoothing=0.01519911082952933; total time=   0.0s\n",
      "[CV] END ..................var_smoothing=0.01519911082952933; total time=   0.0s\n",
      "[CV] END ..................var_smoothing=0.01519911082952933; total time=   0.0s\n",
      "[CV] END ..................var_smoothing=0.01519911082952933; total time=   0.0s\n",
      "[CV] END ..................var_smoothing=0.01519911082952933; total time=   0.0s\n",
      "[CV] END ..................var_smoothing=0.01519911082952933; total time=   0.0s\n",
      "[CV] END ..................var_smoothing=0.01519911082952933; total time=   0.0s\n",
      "[CV] END ..................var_smoothing=0.01519911082952933; total time=   0.0s\n",
      "[CV] END ..................var_smoothing=0.01519911082952933; total time=   0.0s\n",
      "[CV] END ..................var_smoothing=0.01519911082952933; total time=   0.0s\n",
      "[CV] END .................var_smoothing=0.012328467394420659; total time=   0.0s\n",
      "[CV] END .................var_smoothing=0.012328467394420659; total time=   0.0s\n",
      "[CV] END .................var_smoothing=0.012328467394420659; total time=   0.0s\n",
      "[CV] END .................var_smoothing=0.012328467394420659; total time=   0.0s\n",
      "[CV] END .................var_smoothing=0.012328467394420659; total time=   0.0s\n",
      "[CV] END .................var_smoothing=0.012328467394420659; total time=   0.0s\n",
      "[CV] END .................var_smoothing=0.012328467394420659; total time=   0.0s\n",
      "[CV] END .................var_smoothing=0.012328467394420659; total time=   0.0s\n",
      "[CV] END .................var_smoothing=0.012328467394420659; total time=   0.0s\n",
      "[CV] END .................var_smoothing=0.012328467394420659; total time=   0.0s\n",
      "[CV] END .................................var_smoothing=0.01; total time=   0.0s\n",
      "[CV] END .................................var_smoothing=0.01; total time=   0.0s\n",
      "[CV] END .................................var_smoothing=0.01; total time=   0.0s\n",
      "[CV] END .................................var_smoothing=0.01; total time=   0.0s\n",
      "[CV] END .................................var_smoothing=0.01; total time=   0.0s\n",
      "[CV] END .................................var_smoothing=0.01; total time=   0.0s\n",
      "[CV] END .................................var_smoothing=0.01; total time=   0.0s\n",
      "[CV] END .................................var_smoothing=0.01; total time=   0.0s\n",
      "[CV] END .................................var_smoothing=0.01; total time=   0.0s\n",
      "[CV] END .................................var_smoothing=0.01; total time=   0.0s\n",
      "[CV] END .................var_smoothing=0.008111308307896872; total time=   0.0s\n",
      "[CV] END .................var_smoothing=0.008111308307896872; total time=   0.0s\n",
      "[CV] END .................var_smoothing=0.008111308307896872; total time=   0.0s\n",
      "[CV] END .................var_smoothing=0.008111308307896872; total time=   0.0s\n",
      "[CV] END .................var_smoothing=0.008111308307896872; total time=   0.0s\n",
      "[CV] END .................var_smoothing=0.008111308307896872; total time=   0.0s\n",
      "[CV] END .................var_smoothing=0.008111308307896872; total time=   0.0s\n",
      "[CV] END .................var_smoothing=0.008111308307896872; total time=   0.0s\n",
      "[CV] END .................var_smoothing=0.008111308307896872; total time=   0.0s\n",
      "[CV] END .................var_smoothing=0.008111308307896872; total time=   0.0s\n",
      "[CV] END .................var_smoothing=0.006579332246575682; total time=   0.0s\n",
      "[CV] END .................var_smoothing=0.006579332246575682; total time=   0.0s\n",
      "[CV] END .................var_smoothing=0.006579332246575682; total time=   0.0s\n",
      "[CV] END .................var_smoothing=0.006579332246575682; total time=   0.0s\n",
      "[CV] END .................var_smoothing=0.006579332246575682; total time=   0.0s\n",
      "[CV] END .................var_smoothing=0.006579332246575682; total time=   0.0s\n",
      "[CV] END .................var_smoothing=0.006579332246575682; total time=   0.0s\n",
      "[CV] END .................var_smoothing=0.006579332246575682; total time=   0.0s\n",
      "[CV] END .................var_smoothing=0.006579332246575682; total time=   0.0s\n",
      "[CV] END .................var_smoothing=0.006579332246575682; total time=   0.0s\n",
      "[CV] END .................var_smoothing=0.005336699231206307; total time=   0.0s\n",
      "[CV] END .................var_smoothing=0.005336699231206307; total time=   0.0s\n",
      "[CV] END .................var_smoothing=0.005336699231206307; total time=   0.0s\n",
      "[CV] END .................var_smoothing=0.005336699231206307; total time=   0.0s\n",
      "[CV] END .................var_smoothing=0.005336699231206307; total time=   0.0s\n",
      "[CV] END .................var_smoothing=0.005336699231206307; total time=   0.0s\n",
      "[CV] END .................var_smoothing=0.005336699231206307; total time=   0.0s\n",
      "[CV] END .................var_smoothing=0.005336699231206307; total time=   0.0s\n",
      "[CV] END .................var_smoothing=0.005336699231206307; total time=   0.0s\n",
      "[CV] END .................var_smoothing=0.005336699231206307; total time=   0.0s\n",
      "[CV] END .................var_smoothing=0.004328761281083057; total time=   0.0s\n",
      "[CV] END .................var_smoothing=0.004328761281083057; total time=   0.0s\n",
      "[CV] END .................var_smoothing=0.004328761281083057; total time=   0.0s\n",
      "[CV] END .................var_smoothing=0.004328761281083057; total time=   0.0s\n",
      "[CV] END .................var_smoothing=0.004328761281083057; total time=   0.0s\n",
      "[CV] END .................var_smoothing=0.004328761281083057; total time=   0.0s\n",
      "[CV] END .................var_smoothing=0.004328761281083057; total time=   0.0s\n",
      "[CV] END .................var_smoothing=0.004328761281083057; total time=   0.0s\n",
      "[CV] END .................var_smoothing=0.004328761281083057; total time=   0.0s\n",
      "[CV] END .................var_smoothing=0.004328761281083057; total time=   0.0s\n",
      "[CV] END .................var_smoothing=0.003511191734215131; total time=   0.0s\n",
      "[CV] END .................var_smoothing=0.003511191734215131; total time=   0.0s\n",
      "[CV] END .................var_smoothing=0.003511191734215131; total time=   0.0s\n",
      "[CV] END .................var_smoothing=0.003511191734215131; total time=   0.0s\n",
      "[CV] END .................var_smoothing=0.003511191734215131; total time=   0.0s\n",
      "[CV] END .................var_smoothing=0.003511191734215131; total time=   0.0s\n",
      "[CV] END .................var_smoothing=0.003511191734215131; total time=   0.0s\n",
      "[CV] END .................var_smoothing=0.003511191734215131; total time=   0.0s\n",
      "[CV] END .................var_smoothing=0.003511191734215131; total time=   0.0s\n",
      "[CV] END .................var_smoothing=0.003511191734215131; total time=   0.0s\n",
      "[CV] END .................var_smoothing=0.002848035868435802; total time=   0.0s\n",
      "[CV] END .................var_smoothing=0.002848035868435802; total time=   0.0s\n",
      "[CV] END .................var_smoothing=0.002848035868435802; total time=   0.0s\n",
      "[CV] END .................var_smoothing=0.002848035868435802; total time=   0.0s\n",
      "[CV] END .................var_smoothing=0.002848035868435802; total time=   0.0s\n",
      "[CV] END .................var_smoothing=0.002848035868435802; total time=   0.0s\n"
     ]
    },
    {
     "name": "stdout",
     "output_type": "stream",
     "text": [
      "[CV] END .................var_smoothing=0.002848035868435802; total time=   0.0s\n",
      "[CV] END .................var_smoothing=0.002848035868435802; total time=   0.0s\n",
      "[CV] END .................var_smoothing=0.002848035868435802; total time=   0.0s\n",
      "[CV] END .................var_smoothing=0.002848035868435802; total time=   0.0s\n",
      "[CV] END ................var_smoothing=0.0023101297000831605; total time=   0.0s\n",
      "[CV] END ................var_smoothing=0.0023101297000831605; total time=   0.0s\n",
      "[CV] END ................var_smoothing=0.0023101297000831605; total time=   0.0s\n",
      "[CV] END ................var_smoothing=0.0023101297000831605; total time=   0.0s\n",
      "[CV] END ................var_smoothing=0.0023101297000831605; total time=   0.0s\n",
      "[CV] END ................var_smoothing=0.0023101297000831605; total time=   0.0s\n",
      "[CV] END ................var_smoothing=0.0023101297000831605; total time=   0.0s\n",
      "[CV] END ................var_smoothing=0.0023101297000831605; total time=   0.0s\n",
      "[CV] END ................var_smoothing=0.0023101297000831605; total time=   0.0s\n",
      "[CV] END ................var_smoothing=0.0023101297000831605; total time=   0.0s\n",
      "[CV] END .................var_smoothing=0.001873817422860383; total time=   0.0s\n",
      "[CV] END .................var_smoothing=0.001873817422860383; total time=   0.0s\n",
      "[CV] END .................var_smoothing=0.001873817422860383; total time=   0.0s\n",
      "[CV] END .................var_smoothing=0.001873817422860383; total time=   0.0s\n",
      "[CV] END .................var_smoothing=0.001873817422860383; total time=   0.0s\n",
      "[CV] END .................var_smoothing=0.001873817422860383; total time=   0.0s\n",
      "[CV] END .................var_smoothing=0.001873817422860383; total time=   0.0s\n",
      "[CV] END .................var_smoothing=0.001873817422860383; total time=   0.0s\n",
      "[CV] END .................var_smoothing=0.001873817422860383; total time=   0.0s\n",
      "[CV] END .................var_smoothing=0.001873817422860383; total time=   0.0s\n",
      "[CV] END ................var_smoothing=0.0015199110829529332; total time=   0.0s\n",
      "[CV] END ................var_smoothing=0.0015199110829529332; total time=   0.0s\n",
      "[CV] END ................var_smoothing=0.0015199110829529332; total time=   0.0s\n",
      "[CV] END ................var_smoothing=0.0015199110829529332; total time=   0.0s\n",
      "[CV] END ................var_smoothing=0.0015199110829529332; total time=   0.0s\n",
      "[CV] END ................var_smoothing=0.0015199110829529332; total time=   0.0s\n",
      "[CV] END ................var_smoothing=0.0015199110829529332; total time=   0.0s\n",
      "[CV] END ................var_smoothing=0.0015199110829529332; total time=   0.0s\n",
      "[CV] END ................var_smoothing=0.0015199110829529332; total time=   0.0s\n",
      "[CV] END ................var_smoothing=0.0015199110829529332; total time=   0.0s\n",
      "[CV] END ................var_smoothing=0.0012328467394420659; total time=   0.0s\n",
      "[CV] END ................var_smoothing=0.0012328467394420659; total time=   0.0s\n",
      "[CV] END ................var_smoothing=0.0012328467394420659; total time=   0.0s\n",
      "[CV] END ................var_smoothing=0.0012328467394420659; total time=   0.0s\n",
      "[CV] END ................var_smoothing=0.0012328467394420659; total time=   0.0s\n",
      "[CV] END ................var_smoothing=0.0012328467394420659; total time=   0.0s\n",
      "[CV] END ................var_smoothing=0.0012328467394420659; total time=   0.0s\n",
      "[CV] END ................var_smoothing=0.0012328467394420659; total time=   0.0s\n",
      "[CV] END ................var_smoothing=0.0012328467394420659; total time=   0.0s\n",
      "[CV] END ................var_smoothing=0.0012328467394420659; total time=   0.0s\n",
      "[CV] END ................................var_smoothing=0.001; total time=   0.0s\n",
      "[CV] END ................................var_smoothing=0.001; total time=   0.0s\n",
      "[CV] END ................................var_smoothing=0.001; total time=   0.0s\n",
      "[CV] END ................................var_smoothing=0.001; total time=   0.0s\n",
      "[CV] END ................................var_smoothing=0.001; total time=   0.0s\n",
      "[CV] END ................................var_smoothing=0.001; total time=   0.0s\n",
      "[CV] END ................................var_smoothing=0.001; total time=   0.0s\n",
      "[CV] END ................................var_smoothing=0.001; total time=   0.0s\n",
      "[CV] END ................................var_smoothing=0.001; total time=   0.0s\n",
      "[CV] END ................................var_smoothing=0.001; total time=   0.0s\n",
      "[CV] END ................var_smoothing=0.0008111308307896872; total time=   0.0s\n",
      "[CV] END ................var_smoothing=0.0008111308307896872; total time=   0.0s\n",
      "[CV] END ................var_smoothing=0.0008111308307896872; total time=   0.0s\n",
      "[CV] END ................var_smoothing=0.0008111308307896872; total time=   0.0s\n",
      "[CV] END ................var_smoothing=0.0008111308307896872; total time=   0.0s\n",
      "[CV] END ................var_smoothing=0.0008111308307896872; total time=   0.0s\n",
      "[CV] END ................var_smoothing=0.0008111308307896872; total time=   0.0s\n",
      "[CV] END ................var_smoothing=0.0008111308307896872; total time=   0.0s\n",
      "[CV] END ................var_smoothing=0.0008111308307896872; total time=   0.0s\n",
      "[CV] END ................var_smoothing=0.0008111308307896872; total time=   0.0s\n",
      "[CV] END ................var_smoothing=0.0006579332246575676; total time=   0.0s\n",
      "[CV] END ................var_smoothing=0.0006579332246575676; total time=   0.0s\n",
      "[CV] END ................var_smoothing=0.0006579332246575676; total time=   0.0s\n",
      "[CV] END ................var_smoothing=0.0006579332246575676; total time=   0.0s\n",
      "[CV] END ................var_smoothing=0.0006579332246575676; total time=   0.0s\n",
      "[CV] END ................var_smoothing=0.0006579332246575676; total time=   0.0s\n",
      "[CV] END ................var_smoothing=0.0006579332246575676; total time=   0.0s\n",
      "[CV] END ................var_smoothing=0.0006579332246575676; total time=   0.0s\n",
      "[CV] END ................var_smoothing=0.0006579332246575676; total time=   0.0s\n",
      "[CV] END ................var_smoothing=0.0006579332246575676; total time=   0.0s\n",
      "[CV] END ................var_smoothing=0.0005336699231206307; total time=   0.0s\n",
      "[CV] END ................var_smoothing=0.0005336699231206307; total time=   0.0s\n",
      "[CV] END ................var_smoothing=0.0005336699231206307; total time=   0.0s\n",
      "[CV] END ................var_smoothing=0.0005336699231206307; total time=   0.0s\n",
      "[CV] END ................var_smoothing=0.0005336699231206307; total time=   0.0s\n",
      "[CV] END ................var_smoothing=0.0005336699231206307; total time=   0.0s\n",
      "[CV] END ................var_smoothing=0.0005336699231206307; total time=   0.0s\n",
      "[CV] END ................var_smoothing=0.0005336699231206307; total time=   0.0s\n",
      "[CV] END ................var_smoothing=0.0005336699231206307; total time=   0.0s\n",
      "[CV] END ................var_smoothing=0.0005336699231206307; total time=   0.0s\n",
      "[CV] END ................var_smoothing=0.0004328761281083057; total time=   0.0s\n",
      "[CV] END ................var_smoothing=0.0004328761281083057; total time=   0.0s\n",
      "[CV] END ................var_smoothing=0.0004328761281083057; total time=   0.0s\n",
      "[CV] END ................var_smoothing=0.0004328761281083057; total time=   0.0s\n",
      "[CV] END ................var_smoothing=0.0004328761281083057; total time=   0.0s\n",
      "[CV] END ................var_smoothing=0.0004328761281083057; total time=   0.0s\n",
      "[CV] END ................var_smoothing=0.0004328761281083057; total time=   0.0s\n",
      "[CV] END ................var_smoothing=0.0004328761281083057; total time=   0.0s\n",
      "[CV] END ................var_smoothing=0.0004328761281083057; total time=   0.0s\n",
      "[CV] END ................var_smoothing=0.0004328761281083057; total time=   0.0s\n",
      "[CV] END ................var_smoothing=0.0003511191734215131; total time=   0.0s\n",
      "[CV] END ................var_smoothing=0.0003511191734215131; total time=   0.0s\n",
      "[CV] END ................var_smoothing=0.0003511191734215131; total time=   0.0s\n",
      "[CV] END ................var_smoothing=0.0003511191734215131; total time=   0.0s\n",
      "[CV] END ................var_smoothing=0.0003511191734215131; total time=   0.0s\n",
      "[CV] END ................var_smoothing=0.0003511191734215131; total time=   0.0s\n",
      "[CV] END ................var_smoothing=0.0003511191734215131; total time=   0.0s\n",
      "[CV] END ................var_smoothing=0.0003511191734215131; total time=   0.0s\n",
      "[CV] END ................var_smoothing=0.0003511191734215131; total time=   0.0s\n",
      "[CV] END ................var_smoothing=0.0003511191734215131; total time=   0.0s\n",
      "[CV] END ................var_smoothing=0.0002848035868435802; total time=   0.0s\n",
      "[CV] END ................var_smoothing=0.0002848035868435802; total time=   0.0s\n",
      "[CV] END ................var_smoothing=0.0002848035868435802; total time=   0.0s\n",
      "[CV] END ................var_smoothing=0.0002848035868435802; total time=   0.0s\n",
      "[CV] END ................var_smoothing=0.0002848035868435802; total time=   0.0s\n",
      "[CV] END ................var_smoothing=0.0002848035868435802; total time=   0.0s\n",
      "[CV] END ................var_smoothing=0.0002848035868435802; total time=   0.0s\n",
      "[CV] END ................var_smoothing=0.0002848035868435802; total time=   0.0s\n",
      "[CV] END ................var_smoothing=0.0002848035868435802; total time=   0.0s\n",
      "[CV] END ................var_smoothing=0.0002848035868435802; total time=   0.0s\n",
      "[CV] END ................var_smoothing=0.0002310129700083158; total time=   0.0s\n",
      "[CV] END ................var_smoothing=0.0002310129700083158; total time=   0.0s\n",
      "[CV] END ................var_smoothing=0.0002310129700083158; total time=   0.0s\n",
      "[CV] END ................var_smoothing=0.0002310129700083158; total time=   0.0s\n",
      "[CV] END ................var_smoothing=0.0002310129700083158; total time=   0.0s\n",
      "[CV] END ................var_smoothing=0.0002310129700083158; total time=   0.0s\n",
      "[CV] END ................var_smoothing=0.0002310129700083158; total time=   0.0s\n",
      "[CV] END ................var_smoothing=0.0002310129700083158; total time=   0.0s\n",
      "[CV] END ................var_smoothing=0.0002310129700083158; total time=   0.0s\n",
      "[CV] END ................var_smoothing=0.0002310129700083158; total time=   0.0s\n",
      "[CV] END ................var_smoothing=0.0001873817422860383; total time=   0.0s\n",
      "[CV] END ................var_smoothing=0.0001873817422860383; total time=   0.0s\n",
      "[CV] END ................var_smoothing=0.0001873817422860383; total time=   0.0s\n",
      "[CV] END ................var_smoothing=0.0001873817422860383; total time=   0.0s\n",
      "[CV] END ................var_smoothing=0.0001873817422860383; total time=   0.0s\n",
      "[CV] END ................var_smoothing=0.0001873817422860383; total time=   0.0s\n",
      "[CV] END ................var_smoothing=0.0001873817422860383; total time=   0.0s\n",
      "[CV] END ................var_smoothing=0.0001873817422860383; total time=   0.0s\n",
      "[CV] END ................var_smoothing=0.0001873817422860383; total time=   0.0s\n",
      "[CV] END ................var_smoothing=0.0001873817422860383; total time=   0.0s\n",
      "[CV] END ................var_smoothing=0.0001519911082952933; total time=   0.0s\n",
      "[CV] END ................var_smoothing=0.0001519911082952933; total time=   0.0s\n",
      "[CV] END ................var_smoothing=0.0001519911082952933; total time=   0.0s\n",
      "[CV] END ................var_smoothing=0.0001519911082952933; total time=   0.0s\n",
      "[CV] END ................var_smoothing=0.0001519911082952933; total time=   0.0s\n",
      "[CV] END ................var_smoothing=0.0001519911082952933; total time=   0.0s\n",
      "[CV] END ................var_smoothing=0.0001519911082952933; total time=   0.0s\n",
      "[CV] END ................var_smoothing=0.0001519911082952933; total time=   0.0s\n",
      "[CV] END ................var_smoothing=0.0001519911082952933; total time=   0.0s\n",
      "[CV] END ................var_smoothing=0.0001519911082952933; total time=   0.0s\n",
      "[CV] END ................var_smoothing=0.0001232846739442066; total time=   0.0s\n",
      "[CV] END ................var_smoothing=0.0001232846739442066; total time=   0.0s\n"
     ]
    },
    {
     "name": "stdout",
     "output_type": "stream",
     "text": [
      "[CV] END ................var_smoothing=0.0001232846739442066; total time=   0.0s\n",
      "[CV] END ................var_smoothing=0.0001232846739442066; total time=   0.0s\n",
      "[CV] END ................var_smoothing=0.0001232846739442066; total time=   0.0s\n",
      "[CV] END ................var_smoothing=0.0001232846739442066; total time=   0.0s\n",
      "[CV] END ................var_smoothing=0.0001232846739442066; total time=   0.0s\n",
      "[CV] END ................var_smoothing=0.0001232846739442066; total time=   0.0s\n",
      "[CV] END ................var_smoothing=0.0001232846739442066; total time=   0.0s\n",
      "[CV] END ................var_smoothing=0.0001232846739442066; total time=   0.0s\n",
      "[CV] END ...............................var_smoothing=0.0001; total time=   0.0s\n",
      "[CV] END ...............................var_smoothing=0.0001; total time=   0.0s\n",
      "[CV] END ...............................var_smoothing=0.0001; total time=   0.0s\n",
      "[CV] END ...............................var_smoothing=0.0001; total time=   0.0s\n",
      "[CV] END ...............................var_smoothing=0.0001; total time=   0.0s\n",
      "[CV] END ...............................var_smoothing=0.0001; total time=   0.0s\n",
      "[CV] END ...............................var_smoothing=0.0001; total time=   0.0s\n",
      "[CV] END ...............................var_smoothing=0.0001; total time=   0.0s\n",
      "[CV] END ...............................var_smoothing=0.0001; total time=   0.0s\n",
      "[CV] END ...............................var_smoothing=0.0001; total time=   0.0s\n",
      "[CV] END ................var_smoothing=8.111308307896872e-05; total time=   0.0s\n",
      "[CV] END ................var_smoothing=8.111308307896872e-05; total time=   0.0s\n",
      "[CV] END ................var_smoothing=8.111308307896872e-05; total time=   0.0s\n",
      "[CV] END ................var_smoothing=8.111308307896872e-05; total time=   0.0s\n",
      "[CV] END ................var_smoothing=8.111308307896872e-05; total time=   0.0s\n",
      "[CV] END ................var_smoothing=8.111308307896872e-05; total time=   0.0s\n",
      "[CV] END ................var_smoothing=8.111308307896872e-05; total time=   0.0s\n",
      "[CV] END ................var_smoothing=8.111308307896872e-05; total time=   0.0s\n",
      "[CV] END ................var_smoothing=8.111308307896872e-05; total time=   0.0s\n",
      "[CV] END ................var_smoothing=8.111308307896872e-05; total time=   0.0s\n",
      "[CV] END ................var_smoothing=6.579332246575683e-05; total time=   0.0s\n",
      "[CV] END ................var_smoothing=6.579332246575683e-05; total time=   0.0s\n",
      "[CV] END ................var_smoothing=6.579332246575683e-05; total time=   0.0s\n",
      "[CV] END ................var_smoothing=6.579332246575683e-05; total time=   0.0s\n",
      "[CV] END ................var_smoothing=6.579332246575683e-05; total time=   0.0s\n",
      "[CV] END ................var_smoothing=6.579332246575683e-05; total time=   0.0s\n",
      "[CV] END ................var_smoothing=6.579332246575683e-05; total time=   0.0s\n",
      "[CV] END ................var_smoothing=6.579332246575683e-05; total time=   0.0s\n",
      "[CV] END ................var_smoothing=6.579332246575683e-05; total time=   0.0s\n",
      "[CV] END ................var_smoothing=6.579332246575683e-05; total time=   0.0s\n",
      "[CV] END ...............var_smoothing=5.3366992312063123e-05; total time=   0.0s\n",
      "[CV] END ...............var_smoothing=5.3366992312063123e-05; total time=   0.0s\n",
      "[CV] END ...............var_smoothing=5.3366992312063123e-05; total time=   0.0s\n",
      "[CV] END ...............var_smoothing=5.3366992312063123e-05; total time=   0.0s\n",
      "[CV] END ...............var_smoothing=5.3366992312063123e-05; total time=   0.0s\n",
      "[CV] END ...............var_smoothing=5.3366992312063123e-05; total time=   0.0s\n",
      "[CV] END ...............var_smoothing=5.3366992312063123e-05; total time=   0.0s\n",
      "[CV] END ...............var_smoothing=5.3366992312063123e-05; total time=   0.0s\n",
      "[CV] END ...............var_smoothing=5.3366992312063123e-05; total time=   0.0s\n",
      "[CV] END ...............var_smoothing=5.3366992312063123e-05; total time=   0.0s\n",
      "[CV] END ................var_smoothing=4.328761281083062e-05; total time=   0.0s\n",
      "[CV] END ................var_smoothing=4.328761281083062e-05; total time=   0.0s\n",
      "[CV] END ................var_smoothing=4.328761281083062e-05; total time=   0.0s\n",
      "[CV] END ................var_smoothing=4.328761281083062e-05; total time=   0.0s\n",
      "[CV] END ................var_smoothing=4.328761281083062e-05; total time=   0.0s\n",
      "[CV] END ................var_smoothing=4.328761281083062e-05; total time=   0.0s\n",
      "[CV] END ................var_smoothing=4.328761281083062e-05; total time=   0.0s\n",
      "[CV] END ................var_smoothing=4.328761281083062e-05; total time=   0.0s\n",
      "[CV] END ................var_smoothing=4.328761281083062e-05; total time=   0.0s\n",
      "[CV] END ................var_smoothing=4.328761281083062e-05; total time=   0.0s\n",
      "[CV] END ................var_smoothing=3.511191734215127e-05; total time=   0.0s\n",
      "[CV] END ................var_smoothing=3.511191734215127e-05; total time=   0.0s\n",
      "[CV] END ................var_smoothing=3.511191734215127e-05; total time=   0.0s\n",
      "[CV] END ................var_smoothing=3.511191734215127e-05; total time=   0.0s\n",
      "[CV] END ................var_smoothing=3.511191734215127e-05; total time=   0.0s\n",
      "[CV] END ................var_smoothing=3.511191734215127e-05; total time=   0.0s\n",
      "[CV] END ................var_smoothing=3.511191734215127e-05; total time=   0.0s\n",
      "[CV] END ................var_smoothing=3.511191734215127e-05; total time=   0.0s\n",
      "[CV] END ................var_smoothing=3.511191734215127e-05; total time=   0.0s\n",
      "[CV] END ................var_smoothing=3.511191734215127e-05; total time=   0.0s\n",
      "[CV] END ................var_smoothing=2.848035868435799e-05; total time=   0.0s\n",
      "[CV] END ................var_smoothing=2.848035868435799e-05; total time=   0.0s\n",
      "[CV] END ................var_smoothing=2.848035868435799e-05; total time=   0.0s\n",
      "[CV] END ................var_smoothing=2.848035868435799e-05; total time=   0.0s\n",
      "[CV] END ................var_smoothing=2.848035868435799e-05; total time=   0.0s\n",
      "[CV] END ................var_smoothing=2.848035868435799e-05; total time=   0.0s\n",
      "[CV] END ................var_smoothing=2.848035868435799e-05; total time=   0.0s\n",
      "[CV] END ................var_smoothing=2.848035868435799e-05; total time=   0.0s\n",
      "[CV] END ................var_smoothing=2.848035868435799e-05; total time=   0.0s\n",
      "[CV] END ................var_smoothing=2.848035868435799e-05; total time=   0.0s\n",
      "[CV] END ................var_smoothing=2.310129700083158e-05; total time=   0.0s\n",
      "[CV] END ................var_smoothing=2.310129700083158e-05; total time=   0.0s\n",
      "[CV] END ................var_smoothing=2.310129700083158e-05; total time=   0.0s\n",
      "[CV] END ................var_smoothing=2.310129700083158e-05; total time=   0.0s\n",
      "[CV] END ................var_smoothing=2.310129700083158e-05; total time=   0.0s\n",
      "[CV] END ................var_smoothing=2.310129700083158e-05; total time=   0.0s\n",
      "[CV] END ................var_smoothing=2.310129700083158e-05; total time=   0.0s\n",
      "[CV] END ................var_smoothing=2.310129700083158e-05; total time=   0.0s\n",
      "[CV] END ................var_smoothing=2.310129700083158e-05; total time=   0.0s\n",
      "[CV] END ................var_smoothing=2.310129700083158e-05; total time=   0.0s\n",
      "[CV] END ................var_smoothing=1.873817422860383e-05; total time=   0.0s\n",
      "[CV] END ................var_smoothing=1.873817422860383e-05; total time=   0.0s\n",
      "[CV] END ................var_smoothing=1.873817422860383e-05; total time=   0.0s\n",
      "[CV] END ................var_smoothing=1.873817422860383e-05; total time=   0.0s\n",
      "[CV] END ................var_smoothing=1.873817422860383e-05; total time=   0.0s\n",
      "[CV] END ................var_smoothing=1.873817422860383e-05; total time=   0.0s\n",
      "[CV] END ................var_smoothing=1.873817422860383e-05; total time=   0.0s\n",
      "[CV] END ................var_smoothing=1.873817422860383e-05; total time=   0.0s\n",
      "[CV] END ................var_smoothing=1.873817422860383e-05; total time=   0.0s\n",
      "[CV] END ................var_smoothing=1.873817422860383e-05; total time=   0.0s\n",
      "[CV] END ...............var_smoothing=1.5199110829529332e-05; total time=   0.0s\n",
      "[CV] END ...............var_smoothing=1.5199110829529332e-05; total time=   0.0s\n",
      "[CV] END ...............var_smoothing=1.5199110829529332e-05; total time=   0.0s\n",
      "[CV] END ...............var_smoothing=1.5199110829529332e-05; total time=   0.0s\n",
      "[CV] END ...............var_smoothing=1.5199110829529332e-05; total time=   0.0s\n",
      "[CV] END ...............var_smoothing=1.5199110829529332e-05; total time=   0.0s\n",
      "[CV] END ...............var_smoothing=1.5199110829529332e-05; total time=   0.0s\n",
      "[CV] END ...............var_smoothing=1.5199110829529332e-05; total time=   0.0s\n",
      "[CV] END ...............var_smoothing=1.5199110829529332e-05; total time=   0.0s\n",
      "[CV] END ...............var_smoothing=1.5199110829529332e-05; total time=   0.0s\n",
      "[CV] END ...............var_smoothing=1.2328467394420658e-05; total time=   0.0s\n",
      "[CV] END ...............var_smoothing=1.2328467394420658e-05; total time=   0.0s\n",
      "[CV] END ...............var_smoothing=1.2328467394420658e-05; total time=   0.0s\n",
      "[CV] END ...............var_smoothing=1.2328467394420658e-05; total time=   0.0s\n",
      "[CV] END ...............var_smoothing=1.2328467394420658e-05; total time=   0.0s\n",
      "[CV] END ...............var_smoothing=1.2328467394420658e-05; total time=   0.0s\n",
      "[CV] END ...............var_smoothing=1.2328467394420658e-05; total time=   0.0s\n",
      "[CV] END ...............var_smoothing=1.2328467394420658e-05; total time=   0.0s\n",
      "[CV] END ...............var_smoothing=1.2328467394420658e-05; total time=   0.0s\n",
      "[CV] END ...............var_smoothing=1.2328467394420658e-05; total time=   0.0s\n",
      "[CV] END ................................var_smoothing=1e-05; total time=   0.0s\n",
      "[CV] END ................................var_smoothing=1e-05; total time=   0.0s\n",
      "[CV] END ................................var_smoothing=1e-05; total time=   0.0s\n",
      "[CV] END ................................var_smoothing=1e-05; total time=   0.0s\n",
      "[CV] END ................................var_smoothing=1e-05; total time=   0.0s\n",
      "[CV] END ................................var_smoothing=1e-05; total time=   0.0s\n",
      "[CV] END ................................var_smoothing=1e-05; total time=   0.0s\n",
      "[CV] END ................................var_smoothing=1e-05; total time=   0.0s\n",
      "[CV] END ................................var_smoothing=1e-05; total time=   0.0s\n",
      "[CV] END ................................var_smoothing=1e-05; total time=   0.0s\n",
      "[CV] END ................var_smoothing=8.111308307896873e-06; total time=   0.0s\n",
      "[CV] END ................var_smoothing=8.111308307896873e-06; total time=   0.0s\n",
      "[CV] END ................var_smoothing=8.111308307896873e-06; total time=   0.0s\n",
      "[CV] END ................var_smoothing=8.111308307896873e-06; total time=   0.0s\n",
      "[CV] END ................var_smoothing=8.111308307896873e-06; total time=   0.0s\n",
      "[CV] END ................var_smoothing=8.111308307896873e-06; total time=   0.0s\n",
      "[CV] END ................var_smoothing=8.111308307896873e-06; total time=   0.0s\n",
      "[CV] END ................var_smoothing=8.111308307896873e-06; total time=   0.0s\n",
      "[CV] END ................var_smoothing=8.111308307896873e-06; total time=   0.0s\n",
      "[CV] END ................var_smoothing=8.111308307896873e-06; total time=   0.0s\n",
      "[CV] END ................var_smoothing=6.579332246575683e-06; total time=   0.0s\n",
      "[CV] END ................var_smoothing=6.579332246575683e-06; total time=   0.0s\n",
      "[CV] END ................var_smoothing=6.579332246575683e-06; total time=   0.0s\n",
      "[CV] END ................var_smoothing=6.579332246575683e-06; total time=   0.0s\n",
      "[CV] END ................var_smoothing=6.579332246575683e-06; total time=   0.0s\n",
      "[CV] END ................var_smoothing=6.579332246575683e-06; total time=   0.0s\n",
      "[CV] END ................var_smoothing=6.579332246575683e-06; total time=   0.0s\n"
     ]
    },
    {
     "name": "stdout",
     "output_type": "stream",
     "text": [
      "[CV] END ................var_smoothing=6.579332246575683e-06; total time=   0.0s\n",
      "[CV] END ................var_smoothing=6.579332246575683e-06; total time=   0.0s\n",
      "[CV] END ................var_smoothing=6.579332246575683e-06; total time=   0.0s\n",
      "[CV] END ................var_smoothing=5.336699231206313e-06; total time=   0.0s\n",
      "[CV] END ................var_smoothing=5.336699231206313e-06; total time=   0.0s\n",
      "[CV] END ................var_smoothing=5.336699231206313e-06; total time=   0.0s\n",
      "[CV] END ................var_smoothing=5.336699231206313e-06; total time=   0.0s\n",
      "[CV] END ................var_smoothing=5.336699231206313e-06; total time=   0.0s\n",
      "[CV] END ................var_smoothing=5.336699231206313e-06; total time=   0.0s\n",
      "[CV] END ................var_smoothing=5.336699231206313e-06; total time=   0.0s\n",
      "[CV] END ................var_smoothing=5.336699231206313e-06; total time=   0.0s\n",
      "[CV] END ................var_smoothing=5.336699231206313e-06; total time=   0.0s\n",
      "[CV] END ................var_smoothing=5.336699231206313e-06; total time=   0.0s\n",
      "[CV] END ................var_smoothing=4.328761281083053e-06; total time=   0.0s\n",
      "[CV] END ................var_smoothing=4.328761281083053e-06; total time=   0.0s\n",
      "[CV] END ................var_smoothing=4.328761281083053e-06; total time=   0.0s\n",
      "[CV] END ................var_smoothing=4.328761281083053e-06; total time=   0.0s\n",
      "[CV] END ................var_smoothing=4.328761281083053e-06; total time=   0.0s\n",
      "[CV] END ................var_smoothing=4.328761281083053e-06; total time=   0.0s\n",
      "[CV] END ................var_smoothing=4.328761281083053e-06; total time=   0.0s\n",
      "[CV] END ................var_smoothing=4.328761281083053e-06; total time=   0.0s\n",
      "[CV] END ................var_smoothing=4.328761281083053e-06; total time=   0.0s\n",
      "[CV] END ................var_smoothing=4.328761281083053e-06; total time=   0.0s\n",
      "[CV] END ...............var_smoothing=3.5111917342151275e-06; total time=   0.0s\n",
      "[CV] END ...............var_smoothing=3.5111917342151275e-06; total time=   0.0s\n",
      "[CV] END ...............var_smoothing=3.5111917342151275e-06; total time=   0.0s\n",
      "[CV] END ...............var_smoothing=3.5111917342151275e-06; total time=   0.0s\n",
      "[CV] END ...............var_smoothing=3.5111917342151275e-06; total time=   0.0s\n",
      "[CV] END ...............var_smoothing=3.5111917342151275e-06; total time=   0.0s\n",
      "[CV] END ...............var_smoothing=3.5111917342151275e-06; total time=   0.0s\n",
      "[CV] END ...............var_smoothing=3.5111917342151275e-06; total time=   0.0s\n",
      "[CV] END ...............var_smoothing=3.5111917342151275e-06; total time=   0.0s\n",
      "[CV] END ...............var_smoothing=3.5111917342151275e-06; total time=   0.0s\n",
      "[CV] END ................var_smoothing=2.848035868435799e-06; total time=   0.0s\n",
      "[CV] END ................var_smoothing=2.848035868435799e-06; total time=   0.0s\n",
      "[CV] END ................var_smoothing=2.848035868435799e-06; total time=   0.0s\n",
      "[CV] END ................var_smoothing=2.848035868435799e-06; total time=   0.0s\n",
      "[CV] END ................var_smoothing=2.848035868435799e-06; total time=   0.0s\n",
      "[CV] END ................var_smoothing=2.848035868435799e-06; total time=   0.0s\n",
      "[CV] END ................var_smoothing=2.848035868435799e-06; total time=   0.0s\n",
      "[CV] END ................var_smoothing=2.848035868435799e-06; total time=   0.0s\n",
      "[CV] END ................var_smoothing=2.848035868435799e-06; total time=   0.0s\n",
      "[CV] END ................var_smoothing=2.848035868435799e-06; total time=   0.0s\n",
      "[CV] END ................var_smoothing=2.310129700083158e-06; total time=   0.0s\n",
      "[CV] END ................var_smoothing=2.310129700083158e-06; total time=   0.0s\n",
      "[CV] END ................var_smoothing=2.310129700083158e-06; total time=   0.0s\n",
      "[CV] END ................var_smoothing=2.310129700083158e-06; total time=   0.0s\n",
      "[CV] END ................var_smoothing=2.310129700083158e-06; total time=   0.0s\n",
      "[CV] END ................var_smoothing=2.310129700083158e-06; total time=   0.0s\n",
      "[CV] END ................var_smoothing=2.310129700083158e-06; total time=   0.0s\n",
      "[CV] END ................var_smoothing=2.310129700083158e-06; total time=   0.0s\n",
      "[CV] END ................var_smoothing=2.310129700083158e-06; total time=   0.0s\n",
      "[CV] END ................var_smoothing=2.310129700083158e-06; total time=   0.0s\n",
      "[CV] END ................var_smoothing=1.873817422860383e-06; total time=   0.0s\n",
      "[CV] END ................var_smoothing=1.873817422860383e-06; total time=   0.0s\n",
      "[CV] END ................var_smoothing=1.873817422860383e-06; total time=   0.0s\n",
      "[CV] END ................var_smoothing=1.873817422860383e-06; total time=   0.0s\n",
      "[CV] END ................var_smoothing=1.873817422860383e-06; total time=   0.0s\n",
      "[CV] END ................var_smoothing=1.873817422860383e-06; total time=   0.0s\n",
      "[CV] END ................var_smoothing=1.873817422860383e-06; total time=   0.0s\n",
      "[CV] END ................var_smoothing=1.873817422860383e-06; total time=   0.0s\n",
      "[CV] END ................var_smoothing=1.873817422860383e-06; total time=   0.0s\n",
      "[CV] END ................var_smoothing=1.873817422860383e-06; total time=   0.0s\n",
      "[CV] END ................var_smoothing=1.519911082952933e-06; total time=   0.0s\n",
      "[CV] END ................var_smoothing=1.519911082952933e-06; total time=   0.0s\n",
      "[CV] END ................var_smoothing=1.519911082952933e-06; total time=   0.0s\n",
      "[CV] END ................var_smoothing=1.519911082952933e-06; total time=   0.0s\n",
      "[CV] END ................var_smoothing=1.519911082952933e-06; total time=   0.0s\n",
      "[CV] END ................var_smoothing=1.519911082952933e-06; total time=   0.0s\n",
      "[CV] END ................var_smoothing=1.519911082952933e-06; total time=   0.0s\n",
      "[CV] END ................var_smoothing=1.519911082952933e-06; total time=   0.0s\n",
      "[CV] END ................var_smoothing=1.519911082952933e-06; total time=   0.0s\n",
      "[CV] END ................var_smoothing=1.519911082952933e-06; total time=   0.0s\n",
      "[CV] END ................var_smoothing=1.232846739442066e-06; total time=   0.0s\n",
      "[CV] END ................var_smoothing=1.232846739442066e-06; total time=   0.0s\n",
      "[CV] END ................var_smoothing=1.232846739442066e-06; total time=   0.0s\n",
      "[CV] END ................var_smoothing=1.232846739442066e-06; total time=   0.0s\n",
      "[CV] END ................var_smoothing=1.232846739442066e-06; total time=   0.0s\n",
      "[CV] END ................var_smoothing=1.232846739442066e-06; total time=   0.0s\n",
      "[CV] END ................var_smoothing=1.232846739442066e-06; total time=   0.0s\n",
      "[CV] END ................var_smoothing=1.232846739442066e-06; total time=   0.0s\n",
      "[CV] END ................var_smoothing=1.232846739442066e-06; total time=   0.0s\n",
      "[CV] END ................var_smoothing=1.232846739442066e-06; total time=   0.0s\n",
      "[CV] END ................................var_smoothing=1e-06; total time=   0.0s\n",
      "[CV] END ................................var_smoothing=1e-06; total time=   0.0s\n",
      "[CV] END ................................var_smoothing=1e-06; total time=   0.0s\n",
      "[CV] END ................................var_smoothing=1e-06; total time=   0.0s\n",
      "[CV] END ................................var_smoothing=1e-06; total time=   0.0s\n",
      "[CV] END ................................var_smoothing=1e-06; total time=   0.0s\n",
      "[CV] END ................................var_smoothing=1e-06; total time=   0.0s\n",
      "[CV] END ................................var_smoothing=1e-06; total time=   0.0s\n",
      "[CV] END ................................var_smoothing=1e-06; total time=   0.0s\n",
      "[CV] END ................................var_smoothing=1e-06; total time=   0.0s\n",
      "[CV] END ................var_smoothing=8.111308307896872e-07; total time=   0.0s\n",
      "[CV] END ................var_smoothing=8.111308307896872e-07; total time=   0.0s\n",
      "[CV] END ................var_smoothing=8.111308307896872e-07; total time=   0.0s\n",
      "[CV] END ................var_smoothing=8.111308307896872e-07; total time=   0.0s\n",
      "[CV] END ................var_smoothing=8.111308307896872e-07; total time=   0.0s\n",
      "[CV] END ................var_smoothing=8.111308307896872e-07; total time=   0.0s\n",
      "[CV] END ................var_smoothing=8.111308307896872e-07; total time=   0.0s\n",
      "[CV] END ................var_smoothing=8.111308307896872e-07; total time=   0.0s\n",
      "[CV] END ................var_smoothing=8.111308307896872e-07; total time=   0.0s\n",
      "[CV] END ................var_smoothing=8.111308307896872e-07; total time=   0.0s\n",
      "[CV] END ................var_smoothing=6.579332246575682e-07; total time=   0.0s\n",
      "[CV] END ................var_smoothing=6.579332246575682e-07; total time=   0.0s\n",
      "[CV] END ................var_smoothing=6.579332246575682e-07; total time=   0.0s\n",
      "[CV] END ................var_smoothing=6.579332246575682e-07; total time=   0.0s\n",
      "[CV] END ................var_smoothing=6.579332246575682e-07; total time=   0.0s\n",
      "[CV] END ................var_smoothing=6.579332246575682e-07; total time=   0.0s\n",
      "[CV] END ................var_smoothing=6.579332246575682e-07; total time=   0.0s\n",
      "[CV] END ................var_smoothing=6.579332246575682e-07; total time=   0.0s\n",
      "[CV] END ................var_smoothing=6.579332246575682e-07; total time=   0.0s\n",
      "[CV] END ................var_smoothing=6.579332246575682e-07; total time=   0.0s\n",
      "[CV] END ................var_smoothing=5.336699231206313e-07; total time=   0.0s\n",
      "[CV] END ................var_smoothing=5.336699231206313e-07; total time=   0.0s\n",
      "[CV] END ................var_smoothing=5.336699231206313e-07; total time=   0.0s\n",
      "[CV] END ................var_smoothing=5.336699231206313e-07; total time=   0.0s\n",
      "[CV] END ................var_smoothing=5.336699231206313e-07; total time=   0.0s\n",
      "[CV] END ................var_smoothing=5.336699231206313e-07; total time=   0.0s\n",
      "[CV] END ................var_smoothing=5.336699231206313e-07; total time=   0.0s\n",
      "[CV] END ................var_smoothing=5.336699231206313e-07; total time=   0.0s\n",
      "[CV] END ................var_smoothing=5.336699231206313e-07; total time=   0.0s\n",
      "[CV] END ................var_smoothing=5.336699231206313e-07; total time=   0.0s\n",
      "[CV] END ...............var_smoothing=4.3287612810830526e-07; total time=   0.0s\n",
      "[CV] END ...............var_smoothing=4.3287612810830526e-07; total time=   0.0s\n",
      "[CV] END ...............var_smoothing=4.3287612810830526e-07; total time=   0.0s\n",
      "[CV] END ...............var_smoothing=4.3287612810830526e-07; total time=   0.0s\n",
      "[CV] END ...............var_smoothing=4.3287612810830526e-07; total time=   0.0s\n",
      "[CV] END ...............var_smoothing=4.3287612810830526e-07; total time=   0.0s\n",
      "[CV] END ...............var_smoothing=4.3287612810830526e-07; total time=   0.0s\n",
      "[CV] END ...............var_smoothing=4.3287612810830526e-07; total time=   0.0s\n",
      "[CV] END ...............var_smoothing=4.3287612810830526e-07; total time=   0.0s\n"
     ]
    },
    {
     "name": "stdout",
     "output_type": "stream",
     "text": [
      "[CV] END ...............var_smoothing=4.3287612810830526e-07; total time=   0.0s\n",
      "[CV] END ...............var_smoothing=3.5111917342151277e-07; total time=   0.0s\n",
      "[CV] END ...............var_smoothing=3.5111917342151277e-07; total time=   0.0s\n",
      "[CV] END ...............var_smoothing=3.5111917342151277e-07; total time=   0.0s\n",
      "[CV] END ...............var_smoothing=3.5111917342151277e-07; total time=   0.0s\n",
      "[CV] END ...............var_smoothing=3.5111917342151277e-07; total time=   0.0s\n",
      "[CV] END ...............var_smoothing=3.5111917342151277e-07; total time=   0.0s\n",
      "[CV] END ...............var_smoothing=3.5111917342151277e-07; total time=   0.0s\n",
      "[CV] END ...............var_smoothing=3.5111917342151277e-07; total time=   0.0s\n",
      "[CV] END ...............var_smoothing=3.5111917342151277e-07; total time=   0.0s\n",
      "[CV] END ...............var_smoothing=3.5111917342151277e-07; total time=   0.0s\n",
      "[CV] END ................var_smoothing=2.848035868435799e-07; total time=   0.0s\n",
      "[CV] END ................var_smoothing=2.848035868435799e-07; total time=   0.0s\n",
      "[CV] END ................var_smoothing=2.848035868435799e-07; total time=   0.0s\n",
      "[CV] END ................var_smoothing=2.848035868435799e-07; total time=   0.0s\n",
      "[CV] END ................var_smoothing=2.848035868435799e-07; total time=   0.0s\n",
      "[CV] END ................var_smoothing=2.848035868435799e-07; total time=   0.0s\n",
      "[CV] END ................var_smoothing=2.848035868435799e-07; total time=   0.0s\n",
      "[CV] END ................var_smoothing=2.848035868435799e-07; total time=   0.0s\n",
      "[CV] END ................var_smoothing=2.848035868435799e-07; total time=   0.0s\n",
      "[CV] END ................var_smoothing=2.848035868435799e-07; total time=   0.0s\n",
      "[CV] END ................var_smoothing=2.310129700083158e-07; total time=   0.0s\n",
      "[CV] END ................var_smoothing=2.310129700083158e-07; total time=   0.0s\n",
      "[CV] END ................var_smoothing=2.310129700083158e-07; total time=   0.0s\n",
      "[CV] END ................var_smoothing=2.310129700083158e-07; total time=   0.0s\n",
      "[CV] END ................var_smoothing=2.310129700083158e-07; total time=   0.0s\n",
      "[CV] END ................var_smoothing=2.310129700083158e-07; total time=   0.0s\n",
      "[CV] END ................var_smoothing=2.310129700083158e-07; total time=   0.0s\n",
      "[CV] END ................var_smoothing=2.310129700083158e-07; total time=   0.0s\n",
      "[CV] END ................var_smoothing=2.310129700083158e-07; total time=   0.0s\n",
      "[CV] END ................var_smoothing=2.310129700083158e-07; total time=   0.0s\n",
      "[CV] END ................var_smoothing=1.873817422860383e-07; total time=   0.0s\n",
      "[CV] END ................var_smoothing=1.873817422860383e-07; total time=   0.0s\n",
      "[CV] END ................var_smoothing=1.873817422860383e-07; total time=   0.0s\n",
      "[CV] END ................var_smoothing=1.873817422860383e-07; total time=   0.0s\n",
      "[CV] END ................var_smoothing=1.873817422860383e-07; total time=   0.0s\n",
      "[CV] END ................var_smoothing=1.873817422860383e-07; total time=   0.0s\n",
      "[CV] END ................var_smoothing=1.873817422860383e-07; total time=   0.0s\n",
      "[CV] END ................var_smoothing=1.873817422860383e-07; total time=   0.0s\n",
      "[CV] END ................var_smoothing=1.873817422860383e-07; total time=   0.0s\n",
      "[CV] END ................var_smoothing=1.873817422860383e-07; total time=   0.0s\n",
      "[CV] END ................var_smoothing=1.519911082952933e-07; total time=   0.0s\n",
      "[CV] END ................var_smoothing=1.519911082952933e-07; total time=   0.0s\n",
      "[CV] END ................var_smoothing=1.519911082952933e-07; total time=   0.0s\n",
      "[CV] END ................var_smoothing=1.519911082952933e-07; total time=   0.0s\n",
      "[CV] END ................var_smoothing=1.519911082952933e-07; total time=   0.0s\n",
      "[CV] END ................var_smoothing=1.519911082952933e-07; total time=   0.0s\n",
      "[CV] END ................var_smoothing=1.519911082952933e-07; total time=   0.0s\n",
      "[CV] END ................var_smoothing=1.519911082952933e-07; total time=   0.0s\n",
      "[CV] END ................var_smoothing=1.519911082952933e-07; total time=   0.0s\n",
      "[CV] END ................var_smoothing=1.519911082952933e-07; total time=   0.0s\n",
      "[CV] END ................var_smoothing=1.232846739442066e-07; total time=   0.0s\n",
      "[CV] END ................var_smoothing=1.232846739442066e-07; total time=   0.0s\n",
      "[CV] END ................var_smoothing=1.232846739442066e-07; total time=   0.0s\n",
      "[CV] END ................var_smoothing=1.232846739442066e-07; total time=   0.0s\n",
      "[CV] END ................var_smoothing=1.232846739442066e-07; total time=   0.0s\n",
      "[CV] END ................var_smoothing=1.232846739442066e-07; total time=   0.0s\n",
      "[CV] END ................var_smoothing=1.232846739442066e-07; total time=   0.0s\n",
      "[CV] END ................var_smoothing=1.232846739442066e-07; total time=   0.0s\n",
      "[CV] END ................var_smoothing=1.232846739442066e-07; total time=   0.0s\n",
      "[CV] END ................var_smoothing=1.232846739442066e-07; total time=   0.0s\n",
      "[CV] END ................................var_smoothing=1e-07; total time=   0.0s\n",
      "[CV] END ................................var_smoothing=1e-07; total time=   0.0s\n",
      "[CV] END ................................var_smoothing=1e-07; total time=   0.0s\n",
      "[CV] END ................................var_smoothing=1e-07; total time=   0.0s\n",
      "[CV] END ................................var_smoothing=1e-07; total time=   0.0s\n",
      "[CV] END ................................var_smoothing=1e-07; total time=   0.0s\n",
      "[CV] END ................................var_smoothing=1e-07; total time=   0.0s\n",
      "[CV] END ................................var_smoothing=1e-07; total time=   0.0s\n",
      "[CV] END ................................var_smoothing=1e-07; total time=   0.0s\n",
      "[CV] END ................................var_smoothing=1e-07; total time=   0.0s\n",
      "[CV] END ................var_smoothing=8.111308307896873e-08; total time=   0.0s\n",
      "[CV] END ................var_smoothing=8.111308307896873e-08; total time=   0.0s\n",
      "[CV] END ................var_smoothing=8.111308307896873e-08; total time=   0.0s\n",
      "[CV] END ................var_smoothing=8.111308307896873e-08; total time=   0.0s\n",
      "[CV] END ................var_smoothing=8.111308307896873e-08; total time=   0.0s\n",
      "[CV] END ................var_smoothing=8.111308307896873e-08; total time=   0.0s\n",
      "[CV] END ................var_smoothing=8.111308307896873e-08; total time=   0.0s\n",
      "[CV] END ................var_smoothing=8.111308307896873e-08; total time=   0.0s\n",
      "[CV] END ................var_smoothing=8.111308307896873e-08; total time=   0.0s\n",
      "[CV] END ................var_smoothing=8.111308307896873e-08; total time=   0.0s\n",
      "[CV] END ................var_smoothing=6.579332246575682e-08; total time=   0.0s\n",
      "[CV] END ................var_smoothing=6.579332246575682e-08; total time=   0.0s\n",
      "[CV] END ................var_smoothing=6.579332246575682e-08; total time=   0.0s\n",
      "[CV] END ................var_smoothing=6.579332246575682e-08; total time=   0.0s\n",
      "[CV] END ................var_smoothing=6.579332246575682e-08; total time=   0.0s\n",
      "[CV] END ................var_smoothing=6.579332246575682e-08; total time=   0.0s\n",
      "[CV] END ................var_smoothing=6.579332246575682e-08; total time=   0.0s\n",
      "[CV] END ................var_smoothing=6.579332246575682e-08; total time=   0.0s\n",
      "[CV] END ................var_smoothing=6.579332246575682e-08; total time=   0.0s\n",
      "[CV] END ................var_smoothing=6.579332246575682e-08; total time=   0.0s\n",
      "[CV] END ................var_smoothing=5.336699231206302e-08; total time=   0.0s\n",
      "[CV] END ................var_smoothing=5.336699231206302e-08; total time=   0.0s\n",
      "[CV] END ................var_smoothing=5.336699231206302e-08; total time=   0.0s\n",
      "[CV] END ................var_smoothing=5.336699231206302e-08; total time=   0.0s\n",
      "[CV] END ................var_smoothing=5.336699231206302e-08; total time=   0.0s\n",
      "[CV] END ................var_smoothing=5.336699231206302e-08; total time=   0.0s\n",
      "[CV] END ................var_smoothing=5.336699231206302e-08; total time=   0.0s\n",
      "[CV] END ................var_smoothing=5.336699231206302e-08; total time=   0.0s\n",
      "[CV] END ................var_smoothing=5.336699231206302e-08; total time=   0.0s\n",
      "[CV] END ................var_smoothing=5.336699231206302e-08; total time=   0.0s\n",
      "[CV] END ...............var_smoothing=4.3287612810830526e-08; total time=   0.0s\n",
      "[CV] END ...............var_smoothing=4.3287612810830526e-08; total time=   0.0s\n",
      "[CV] END ...............var_smoothing=4.3287612810830526e-08; total time=   0.0s\n",
      "[CV] END ...............var_smoothing=4.3287612810830526e-08; total time=   0.0s\n",
      "[CV] END ...............var_smoothing=4.3287612810830526e-08; total time=   0.0s\n",
      "[CV] END ...............var_smoothing=4.3287612810830526e-08; total time=   0.0s\n",
      "[CV] END ...............var_smoothing=4.3287612810830526e-08; total time=   0.0s\n",
      "[CV] END ...............var_smoothing=4.3287612810830526e-08; total time=   0.0s\n",
      "[CV] END ...............var_smoothing=4.3287612810830526e-08; total time=   0.0s\n",
      "[CV] END ...............var_smoothing=4.3287612810830526e-08; total time=   0.0s\n",
      "[CV] END ...............var_smoothing=3.5111917342151277e-08; total time=   0.0s\n",
      "[CV] END ...............var_smoothing=3.5111917342151277e-08; total time=   0.0s\n",
      "[CV] END ...............var_smoothing=3.5111917342151277e-08; total time=   0.0s\n",
      "[CV] END ...............var_smoothing=3.5111917342151277e-08; total time=   0.0s\n",
      "[CV] END ...............var_smoothing=3.5111917342151277e-08; total time=   0.0s\n",
      "[CV] END ...............var_smoothing=3.5111917342151277e-08; total time=   0.0s\n",
      "[CV] END ...............var_smoothing=3.5111917342151277e-08; total time=   0.0s\n",
      "[CV] END ...............var_smoothing=3.5111917342151277e-08; total time=   0.0s\n",
      "[CV] END ...............var_smoothing=3.5111917342151277e-08; total time=   0.0s\n",
      "[CV] END ...............var_smoothing=3.5111917342151277e-08; total time=   0.0s\n",
      "[CV] END ................var_smoothing=2.848035868435799e-08; total time=   0.0s\n",
      "[CV] END ................var_smoothing=2.848035868435799e-08; total time=   0.0s\n",
      "[CV] END ................var_smoothing=2.848035868435799e-08; total time=   0.0s\n",
      "[CV] END ................var_smoothing=2.848035868435799e-08; total time=   0.0s\n",
      "[CV] END ................var_smoothing=2.848035868435799e-08; total time=   0.0s\n",
      "[CV] END ................var_smoothing=2.848035868435799e-08; total time=   0.0s\n",
      "[CV] END ................var_smoothing=2.848035868435799e-08; total time=   0.0s\n",
      "[CV] END ................var_smoothing=2.848035868435799e-08; total time=   0.0s\n",
      "[CV] END ................var_smoothing=2.848035868435799e-08; total time=   0.0s\n",
      "[CV] END ................var_smoothing=2.848035868435799e-08; total time=   0.0s\n",
      "[CV] END ................var_smoothing=2.310129700083158e-08; total time=   0.0s\n",
      "[CV] END ................var_smoothing=2.310129700083158e-08; total time=   0.0s\n",
      "[CV] END ................var_smoothing=2.310129700083158e-08; total time=   0.0s\n",
      "[CV] END ................var_smoothing=2.310129700083158e-08; total time=   0.0s\n",
      "[CV] END ................var_smoothing=2.310129700083158e-08; total time=   0.0s\n",
      "[CV] END ................var_smoothing=2.310129700083158e-08; total time=   0.0s\n",
      "[CV] END ................var_smoothing=2.310129700083158e-08; total time=   0.0s\n",
      "[CV] END ................var_smoothing=2.310129700083158e-08; total time=   0.0s\n",
      "[CV] END ................var_smoothing=2.310129700083158e-08; total time=   0.0s\n",
      "[CV] END ................var_smoothing=2.310129700083158e-08; total time=   0.0s\n",
      "[CV] END ................var_smoothing=1.873817422860383e-08; total time=   0.0s\n",
      "[CV] END ................var_smoothing=1.873817422860383e-08; total time=   0.0s\n",
      "[CV] END ................var_smoothing=1.873817422860383e-08; total time=   0.0s\n",
      "[CV] END ................var_smoothing=1.873817422860383e-08; total time=   0.0s\n",
      "[CV] END ................var_smoothing=1.873817422860383e-08; total time=   0.0s\n",
      "[CV] END ................var_smoothing=1.873817422860383e-08; total time=   0.0s\n"
     ]
    },
    {
     "name": "stdout",
     "output_type": "stream",
     "text": [
      "[CV] END ................var_smoothing=1.873817422860383e-08; total time=   0.0s\n",
      "[CV] END ................var_smoothing=1.873817422860383e-08; total time=   0.0s\n",
      "[CV] END ................var_smoothing=1.873817422860383e-08; total time=   0.0s\n",
      "[CV] END ................var_smoothing=1.873817422860383e-08; total time=   0.0s\n",
      "[CV] END ................var_smoothing=1.519911082952933e-08; total time=   0.0s\n",
      "[CV] END ................var_smoothing=1.519911082952933e-08; total time=   0.0s\n",
      "[CV] END ................var_smoothing=1.519911082952933e-08; total time=   0.0s\n",
      "[CV] END ................var_smoothing=1.519911082952933e-08; total time=   0.0s\n",
      "[CV] END ................var_smoothing=1.519911082952933e-08; total time=   0.0s\n",
      "[CV] END ................var_smoothing=1.519911082952933e-08; total time=   0.0s\n",
      "[CV] END ................var_smoothing=1.519911082952933e-08; total time=   0.0s\n",
      "[CV] END ................var_smoothing=1.519911082952933e-08; total time=   0.0s\n",
      "[CV] END ................var_smoothing=1.519911082952933e-08; total time=   0.0s\n",
      "[CV] END ................var_smoothing=1.519911082952933e-08; total time=   0.0s\n",
      "[CV] END ................var_smoothing=1.232846739442066e-08; total time=   0.0s\n",
      "[CV] END ................var_smoothing=1.232846739442066e-08; total time=   0.0s\n",
      "[CV] END ................var_smoothing=1.232846739442066e-08; total time=   0.0s\n",
      "[CV] END ................var_smoothing=1.232846739442066e-08; total time=   0.0s\n",
      "[CV] END ................var_smoothing=1.232846739442066e-08; total time=   0.0s\n",
      "[CV] END ................var_smoothing=1.232846739442066e-08; total time=   0.0s\n",
      "[CV] END ................var_smoothing=1.232846739442066e-08; total time=   0.0s\n",
      "[CV] END ................var_smoothing=1.232846739442066e-08; total time=   0.0s\n",
      "[CV] END ................var_smoothing=1.232846739442066e-08; total time=   0.0s\n",
      "[CV] END ................var_smoothing=1.232846739442066e-08; total time=   0.0s\n",
      "[CV] END ................................var_smoothing=1e-08; total time=   0.0s\n",
      "[CV] END ................................var_smoothing=1e-08; total time=   0.0s\n",
      "[CV] END ................................var_smoothing=1e-08; total time=   0.0s\n",
      "[CV] END ................................var_smoothing=1e-08; total time=   0.0s\n",
      "[CV] END ................................var_smoothing=1e-08; total time=   0.0s\n",
      "[CV] END ................................var_smoothing=1e-08; total time=   0.0s\n",
      "[CV] END ................................var_smoothing=1e-08; total time=   0.0s\n",
      "[CV] END ................................var_smoothing=1e-08; total time=   0.0s\n",
      "[CV] END ................................var_smoothing=1e-08; total time=   0.0s\n",
      "[CV] END ................................var_smoothing=1e-08; total time=   0.0s\n",
      "[CV] END ................var_smoothing=8.111308307896856e-09; total time=   0.0s\n",
      "[CV] END ................var_smoothing=8.111308307896856e-09; total time=   0.0s\n",
      "[CV] END ................var_smoothing=8.111308307896856e-09; total time=   0.0s\n",
      "[CV] END ................var_smoothing=8.111308307896856e-09; total time=   0.0s\n",
      "[CV] END ................var_smoothing=8.111308307896856e-09; total time=   0.0s\n",
      "[CV] END ................var_smoothing=8.111308307896856e-09; total time=   0.0s\n",
      "[CV] END ................var_smoothing=8.111308307896856e-09; total time=   0.0s\n",
      "[CV] END ................var_smoothing=8.111308307896856e-09; total time=   0.0s\n",
      "[CV] END ................var_smoothing=8.111308307896856e-09; total time=   0.0s\n",
      "[CV] END ................var_smoothing=8.111308307896856e-09; total time=   0.0s\n",
      "[CV] END ................var_smoothing=6.579332246575682e-09; total time=   0.0s\n",
      "[CV] END ................var_smoothing=6.579332246575682e-09; total time=   0.0s\n",
      "[CV] END ................var_smoothing=6.579332246575682e-09; total time=   0.0s\n",
      "[CV] END ................var_smoothing=6.579332246575682e-09; total time=   0.0s\n",
      "[CV] END ................var_smoothing=6.579332246575682e-09; total time=   0.0s\n",
      "[CV] END ................var_smoothing=6.579332246575682e-09; total time=   0.0s\n",
      "[CV] END ................var_smoothing=6.579332246575682e-09; total time=   0.0s\n",
      "[CV] END ................var_smoothing=6.579332246575682e-09; total time=   0.0s\n",
      "[CV] END ................var_smoothing=6.579332246575682e-09; total time=   0.0s\n",
      "[CV] END ................var_smoothing=6.579332246575682e-09; total time=   0.0s\n",
      "[CV] END ................var_smoothing=5.336699231206302e-09; total time=   0.0s\n",
      "[CV] END ................var_smoothing=5.336699231206302e-09; total time=   0.0s\n",
      "[CV] END ................var_smoothing=5.336699231206302e-09; total time=   0.0s\n",
      "[CV] END ................var_smoothing=5.336699231206302e-09; total time=   0.0s\n",
      "[CV] END ................var_smoothing=5.336699231206302e-09; total time=   0.0s\n",
      "[CV] END ................var_smoothing=5.336699231206302e-09; total time=   0.0s\n",
      "[CV] END ................var_smoothing=5.336699231206302e-09; total time=   0.0s\n",
      "[CV] END ................var_smoothing=5.336699231206302e-09; total time=   0.0s\n",
      "[CV] END ................var_smoothing=5.336699231206302e-09; total time=   0.0s\n",
      "[CV] END ................var_smoothing=5.336699231206302e-09; total time=   0.0s\n",
      "[CV] END ................var_smoothing=4.328761281083061e-09; total time=   0.0s\n",
      "[CV] END ................var_smoothing=4.328761281083061e-09; total time=   0.0s\n",
      "[CV] END ................var_smoothing=4.328761281083061e-09; total time=   0.0s\n",
      "[CV] END ................var_smoothing=4.328761281083061e-09; total time=   0.0s\n",
      "[CV] END ................var_smoothing=4.328761281083061e-09; total time=   0.0s\n",
      "[CV] END ................var_smoothing=4.328761281083061e-09; total time=   0.0s\n",
      "[CV] END ................var_smoothing=4.328761281083061e-09; total time=   0.0s\n",
      "[CV] END ................var_smoothing=4.328761281083061e-09; total time=   0.0s\n",
      "[CV] END ................var_smoothing=4.328761281083061e-09; total time=   0.0s\n",
      "[CV] END ................var_smoothing=4.328761281083061e-09; total time=   0.0s\n",
      "[CV] END ...............var_smoothing=3.5111917342151273e-09; total time=   0.0s\n",
      "[CV] END ...............var_smoothing=3.5111917342151273e-09; total time=   0.0s\n",
      "[CV] END ...............var_smoothing=3.5111917342151273e-09; total time=   0.0s\n",
      "[CV] END ...............var_smoothing=3.5111917342151273e-09; total time=   0.0s\n",
      "[CV] END ...............var_smoothing=3.5111917342151273e-09; total time=   0.0s\n",
      "[CV] END ...............var_smoothing=3.5111917342151273e-09; total time=   0.0s\n",
      "[CV] END ...............var_smoothing=3.5111917342151273e-09; total time=   0.0s\n",
      "[CV] END ...............var_smoothing=3.5111917342151273e-09; total time=   0.0s\n",
      "[CV] END ...............var_smoothing=3.5111917342151273e-09; total time=   0.0s\n",
      "[CV] END ...............var_smoothing=3.5111917342151273e-09; total time=   0.0s\n",
      "[CV] END ................var_smoothing=2.848035868435805e-09; total time=   0.0s\n",
      "[CV] END ................var_smoothing=2.848035868435805e-09; total time=   0.0s\n",
      "[CV] END ................var_smoothing=2.848035868435805e-09; total time=   0.0s\n",
      "[CV] END ................var_smoothing=2.848035868435805e-09; total time=   0.0s\n",
      "[CV] END ................var_smoothing=2.848035868435805e-09; total time=   0.0s\n",
      "[CV] END ................var_smoothing=2.848035868435805e-09; total time=   0.0s\n",
      "[CV] END ................var_smoothing=2.848035868435805e-09; total time=   0.0s\n",
      "[CV] END ................var_smoothing=2.848035868435805e-09; total time=   0.0s\n",
      "[CV] END ................var_smoothing=2.848035868435805e-09; total time=   0.0s\n",
      "[CV] END ................var_smoothing=2.848035868435805e-09; total time=   0.0s\n",
      "[CV] END ................var_smoothing=2.310129700083158e-09; total time=   0.0s\n",
      "[CV] END ................var_smoothing=2.310129700083158e-09; total time=   0.0s\n",
      "[CV] END ................var_smoothing=2.310129700083158e-09; total time=   0.0s\n",
      "[CV] END ................var_smoothing=2.310129700083158e-09; total time=   0.0s\n",
      "[CV] END ................var_smoothing=2.310129700083158e-09; total time=   0.0s\n",
      "[CV] END ................var_smoothing=2.310129700083158e-09; total time=   0.0s\n",
      "[CV] END ................var_smoothing=2.310129700083158e-09; total time=   0.0s\n",
      "[CV] END ................var_smoothing=2.310129700083158e-09; total time=   0.0s\n",
      "[CV] END ................var_smoothing=2.310129700083158e-09; total time=   0.0s\n",
      "[CV] END ................var_smoothing=2.310129700083158e-09; total time=   0.0s\n",
      "[CV] END ................var_smoothing=1.873817422860387e-09; total time=   0.0s\n",
      "[CV] END ................var_smoothing=1.873817422860387e-09; total time=   0.0s\n",
      "[CV] END ................var_smoothing=1.873817422860387e-09; total time=   0.0s\n",
      "[CV] END ................var_smoothing=1.873817422860387e-09; total time=   0.0s\n",
      "[CV] END ................var_smoothing=1.873817422860387e-09; total time=   0.0s\n",
      "[CV] END ................var_smoothing=1.873817422860387e-09; total time=   0.0s\n",
      "[CV] END ................var_smoothing=1.873817422860387e-09; total time=   0.0s\n",
      "[CV] END ................var_smoothing=1.873817422860387e-09; total time=   0.0s\n",
      "[CV] END ................var_smoothing=1.873817422860387e-09; total time=   0.0s\n",
      "[CV] END ................var_smoothing=1.873817422860387e-09; total time=   0.0s\n",
      "[CV] END ................var_smoothing=1.519911082952933e-09; total time=   0.0s\n",
      "[CV] END ................var_smoothing=1.519911082952933e-09; total time=   0.0s\n",
      "[CV] END ................var_smoothing=1.519911082952933e-09; total time=   0.0s\n",
      "[CV] END ................var_smoothing=1.519911082952933e-09; total time=   0.0s\n",
      "[CV] END ................var_smoothing=1.519911082952933e-09; total time=   0.0s\n",
      "[CV] END ................var_smoothing=1.519911082952933e-09; total time=   0.0s\n",
      "[CV] END ................var_smoothing=1.519911082952933e-09; total time=   0.0s\n",
      "[CV] END ................var_smoothing=1.519911082952933e-09; total time=   0.0s\n",
      "[CV] END ................var_smoothing=1.519911082952933e-09; total time=   0.0s\n",
      "[CV] END ................var_smoothing=1.519911082952933e-09; total time=   0.0s\n",
      "[CV] END ...............var_smoothing=1.2328467394420635e-09; total time=   0.0s\n",
      "[CV] END ...............var_smoothing=1.2328467394420635e-09; total time=   0.0s\n",
      "[CV] END ...............var_smoothing=1.2328467394420635e-09; total time=   0.0s\n",
      "[CV] END ...............var_smoothing=1.2328467394420635e-09; total time=   0.0s\n",
      "[CV] END ...............var_smoothing=1.2328467394420635e-09; total time=   0.0s\n",
      "[CV] END ...............var_smoothing=1.2328467394420635e-09; total time=   0.0s\n",
      "[CV] END ...............var_smoothing=1.2328467394420635e-09; total time=   0.0s\n",
      "[CV] END ...............var_smoothing=1.2328467394420635e-09; total time=   0.0s\n",
      "[CV] END ...............var_smoothing=1.2328467394420635e-09; total time=   0.0s\n",
      "[CV] END ...............var_smoothing=1.2328467394420635e-09; total time=   0.0s\n",
      "[CV] END ................................var_smoothing=1e-09; total time=   0.0s\n",
      "[CV] END ................................var_smoothing=1e-09; total time=   0.0s\n",
      "[CV] END ................................var_smoothing=1e-09; total time=   0.0s\n",
      "[CV] END ................................var_smoothing=1e-09; total time=   0.0s\n",
      "[CV] END ................................var_smoothing=1e-09; total time=   0.0s\n",
      "[CV] END ................................var_smoothing=1e-09; total time=   0.0s\n",
      "[CV] END ................................var_smoothing=1e-09; total time=   0.0s\n",
      "[CV] END ................................var_smoothing=1e-09; total time=   0.0s\n",
      "[CV] END ................................var_smoothing=1e-09; total time=   0.0s\n",
      "[CV] END ................................var_smoothing=1e-09; total time=   0.0s\n"
     ]
    },
    {
     "data": {
      "text/plain": [
       "GridSearchCV(cv=10, estimator=GaussianNB(),\n",
       "             param_grid={'var_smoothing': array([1.00000000e+00, 8.11130831e-01, 6.57933225e-01, 5.33669923e-01,\n",
       "       4.32876128e-01, 3.51119173e-01, 2.84803587e-01, 2.31012970e-01,\n",
       "       1.87381742e-01, 1.51991108e-01, 1.23284674e-01, 1.00000000e-01,\n",
       "       8.11130831e-02, 6.57933225e-02, 5.33669923e-02, 4.32876128e-02,\n",
       "       3.51119173e-02, 2.84803587e-02, 2.3...\n",
       "       1.23284674e-07, 1.00000000e-07, 8.11130831e-08, 6.57933225e-08,\n",
       "       5.33669923e-08, 4.32876128e-08, 3.51119173e-08, 2.84803587e-08,\n",
       "       2.31012970e-08, 1.87381742e-08, 1.51991108e-08, 1.23284674e-08,\n",
       "       1.00000000e-08, 8.11130831e-09, 6.57933225e-09, 5.33669923e-09,\n",
       "       4.32876128e-09, 3.51119173e-09, 2.84803587e-09, 2.31012970e-09,\n",
       "       1.87381742e-09, 1.51991108e-09, 1.23284674e-09, 1.00000000e-09])},\n",
       "             verbose=2)"
      ]
     },
     "execution_count": 61,
     "metadata": {},
     "output_type": "execute_result"
    }
   ],
   "source": [
    "from sklearn.model_selection import GridSearchCV\n",
    "param_grid = {\n",
    "    'var_smoothing': np.logspace(0,-9, num=100)\n",
    "}\n",
    "\n",
    "nb = GaussianNB()\n",
    "grid_search=GridSearchCV(estimator=nb,param_grid=param_grid,cv=10,verbose=2)\n",
    "grid_search.fit(X_train,y_train)"
   ]
  },
  {
   "cell_type": "code",
   "execution_count": 62,
   "id": "7a4c2580",
   "metadata": {},
   "outputs": [
    {
     "name": "stdout",
     "output_type": "stream",
     "text": [
      "GaussianNB(var_smoothing=0.8111308307896871)\n"
     ]
    },
    {
     "data": {
      "text/plain": [
       "{'var_smoothing': 0.8111308307896871}"
      ]
     },
     "execution_count": 62,
     "metadata": {},
     "output_type": "execute_result"
    }
   ],
   "source": [
    "best_grid = grid_search.best_estimator_\n",
    "print(best_grid)\n",
    "grid_search.best_params_"
   ]
  },
  {
   "cell_type": "code",
   "execution_count": 63,
   "id": "53043013",
   "metadata": {},
   "outputs": [
    {
     "name": "stdout",
     "output_type": "stream",
     "text": [
      "KNN Training Result\n",
      "[[  11  161]\n",
      " [  19 1007]]\n",
      "Auc Score 0.7308581531347749\n",
      "Accuracy Score 0.8497495826377296\n",
      "Classification report:               precision    recall  f1-score   support\n",
      "\n",
      "         0.0       0.37      0.06      0.11       172\n",
      "         1.0       0.86      0.98      0.92      1026\n",
      "\n",
      "    accuracy                           0.85      1198\n",
      "   macro avg       0.61      0.52      0.51      1198\n",
      "weighted avg       0.79      0.85      0.80      1198\n",
      "\n",
      "KNN Testing Result\n",
      "[[  2  35]\n",
      " [  3 259]]\n",
      "Auc Score 0.7391169795749949\n",
      "Accuracy Score 0.8729096989966555\n",
      "Classification report:               precision    recall  f1-score   support\n",
      "\n",
      "         0.0       0.40      0.05      0.10        37\n",
      "         1.0       0.88      0.99      0.93       262\n",
      "\n",
      "    accuracy                           0.87       299\n",
      "   macro avg       0.64      0.52      0.51       299\n",
      "weighted avg       0.82      0.87      0.83       299\n",
      "\n"
     ]
    }
   ],
   "source": [
    "from sklearn.metrics import roc_curve, roc_auc_score\n",
    "y_train_pred = best_grid.predict(X_train)\n",
    "y_pred=best_grid.predict(X_test)\n",
    "print(\"KNN Training Result\")\n",
    "print(confusion_matrix(y_train,y_train_pred))\n",
    "print(\"Auc Score {}\".format(roc_auc_score(y_train, best_grid.predict_proba(X_train)[:,1])))\n",
    "print(\"Accuracy Score {}\".format(accuracy_score(y_train,y_train_pred)))\n",
    "print(\"Classification report: {}\".format(classification_report(y_train,y_train_pred)))\n",
    "\n",
    "print(\"KNN Testing Result\")\n",
    "print(confusion_matrix(y_test,y_pred))\n",
    "print(\"Auc Score {}\".format(roc_auc_score(y_test, best_grid.predict_proba(X_test)[:,1])))\n",
    "print(\"Accuracy Score {}\".format(accuracy_score(y_test,y_pred)))\n",
    "print(\"Classification report: {}\".format(classification_report(y_test,y_pred)))"
   ]
  },
  {
   "cell_type": "code",
   "execution_count": 64,
   "id": "831db0b8",
   "metadata": {},
   "outputs": [],
   "source": [
    "from sklearn.model_selection import KFold\n",
    "from sklearn.metrics import roc_curve, roc_auc_score\n",
    "kf = KFold(n_splits=4)\n",
    "auc_train = []\n",
    "auc_test = []\n",
    "for train_index, test_index in kf.split(Z): \n",
    "    X_train, X_test = Z[train_index], Z[test_index]\n",
    "    y_train, y_test = Y[train_index], Y[test_index]\n",
    "    model = best_grid\n",
    "    model.fit(X_train, y_train)\n",
    "    y_train_pred = model.predict(X_train)\n",
    "    y_test_pred = model.predict(X_test)\n",
    "    auc_train.append(roc_auc_score(y_train, model.predict_proba(X_train)[:,1]))\n",
    "    auc_test.append(roc_auc_score(y_test, model.predict_proba(X_test)[:,1]))"
   ]
  },
  {
   "cell_type": "code",
   "execution_count": 65,
   "id": "d04752e3",
   "metadata": {},
   "outputs": [
    {
     "data": {
      "image/png": "[encoded data removed]",
      "text/plain": [
       "<Figure size 640x480 with 1 Axes>"
      ]
     },
     "metadata": {},
     "output_type": "display_data"
    }
   ],
   "source": [
    "folds = range(1, kf.get_n_splits() + 1)\n",
    "plt.plot(folds, auc_train, 'o-', color='green', label='train')\n",
    "plt.plot(folds, auc_test, 'o-', color='red', label='test')\n",
    "plt.legend()\n",
    "plt.grid()\n",
    "plt.xlabel('Number of fold')\n",
    "plt.ylabel('Area Under the Curve')\n",
    "plt.show()"
   ]
  },
  {
   "cell_type": "code",
   "execution_count": 66,
   "id": "16be7388",
   "metadata": {},
   "outputs": [],
   "source": [
    "from sklearn import svm\n",
    "model = svm.SVC(kernel='linear', C=0.01, probability = True)"
   ]
  },
  {
   "cell_type": "code",
   "execution_count": 67,
   "id": "f4dac653",
   "metadata": {},
   "outputs": [
    {
     "name": "stdout",
     "output_type": "stream",
     "text": [
      "Logistic Regression Algorithm in training\n",
      "              precision    recall  f1-score   support\n",
      "\n",
      "         0.0       1.00      0.11      0.19       139\n",
      "         1.0       0.88      1.00      0.94       908\n",
      "\n",
      "    accuracy                           0.88      1047\n",
      "   macro avg       0.94      0.55      0.57      1047\n",
      "weighted avg       0.90      0.88      0.84      1047\n",
      "\n",
      "[[ 15 124]\n",
      " [  0 908]]\n",
      "ACC:  0.8815663801337154\n",
      "AUC:  0.7633663993915001\n",
      "Decision Tree Algorithm\n",
      "              precision    recall  f1-score   support\n",
      "\n",
      "         0.0       0.50      0.06      0.10        70\n",
      "         1.0       0.85      0.99      0.91       380\n",
      "\n",
      "    accuracy                           0.84       450\n",
      "   macro avg       0.68      0.52      0.51       450\n",
      "weighted avg       0.80      0.84      0.79       450\n",
      "\n",
      "[[  4  66]\n",
      " [  4 376]]\n",
      "ACC:  0.8444444444444444\n",
      "AUC:  0.6762218045112782\n"
     ]
    }
   ],
   "source": [
    "from sklearn.model_selection import train_test_split\n",
    "from sklearn.metrics import confusion_matrix, classification_report, accuracy_score\n",
    "from sklearn.metrics import roc_curve, roc_auc_score\n",
    "\n",
    "X_train, X_test, y_train, y_test = train_test_split(Z, Y, test_size = 0.3, random_state = 0)\n",
    "\n",
    "model.fit(X_train, y_train)\n",
    "\n",
    "y_predict_training = model.predict(X_train)\n",
    "y_pred = model.predict(X_test)\n",
    "#summery of training accuracy by the classifier\n",
    "print(\"Logistic Regression Algorithm in training\")\n",
    "print(classification_report(y_train, y_predict_training))\n",
    "print(confusion_matrix(y_train, y_predict_training))\n",
    "print(\"ACC: \",accuracy_score(y_train, y_predict_training))\n",
    "print(\"AUC: \",roc_auc_score(y_train, model.predict_proba(X_train)[:,1]))\n",
    "\n",
    "#Summary of the predictions made by the classifier\n",
    "print(\"Decision Tree Algorithm\")\n",
    "print(classification_report(y_test, y_pred))\n",
    "print(confusion_matrix(y_test, y_pred))\n",
    "#Accuracy score\n",
    "print(\"ACC: \",accuracy_score(y_pred,y_test))\n",
    "print(\"AUC: \",roc_auc_score(y_test, model.predict_proba(X_test)[:,1]))"
   ]
  },
  {
   "cell_type": "code",
   "execution_count": 70,
   "id": "335c154e",
   "metadata": {},
   "outputs": [],
   "source": [
    "from sklearn.model_selection import KFold\n",
    "from sklearn.metrics import roc_curve, roc_auc_score\n",
    "kf = KFold(n_splits=4)\n",
    "auc_train = []\n",
    "auc_test = []\n",
    "for train_index, test_index in kf.split(Z): \n",
    "    X_train, X_test = Z[train_index], Z[test_index]\n",
    "    y_train, y_test = Y[train_index], Y[test_index]\n",
    "    model = svm.SVC(kernel='linear', C=0.01, probability = True)\n",
    "    model.fit(X_train, y_train)\n",
    "    y_train_pred = model.predict(X_train)\n",
    "    y_test_pred = model.predict(X_test)\n",
    "    auc_train.append(roc_auc_score(y_train, model.predict_proba(X_train)[:,1]))\n",
    "    auc_test.append(roc_auc_score(y_test, model.predict_proba(X_test)[:,1]))"
   ]
  },
  {
   "cell_type": "code",
   "execution_count": 71,
   "id": "a31e5293",
   "metadata": {},
   "outputs": [
    {
     "data": {
      "image/png": "[encoded data removed]",
      "text/plain": [
       "<Figure size 640x480 with 1 Axes>"
      ]
     },
     "metadata": {},
     "output_type": "display_data"
    }
   ],
   "source": [
    "folds = range(1, kf.get_n_splits() + 1)\n",
    "plt.plot(folds, auc_train, 'o-', color='green', label='train')\n",
    "plt.plot(folds, auc_test, 'o-', color='red', label='test')\n",
    "plt.legend()\n",
    "plt.grid()\n",
    "plt.xlabel('Number of fold')\n",
    "plt.ylabel('Area Under the Curve')\n",
    "plt.show()"
   ]
  },
  {
   "cell_type": "code",
   "execution_count": 72,
   "id": "59d956ca",
   "metadata": {},
   "outputs": [
    {
     "name": "stdout",
     "output_type": "stream",
     "text": [
      "Fitting 10 folds for each of 25 candidates, totalling 250 fits\n",
      "[CV] END .........................C=0.1, gamma=1, kernel=rbf; total time=   1.4s\n",
      "[CV] END .........................C=0.1, gamma=1, kernel=rbf; total time=   1.4s\n",
      "[CV] END .........................C=0.1, gamma=1, kernel=rbf; total time=   1.4s\n",
      "[CV] END .........................C=0.1, gamma=1, kernel=rbf; total time=   1.6s\n",
      "[CV] END .........................C=0.1, gamma=1, kernel=rbf; total time=   2.3s\n",
      "[CV] END .........................C=0.1, gamma=1, kernel=rbf; total time=   1.9s\n",
      "[CV] END .........................C=0.1, gamma=1, kernel=rbf; total time=   1.7s\n",
      "[CV] END .........................C=0.1, gamma=1, kernel=rbf; total time=   2.0s\n",
      "[CV] END .........................C=0.1, gamma=1, kernel=rbf; total time=   1.8s\n",
      "[CV] END .........................C=0.1, gamma=1, kernel=rbf; total time=   1.5s\n",
      "[CV] END .......................C=0.1, gamma=0.1, kernel=rbf; total time=   1.4s\n",
      "[CV] END .......................C=0.1, gamma=0.1, kernel=rbf; total time=   2.2s\n",
      "[CV] END .......................C=0.1, gamma=0.1, kernel=rbf; total time=   1.9s\n",
      "[CV] END .......................C=0.1, gamma=0.1, kernel=rbf; total time=   1.5s\n",
      "[CV] END .......................C=0.1, gamma=0.1, kernel=rbf; total time=   2.3s\n",
      "[CV] END .......................C=0.1, gamma=0.1, kernel=rbf; total time=   1.9s\n",
      "[CV] END .......................C=0.1, gamma=0.1, kernel=rbf; total time=   1.8s\n",
      "[CV] END .......................C=0.1, gamma=0.1, kernel=rbf; total time=   1.9s\n",
      "[CV] END .......................C=0.1, gamma=0.1, kernel=rbf; total time=   1.8s\n",
      "[CV] END .......................C=0.1, gamma=0.1, kernel=rbf; total time=   1.7s\n",
      "[CV] END ......................C=0.1, gamma=0.01, kernel=rbf; total time=   1.3s\n",
      "[CV] END ......................C=0.1, gamma=0.01, kernel=rbf; total time=   1.1s\n",
      "[CV] END ......................C=0.1, gamma=0.01, kernel=rbf; total time=   1.0s\n",
      "[CV] END ......................C=0.1, gamma=0.01, kernel=rbf; total time=   1.1s\n",
      "[CV] END ......................C=0.1, gamma=0.01, kernel=rbf; total time=   1.2s\n",
      "[CV] END ......................C=0.1, gamma=0.01, kernel=rbf; total time=   1.1s\n",
      "[CV] END ......................C=0.1, gamma=0.01, kernel=rbf; total time=   1.1s\n",
      "[CV] END ......................C=0.1, gamma=0.01, kernel=rbf; total time=   1.1s\n",
      "[CV] END ......................C=0.1, gamma=0.01, kernel=rbf; total time=   1.2s\n",
      "[CV] END ......................C=0.1, gamma=0.01, kernel=rbf; total time=   1.1s\n",
      "[CV] END .....................C=0.1, gamma=0.001, kernel=rbf; total time=   0.6s\n",
      "[CV] END .....................C=0.1, gamma=0.001, kernel=rbf; total time=   0.7s\n",
      "[CV] END .....................C=0.1, gamma=0.001, kernel=rbf; total time=   0.5s\n",
      "[CV] END .....................C=0.1, gamma=0.001, kernel=rbf; total time=   0.6s\n",
      "[CV] END .....................C=0.1, gamma=0.001, kernel=rbf; total time=   0.5s\n",
      "[CV] END .....................C=0.1, gamma=0.001, kernel=rbf; total time=   0.6s\n",
      "[CV] END .....................C=0.1, gamma=0.001, kernel=rbf; total time=   0.6s\n",
      "[CV] END .....................C=0.1, gamma=0.001, kernel=rbf; total time=   0.6s\n",
      "[CV] END .....................C=0.1, gamma=0.001, kernel=rbf; total time=   0.6s\n",
      "[CV] END .....................C=0.1, gamma=0.001, kernel=rbf; total time=   0.6s\n",
      "[CV] END ....................C=0.1, gamma=0.0001, kernel=rbf; total time=   0.4s\n",
      "[CV] END ....................C=0.1, gamma=0.0001, kernel=rbf; total time=   0.5s\n",
      "[CV] END ....................C=0.1, gamma=0.0001, kernel=rbf; total time=   0.5s\n",
      "[CV] END ....................C=0.1, gamma=0.0001, kernel=rbf; total time=   0.6s\n",
      "[CV] END ....................C=0.1, gamma=0.0001, kernel=rbf; total time=   0.6s\n",
      "[CV] END ....................C=0.1, gamma=0.0001, kernel=rbf; total time=   0.4s\n",
      "[CV] END ....................C=0.1, gamma=0.0001, kernel=rbf; total time=   0.4s\n",
      "[CV] END ....................C=0.1, gamma=0.0001, kernel=rbf; total time=   0.7s\n",
      "[CV] END ....................C=0.1, gamma=0.0001, kernel=rbf; total time=   0.7s\n",
      "[CV] END ....................C=0.1, gamma=0.0001, kernel=rbf; total time=   0.4s\n",
      "[CV] END ...........................C=1, gamma=1, kernel=rbf; total time=   1.8s\n",
      "[CV] END ...........................C=1, gamma=1, kernel=rbf; total time=   1.9s\n",
      "[CV] END ...........................C=1, gamma=1, kernel=rbf; total time=   1.9s\n",
      "[CV] END ...........................C=1, gamma=1, kernel=rbf; total time=   2.3s\n",
      "[CV] END ...........................C=1, gamma=1, kernel=rbf; total time=   2.5s\n",
      "[CV] END ...........................C=1, gamma=1, kernel=rbf; total time=   2.1s\n",
      "[CV] END ...........................C=1, gamma=1, kernel=rbf; total time=   2.9s\n",
      "[CV] END ...........................C=1, gamma=1, kernel=rbf; total time=   1.8s\n",
      "[CV] END ...........................C=1, gamma=1, kernel=rbf; total time=   1.5s\n",
      "[CV] END ...........................C=1, gamma=1, kernel=rbf; total time=   1.7s\n",
      "[CV] END .........................C=1, gamma=0.1, kernel=rbf; total time=   2.1s\n",
      "[CV] END .........................C=1, gamma=0.1, kernel=rbf; total time=   1.5s\n",
      "[CV] END .........................C=1, gamma=0.1, kernel=rbf; total time=   1.5s\n",
      "[CV] END .........................C=1, gamma=0.1, kernel=rbf; total time=   1.2s\n",
      "[CV] END .........................C=1, gamma=0.1, kernel=rbf; total time=   1.2s\n",
      "[CV] END .........................C=1, gamma=0.1, kernel=rbf; total time=   1.2s\n",
      "[CV] END .........................C=1, gamma=0.1, kernel=rbf; total time=   1.2s\n",
      "[CV] END .........................C=1, gamma=0.1, kernel=rbf; total time=   1.8s\n",
      "[CV] END .........................C=1, gamma=0.1, kernel=rbf; total time=   1.4s\n",
      "[CV] END .........................C=1, gamma=0.1, kernel=rbf; total time=   1.2s\n",
      "[CV] END ........................C=1, gamma=0.01, kernel=rbf; total time=   1.0s\n",
      "[CV] END ........................C=1, gamma=0.01, kernel=rbf; total time=   1.1s\n",
      "[CV] END ........................C=1, gamma=0.01, kernel=rbf; total time=   1.0s\n",
      "[CV] END ........................C=1, gamma=0.01, kernel=rbf; total time=   1.1s\n",
      "[CV] END ........................C=1, gamma=0.01, kernel=rbf; total time=   1.1s\n",
      "[CV] END ........................C=1, gamma=0.01, kernel=rbf; total time=   0.9s\n",
      "[CV] END ........................C=1, gamma=0.01, kernel=rbf; total time=   1.2s\n",
      "[CV] END ........................C=1, gamma=0.01, kernel=rbf; total time=   1.2s\n",
      "[CV] END ........................C=1, gamma=0.01, kernel=rbf; total time=   1.2s\n",
      "[CV] END ........................C=1, gamma=0.01, kernel=rbf; total time=   1.0s\n",
      "[CV] END .......................C=1, gamma=0.001, kernel=rbf; total time=   0.7s\n",
      "[CV] END .......................C=1, gamma=0.001, kernel=rbf; total time=   0.7s\n",
      "[CV] END .......................C=1, gamma=0.001, kernel=rbf; total time=   0.6s\n",
      "[CV] END .......................C=1, gamma=0.001, kernel=rbf; total time=   0.5s\n",
      "[CV] END .......................C=1, gamma=0.001, kernel=rbf; total time=   0.6s\n",
      "[CV] END .......................C=1, gamma=0.001, kernel=rbf; total time=   0.5s\n",
      "[CV] END .......................C=1, gamma=0.001, kernel=rbf; total time=   0.5s\n",
      "[CV] END .......................C=1, gamma=0.001, kernel=rbf; total time=   0.6s\n",
      "[CV] END .......................C=1, gamma=0.001, kernel=rbf; total time=   0.8s\n",
      "[CV] END .......................C=1, gamma=0.001, kernel=rbf; total time=   0.5s\n",
      "[CV] END ......................C=1, gamma=0.0001, kernel=rbf; total time=   0.4s\n",
      "[CV] END ......................C=1, gamma=0.0001, kernel=rbf; total time=   0.6s\n",
      "[CV] END ......................C=1, gamma=0.0001, kernel=rbf; total time=   0.5s\n",
      "[CV] END ......................C=1, gamma=0.0001, kernel=rbf; total time=   0.4s\n",
      "[CV] END ......................C=1, gamma=0.0001, kernel=rbf; total time=   0.4s\n",
      "[CV] END ......................C=1, gamma=0.0001, kernel=rbf; total time=   0.4s\n",
      "[CV] END ......................C=1, gamma=0.0001, kernel=rbf; total time=   0.6s\n",
      "[CV] END ......................C=1, gamma=0.0001, kernel=rbf; total time=   0.4s\n",
      "[CV] END ......................C=1, gamma=0.0001, kernel=rbf; total time=   0.3s\n",
      "[CV] END ......................C=1, gamma=0.0001, kernel=rbf; total time=   0.4s\n",
      "[CV] END ..........................C=10, gamma=1, kernel=rbf; total time=   1.3s\n"
     ]
    },
    {
     "name": "stdout",
     "output_type": "stream",
     "text": [
      "[CV] END ..........................C=10, gamma=1, kernel=rbf; total time=   1.3s\n",
      "[CV] END ..........................C=10, gamma=1, kernel=rbf; total time=   1.7s\n",
      "[CV] END ..........................C=10, gamma=1, kernel=rbf; total time=   1.3s\n",
      "[CV] END ..........................C=10, gamma=1, kernel=rbf; total time=   1.4s\n",
      "[CV] END ..........................C=10, gamma=1, kernel=rbf; total time=   1.3s\n",
      "[CV] END ..........................C=10, gamma=1, kernel=rbf; total time=   1.2s\n",
      "[CV] END ..........................C=10, gamma=1, kernel=rbf; total time=   1.3s\n",
      "[CV] END ..........................C=10, gamma=1, kernel=rbf; total time=   1.2s\n",
      "[CV] END ..........................C=10, gamma=1, kernel=rbf; total time=   1.3s\n",
      "[CV] END ........................C=10, gamma=0.1, kernel=rbf; total time=   1.1s\n",
      "[CV] END ........................C=10, gamma=0.1, kernel=rbf; total time=   1.4s\n",
      "[CV] END ........................C=10, gamma=0.1, kernel=rbf; total time=   1.4s\n",
      "[CV] END ........................C=10, gamma=0.1, kernel=rbf; total time=   1.7s\n",
      "[CV] END ........................C=10, gamma=0.1, kernel=rbf; total time=   1.4s\n",
      "[CV] END ........................C=10, gamma=0.1, kernel=rbf; total time=   1.4s\n",
      "[CV] END ........................C=10, gamma=0.1, kernel=rbf; total time=   1.3s\n",
      "[CV] END ........................C=10, gamma=0.1, kernel=rbf; total time=   1.4s\n",
      "[CV] END ........................C=10, gamma=0.1, kernel=rbf; total time=   1.4s\n",
      "[CV] END ........................C=10, gamma=0.1, kernel=rbf; total time=   1.5s\n",
      "[CV] END .......................C=10, gamma=0.01, kernel=rbf; total time=   1.4s\n",
      "[CV] END .......................C=10, gamma=0.01, kernel=rbf; total time=   1.2s\n",
      "[CV] END .......................C=10, gamma=0.01, kernel=rbf; total time=   1.1s\n",
      "[CV] END .......................C=10, gamma=0.01, kernel=rbf; total time=   1.1s\n",
      "[CV] END .......................C=10, gamma=0.01, kernel=rbf; total time=   1.2s\n",
      "[CV] END .......................C=10, gamma=0.01, kernel=rbf; total time=   1.1s\n",
      "[CV] END .......................C=10, gamma=0.01, kernel=rbf; total time=   1.0s\n",
      "[CV] END .......................C=10, gamma=0.01, kernel=rbf; total time=   1.1s\n",
      "[CV] END .......................C=10, gamma=0.01, kernel=rbf; total time=   1.1s\n",
      "[CV] END .......................C=10, gamma=0.01, kernel=rbf; total time=   1.1s\n",
      "[CV] END ......................C=10, gamma=0.001, kernel=rbf; total time=   0.8s\n",
      "[CV] END ......................C=10, gamma=0.001, kernel=rbf; total time=   0.7s\n",
      "[CV] END ......................C=10, gamma=0.001, kernel=rbf; total time=   0.7s\n",
      "[CV] END ......................C=10, gamma=0.001, kernel=rbf; total time=   0.6s\n",
      "[CV] END ......................C=10, gamma=0.001, kernel=rbf; total time=   0.6s\n",
      "[CV] END ......................C=10, gamma=0.001, kernel=rbf; total time=   0.6s\n",
      "[CV] END ......................C=10, gamma=0.001, kernel=rbf; total time=   0.6s\n",
      "[CV] END ......................C=10, gamma=0.001, kernel=rbf; total time=   0.7s\n",
      "[CV] END ......................C=10, gamma=0.001, kernel=rbf; total time=   0.9s\n",
      "[CV] END ......................C=10, gamma=0.001, kernel=rbf; total time=   0.7s\n",
      "[CV] END .....................C=10, gamma=0.0001, kernel=rbf; total time=   0.4s\n",
      "[CV] END .....................C=10, gamma=0.0001, kernel=rbf; total time=   0.5s\n",
      "[CV] END .....................C=10, gamma=0.0001, kernel=rbf; total time=   0.5s\n",
      "[CV] END .....................C=10, gamma=0.0001, kernel=rbf; total time=   0.5s\n",
      "[CV] END .....................C=10, gamma=0.0001, kernel=rbf; total time=   0.5s\n",
      "[CV] END .....................C=10, gamma=0.0001, kernel=rbf; total time=   0.5s\n",
      "[CV] END .....................C=10, gamma=0.0001, kernel=rbf; total time=   0.5s\n",
      "[CV] END .....................C=10, gamma=0.0001, kernel=rbf; total time=   0.4s\n",
      "[CV] END .....................C=10, gamma=0.0001, kernel=rbf; total time=   0.4s\n",
      "[CV] END .....................C=10, gamma=0.0001, kernel=rbf; total time=   0.4s\n",
      "[CV] END .........................C=100, gamma=1, kernel=rbf; total time=   1.5s\n",
      "[CV] END .........................C=100, gamma=1, kernel=rbf; total time=   1.7s\n",
      "[CV] END .........................C=100, gamma=1, kernel=rbf; total time=   1.5s\n",
      "[CV] END .........................C=100, gamma=1, kernel=rbf; total time=   1.4s\n",
      "[CV] END .........................C=100, gamma=1, kernel=rbf; total time=   1.3s\n",
      "[CV] END .........................C=100, gamma=1, kernel=rbf; total time=   1.5s\n",
      "[CV] END .........................C=100, gamma=1, kernel=rbf; total time=   1.5s\n",
      "[CV] END .........................C=100, gamma=1, kernel=rbf; total time=   1.3s\n",
      "[CV] END .........................C=100, gamma=1, kernel=rbf; total time=   1.3s\n",
      "[CV] END .........................C=100, gamma=1, kernel=rbf; total time=   1.7s\n",
      "[CV] END .......................C=100, gamma=0.1, kernel=rbf; total time=   1.3s\n",
      "[CV] END .......................C=100, gamma=0.1, kernel=rbf; total time=   1.2s\n",
      "[CV] END .......................C=100, gamma=0.1, kernel=rbf; total time=   1.3s\n",
      "[CV] END .......................C=100, gamma=0.1, kernel=rbf; total time=   1.5s\n",
      "[CV] END .......................C=100, gamma=0.1, kernel=rbf; total time=   1.4s\n",
      "[CV] END .......................C=100, gamma=0.1, kernel=rbf; total time=   1.6s\n",
      "[CV] END .......................C=100, gamma=0.1, kernel=rbf; total time=   1.2s\n",
      "[CV] END .......................C=100, gamma=0.1, kernel=rbf; total time=   1.4s\n",
      "[CV] END .......................C=100, gamma=0.1, kernel=rbf; total time=   1.3s\n",
      "[CV] END .......................C=100, gamma=0.1, kernel=rbf; total time=   1.3s\n",
      "[CV] END ......................C=100, gamma=0.01, kernel=rbf; total time=   1.0s\n",
      "[CV] END ......................C=100, gamma=0.01, kernel=rbf; total time=   0.9s\n",
      "[CV] END ......................C=100, gamma=0.01, kernel=rbf; total time=   0.9s\n",
      "[CV] END ......................C=100, gamma=0.01, kernel=rbf; total time=   1.0s\n",
      "[CV] END ......................C=100, gamma=0.01, kernel=rbf; total time=   1.0s\n",
      "[CV] END ......................C=100, gamma=0.01, kernel=rbf; total time=   1.0s\n",
      "[CV] END ......................C=100, gamma=0.01, kernel=rbf; total time=   0.9s\n",
      "[CV] END ......................C=100, gamma=0.01, kernel=rbf; total time=   0.9s\n",
      "[CV] END ......................C=100, gamma=0.01, kernel=rbf; total time=   0.9s\n",
      "[CV] END ......................C=100, gamma=0.01, kernel=rbf; total time=   0.9s\n",
      "[CV] END .....................C=100, gamma=0.001, kernel=rbf; total time=   0.7s\n",
      "[CV] END .....................C=100, gamma=0.001, kernel=rbf; total time=   0.7s\n",
      "[CV] END .....................C=100, gamma=0.001, kernel=rbf; total time=   0.8s\n",
      "[CV] END .....................C=100, gamma=0.001, kernel=rbf; total time=   0.8s\n",
      "[CV] END .....................C=100, gamma=0.001, kernel=rbf; total time=   0.8s\n",
      "[CV] END .....................C=100, gamma=0.001, kernel=rbf; total time=   0.7s\n",
      "[CV] END .....................C=100, gamma=0.001, kernel=rbf; total time=   0.7s\n",
      "[CV] END .....................C=100, gamma=0.001, kernel=rbf; total time=   0.7s\n",
      "[CV] END .....................C=100, gamma=0.001, kernel=rbf; total time=   0.8s\n",
      "[CV] END .....................C=100, gamma=0.001, kernel=rbf; total time=   0.9s\n",
      "[CV] END ....................C=100, gamma=0.0001, kernel=rbf; total time=   0.7s\n",
      "[CV] END ....................C=100, gamma=0.0001, kernel=rbf; total time=   0.7s\n",
      "[CV] END ....................C=100, gamma=0.0001, kernel=rbf; total time=   0.7s\n",
      "[CV] END ....................C=100, gamma=0.0001, kernel=rbf; total time=   0.6s\n",
      "[CV] END ....................C=100, gamma=0.0001, kernel=rbf; total time=   0.6s\n",
      "[CV] END ....................C=100, gamma=0.0001, kernel=rbf; total time=   0.7s\n",
      "[CV] END ....................C=100, gamma=0.0001, kernel=rbf; total time=   0.7s\n",
      "[CV] END ....................C=100, gamma=0.0001, kernel=rbf; total time=   0.9s\n",
      "[CV] END ....................C=100, gamma=0.0001, kernel=rbf; total time=   0.7s\n",
      "[CV] END ....................C=100, gamma=0.0001, kernel=rbf; total time=   0.7s\n",
      "[CV] END ........................C=1000, gamma=1, kernel=rbf; total time=   1.3s\n",
      "[CV] END ........................C=1000, gamma=1, kernel=rbf; total time=   1.3s\n",
      "[CV] END ........................C=1000, gamma=1, kernel=rbf; total time=   1.4s\n"
     ]
    },
    {
     "name": "stdout",
     "output_type": "stream",
     "text": [
      "[CV] END ........................C=1000, gamma=1, kernel=rbf; total time=   1.3s\n",
      "[CV] END ........................C=1000, gamma=1, kernel=rbf; total time=   1.3s\n",
      "[CV] END ........................C=1000, gamma=1, kernel=rbf; total time=   1.5s\n",
      "[CV] END ........................C=1000, gamma=1, kernel=rbf; total time=   1.6s\n",
      "[CV] END ........................C=1000, gamma=1, kernel=rbf; total time=   1.4s\n",
      "[CV] END ........................C=1000, gamma=1, kernel=rbf; total time=   1.4s\n",
      "[CV] END ........................C=1000, gamma=1, kernel=rbf; total time=   1.3s\n",
      "[CV] END ......................C=1000, gamma=0.1, kernel=rbf; total time=   1.4s\n",
      "[CV] END ......................C=1000, gamma=0.1, kernel=rbf; total time=   1.4s\n",
      "[CV] END ......................C=1000, gamma=0.1, kernel=rbf; total time=   1.2s\n",
      "[CV] END ......................C=1000, gamma=0.1, kernel=rbf; total time=   1.3s\n",
      "[CV] END ......................C=1000, gamma=0.1, kernel=rbf; total time=   1.2s\n",
      "[CV] END ......................C=1000, gamma=0.1, kernel=rbf; total time=   1.4s\n",
      "[CV] END ......................C=1000, gamma=0.1, kernel=rbf; total time=   1.4s\n",
      "[CV] END ......................C=1000, gamma=0.1, kernel=rbf; total time=   1.3s\n",
      "[CV] END ......................C=1000, gamma=0.1, kernel=rbf; total time=   1.2s\n",
      "[CV] END ......................C=1000, gamma=0.1, kernel=rbf; total time=   1.3s\n",
      "[CV] END .....................C=1000, gamma=0.01, kernel=rbf; total time=   1.3s\n",
      "[CV] END .....................C=1000, gamma=0.01, kernel=rbf; total time=   0.9s\n",
      "[CV] END .....................C=1000, gamma=0.01, kernel=rbf; total time=   1.0s\n",
      "[CV] END .....................C=1000, gamma=0.01, kernel=rbf; total time=   1.0s\n",
      "[CV] END .....................C=1000, gamma=0.01, kernel=rbf; total time=   1.0s\n",
      "[CV] END .....................C=1000, gamma=0.01, kernel=rbf; total time=   0.8s\n",
      "[CV] END .....................C=1000, gamma=0.01, kernel=rbf; total time=   0.9s\n",
      "[CV] END .....................C=1000, gamma=0.01, kernel=rbf; total time=   1.0s\n",
      "[CV] END .....................C=1000, gamma=0.01, kernel=rbf; total time=   0.9s\n",
      "[CV] END .....................C=1000, gamma=0.01, kernel=rbf; total time=   1.0s\n",
      "[CV] END ....................C=1000, gamma=0.001, kernel=rbf; total time=   0.9s\n",
      "[CV] END ....................C=1000, gamma=0.001, kernel=rbf; total time=   1.1s\n",
      "[CV] END ....................C=1000, gamma=0.001, kernel=rbf; total time=   0.8s\n",
      "[CV] END ....................C=1000, gamma=0.001, kernel=rbf; total time=   0.8s\n",
      "[CV] END ....................C=1000, gamma=0.001, kernel=rbf; total time=   0.8s\n",
      "[CV] END ....................C=1000, gamma=0.001, kernel=rbf; total time=   1.1s\n",
      "[CV] END ....................C=1000, gamma=0.001, kernel=rbf; total time=   0.8s\n",
      "[CV] END ....................C=1000, gamma=0.001, kernel=rbf; total time=   0.8s\n",
      "[CV] END ....................C=1000, gamma=0.001, kernel=rbf; total time=   0.8s\n",
      "[CV] END ....................C=1000, gamma=0.001, kernel=rbf; total time=   0.8s\n",
      "[CV] END ...................C=1000, gamma=0.0001, kernel=rbf; total time=   1.6s\n",
      "[CV] END ...................C=1000, gamma=0.0001, kernel=rbf; total time=   1.4s\n",
      "[CV] END ...................C=1000, gamma=0.0001, kernel=rbf; total time=   1.3s\n",
      "[CV] END ...................C=1000, gamma=0.0001, kernel=rbf; total time=   1.5s\n",
      "[CV] END ...................C=1000, gamma=0.0001, kernel=rbf; total time=   1.6s\n",
      "[CV] END ...................C=1000, gamma=0.0001, kernel=rbf; total time=   1.8s\n",
      "[CV] END ...................C=1000, gamma=0.0001, kernel=rbf; total time=   1.4s\n",
      "[CV] END ...................C=1000, gamma=0.0001, kernel=rbf; total time=   1.5s\n",
      "[CV] END ...................C=1000, gamma=0.0001, kernel=rbf; total time=   1.6s\n",
      "[CV] END ...................C=1000, gamma=0.0001, kernel=rbf; total time=   1.4s\n"
     ]
    },
    {
     "data": {
      "text/plain": [
       "GridSearchCV(cv=10, estimator=SVC(probability=True),\n",
       "             param_grid={'C': [0.1, 1, 10, 100, 1000],\n",
       "                         'gamma': [1, 0.1, 0.01, 0.001, 0.0001],\n",
       "                         'kernel': ['rbf']},\n",
       "             verbose=2)"
      ]
     },
     "execution_count": 72,
     "metadata": {},
     "output_type": "execute_result"
    }
   ],
   "source": [
    "from sklearn.model_selection import GridSearchCV \n",
    "  \n",
    "# defining parameter range \n",
    "param_grid = {'C': [0.1, 1, 10, 100, 1000],  \n",
    "              'gamma': [1, 0.1, 0.01, 0.001, 0.0001], \n",
    "              'kernel': ['rbf']}\n",
    "svc = svm.SVC(probability=True)\n",
    "grid_search=GridSearchCV(estimator=svc,param_grid=param_grid,cv=10,verbose=2)\n",
    "grid_search.fit(X_train,y_train)"
   ]
  },
  {
   "cell_type": "code",
   "execution_count": 74,
   "id": "84b503d5",
   "metadata": {},
   "outputs": [
    {
     "data": {
      "text/plain": [
       "{'C': 0.1, 'gamma': 1, 'kernel': 'rbf'}"
      ]
     },
     "execution_count": 74,
     "metadata": {},
     "output_type": "execute_result"
    }
   ],
   "source": [
    "grid_search.best_params_"
   ]
  },
  {
   "cell_type": "code",
   "execution_count": 75,
   "id": "7c7b5f36",
   "metadata": {},
   "outputs": [
    {
     "data": {
      "text/plain": [
       "SVC(C=0.1, gamma=1, probability=True)"
      ]
     },
     "execution_count": 75,
     "metadata": {},
     "output_type": "execute_result"
    }
   ],
   "source": [
    "grid_search.best_estimator_"
   ]
  },
  {
   "cell_type": "code",
   "execution_count": 76,
   "id": "788bc530",
   "metadata": {},
   "outputs": [
    {
     "name": "stdout",
     "output_type": "stream",
     "text": [
      "SVM Training Result\n",
      "[[  0 165]\n",
      " [  0 958]]\n",
      "Auc Score 1.0\n",
      "Accuracy Score 0.8530721282279609\n",
      "Classification report:               precision    recall  f1-score   support\n",
      "\n",
      "         0.0       0.00      0.00      0.00       165\n",
      "         1.0       0.85      1.00      0.92       958\n",
      "\n",
      "    accuracy                           0.85      1123\n",
      "   macro avg       0.43      0.50      0.46      1123\n",
      "weighted avg       0.73      0.85      0.79      1123\n",
      "\n",
      "SVM Testing Result\n",
      "[[  0  44]\n",
      " [  0 330]]\n"
     ]
    },
    {
     "name": "stderr",
     "output_type": "stream",
     "text": [
      "C:\\Users\\hp\\anaconda3\\lib\\site-packages\\sklearn\\metrics\\_classification.py:1318: UndefinedMetricWarning: Precision and F-score are ill-defined and being set to 0.0 in labels with no predicted samples. Use `zero_division` parameter to control this behavior.\n",
      "  _warn_prf(average, modifier, msg_start, len(result))\n",
      "C:\\Users\\hp\\anaconda3\\lib\\site-packages\\sklearn\\metrics\\_classification.py:1318: UndefinedMetricWarning: Precision and F-score are ill-defined and being set to 0.0 in labels with no predicted samples. Use `zero_division` parameter to control this behavior.\n",
      "  _warn_prf(average, modifier, msg_start, len(result))\n",
      "C:\\Users\\hp\\anaconda3\\lib\\site-packages\\sklearn\\metrics\\_classification.py:1318: UndefinedMetricWarning: Precision and F-score are ill-defined and being set to 0.0 in labels with no predicted samples. Use `zero_division` parameter to control this behavior.\n",
      "  _warn_prf(average, modifier, msg_start, len(result))\n"
     ]
    },
    {
     "name": "stdout",
     "output_type": "stream",
     "text": [
      "Auc Score 0.5914600550964187\n",
      "Accuracy Score 0.8823529411764706\n",
      "Classification report:               precision    recall  f1-score   support\n",
      "\n",
      "         0.0       0.00      0.00      0.00        44\n",
      "         1.0       0.88      1.00      0.94       330\n",
      "\n",
      "    accuracy                           0.88       374\n",
      "   macro avg       0.44      0.50      0.47       374\n",
      "weighted avg       0.78      0.88      0.83       374\n",
      "\n"
     ]
    },
    {
     "name": "stderr",
     "output_type": "stream",
     "text": [
      "C:\\Users\\hp\\anaconda3\\lib\\site-packages\\sklearn\\metrics\\_classification.py:1318: UndefinedMetricWarning: Precision and F-score are ill-defined and being set to 0.0 in labels with no predicted samples. Use `zero_division` parameter to control this behavior.\n",
      "  _warn_prf(average, modifier, msg_start, len(result))\n",
      "C:\\Users\\hp\\anaconda3\\lib\\site-packages\\sklearn\\metrics\\_classification.py:1318: UndefinedMetricWarning: Precision and F-score are ill-defined and being set to 0.0 in labels with no predicted samples. Use `zero_division` parameter to control this behavior.\n",
      "  _warn_prf(average, modifier, msg_start, len(result))\n",
      "C:\\Users\\hp\\anaconda3\\lib\\site-packages\\sklearn\\metrics\\_classification.py:1318: UndefinedMetricWarning: Precision and F-score are ill-defined and being set to 0.0 in labels with no predicted samples. Use `zero_division` parameter to control this behavior.\n",
      "  _warn_prf(average, modifier, msg_start, len(result))\n"
     ]
    }
   ],
   "source": [
    "from sklearn.metrics import roc_curve, roc_auc_score\n",
    "best_grid = grid_search.best_estimator_\n",
    "y_train_pred = best_grid.predict(X_train)\n",
    "y_pred=best_grid.predict(X_test)\n",
    "print(\"SVM Training Result\")\n",
    "print(confusion_matrix(y_train,y_train_pred))\n",
    "print(\"Auc Score {}\".format(roc_auc_score(y_train, best_grid.predict_proba(X_train)[:,1])))\n",
    "print(\"Accuracy Score {}\".format(accuracy_score(y_train,y_train_pred)))\n",
    "print(\"Classification report: {}\".format(classification_report(y_train,y_train_pred)))\n",
    "\n",
    "print(\"SVM Testing Result\")\n",
    "print(confusion_matrix(y_test,y_pred))\n",
    "print(\"Auc Score {}\".format(roc_auc_score(y_test, best_grid.predict_proba(X_test)[:,1])))\n",
    "print(\"Accuracy Score {}\".format(accuracy_score(y_test,y_pred)))\n",
    "print(\"Classification report: {}\".format(classification_report(y_test,y_pred)))"
   ]
  },
  {
   "cell_type": "code",
   "execution_count": 77,
   "id": "e0b3c4ab",
   "metadata": {},
   "outputs": [],
   "source": [
    "from sklearn.model_selection import KFold\n",
    "from sklearn.metrics import roc_curve, roc_auc_score\n",
    "kf = KFold(n_splits=5)\n",
    "auc_train = []\n",
    "auc_test = []\n",
    "for train_index, test_index in kf.split(Z): \n",
    "    X_train, X_test = Z[train_index], Z[test_index]\n",
    "    y_train, y_test = Y[train_index], Y[test_index]\n",
    "    model = best_grid\n",
    "    model.fit(X_train, y_train)\n",
    "    y_train_pred = model.predict(X_train)\n",
    "    y_test_pred = model.predict(X_test)\n",
    "    auc_train.append(roc_auc_score(y_train, model.predict_proba(X_train)[:,1]))\n",
    "    auc_test.append(roc_auc_score(y_test, model.predict_proba(X_test)[:,1]))"
   ]
  },
  {
   "cell_type": "code",
   "execution_count": 78,
   "id": "55ba3031",
   "metadata": {},
   "outputs": [
    {
     "data": {
      "image/png": "[encoded data removed]",
      "text/plain": [
       "<Figure size 640x480 with 1 Axes>"
      ]
     },
     "metadata": {},
     "output_type": "display_data"
    }
   ],
   "source": [
    "folds = range(1, kf.get_n_splits() + 1)\n",
    "plt.plot(folds, auc_train, 'o-', color='green', label='train')\n",
    "plt.plot(folds, auc_test, 'o-', color='red', label='test')\n",
    "plt.legend()\n",
    "plt.grid()\n",
    "plt.xlabel('Number of fold')\n",
    "plt.ylabel('Area Under the Curve')\n",
    "plt.show()"
   ]
  }
 ],
 "metadata": {
  "kernelspec": {
   "display_name": "Python 3 (ipykernel)",
   "language": "python",
   "name": "python3"
  },
  "language_info": {
   "codemirror_mode": {
    "name": "ipython",
    "version": 3
   },
   "file_extension": ".py",
   "mimetype": "text/x-python",
   "name": "python",
   "nbconvert_exporter": "python",
   "pygments_lexer": "ipython3",
   "version": "3.9.13"
  }
 },
 "nbformat": 4,
 "nbformat_minor": 5
}
